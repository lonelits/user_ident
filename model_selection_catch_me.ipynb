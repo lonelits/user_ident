{
 "cells": [
  {
   "cell_type": "markdown",
   "metadata": {},
   "source": [
    "# Соревнование Catch Me"
   ]
  },
  {
   "cell_type": "markdown",
   "metadata": {},
   "source": [
    "Тк в многоклассовой классификации очень хорошо показал себя xgboost, сразу попробуем применить его."
   ]
  },
  {
   "cell_type": "code",
   "execution_count": 1,
   "metadata": {},
   "outputs": [],
   "source": [
    "import pandas as pd\n",
    "import numpy as np\n",
    "import os\n",
    "import pickle\n",
    "import seaborn as sns\n",
    "import matplotlib.pyplot as plt\n",
    "%matplotlib inline\n",
    "from sklearn.pipeline import Pipeline, FeatureUnion\n",
    "from sklearn.preprocessing import FunctionTransformer, StandardScaler, OneHotEncoder, LabelEncoder\n",
    "from sklearn.decomposition import TruncatedSVD\n",
    "from sklearn.compose import ColumnTransformer\n",
    "from sklearn.feature_extraction.text import TfidfVectorizer\n",
    "from sklearn.linear_model import SGDClassifier, LogisticRegression\n",
    "from sklearn.model_selection import train_test_split, GridSearchCV, TimeSeriesSplit\n",
    "import preprocessing as pre\n",
    "from models_analysis import plot_validation_curves, get_scores, get_scores_point\n",
    "from xgboost import XGBClassifier\n",
    "from cap_project_uid import load_catch_me_data, create_pipeline, FeaturesSelector\n",
    "pd.set_option('display.max_rows', 500)\n",
    "pd.set_option('display.max_columns', 500)"
   ]
  },
  {
   "cell_type": "code",
   "execution_count": 2,
   "metadata": {},
   "outputs": [],
   "source": [
    "def write_to_submission_file(predicted_labels, out_file,\n",
    "                             target='target', index_label=\"session_id\"):\n",
    "    # turn predictions into data frame and save as csv file\n",
    "    predicted_df = pd.DataFrame(predicted_labels,\n",
    "                                index = np.arange(1, predicted_labels.shape[0] + 1),\n",
    "                                columns=[target])\n",
    "    predicted_df.to_csv(out_file, index_label=index_label)"
   ]
  },
  {
   "cell_type": "code",
   "execution_count": 3,
   "metadata": {},
   "outputs": [],
   "source": [
    "train_data, test_data, y_catch_me = load_catch_me_data()"
   ]
  },
  {
   "cell_type": "code",
   "execution_count": 18,
   "metadata": {},
   "outputs": [],
   "source": [
    "time_split = TimeSeriesSplit(n_splits=3)"
   ]
  },
  {
   "cell_type": "code",
   "execution_count": 5,
   "metadata": {},
   "outputs": [],
   "source": [
    "X_train, X_valid, y_train, y_valid = train_test_split(train_data, y_catch_me, \n",
    "                                                      test_size=0.3, shuffle=False)\n",
    "data_params = [X_train, X_valid, y_train, y_valid]"
   ]
  },
  {
   "cell_type": "code",
   "execution_count": 6,
   "metadata": {},
   "outputs": [],
   "source": [
    "bag_of_sites = ['site'+str(i) for i in range(1, 11)]\n",
    "is_top_feats = ['is_top'+str(i) for i in range(1, 31)]\n",
    "categorical_feats = ['binned_start_hour', 'day_of_week', 'day']\n",
    "binary_feats = ['unique_site_1', 'unique_site_2']\n",
    "numerical_feats = ['unique_sites']"
   ]
  },
  {
   "cell_type": "markdown",
   "metadata": {},
   "source": [
    "num_preprocessor = FeatureUnion([\n",
    "    ('woe_encoding', FunctionTransformer(lambda data: pre.woe_encoder(data, 'session_timespan', \n",
    "                                        max_lim=100, fill_method='outlier', for_pipeline=True))),\n",
    "    ('others', FunctionTransformer(lambda data: data.loc[:, numerical_feats]\\\n",
    "                                   .drop('session_timespan', axis=1)))\n",
    "])"
   ]
  },
  {
   "cell_type": "code",
   "execution_count": 7,
   "metadata": {},
   "outputs": [],
   "source": [
    "model = XGBClassifier(tree_method='gpu_hist', predictor='gpu_predictor',\n",
    "                   use_label_encoder=False, verbosity=0)"
   ]
  },
  {
   "cell_type": "code",
   "execution_count": 71,
   "metadata": {},
   "outputs": [],
   "source": [
    "pipeline = Pipeline(steps=[\n",
    "    ('feature_processing', FeatureUnion(transformer_list=[\n",
    "        ('binary_variables', FunctionTransformer(lambda data: data.loc[:, binary_feats])),\n",
    "        ('categorical_variables', Pipeline(steps=[\n",
    "            ('selecting', FunctionTransformer(lambda data: data.loc[:, categorical_feats])),\n",
    "            ('hot_encoding', OneHotEncoder(handle_unknown='ignore')),\n",
    "            ('dim_reducing', TruncatedSVD(20))\n",
    "        ])),\n",
    "        ('bag_of_sites', Pipeline(steps=[\n",
    "            ('selecting', FunctionTransformer(lambda data: data.loc[:, bag_of_sites].apply(lambda row: \\\n",
    "                                                            ' '.join([str(x) for x in row]), axis=1))),\n",
    "            ('vectorizer', TfidfVectorizer())\n",
    "        ])),\n",
    "      # -----------------------------------------------------------------------------------------------\n",
    "      #  ('is_top_site', Pipeline(steps=[\n",
    "      #      ('selecting', FunctionTransformer(lambda data: data.loc[:, is_top_feats])),\n",
    "      #      ('dim_reducing', TruncatedSVD(7))\n",
    "      #  ])),\n",
    "      # -----------------------------------------------------------------------------------------------\n",
    "        ('numerical_variables', Pipeline(steps=[\n",
    "            ('selecting', FunctionTransformer(lambda data: data.loc[:, numerical_feats])),\n",
    "      #     ('log_preprocessing', num_preprocessor),\n",
    "            ('scaling', StandardScaler())\n",
    "        ]))\n",
    "    ])),\n",
    "    ('classifier', model)\n",
    "])"
   ]
  },
  {
   "cell_type": "code",
   "execution_count": 7,
   "metadata": {},
   "outputs": [],
   "source": [
    "xgb_params_cv = {'classifier__reg_alpha': np.arange(200, 351, 15)}"
   ]
  },
  {
   "cell_type": "code",
   "execution_count": 60,
   "metadata": {
    "collapsed": true,
    "jupyter": {
     "outputs_hidden": true
    },
    "tags": []
   },
   "outputs": [
    {
     "name": "stdout",
     "output_type": "stream",
     "text": [
      "Wall time: 8min 13s\n"
     ]
    },
    {
     "data": {
      "text/plain": [
       "GridSearchCV(estimator=Pipeline(steps=[('feature_processing',\n",
       "                                        FeatureUnion(transformer_list=[('binary_variables',\n",
       "                                                                        FunctionTransformer(func=<function <lambda> at 0x00000218B8F0EEE0>)),\n",
       "                                                                       ('categorical_variables',\n",
       "                                                                        Pipeline(steps=[('selecting',\n",
       "                                                                                         FunctionTransformer(func=<function <lambda> at 0x00000218B8F0EB80>)),\n",
       "                                                                                        ('hot_encoding',\n",
       "                                                                                         OneHotEncoder(handle_unknown='ignore...\n",
       "                                                      num_parallel_tree=1,\n",
       "                                                      predictor='gpu_predictor',\n",
       "                                                      random_state=0,\n",
       "                                                      reg_alpha=1000.0,\n",
       "                                                      reg_lambda=10,\n",
       "                                                      scale_pos_weight=1,\n",
       "                                                      subsample=1,\n",
       "                                                      tree_method='gpu_hist',\n",
       "                                                      use_label_encoder=False,\n",
       "                                                      validate_parameters=1,\n",
       "                                                      verbosity=0))]),\n",
       "             n_jobs=-1,\n",
       "             param_grid={'classifier__reg_alpha': array([200, 215, 230, 245, 260, 275, 290, 305, 320, 335, 350])},\n",
       "             return_train_score=True, scoring='precision')"
      ]
     },
     "execution_count": 60,
     "metadata": {},
     "output_type": "execute_result"
    }
   ],
   "source": [
    "%%time\n",
    "xgb_searcher = GridSearchCV(pipeline, xgb_params_cv, scoring='precision', n_jobs=-1, \n",
    "                              return_train_score=True)\n",
    "xgb_searcher.fit(X_train, y_train)"
   ]
  },
  {
   "cell_type": "code",
   "execution_count": 58,
   "metadata": {
    "collapsed": true,
    "jupyter": {
     "outputs_hidden": true
    },
    "tags": []
   },
   "outputs": [
    {
     "data": {
      "image/png": "[encoded data removed]",
      "text/plain": [
       "<Figure size 432x288 with 1 Axes>"
      ]
     },
     "metadata": {
      "needs_background": "light"
     },
     "output_type": "display_data"
    }
   ],
   "source": [
    "plot_validation_curves(xgb_params_cv['classifier__reg_alpha'],\n",
    "                       xgb_searcher.cv_results_)"
   ]
  },
  {
   "cell_type": "code",
   "execution_count": 61,
   "metadata": {
    "collapsed": true,
    "jupyter": {
     "outputs_hidden": true
    }
   },
   "outputs": [
    {
     "data": {
      "image/png": "[encoded data removed]",
      "text/plain": [
       "<Figure size 432x288 with 1 Axes>"
      ]
     },
     "metadata": {
      "needs_background": "light"
     },
     "output_type": "display_data"
    }
   ],
   "source": [
    "plot_validation_curves(xgb_params_cv['classifier__reg_alpha'],\n",
    "                       xgb_searcher.cv_results_)"
   ]
  },
  {
   "cell_type": "code",
   "execution_count": 63,
   "metadata": {
    "collapsed": true,
    "jupyter": {
     "outputs_hidden": true
    },
    "tags": []
   },
   "outputs": [
    {
     "data": {
      "text/plain": [
       "Pipeline(steps=[('feature_processing',\n",
       "                 FeatureUnion(transformer_list=[('binary_variables',\n",
       "                                                 FunctionTransformer(func=<function <lambda> at 0x00000218B8F0EEE0>)),\n",
       "                                                ('categorical_variables',\n",
       "                                                 Pipeline(steps=[('selecting',\n",
       "                                                                  FunctionTransformer(func=<function <lambda> at 0x00000218B8F0EB80>)),\n",
       "                                                                 ('hot_encoding',\n",
       "                                                                  OneHotEncoder(handle_unknown='ignore')),\n",
       "                                                                 ('dim_reducing',\n",
       "                                                                  Tru...\n",
       "                               interaction_constraints='', learning_rate=0.4,\n",
       "                               max_delta_step=0, max_depth=7,\n",
       "                               min_child_weight=1, missing=nan,\n",
       "                               monotone_constraints='()', n_estimators=70,\n",
       "                               n_jobs=6, num_parallel_tree=1,\n",
       "                               predictor='gpu_predictor', random_state=0,\n",
       "                               reg_alpha=260, reg_lambda=10, scale_pos_weight=1,\n",
       "                               subsample=1, tree_method='gpu_hist',\n",
       "                               use_label_encoder=False, validate_parameters=1,\n",
       "                               verbosity=0))])"
      ]
     },
     "execution_count": 63,
     "metadata": {},
     "output_type": "execute_result"
    }
   ],
   "source": [
    "pipeline.fit(X_train, y_train)"
   ]
  },
  {
   "cell_type": "code",
   "execution_count": 41,
   "metadata": {
    "collapsed": true,
    "jupyter": {
     "outputs_hidden": true
    }
   },
   "outputs": [
    {
     "data": {
      "text/html": [
       "<div>\n",
       "<style scoped>\n",
       "    .dataframe tbody tr th:only-of-type {\n",
       "        vertical-align: middle;\n",
       "    }\n",
       "\n",
       "    .dataframe tbody tr th {\n",
       "        vertical-align: top;\n",
       "    }\n",
       "\n",
       "    .dataframe thead th {\n",
       "        text-align: right;\n",
       "    }\n",
       "</style>\n",
       "<table border=\"1\" class=\"dataframe\">\n",
       "  <thead>\n",
       "    <tr style=\"text-align: right;\">\n",
       "      <th></th>\n",
       "      <th>cv_accuracy</th>\n",
       "      <th>holdout_accu</th>\n",
       "      <th>f1</th>\n",
       "      <th>roc_auc</th>\n",
       "      <th>precision</th>\n",
       "      <th>recall</th>\n",
       "    </tr>\n",
       "  </thead>\n",
       "  <tbody>\n",
       "    <tr>\n",
       "      <th>xgb_n20_d5_nowoe</th>\n",
       "      <td>0.994</td>\n",
       "      <td>0.994</td>\n",
       "      <td>0.762</td>\n",
       "      <td>0.985</td>\n",
       "      <td>0.933</td>\n",
       "      <td>0.688</td>\n",
       "    </tr>\n",
       "  </tbody>\n",
       "</table>\n",
       "</div>"
      ],
      "text/plain": [
       "                  cv_accuracy  holdout_accu     f1  roc_auc  precision  recall\n",
       "xgb_n20_d5_nowoe        0.994         0.994  0.762    0.985      0.933   0.688"
      ]
     },
     "execution_count": 41,
     "metadata": {},
     "output_type": "execute_result"
    }
   ],
   "source": [
    "get_scores_point(pipeline, 'xgb_n20_d5_nowoe', *data_params)"
   ]
  },
  {
   "cell_type": "code",
   "execution_count": 23,
   "metadata": {},
   "outputs": [
    {
     "data": {
      "text/html": [
       "<div>\n",
       "<style scoped>\n",
       "    .dataframe tbody tr th:only-of-type {\n",
       "        vertical-align: middle;\n",
       "    }\n",
       "\n",
       "    .dataframe tbody tr th {\n",
       "        vertical-align: top;\n",
       "    }\n",
       "\n",
       "    .dataframe thead th {\n",
       "        text-align: right;\n",
       "    }\n",
       "</style>\n",
       "<table border=\"1\" class=\"dataframe\">\n",
       "  <thead>\n",
       "    <tr style=\"text-align: right;\">\n",
       "      <th></th>\n",
       "      <th>cv_accuracy</th>\n",
       "      <th>holdout_accu</th>\n",
       "      <th>f1</th>\n",
       "      <th>roc_auc</th>\n",
       "      <th>precision</th>\n",
       "      <th>recall</th>\n",
       "    </tr>\n",
       "  </thead>\n",
       "  <tbody>\n",
       "    <tr>\n",
       "      <th>xgb_n70_d7</th>\n",
       "      <td>0.996</td>\n",
       "      <td>0.996</td>\n",
       "      <td>0.871</td>\n",
       "      <td>0.995</td>\n",
       "      <td>0.94</td>\n",
       "      <td>0.821</td>\n",
       "    </tr>\n",
       "  </tbody>\n",
       "</table>\n",
       "</div>"
      ],
      "text/plain": [
       "            cv_accuracy  holdout_accu     f1  roc_auc  precision  recall\n",
       "xgb_n70_d7        0.996         0.996  0.871    0.995       0.94   0.821"
      ]
     },
     "execution_count": 23,
     "metadata": {},
     "output_type": "execute_result"
    }
   ],
   "source": [
    "get_scores_point(pipeline, 'xgb_n70_d7', *data_params)"
   ]
  },
  {
   "cell_type": "code",
   "execution_count": 24,
   "metadata": {},
   "outputs": [
    {
     "data": {
      "text/html": [
       "<div>\n",
       "<style scoped>\n",
       "    .dataframe tbody tr th:only-of-type {\n",
       "        vertical-align: middle;\n",
       "    }\n",
       "\n",
       "    .dataframe tbody tr th {\n",
       "        vertical-align: top;\n",
       "    }\n",
       "\n",
       "    .dataframe thead th {\n",
       "        text-align: right;\n",
       "    }\n",
       "</style>\n",
       "<table border=\"1\" class=\"dataframe\">\n",
       "  <thead>\n",
       "    <tr style=\"text-align: right;\">\n",
       "      <th></th>\n",
       "      <th>cv_accuracy</th>\n",
       "      <th>holdout_accu</th>\n",
       "      <th>f1</th>\n",
       "      <th>roc_auc</th>\n",
       "      <th>precision</th>\n",
       "      <th>recall</th>\n",
       "    </tr>\n",
       "  </thead>\n",
       "  <tbody>\n",
       "    <tr>\n",
       "      <th>xgb_n70_d7_l110</th>\n",
       "      <td>0.995</td>\n",
       "      <td>0.995</td>\n",
       "      <td>0.843</td>\n",
       "      <td>0.995</td>\n",
       "      <td>0.939</td>\n",
       "      <td>0.782</td>\n",
       "    </tr>\n",
       "  </tbody>\n",
       "</table>\n",
       "</div>"
      ],
      "text/plain": [
       "                 cv_accuracy  holdout_accu     f1  roc_auc  precision  recall\n",
       "xgb_n70_d7_l110        0.995         0.995  0.843    0.995      0.939   0.782"
      ]
     },
     "execution_count": 24,
     "metadata": {},
     "output_type": "execute_result"
    }
   ],
   "source": [
    "get_scores_point(pipeline, 'xgb_n70_d7_l110', *data_params)"
   ]
  },
  {
   "cell_type": "code",
   "execution_count": 31,
   "metadata": {},
   "outputs": [
    {
     "data": {
      "text/html": [
       "<div>\n",
       "<style scoped>\n",
       "    .dataframe tbody tr th:only-of-type {\n",
       "        vertical-align: middle;\n",
       "    }\n",
       "\n",
       "    .dataframe tbody tr th {\n",
       "        vertical-align: top;\n",
       "    }\n",
       "\n",
       "    .dataframe thead th {\n",
       "        text-align: right;\n",
       "    }\n",
       "</style>\n",
       "<table border=\"1\" class=\"dataframe\">\n",
       "  <thead>\n",
       "    <tr style=\"text-align: right;\">\n",
       "      <th></th>\n",
       "      <th>cv_accuracy</th>\n",
       "      <th>holdout_accu</th>\n",
       "      <th>f1</th>\n",
       "      <th>roc_auc</th>\n",
       "      <th>precision</th>\n",
       "      <th>recall</th>\n",
       "    </tr>\n",
       "  </thead>\n",
       "  <tbody>\n",
       "    <tr>\n",
       "      <th>xgb_n70_d7_l1100</th>\n",
       "      <td>0.993</td>\n",
       "      <td>0.993</td>\n",
       "      <td>0.717</td>\n",
       "      <td>0.982</td>\n",
       "      <td>0.934</td>\n",
       "      <td>0.646</td>\n",
       "    </tr>\n",
       "  </tbody>\n",
       "</table>\n",
       "</div>"
      ],
      "text/plain": [
       "                  cv_accuracy  holdout_accu     f1  roc_auc  precision  recall\n",
       "xgb_n70_d7_l1100        0.993         0.993  0.717    0.982      0.934   0.646"
      ]
     },
     "execution_count": 31,
     "metadata": {},
     "output_type": "execute_result"
    }
   ],
   "source": [
    "get_scores_point(pipeline, 'xgb_n70_d7_l1100', *data_params)"
   ]
  },
  {
   "cell_type": "code",
   "execution_count": 38,
   "metadata": {},
   "outputs": [
    {
     "data": {
      "text/html": [
       "<div>\n",
       "<style scoped>\n",
       "    .dataframe tbody tr th:only-of-type {\n",
       "        vertical-align: middle;\n",
       "    }\n",
       "\n",
       "    .dataframe tbody tr th {\n",
       "        vertical-align: top;\n",
       "    }\n",
       "\n",
       "    .dataframe thead th {\n",
       "        text-align: right;\n",
       "    }\n",
       "</style>\n",
       "<table border=\"1\" class=\"dataframe\">\n",
       "  <thead>\n",
       "    <tr style=\"text-align: right;\">\n",
       "      <th></th>\n",
       "      <th>cv_accuracy</th>\n",
       "      <th>holdout_accu</th>\n",
       "      <th>f1</th>\n",
       "      <th>roc_auc</th>\n",
       "      <th>precision</th>\n",
       "      <th>recall</th>\n",
       "    </tr>\n",
       "  </thead>\n",
       "  <tbody>\n",
       "    <tr>\n",
       "      <th>xgb_n70_d7_l210_l1100</th>\n",
       "      <td>0.993</td>\n",
       "      <td>0.993</td>\n",
       "      <td>0.717</td>\n",
       "      <td>0.982</td>\n",
       "      <td>0.936</td>\n",
       "      <td>0.646</td>\n",
       "    </tr>\n",
       "  </tbody>\n",
       "</table>\n",
       "</div>"
      ],
      "text/plain": [
       "                       cv_accuracy  holdout_accu     f1  roc_auc  precision  \\\n",
       "xgb_n70_d7_l210_l1100        0.993         0.993  0.717    0.982      0.936   \n",
       "\n",
       "                       recall  \n",
       "xgb_n70_d7_l210_l1100   0.646  "
      ]
     },
     "execution_count": 38,
     "metadata": {},
     "output_type": "execute_result"
    }
   ],
   "source": [
    "get_scores_point(pipeline, 'xgb_n70_d7_l210_l1100', *data_params)"
   ]
  },
  {
   "cell_type": "code",
   "execution_count": 45,
   "metadata": {},
   "outputs": [
    {
     "name": "stderr",
     "output_type": "stream",
     "text": [
      "c:\\programdata\\anaconda3\\lib\\site-packages\\sklearn\\metrics\\_classification.py:1221: UndefinedMetricWarning: Precision is ill-defined and being set to 0.0 in labels with no predicted samples. Use `zero_division` parameter to control this behavior.\n",
      "  _warn_prf(average, modifier, msg_start, len(result))\n"
     ]
    },
    {
     "data": {
      "text/html": [
       "<div>\n",
       "<style scoped>\n",
       "    .dataframe tbody tr th:only-of-type {\n",
       "        vertical-align: middle;\n",
       "    }\n",
       "\n",
       "    .dataframe tbody tr th {\n",
       "        vertical-align: top;\n",
       "    }\n",
       "\n",
       "    .dataframe thead th {\n",
       "        text-align: right;\n",
       "    }\n",
       "</style>\n",
       "<table border=\"1\" class=\"dataframe\">\n",
       "  <thead>\n",
       "    <tr style=\"text-align: right;\">\n",
       "      <th></th>\n",
       "      <th>cv_accuracy</th>\n",
       "      <th>holdout_accu</th>\n",
       "      <th>f1</th>\n",
       "      <th>roc_auc</th>\n",
       "      <th>precision</th>\n",
       "      <th>recall</th>\n",
       "    </tr>\n",
       "  </thead>\n",
       "  <tbody>\n",
       "    <tr>\n",
       "      <th>xgb_n70_d7_l21e3_l11e3</th>\n",
       "      <td>0.991</td>\n",
       "      <td>0.991</td>\n",
       "      <td>0.498</td>\n",
       "      <td>0.938</td>\n",
       "      <td>0.495</td>\n",
       "      <td>0.5</td>\n",
       "    </tr>\n",
       "  </tbody>\n",
       "</table>\n",
       "</div>"
      ],
      "text/plain": [
       "                        cv_accuracy  holdout_accu     f1  roc_auc  precision  \\\n",
       "xgb_n70_d7_l21e3_l11e3        0.991         0.991  0.498    0.938      0.495   \n",
       "\n",
       "                        recall  \n",
       "xgb_n70_d7_l21e3_l11e3     0.5  "
      ]
     },
     "execution_count": 45,
     "metadata": {},
     "output_type": "execute_result"
    }
   ],
   "source": [
    "get_scores_point(pipeline, 'xgb_n70_d7_l21e3_l11e3', *data_params)"
   ]
  },
  {
   "cell_type": "code",
   "execution_count": 64,
   "metadata": {},
   "outputs": [
    {
     "data": {
      "text/html": [
       "<div>\n",
       "<style scoped>\n",
       "    .dataframe tbody tr th:only-of-type {\n",
       "        vertical-align: middle;\n",
       "    }\n",
       "\n",
       "    .dataframe tbody tr th {\n",
       "        vertical-align: top;\n",
       "    }\n",
       "\n",
       "    .dataframe thead th {\n",
       "        text-align: right;\n",
       "    }\n",
       "</style>\n",
       "<table border=\"1\" class=\"dataframe\">\n",
       "  <thead>\n",
       "    <tr style=\"text-align: right;\">\n",
       "      <th></th>\n",
       "      <th>cv_accuracy</th>\n",
       "      <th>holdout_accu</th>\n",
       "      <th>f1</th>\n",
       "      <th>roc_auc</th>\n",
       "      <th>precision</th>\n",
       "      <th>recall</th>\n",
       "    </tr>\n",
       "  </thead>\n",
       "  <tbody>\n",
       "    <tr>\n",
       "      <th>xgb_n70_d7_l210_l1260</th>\n",
       "      <td>0.991</td>\n",
       "      <td>0.991</td>\n",
       "      <td>0.542</td>\n",
       "      <td>0.972</td>\n",
       "      <td>0.928</td>\n",
       "      <td>0.523</td>\n",
       "    </tr>\n",
       "  </tbody>\n",
       "</table>\n",
       "</div>"
      ],
      "text/plain": [
       "                       cv_accuracy  holdout_accu     f1  roc_auc  precision  \\\n",
       "xgb_n70_d7_l210_l1260        0.991         0.991  0.542    0.972      0.928   \n",
       "\n",
       "                       recall  \n",
       "xgb_n70_d7_l210_l1260   0.523  "
      ]
     },
     "execution_count": 64,
     "metadata": {},
     "output_type": "execute_result"
    }
   ],
   "source": [
    "get_scores_point(pipeline, 'xgb_n70_d7_l210_l1260', *data_params)"
   ]
  },
  {
   "cell_type": "markdown",
   "metadata": {},
   "source": [
    "#### Попробуем кросс-валидацию с учетом времени (TimeSeriesSplit)"
   ]
  },
  {
   "cell_type": "code",
   "execution_count": 6,
   "metadata": {
    "collapsed": true,
    "jupyter": {
     "outputs_hidden": true
    }
   },
   "outputs": [
    {
     "ename": "NameError",
     "evalue": "name 'pipeline' is not defined",
     "output_type": "error",
     "traceback": [
      "\u001b[1;31m---------------------------------------------------------------------------\u001b[0m",
      "\u001b[1;31mNameError\u001b[0m                                 Traceback (most recent call last)",
      "\u001b[1;32m<ipython-input-6-a383adc5f06e>\u001b[0m in \u001b[0;36m<module>\u001b[1;34m\u001b[0m\n\u001b[0;32m      2\u001b[0m              \u001b[1;34m'classifier__max_depth'\u001b[0m\u001b[1;33m:\u001b[0m \u001b[1;36m7\u001b[0m\u001b[1;33m,\u001b[0m\u001b[1;33m\u001b[0m\u001b[1;33m\u001b[0m\u001b[0m\n\u001b[0;32m      3\u001b[0m              'classifier__learning_rate': 0.4}\n\u001b[1;32m----> 4\u001b[1;33m \u001b[0mpipeline\u001b[0m\u001b[1;33m.\u001b[0m\u001b[0mset_params\u001b[0m\u001b[1;33m(\u001b[0m\u001b[1;33m**\u001b[0m\u001b[0mxgb_params\u001b[0m\u001b[1;33m)\u001b[0m\u001b[1;33m\u001b[0m\u001b[1;33m\u001b[0m\u001b[0m\n\u001b[0m",
      "\u001b[1;31mNameError\u001b[0m: name 'pipeline' is not defined"
     ]
    }
   ],
   "source": [
    "xgb_params = {'classifier__n_estimators': 40,\n",
    "             'classifier__max_depth': 7,\n",
    "             'classifier__learning_rate': 0.4}\n",
    "pipeline.set_params(**xgb_params)"
   ]
  },
  {
   "cell_type": "code",
   "execution_count": 31,
   "metadata": {},
   "outputs": [],
   "source": [
    "xgb_params_cv = {'classifier__n_estimators': np.arange(1, 102, 10)}"
   ]
  },
  {
   "cell_type": "code",
   "execution_count": 32,
   "metadata": {
    "collapsed": true,
    "jupyter": {
     "outputs_hidden": true
    }
   },
   "outputs": [
    {
     "name": "stdout",
     "output_type": "stream",
     "text": [
      "Wall time: 13min 52s\n"
     ]
    },
    {
     "data": {
      "text/plain": [
       "GridSearchCV(cv=TimeSeriesSplit(max_train_size=None, n_splits=5),\n",
       "             estimator=Pipeline(steps=[('feature_processing',\n",
       "                                        FeatureUnion(transformer_list=[('binary_variables',\n",
       "                                                                        FunctionTransformer(func=<function <lambda> at 0x0000017E89805DC0>)),\n",
       "                                                                       ('categorical_variables',\n",
       "                                                                        Pipeline(steps=[('selecting',\n",
       "                                                                                         FunctionTransformer(func=<function <lambda> at 0x0000017E89805D30>)),\n",
       "                                                                                        (...\n",
       "                                                      n_jobs=None,\n",
       "                                                      num_parallel_tree=None,\n",
       "                                                      predictor='gpu_predictor',\n",
       "                                                      random_state=None,\n",
       "                                                      reg_alpha=0, reg_lambda=1,\n",
       "                                                      scale_pos_weight=None,\n",
       "                                                      subsample=None,\n",
       "                                                      tree_method='gpu_hist',\n",
       "                                                      use_label_encoder=False,\n",
       "                                                      validate_parameters=None,\n",
       "                                                      verbosity=0))]),\n",
       "             n_jobs=-1,\n",
       "             param_grid={'classifier__n_estimators': array([  1,  11,  21,  31,  41,  51,  61,  71,  81,  91, 101])},\n",
       "             return_train_score=True, scoring='f1')"
      ]
     },
     "execution_count": 32,
     "metadata": {},
     "output_type": "execute_result"
    }
   ],
   "source": [
    "%%time\n",
    "xgb_searcher = GridSearchCV(pipeline, xgb_params_cv, scoring='f1', cv=time_split, n_jobs=-1, \n",
    "                              return_train_score=True)\n",
    "xgb_searcher.fit(X_train, y_train)"
   ]
  },
  {
   "cell_type": "code",
   "execution_count": 33,
   "metadata": {},
   "outputs": [
    {
     "data": {
      "image/png": "[encoded data removed]",
      "text/plain": [
       "<Figure size 432x288 with 1 Axes>"
      ]
     },
     "metadata": {
      "needs_background": "light"
     },
     "output_type": "display_data"
    }
   ],
   "source": [
    "plot_validation_curves(xgb_params_cv['classifier__n_estimators'], xgb_searcher.cv_results_)"
   ]
  },
  {
   "cell_type": "markdown",
   "metadata": {},
   "source": [
    "При применении такой кросс-валидации xgboost сильно ошибается на тесте. Значит теперь можно отслеживать переобучение."
   ]
  },
  {
   "cell_type": "code",
   "execution_count": 19,
   "metadata": {},
   "outputs": [],
   "source": [
    "xgb_params_cv = {'classifier__scale_pos-weight': np.arange(1, 6)}"
   ]
  },
  {
   "cell_type": "code",
   "execution_count": 20,
   "metadata": {
    "collapsed": true,
    "jupyter": {
     "outputs_hidden": true
    }
   },
   "outputs": [
    {
     "name": "stdout",
     "output_type": "stream",
     "text": [
      "Wall time: 2min 58s\n"
     ]
    },
    {
     "data": {
      "text/plain": [
       "GridSearchCV(cv=TimeSeriesSplit(max_train_size=None, n_splits=5),\n",
       "             estimator=Pipeline(steps=[('feature_processing',\n",
       "                                        FeatureUnion(transformer_list=[('bag_of_sites',\n",
       "                                                                        Pipeline(steps=[('selecting',\n",
       "                                                                                         FunctionTransformer(func=<function create_pipeline.<locals>.<lambda> at 0x0000027EDA48C940>)),\n",
       "                                                                                        ('vectorizer',\n",
       "                                                                                         TfidfVectorizer()),\n",
       "                                                                                        ('feats_counter',\n",
       "                                                                                         None)])),\n",
       "                                                                       ('binary_fea...\n",
       "                                                      n_estimators=40,\n",
       "                                                      n_jobs=None,\n",
       "                                                      num_parallel_tree=None,\n",
       "                                                      predictor='gpu_predictor',\n",
       "                                                      random_state=None,\n",
       "                                                      reg_alpha=None,\n",
       "                                                      reg_lambda=None,\n",
       "                                                      scale_pos_weight=None,\n",
       "                                                      subsample=None,\n",
       "                                                      tree_method='gpu_hist',\n",
       "                                                      use_label_encoder=False,\n",
       "                                                      validate_parameters=None,\n",
       "                                                      verbosity=0))]),\n",
       "             n_jobs=-1,\n",
       "             param_grid={'classifier__scale_pos-weight': array([1, 2, 3, 4, 5])},\n",
       "             return_train_score=True, scoring='f1')"
      ]
     },
     "execution_count": 20,
     "metadata": {},
     "output_type": "execute_result"
    }
   ],
   "source": [
    "%%time\n",
    "xgb_searcher = GridSearchCV(pipeline, xgb_params_cv, scoring='f1', cv=time_split, n_jobs=-1, \n",
    "                              return_train_score=True)\n",
    "xgb_searcher.fit(X_train, y_train)"
   ]
  },
  {
   "cell_type": "code",
   "execution_count": 21,
   "metadata": {
    "collapsed": true,
    "jupyter": {
     "outputs_hidden": true
    }
   },
   "outputs": [
    {
     "data": {
      "image/png": "[encoded data removed]",
      "text/plain": [
       "<Figure size 432x288 with 1 Axes>"
      ]
     },
     "metadata": {
      "needs_background": "light"
     },
     "output_type": "display_data"
    }
   ],
   "source": [
    "plot_validation_curves(xgb_params_cv['classifier__scale_pos-weight'], xgb_searcher.cv_results_)"
   ]
  },
  {
   "cell_type": "markdown",
   "metadata": {},
   "source": [
    "## Сравнение моделей"
   ]
  },
  {
   "cell_type": "code",
   "execution_count": 25,
   "metadata": {},
   "outputs": [],
   "source": [
    "pipeline = create_pipeline(['bag_of_sites'], model=SGDClassifier('log', n_jobs=-1))"
   ]
  },
  {
   "cell_type": "code",
   "execution_count": 46,
   "metadata": {
    "collapsed": true,
    "jupyter": {
     "outputs_hidden": true
    }
   },
   "outputs": [
    {
     "data": {
      "text/plain": [
       "Pipeline(steps=[('feature_processing',\n",
       "                 FeatureUnion(transformer_list=[('bag_of_sites',\n",
       "                                                 Pipeline(steps=[('selecting',\n",
       "                                                                  FunctionTransformer(func=<function create_pipeline.<locals>.<lambda> at 0x0000027ECEE65E50>)),\n",
       "                                                                 ('vectorizer',\n",
       "                                                                  TfidfVectorizer()),\n",
       "                                                                 ('feats_counter',\n",
       "                                                                  None)])),\n",
       "                                                ('binary_feats',\n",
       "                                                 FunctionTransformer(func=<function create_pipeline.<locals>.<lambda> at 0...\n",
       "                               interaction_constraints='', learning_rate=0.4,\n",
       "                               max_delta_step=0, max_depth=7,\n",
       "                               min_child_weight=1, missing=nan,\n",
       "                               monotone_constraints='()', n_estimators=70,\n",
       "                               n_jobs=6, num_parallel_tree=1,\n",
       "                               predictor='gpu_predictor', random_state=0,\n",
       "                               reg_alpha=0, reg_lambda=1, scale_pos_weight=1,\n",
       "                               subsample=1, tree_method='gpu_hist',\n",
       "                               use_label_encoder=False, validate_parameters=1,\n",
       "                               verbosity=0))])"
      ]
     },
     "execution_count": 46,
     "metadata": {},
     "output_type": "execute_result"
    }
   ],
   "source": [
    "pipeline.fit(X_train, y_train)"
   ]
  },
  {
   "cell_type": "code",
   "execution_count": 28,
   "metadata": {},
   "outputs": [
    {
     "name": "stderr",
     "output_type": "stream",
     "text": [
      "c:\\programdata\\anaconda3\\lib\\site-packages\\sklearn\\metrics\\_classification.py:1221: UndefinedMetricWarning: Precision is ill-defined and being set to 0.0 in labels with no predicted samples. Use `zero_division` parameter to control this behavior.\n",
      "  _warn_prf(average, modifier, msg_start, len(result))\n"
     ]
    },
    {
     "data": {
      "text/html": [
       "<div>\n",
       "<style scoped>\n",
       "    .dataframe tbody tr th:only-of-type {\n",
       "        vertical-align: middle;\n",
       "    }\n",
       "\n",
       "    .dataframe tbody tr th {\n",
       "        vertical-align: top;\n",
       "    }\n",
       "\n",
       "    .dataframe thead th {\n",
       "        text-align: right;\n",
       "    }\n",
       "</style>\n",
       "<table border=\"1\" class=\"dataframe\">\n",
       "  <thead>\n",
       "    <tr style=\"text-align: right;\">\n",
       "      <th></th>\n",
       "      <th>cv_accuracy</th>\n",
       "      <th>holdout_accu</th>\n",
       "      <th>f1</th>\n",
       "      <th>roc_auc</th>\n",
       "      <th>precision</th>\n",
       "      <th>recall</th>\n",
       "    </tr>\n",
       "  </thead>\n",
       "  <tbody>\n",
       "    <tr>\n",
       "      <th>sgd_logit</th>\n",
       "      <td>0.991</td>\n",
       "      <td>0.991</td>\n",
       "      <td>0.498</td>\n",
       "      <td>0.88</td>\n",
       "      <td>0.495</td>\n",
       "      <td>0.5</td>\n",
       "    </tr>\n",
       "  </tbody>\n",
       "</table>\n",
       "</div>"
      ],
      "text/plain": [
       "           cv_accuracy  holdout_accu     f1  roc_auc  precision  recall\n",
       "sgd_logit        0.991         0.991  0.498     0.88      0.495     0.5"
      ]
     },
     "execution_count": 28,
     "metadata": {},
     "output_type": "execute_result"
    }
   ],
   "source": [
    "get_scores_point(pipeline, 'sgd_logit', *data_params)"
   ]
  },
  {
   "cell_type": "code",
   "execution_count": 29,
   "metadata": {},
   "outputs": [],
   "source": [
    "pipeline = create_pipeline(model=SGDClassifier('log', n_jobs=-1), model_params=xgb_params)"
   ]
  },
  {
   "cell_type": "code",
   "execution_count": 31,
   "metadata": {},
   "outputs": [
    {
     "data": {
      "text/html": [
       "<div>\n",
       "<style scoped>\n",
       "    .dataframe tbody tr th:only-of-type {\n",
       "        vertical-align: middle;\n",
       "    }\n",
       "\n",
       "    .dataframe tbody tr th {\n",
       "        vertical-align: top;\n",
       "    }\n",
       "\n",
       "    .dataframe thead th {\n",
       "        text-align: right;\n",
       "    }\n",
       "</style>\n",
       "<table border=\"1\" class=\"dataframe\">\n",
       "  <thead>\n",
       "    <tr style=\"text-align: right;\">\n",
       "      <th></th>\n",
       "      <th>cv_accuracy</th>\n",
       "      <th>holdout_accu</th>\n",
       "      <th>f1</th>\n",
       "      <th>roc_auc</th>\n",
       "      <th>precision</th>\n",
       "      <th>recall</th>\n",
       "    </tr>\n",
       "  </thead>\n",
       "  <tbody>\n",
       "    <tr>\n",
       "      <th>pipe_logit</th>\n",
       "      <td>0.989</td>\n",
       "      <td>0.991</td>\n",
       "      <td>0.503</td>\n",
       "      <td>0.937</td>\n",
       "      <td>0.829</td>\n",
       "      <td>0.503</td>\n",
       "    </tr>\n",
       "  </tbody>\n",
       "</table>\n",
       "</div>"
      ],
      "text/plain": [
       "            cv_accuracy  holdout_accu     f1  roc_auc  precision  recall\n",
       "pipe_logit        0.989         0.991  0.503    0.937      0.829   0.503"
      ]
     },
     "execution_count": 31,
     "metadata": {},
     "output_type": "execute_result"
    }
   ],
   "source": [
    "get_scores_point(pipeline, 'pipe_logit', *data_params)"
   ]
  },
  {
   "cell_type": "code",
   "execution_count": 39,
   "metadata": {},
   "outputs": [],
   "source": [
    "pipeline = create_pipeline(['bag_of_sites'], model=True, model_params=xgb_params)"
   ]
  },
  {
   "cell_type": "code",
   "execution_count": 35,
   "metadata": {},
   "outputs": [
    {
     "data": {
      "text/html": [
       "<div>\n",
       "<style scoped>\n",
       "    .dataframe tbody tr th:only-of-type {\n",
       "        vertical-align: middle;\n",
       "    }\n",
       "\n",
       "    .dataframe tbody tr th {\n",
       "        vertical-align: top;\n",
       "    }\n",
       "\n",
       "    .dataframe thead th {\n",
       "        text-align: right;\n",
       "    }\n",
       "</style>\n",
       "<table border=\"1\" class=\"dataframe\">\n",
       "  <thead>\n",
       "    <tr style=\"text-align: right;\">\n",
       "      <th></th>\n",
       "      <th>cv_accuracy</th>\n",
       "      <th>holdout_accu</th>\n",
       "      <th>f1</th>\n",
       "      <th>roc_auc</th>\n",
       "      <th>precision</th>\n",
       "      <th>recall</th>\n",
       "    </tr>\n",
       "  </thead>\n",
       "  <tbody>\n",
       "    <tr>\n",
       "      <th>xgb</th>\n",
       "      <td>0.991</td>\n",
       "      <td>0.991</td>\n",
       "      <td>0.498</td>\n",
       "      <td>0.599</td>\n",
       "      <td>0.495</td>\n",
       "      <td>0.5</td>\n",
       "    </tr>\n",
       "  </tbody>\n",
       "</table>\n",
       "</div>"
      ],
      "text/plain": [
       "     cv_accuracy  holdout_accu     f1  roc_auc  precision  recall\n",
       "xgb        0.991         0.991  0.498    0.599      0.495     0.5"
      ]
     },
     "execution_count": 35,
     "metadata": {},
     "output_type": "execute_result"
    }
   ],
   "source": [
    "get_scores_point(pipeline, 'xgb', *data_params)"
   ]
  },
  {
   "cell_type": "code",
   "execution_count": 41,
   "metadata": {},
   "outputs": [],
   "source": [
    "pipeline.fit(train_data, y_catch_me)\n",
    "write_to_submission_file(pipeline.predict_proba(test_data)[:, 1], 'xgb_empty.csv')"
   ]
  },
  {
   "cell_type": "code",
   "execution_count": 45,
   "metadata": {},
   "outputs": [],
   "source": [
    "pipeline = create_pipeline(model=True, model_params=xgb_params)"
   ]
  },
  {
   "cell_type": "code",
   "execution_count": 38,
   "metadata": {},
   "outputs": [
    {
     "data": {
      "text/html": [
       "<div>\n",
       "<style scoped>\n",
       "    .dataframe tbody tr th:only-of-type {\n",
       "        vertical-align: middle;\n",
       "    }\n",
       "\n",
       "    .dataframe tbody tr th {\n",
       "        vertical-align: top;\n",
       "    }\n",
       "\n",
       "    .dataframe thead th {\n",
       "        text-align: right;\n",
       "    }\n",
       "</style>\n",
       "<table border=\"1\" class=\"dataframe\">\n",
       "  <thead>\n",
       "    <tr style=\"text-align: right;\">\n",
       "      <th></th>\n",
       "      <th>cv_accuracy</th>\n",
       "      <th>holdout_accu</th>\n",
       "      <th>f1</th>\n",
       "      <th>roc_auc</th>\n",
       "      <th>precision</th>\n",
       "      <th>recall</th>\n",
       "    </tr>\n",
       "  </thead>\n",
       "  <tbody>\n",
       "    <tr>\n",
       "      <th>pipe_xgb</th>\n",
       "      <td>0.967</td>\n",
       "      <td>0.991</td>\n",
       "      <td>0.552</td>\n",
       "      <td>0.95</td>\n",
       "      <td>0.749</td>\n",
       "      <td>0.53</td>\n",
       "    </tr>\n",
       "  </tbody>\n",
       "</table>\n",
       "</div>"
      ],
      "text/plain": [
       "          cv_accuracy  holdout_accu     f1  roc_auc  precision  recall\n",
       "pipe_xgb        0.967         0.991  0.552     0.95      0.749    0.53"
      ]
     },
     "execution_count": 38,
     "metadata": {},
     "output_type": "execute_result"
    }
   ],
   "source": [
    "get_scores_point(pipeline, 'pipe_xgb', *data_params)"
   ]
  },
  {
   "cell_type": "code",
   "execution_count": 47,
   "metadata": {},
   "outputs": [
    {
     "data": {
      "text/html": [
       "<div>\n",
       "<style scoped>\n",
       "    .dataframe tbody tr th:only-of-type {\n",
       "        vertical-align: middle;\n",
       "    }\n",
       "\n",
       "    .dataframe tbody tr th {\n",
       "        vertical-align: top;\n",
       "    }\n",
       "\n",
       "    .dataframe thead th {\n",
       "        text-align: right;\n",
       "    }\n",
       "</style>\n",
       "<table border=\"1\" class=\"dataframe\">\n",
       "  <thead>\n",
       "    <tr style=\"text-align: right;\">\n",
       "      <th></th>\n",
       "      <th>cv_accuracy</th>\n",
       "      <th>holdout_accu</th>\n",
       "      <th>f1</th>\n",
       "      <th>roc_auc</th>\n",
       "      <th>precision</th>\n",
       "      <th>recall</th>\n",
       "    </tr>\n",
       "  </thead>\n",
       "  <tbody>\n",
       "    <tr>\n",
       "      <th>pipe_xgb_n70</th>\n",
       "      <td>0.965</td>\n",
       "      <td>0.991</td>\n",
       "      <td>0.564</td>\n",
       "      <td>0.947</td>\n",
       "      <td>0.733</td>\n",
       "      <td>0.538</td>\n",
       "    </tr>\n",
       "  </tbody>\n",
       "</table>\n",
       "</div>"
      ],
      "text/plain": [
       "              cv_accuracy  holdout_accu     f1  roc_auc  precision  recall\n",
       "pipe_xgb_n70        0.965         0.991  0.564    0.947      0.733   0.538"
      ]
     },
     "execution_count": 47,
     "metadata": {},
     "output_type": "execute_result"
    }
   ],
   "source": [
    "get_scores_point(pipeline, 'pipe_xgb_n70', *data_params)"
   ]
  },
  {
   "cell_type": "code",
   "execution_count": 43,
   "metadata": {},
   "outputs": [],
   "source": [
    "pipeline.fit(train_data, y_catch_me)\n",
    "write_to_submission_file(pipeline.predict_proba(test_data)[:, 1], 'xgb_pipe.csv')"
   ]
  },
  {
   "cell_type": "code",
   "execution_count": 48,
   "metadata": {},
   "outputs": [],
   "source": [
    "pipeline.fit(train_data, y_catch_me)\n",
    "write_to_submission_file(pipeline.predict_proba(test_data)[:, 1], 'xgb_pipe_n70.csv')"
   ]
  },
  {
   "cell_type": "markdown",
   "metadata": {},
   "source": [
    "## xgboost и параметры Tfidf"
   ]
  },
  {
   "cell_type": "code",
   "execution_count": 5,
   "metadata": {},
   "outputs": [],
   "source": [
    "vectorizer_name = 'feature_processing__bag_of_sites__vectorizer__'\n",
    "xgb_params = {'n_estimators': 40,\n",
    "             'max_depth': 7,\n",
    "             'learning_rate': 0.4\n",
    "             }"
   ]
  },
  {
   "cell_type": "code",
   "execution_count": 8,
   "metadata": {},
   "outputs": [],
   "source": [
    "pipeline = create_pipeline(['bag_of_sites'], model=True, model_params=xgb_params)"
   ]
  },
  {
   "cell_type": "code",
   "execution_count": 58,
   "metadata": {},
   "outputs": [],
   "source": [
    "vectorizer_name = 'feature_processing__bag_of_sites__vectorizer__'\n",
    "xgb_params_cv = {vectorizer_name + 'ngram_range': [(1, 1), (1, 2), (1, 3)]}"
   ]
  },
  {
   "cell_type": "code",
   "execution_count": 52,
   "metadata": {
    "collapsed": true,
    "jupyter": {
     "outputs_hidden": true
    }
   },
   "outputs": [
    {
     "name": "stdout",
     "output_type": "stream",
     "text": [
      "Wall time: 9min 48s\n"
     ]
    },
    {
     "data": {
      "text/plain": [
       "GridSearchCV(cv=TimeSeriesSplit(max_train_size=None, n_splits=5),\n",
       "             estimator=Pipeline(steps=[('feature_processing',\n",
       "                                        FeatureUnion(transformer_list=[('bag_of_sites',\n",
       "                                                                        Pipeline(steps=[('selecting',\n",
       "                                                                                         FunctionTransformer(func=<function create_pipeline.<locals>.<lambda> at 0x0000027ED1097F70>)),\n",
       "                                                                                        ('vectorizer',\n",
       "                                                                                         TfidfVectorizer()),\n",
       "                                                                                        ('feats_counter',\n",
       "                                                                                         None)])),\n",
       "                                                                       ('binary_fea...\n",
       "                                                      num_parallel_tree=None,\n",
       "                                                      predictor='gpu_predictor',\n",
       "                                                      random_state=None,\n",
       "                                                      reg_alpha=None,\n",
       "                                                      reg_lambda=None,\n",
       "                                                      scale_pos_weight=None,\n",
       "                                                      subsample=None,\n",
       "                                                      tree_method='gpu_hist',\n",
       "                                                      use_label_encoder=False,\n",
       "                                                      validate_parameters=None,\n",
       "                                                      verbosity=0))]),\n",
       "             n_jobs=-1,\n",
       "             param_grid={'feature_processing__bag_of_sites__vectorizer__ngram_range': [(1,\n",
       "                                                                                        1),\n",
       "                                                                                       (1,\n",
       "                                                                                        2),\n",
       "                                                                                       (1,\n",
       "                                                                                        3)]},\n",
       "             return_train_score=True, scoring='roc_auc')"
      ]
     },
     "execution_count": 52,
     "metadata": {},
     "output_type": "execute_result"
    }
   ],
   "source": [
    "%%time\n",
    "xgb_searcher = GridSearchCV(pipeline, xgb_params_cv, scoring='roc_auc', cv=time_split, n_jobs=-1, \n",
    "                              return_train_score=True)\n",
    "xgb_searcher.fit(X_train, y_train)"
   ]
  },
  {
   "cell_type": "code",
   "execution_count": 53,
   "metadata": {},
   "outputs": [
    {
     "data": {
      "image/png": "[encoded data removed]",
      "text/plain": [
       "<Figure size 432x288 with 1 Axes>"
      ]
     },
     "metadata": {
      "needs_background": "light"
     },
     "output_type": "display_data"
    }
   ],
   "source": [
    "plot_validation_curves([1, 2, 3], xgb_searcher.cv_results_)"
   ]
  },
  {
   "cell_type": "markdown",
   "metadata": {},
   "source": [
    "Попробуем настраивать параметры при ngram_range (1, 1)"
   ]
  },
  {
   "cell_type": "markdown",
   "metadata": {},
   "source": [
    "**max_df, ngram_range = (1, 1)**"
   ]
  },
  {
   "cell_type": "code",
   "execution_count": 33,
   "metadata": {},
   "outputs": [],
   "source": [
    "xgb_params_cv = {vectorizer_name + 'ngram_range': [(1, 1)],\n",
    "                vectorizer_name + 'max_df': np.linspace(0.01, 0.1, 10)}"
   ]
  },
  {
   "cell_type": "code",
   "execution_count": 34,
   "metadata": {
    "collapsed": true,
    "jupyter": {
     "outputs_hidden": true
    }
   },
   "outputs": [
    {
     "name": "stdout",
     "output_type": "stream",
     "text": [
      "Wall time: 6min 23s\n"
     ]
    },
    {
     "data": {
      "text/plain": [
       "GridSearchCV(cv=TimeSeriesSplit(max_train_size=None, n_splits=5),\n",
       "             estimator=Pipeline(steps=[('feature_processing',\n",
       "                                        FeatureUnion(transformer_list=[('bag_of_sites',\n",
       "                                                                        Pipeline(steps=[('selecting',\n",
       "                                                                                         FunctionTransformer(func=<function create_pipeline.<locals>.<lambda> at 0x0000021DA0AF6EE0>)),\n",
       "                                                                                        ('vectorizer',\n",
       "                                                                                         TfidfVectorizer()),\n",
       "                                                                                        ('feats_counter',\n",
       "                                                                                         None)])),\n",
       "                                                                       ('binary_fea...\n",
       "                                                      subsample=None,\n",
       "                                                      tree_method='gpu_hist',\n",
       "                                                      use_label_encoder=False,\n",
       "                                                      validate_parameters=None,\n",
       "                                                      verbosity=0))]),\n",
       "             n_jobs=-1,\n",
       "             param_grid={'feature_processing__bag_of_sites__vectorizer__max_df': array([0.01, 0.02, 0.03, 0.04, 0.05, 0.06, 0.07, 0.08, 0.09, 0.1 ]),\n",
       "                         'feature_processing__bag_of_sites__vectorizer__ngram_range': [(1,\n",
       "                                                                                        1)]},\n",
       "             return_train_score=True, scoring='accuracy')"
      ]
     },
     "execution_count": 34,
     "metadata": {},
     "output_type": "execute_result"
    }
   ],
   "source": [
    "%%time\n",
    "xgb_searcher = GridSearchCV(pipeline, xgb_params_cv, scoring='accuracy', cv=time_split, n_jobs=-1, \n",
    "                              return_train_score=True)\n",
    "xgb_searcher.fit(X_train, y_train)"
   ]
  },
  {
   "cell_type": "markdown",
   "metadata": {},
   "source": [
    "**roc_auc**"
   ]
  },
  {
   "cell_type": "code",
   "execution_count": 56,
   "metadata": {},
   "outputs": [
    {
     "data": {
      "image/png": "[encoded data removed]",
      "text/plain": [
       "<Figure size 432x288 with 1 Axes>"
      ]
     },
     "metadata": {
      "needs_background": "light"
     },
     "output_type": "display_data"
    }
   ],
   "source": [
    "plot_validation_curves(xgb_params_cv[vectorizer_name + 'max_df'], xgb_searcher.cv_results_)"
   ]
  },
  {
   "cell_type": "code",
   "execution_count": 59,
   "metadata": {
    "collapsed": true,
    "jupyter": {
     "outputs_hidden": true
    }
   },
   "outputs": [
    {
     "data": {
      "image/png": "[encoded data removed]",
      "text/plain": [
       "<Figure size 432x288 with 1 Axes>"
      ]
     },
     "metadata": {
      "needs_background": "light"
     },
     "output_type": "display_data"
    }
   ],
   "source": [
    "plot_validation_curves(xgb_params_cv[vectorizer_name + 'max_df'], xgb_searcher.cv_results_)"
   ]
  },
  {
   "cell_type": "code",
   "execution_count": 26,
   "metadata": {
    "collapsed": true,
    "jupyter": {
     "outputs_hidden": true
    }
   },
   "outputs": [
    {
     "data": {
      "image/png": "[encoded data removed]",
      "text/plain": [
       "<Figure size 432x288 with 1 Axes>"
      ]
     },
     "metadata": {
      "needs_background": "light"
     },
     "output_type": "display_data"
    }
   ],
   "source": [
    "plt.xscale('log')\n",
    "plot_validation_curves(xgb_params_cv[vectorizer_name + 'max_df'], xgb_searcher.cv_results_)"
   ]
  },
  {
   "cell_type": "code",
   "execution_count": 29,
   "metadata": {
    "collapsed": true,
    "jupyter": {
     "outputs_hidden": true
    }
   },
   "outputs": [
    {
     "data": {
      "image/png": "[encoded data removed]",
      "text/plain": [
       "<Figure size 432x288 with 1 Axes>"
      ]
     },
     "metadata": {
      "needs_background": "light"
     },
     "output_type": "display_data"
    }
   ],
   "source": [
    "plt.xscale('log')\n",
    "plot_validation_curves(xgb_params_cv[vectorizer_name + 'max_df'], xgb_searcher.cv_results_)"
   ]
  },
  {
   "cell_type": "code",
   "execution_count": 32,
   "metadata": {
    "collapsed": true,
    "jupyter": {
     "outputs_hidden": true
    }
   },
   "outputs": [
    {
     "data": {
      "image/png": "[encoded data removed]",
      "text/plain": [
       "<Figure size 432x288 with 1 Axes>"
      ]
     },
     "metadata": {
      "needs_background": "light"
     },
     "output_type": "display_data"
    }
   ],
   "source": [
    "plot_validation_curves(xgb_params_cv[vectorizer_name + 'max_df'], xgb_searcher.cv_results_)"
   ]
  },
  {
   "cell_type": "code",
   "execution_count": 14,
   "metadata": {},
   "outputs": [
    {
     "data": {
      "text/html": [
       "<div>\n",
       "<style scoped>\n",
       "    .dataframe tbody tr th:only-of-type {\n",
       "        vertical-align: middle;\n",
       "    }\n",
       "\n",
       "    .dataframe tbody tr th {\n",
       "        vertical-align: top;\n",
       "    }\n",
       "\n",
       "    .dataframe thead th {\n",
       "        text-align: right;\n",
       "    }\n",
       "</style>\n",
       "<table border=\"1\" class=\"dataframe\">\n",
       "  <thead>\n",
       "    <tr style=\"text-align: right;\">\n",
       "      <th></th>\n",
       "      <th>cv_accuracy</th>\n",
       "      <th>holdout_accu</th>\n",
       "      <th>f1</th>\n",
       "      <th>roc_auc</th>\n",
       "      <th>precision</th>\n",
       "      <th>recall</th>\n",
       "    </tr>\n",
       "  </thead>\n",
       "  <tbody>\n",
       "    <tr>\n",
       "      <th>tfidf_maxdf0.03</th>\n",
       "      <td>0.603</td>\n",
       "      <td>0.991</td>\n",
       "      <td>0.498</td>\n",
       "      <td>0.58</td>\n",
       "      <td>0.495</td>\n",
       "      <td>0.5</td>\n",
       "    </tr>\n",
       "  </tbody>\n",
       "</table>\n",
       "</div>"
      ],
      "text/plain": [
       "                 cv_accuracy  holdout_accu     f1  roc_auc  precision  recall\n",
       "tfidf_maxdf0.03        0.603         0.991  0.498     0.58      0.495     0.5"
      ]
     },
     "execution_count": 14,
     "metadata": {},
     "output_type": "execute_result"
    }
   ],
   "source": [
    "get_scores(xgb_searcher, 'tfidf_maxdf0.03', *data_params)"
   ]
  },
  {
   "cell_type": "markdown",
   "metadata": {},
   "source": [
    "**accuracy**"
   ]
  },
  {
   "cell_type": "code",
   "execution_count": 63,
   "metadata": {
    "collapsed": true,
    "jupyter": {
     "outputs_hidden": true
    }
   },
   "outputs": [
    {
     "data": {
      "image/png": "[encoded data removed]",
      "text/plain": [
       "<Figure size 432x288 with 1 Axes>"
      ]
     },
     "metadata": {
      "needs_background": "light"
     },
     "output_type": "display_data"
    }
   ],
   "source": [
    "plot_validation_curves(xgb_params_cv[vectorizer_name + 'max_df'], xgb_searcher.cv_results_)"
   ]
  },
  {
   "cell_type": "code",
   "execution_count": 35,
   "metadata": {
    "collapsed": true,
    "jupyter": {
     "outputs_hidden": true
    }
   },
   "outputs": [
    {
     "data": {
      "image/png": "[encoded data removed]",
      "text/plain": [
       "<Figure size 432x288 with 1 Axes>"
      ]
     },
     "metadata": {
      "needs_background": "light"
     },
     "output_type": "display_data"
    }
   ],
   "source": [
    "plot_validation_curves(xgb_params_cv[vectorizer_name + 'max_df'], xgb_searcher.cv_results_)"
   ]
  },
  {
   "cell_type": "markdown",
   "metadata": {},
   "source": [
    "**min_df, ngram_range = (1, 1)**"
   ]
  },
  {
   "cell_type": "code",
   "execution_count": 59,
   "metadata": {},
   "outputs": [],
   "source": [
    "xgb_params_cv = {vectorizer_name + 'ngram_range': [(1, 1)],\n",
    "                vectorizer_name + 'min_df': np.logspace(-8, 0, 10)}"
   ]
  },
  {
   "cell_type": "code",
   "execution_count": 60,
   "metadata": {
    "collapsed": true,
    "jupyter": {
     "outputs_hidden": true
    }
   },
   "outputs": [
    {
     "name": "stdout",
     "output_type": "stream",
     "text": [
      "Wall time: 2min 43s\n"
     ]
    },
    {
     "data": {
      "text/plain": [
       "GridSearchCV(cv=TimeSeriesSplit(max_train_size=None, n_splits=5),\n",
       "             estimator=Pipeline(steps=[('feature_processing',\n",
       "                                        FeatureUnion(transformer_list=[('bag_of_sites',\n",
       "                                                                        Pipeline(steps=[('selecting',\n",
       "                                                                                         FunctionTransformer(func=<function create_pipeline.<locals>.<lambda> at 0x0000021DA19411F0>)),\n",
       "                                                                                        ('vectorizer',\n",
       "                                                                                         TfidfVectorizer()),\n",
       "                                                                                        ('feats_counter',\n",
       "                                                                                         None)])),\n",
       "                                                                       ('binary_fea...\n",
       "                                                      verbosity=0))]),\n",
       "             n_jobs=-1,\n",
       "             param_grid={'feature_processing__bag_of_sites__vectorizer__min_df': array([1.00000000e-08, 7.74263683e-08, 5.99484250e-07, 4.64158883e-06,\n",
       "       3.59381366e-05, 2.78255940e-04, 2.15443469e-03, 1.66810054e-02,\n",
       "       1.29154967e-01, 1.00000000e+00]),\n",
       "                         'feature_processing__bag_of_sites__vectorizer__ngram_range': [(1,\n",
       "                                                                                        1)]},\n",
       "             return_train_score=True, scoring='accuracy')"
      ]
     },
     "execution_count": 60,
     "metadata": {},
     "output_type": "execute_result"
    }
   ],
   "source": [
    "%%time\n",
    "xgb_searcher = GridSearchCV(pipeline, xgb_params_cv, scoring='accuracy', cv=time_split, n_jobs=-1, \n",
    "                              return_train_score=True)\n",
    "xgb_searcher.fit(X_train, y_train)"
   ]
  },
  {
   "cell_type": "markdown",
   "metadata": {},
   "source": [
    "**roc_auc**"
   ]
  },
  {
   "cell_type": "code",
   "execution_count": 41,
   "metadata": {},
   "outputs": [
    {
     "data": {
      "image/png": "[encoded data removed]",
      "text/plain": [
       "<Figure size 432x288 with 1 Axes>"
      ]
     },
     "metadata": {
      "needs_background": "light"
     },
     "output_type": "display_data"
    }
   ],
   "source": [
    "plt.xscale('log')\n",
    "plot_validation_curves(xgb_params_cv[vectorizer_name + 'min_df'], xgb_searcher.cv_results_)"
   ]
  },
  {
   "cell_type": "code",
   "execution_count": 44,
   "metadata": {},
   "outputs": [
    {
     "data": {
      "image/png": "[encoded data removed]",
      "text/plain": [
       "<Figure size 432x288 with 1 Axes>"
      ]
     },
     "metadata": {
      "needs_background": "light"
     },
     "output_type": "display_data"
    }
   ],
   "source": [
    "plot_validation_curves(xgb_params_cv[vectorizer_name + 'min_df'], xgb_searcher.cv_results_)"
   ]
  },
  {
   "cell_type": "markdown",
   "metadata": {},
   "source": [
    "**accuracy**"
   ]
  },
  {
   "cell_type": "code",
   "execution_count": 61,
   "metadata": {
    "collapsed": true,
    "jupyter": {
     "outputs_hidden": true
    }
   },
   "outputs": [
    {
     "data": {
      "image/png": "[encoded data removed]",
      "text/plain": [
       "<Figure size 432x288 with 1 Axes>"
      ]
     },
     "metadata": {
      "needs_background": "light"
     },
     "output_type": "display_data"
    }
   ],
   "source": [
    "plt.xscale('log')\n",
    "plot_validation_curves(xgb_params_cv[vectorizer_name + 'min_df'], xgb_searcher.cv_results_)"
   ]
  },
  {
   "cell_type": "markdown",
   "metadata": {},
   "source": [
    "**min_df, max_df=0.3, ngram_range = (1, 1)**"
   ]
  },
  {
   "cell_type": "code",
   "execution_count": 71,
   "metadata": {},
   "outputs": [],
   "source": [
    "xgb_params_cv = {vectorizer_name + 'ngram_range': [(1, 1)],\n",
    "                 vectorizer_name + 'max_df': [0.03],\n",
    "                vectorizer_name + 'min_df': np.linspace(0.0001, 0.005, 10)}"
   ]
  },
  {
   "cell_type": "code",
   "execution_count": 72,
   "metadata": {
    "collapsed": true,
    "jupyter": {
     "outputs_hidden": true
    }
   },
   "outputs": [
    {
     "name": "stdout",
     "output_type": "stream",
     "text": [
      "Wall time: 50.5 s\n"
     ]
    },
    {
     "data": {
      "text/plain": [
       "GridSearchCV(cv=TimeSeriesSplit(max_train_size=None, n_splits=5),\n",
       "             estimator=Pipeline(steps=[('feature_processing',\n",
       "                                        FeatureUnion(transformer_list=[('bag_of_sites',\n",
       "                                                                        Pipeline(steps=[('selecting',\n",
       "                                                                                         FunctionTransformer(func=<function create_pipeline.<locals>.<lambda> at 0x0000021DA19411F0>)),\n",
       "                                                                                        ('vectorizer',\n",
       "                                                                                         TfidfVectorizer()),\n",
       "                                                                                        ('feats_counter',\n",
       "                                                                                         None)])),\n",
       "                                                                       ('binary_fea...\n",
       "             param_grid={'feature_processing__bag_of_sites__vectorizer__max_df': [0.03],\n",
       "                         'feature_processing__bag_of_sites__vectorizer__min_df': array([0.0001    , 0.00064444, 0.00118889, 0.00173333, 0.00227778,\n",
       "       0.00282222, 0.00336667, 0.00391111, 0.00445556, 0.005     ]),\n",
       "                         'feature_processing__bag_of_sites__vectorizer__ngram_range': [(1,\n",
       "                                                                                        1)]},\n",
       "             return_train_score=True, scoring='roc_auc')"
      ]
     },
     "execution_count": 72,
     "metadata": {},
     "output_type": "execute_result"
    }
   ],
   "source": [
    "%%time\n",
    "xgb_searcher = GridSearchCV(pipeline, xgb_params_cv, scoring='roc_auc', cv=time_split, n_jobs=-1, \n",
    "                              return_train_score=True)\n",
    "xgb_searcher.fit(X_train, y_train)"
   ]
  },
  {
   "cell_type": "markdown",
   "metadata": {},
   "source": [
    "**roc_auc**"
   ]
  },
  {
   "cell_type": "code",
   "execution_count": 67,
   "metadata": {
    "collapsed": true,
    "jupyter": {
     "outputs_hidden": true
    }
   },
   "outputs": [
    {
     "data": {
      "image/png": "[encoded data removed]",
      "text/plain": [
       "<Figure size 432x288 with 1 Axes>"
      ]
     },
     "metadata": {
      "needs_background": "light"
     },
     "output_type": "display_data"
    }
   ],
   "source": [
    "plt.xscale('log')\n",
    "plot_validation_curves(xgb_params_cv[vectorizer_name + 'min_df'], xgb_searcher.cv_results_)"
   ]
  },
  {
   "cell_type": "code",
   "execution_count": 70,
   "metadata": {
    "collapsed": true,
    "jupyter": {
     "outputs_hidden": true
    }
   },
   "outputs": [
    {
     "data": {
      "image/png": "[encoded data removed]",
      "text/plain": [
       "<Figure size 432x288 with 1 Axes>"
      ]
     },
     "metadata": {
      "needs_background": "light"
     },
     "output_type": "display_data"
    }
   ],
   "source": [
    "plt.xscale('log')\n",
    "plot_validation_curves(xgb_params_cv[vectorizer_name + 'min_df'], xgb_searcher.cv_results_)"
   ]
  },
  {
   "cell_type": "code",
   "execution_count": 73,
   "metadata": {
    "collapsed": true,
    "jupyter": {
     "outputs_hidden": true
    }
   },
   "outputs": [
    {
     "data": {
      "image/png": "[encoded data removed]",
      "text/plain": [
       "<Figure size 432x288 with 1 Axes>"
      ]
     },
     "metadata": {
      "needs_background": "light"
     },
     "output_type": "display_data"
    }
   ],
   "source": [
    "plot_validation_curves(xgb_params_cv[vectorizer_name + 'min_df'], xgb_searcher.cv_results_)"
   ]
  },
  {
   "cell_type": "markdown",
   "metadata": {},
   "source": [
    "**check on test**"
   ]
  },
  {
   "cell_type": "code",
   "execution_count": 78,
   "metadata": {},
   "outputs": [
    {
     "data": {
      "text/html": [
       "<div>\n",
       "<style scoped>\n",
       "    .dataframe tbody tr th:only-of-type {\n",
       "        vertical-align: middle;\n",
       "    }\n",
       "\n",
       "    .dataframe tbody tr th {\n",
       "        vertical-align: top;\n",
       "    }\n",
       "\n",
       "    .dataframe thead th {\n",
       "        text-align: right;\n",
       "    }\n",
       "</style>\n",
       "<table border=\"1\" class=\"dataframe\">\n",
       "  <thead>\n",
       "    <tr style=\"text-align: right;\">\n",
       "      <th></th>\n",
       "      <th>cv_accuracy</th>\n",
       "      <th>holdout_accu</th>\n",
       "      <th>f1</th>\n",
       "      <th>roc_auc</th>\n",
       "      <th>precision</th>\n",
       "      <th>recall</th>\n",
       "    </tr>\n",
       "  </thead>\n",
       "  <tbody>\n",
       "    <tr>\n",
       "      <th>pipe_xgb_max_df03_min_df0001_ngram1</th>\n",
       "      <td>0.991</td>\n",
       "      <td>0.991</td>\n",
       "      <td>0.498</td>\n",
       "      <td>0.599</td>\n",
       "      <td>0.495</td>\n",
       "      <td>0.5</td>\n",
       "    </tr>\n",
       "  </tbody>\n",
       "</table>\n",
       "</div>"
      ],
      "text/plain": [
       "                                     cv_accuracy  holdout_accu     f1  \\\n",
       "pipe_xgb_max_df03_min_df0001_ngram1        0.991         0.991  0.498   \n",
       "\n",
       "                                     roc_auc  precision  recall  \n",
       "pipe_xgb_max_df03_min_df0001_ngram1    0.599      0.495     0.5  "
      ]
     },
     "execution_count": 78,
     "metadata": {},
     "output_type": "execute_result"
    }
   ],
   "source": [
    "pipeline.fit(X_train, y_train)\n",
    "get_scores_point(pipeline, 'pipe_xgb_max_df03_min_df0001_ngram1', *data_params)"
   ]
  },
  {
   "cell_type": "code",
   "execution_count": 79,
   "metadata": {},
   "outputs": [],
   "source": [
    "pipeline.fit(train_data, y_catch_me)\n",
    "write_to_submission_file(pipeline.predict_proba(test_data)[:, 1], 'pipe_xgb_max_df03_min_df0001_ngram1.csv')"
   ]
  },
  {
   "cell_type": "markdown",
   "metadata": {},
   "source": [
    "ничего не улучшилось"
   ]
  },
  {
   "cell_type": "markdown",
   "metadata": {},
   "source": [
    "**max_features, ngram_range = (1, 1)**"
   ]
  },
  {
   "cell_type": "code",
   "execution_count": 20,
   "metadata": {},
   "outputs": [],
   "source": [
    "xgb_params_cv = {vectorizer_name + 'ngram_range': [(1, 1)],\n",
    "                vectorizer_name + 'max_features': np.arange(1000, 10001, 1000)}"
   ]
  },
  {
   "cell_type": "code",
   "execution_count": 21,
   "metadata": {
    "collapsed": true,
    "jupyter": {
     "outputs_hidden": true
    }
   },
   "outputs": [
    {
     "name": "stdout",
     "output_type": "stream",
     "text": [
      "Wall time: 1min 44s\n"
     ]
    },
    {
     "data": {
      "text/plain": [
       "GridSearchCV(cv=TimeSeriesSplit(max_train_size=None, n_splits=5),\n",
       "             estimator=Pipeline(steps=[('feature_processing',\n",
       "                                        FeatureUnion(transformer_list=[('bag_of_sites',\n",
       "                                                                        Pipeline(steps=[('selecting',\n",
       "                                                                                         FunctionTransformer(func=<function create_pipeline.<locals>.<lambda> at 0x0000021DA0AF6EE0>)),\n",
       "                                                                                        ('vectorizer',\n",
       "                                                                                         TfidfVectorizer()),\n",
       "                                                                                        ('feats_counter',\n",
       "                                                                                         None)])),\n",
       "                                                                       ('binary_fea...\n",
       "                                                      subsample=None,\n",
       "                                                      tree_method='gpu_hist',\n",
       "                                                      use_label_encoder=False,\n",
       "                                                      validate_parameters=None,\n",
       "                                                      verbosity=0))]),\n",
       "             n_jobs=-1,\n",
       "             param_grid={'feature_processing__bag_of_sites__vectorizer__max_features': array([ 1000,  2000,  3000,  4000,  5000,  6000,  7000,  8000,  9000,\n",
       "       10000]),\n",
       "                         'feature_processing__bag_of_sites__vectorizer__ngram_range': [(1,\n",
       "                                                                                        1)]},\n",
       "             return_train_score=True, scoring='roc_auc')"
      ]
     },
     "execution_count": 21,
     "metadata": {},
     "output_type": "execute_result"
    }
   ],
   "source": [
    "%%time\n",
    "xgb_searcher = GridSearchCV(pipeline, xgb_params_cv, scoring='roc_auc', cv=time_split, n_jobs=-1, \n",
    "                              return_train_score=True)\n",
    "xgb_searcher.fit(X_train, y_train)"
   ]
  },
  {
   "cell_type": "code",
   "execution_count": 13,
   "metadata": {
    "collapsed": true,
    "jupyter": {
     "outputs_hidden": true
    }
   },
   "outputs": [
    {
     "data": {
      "image/png": "[encoded data removed]",
      "text/plain": [
       "<Figure size 432x288 with 1 Axes>"
      ]
     },
     "metadata": {
      "needs_background": "light"
     },
     "output_type": "display_data"
    }
   ],
   "source": [
    "plot_validation_curves(xgb_params_cv[vectorizer_name + 'max_features'], xgb_searcher.cv_results_)"
   ]
  },
  {
   "cell_type": "code",
   "execution_count": 16,
   "metadata": {
    "collapsed": true,
    "jupyter": {
     "outputs_hidden": true
    }
   },
   "outputs": [
    {
     "data": {
      "image/png": "[encoded data removed]",
      "text/plain": [
       "<Figure size 432x288 with 1 Axes>"
      ]
     },
     "metadata": {
      "needs_background": "light"
     },
     "output_type": "display_data"
    }
   ],
   "source": [
    "plot_validation_curves(xgb_params_cv[vectorizer_name + 'max_features'], xgb_searcher.cv_results_)"
   ]
  },
  {
   "cell_type": "code",
   "execution_count": 19,
   "metadata": {
    "collapsed": true,
    "jupyter": {
     "outputs_hidden": true
    }
   },
   "outputs": [
    {
     "data": {
      "image/png": "[encoded data removed]",
      "text/plain": [
       "<Figure size 432x288 with 1 Axes>"
      ]
     },
     "metadata": {
      "needs_background": "light"
     },
     "output_type": "display_data"
    }
   ],
   "source": [
    "plot_validation_curves(xgb_params_cv[vectorizer_name + 'max_features'], xgb_searcher.cv_results_)"
   ]
  },
  {
   "cell_type": "code",
   "execution_count": 22,
   "metadata": {
    "collapsed": true,
    "jupyter": {
     "outputs_hidden": true
    }
   },
   "outputs": [
    {
     "data": {
      "image/png": "[encoded data removed]",
      "text/plain": [
       "<Figure size 432x288 with 1 Axes>"
      ]
     },
     "metadata": {
      "needs_background": "light"
     },
     "output_type": "display_data"
    }
   ],
   "source": [
    "plot_validation_curves(xgb_params_cv[vectorizer_name + 'max_features'], xgb_searcher.cv_results_)"
   ]
  },
  {
   "cell_type": "markdown",
   "metadata": {},
   "source": [
    "max_features не влияет на скор"
   ]
  },
  {
   "cell_type": "markdown",
   "metadata": {},
   "source": [
    "**max_df, ngram_range = (1, 2)**"
   ]
  },
  {
   "cell_type": "code",
   "execution_count": 9,
   "metadata": {},
   "outputs": [],
   "source": [
    "xgb_params_cv = {vectorizer_name + 'ngram_range': [(1, 2)],\n",
    "                vectorizer_name + 'max_df': np.logspace(-8, 0, 10)}"
   ]
  },
  {
   "cell_type": "code",
   "execution_count": 10,
   "metadata": {
    "collapsed": true,
    "jupyter": {
     "outputs_hidden": true
    },
    "tags": []
   },
   "outputs": [
    {
     "name": "stdout",
     "output_type": "stream",
     "text": [
      "Wall time: 20min 52s\n"
     ]
    },
    {
     "data": {
      "text/plain": [
       "GridSearchCV(cv=TimeSeriesSplit(max_train_size=None, n_splits=5),\n",
       "             estimator=Pipeline(steps=[('feature_processing',\n",
       "                                        FeatureUnion(transformer_list=[('bag_of_sites',\n",
       "                                                                        Pipeline(steps=[('selecting',\n",
       "                                                                                         FunctionTransformer(func=<function create_pipeline.<locals>.<lambda> at 0x000001DBFCDC0670>)),\n",
       "                                                                                        ('vectorizer',\n",
       "                                                                                         TfidfVectorizer()),\n",
       "                                                                                        ('feats_counter',\n",
       "                                                                                         None)])),\n",
       "                                                                       ('binary_fea...\n",
       "                                                      verbosity=0))]),\n",
       "             n_jobs=-1,\n",
       "             param_grid={'feature_processing__bag_of_sites__vectorizer__max_df': array([1.00000000e-08, 7.74263683e-08, 5.99484250e-07, 4.64158883e-06,\n",
       "       3.59381366e-05, 2.78255940e-04, 2.15443469e-03, 1.66810054e-02,\n",
       "       1.29154967e-01, 1.00000000e+00]),\n",
       "                         'feature_processing__bag_of_sites__vectorizer__ngram_range': [(1,\n",
       "                                                                                        2)]},\n",
       "             return_train_score=True, scoring='roc_auc')"
      ]
     },
     "execution_count": 10,
     "metadata": {},
     "output_type": "execute_result"
    }
   ],
   "source": [
    "%%time\n",
    "xgb_searcher = GridSearchCV(pipeline, xgb_params_cv, scoring='roc_auc', cv=time_split, n_jobs=-1, \n",
    "                              return_train_score=True)\n",
    "xgb_searcher.fit(X_train, y_train)"
   ]
  },
  {
   "cell_type": "markdown",
   "metadata": {
    "tags": []
   },
   "source": [
    "**roc_auc**"
   ]
  },
  {
   "cell_type": "code",
   "execution_count": 11,
   "metadata": {},
   "outputs": [
    {
     "data": {
      "image/png": "[encoded data removed]",
      "text/plain": [
       "<Figure size 432x288 with 1 Axes>"
      ]
     },
     "metadata": {
      "needs_background": "light"
     },
     "output_type": "display_data"
    }
   ],
   "source": [
    "plt.xscale('log')\n",
    "plot_validation_curves(xgb_params_cv[vectorizer_name + 'max_df'], xgb_searcher.cv_results_)"
   ]
  },
  {
   "cell_type": "markdown",
   "metadata": {},
   "source": [
    "**min_df, ngram_range = (1, 2)**"
   ]
  },
  {
   "cell_type": "code",
   "execution_count": 12,
   "metadata": {},
   "outputs": [],
   "source": [
    "xgb_params_cv = {vectorizer_name + 'ngram_range': [(1, 2)],\n",
    "                vectorizer_name + 'min_df': np.logspace(-8, 0, 10)}"
   ]
  },
  {
   "cell_type": "code",
   "execution_count": 13,
   "metadata": {
    "collapsed": true,
    "jupyter": {
     "outputs_hidden": true
    }
   },
   "outputs": [
    {
     "name": "stderr",
     "output_type": "stream",
     "text": [
      "c:\\programdata\\anaconda3\\lib\\site-packages\\joblib\\externals\\loky\\process_executor.py:688: UserWarning: A worker stopped while some jobs were given to the executor. This can be caused by a too short worker timeout or by a memory leak.\n",
      "  warnings.warn(\n"
     ]
    },
    {
     "name": "stdout",
     "output_type": "stream",
     "text": [
      "Wall time: 14min 58s\n"
     ]
    },
    {
     "data": {
      "text/plain": [
       "GridSearchCV(cv=TimeSeriesSplit(max_train_size=None, n_splits=5),\n",
       "             estimator=Pipeline(steps=[('feature_processing',\n",
       "                                        FeatureUnion(transformer_list=[('bag_of_sites',\n",
       "                                                                        Pipeline(steps=[('selecting',\n",
       "                                                                                         FunctionTransformer(func=<function create_pipeline.<locals>.<lambda> at 0x000001DBFCDC0670>)),\n",
       "                                                                                        ('vectorizer',\n",
       "                                                                                         TfidfVectorizer()),\n",
       "                                                                                        ('feats_counter',\n",
       "                                                                                         None)])),\n",
       "                                                                       ('binary_fea...\n",
       "                                                      verbosity=0))]),\n",
       "             n_jobs=-1,\n",
       "             param_grid={'feature_processing__bag_of_sites__vectorizer__min_df': array([1.00000000e-08, 7.74263683e-08, 5.99484250e-07, 4.64158883e-06,\n",
       "       3.59381366e-05, 2.78255940e-04, 2.15443469e-03, 1.66810054e-02,\n",
       "       1.29154967e-01, 1.00000000e+00]),\n",
       "                         'feature_processing__bag_of_sites__vectorizer__ngram_range': [(1,\n",
       "                                                                                        2)]},\n",
       "             return_train_score=True, scoring='roc_auc')"
      ]
     },
     "execution_count": 13,
     "metadata": {},
     "output_type": "execute_result"
    }
   ],
   "source": [
    "%%time\n",
    "xgb_searcher = GridSearchCV(pipeline, xgb_params_cv, scoring='roc_auc', cv=time_split, n_jobs=-1, \n",
    "                              return_train_score=True)\n",
    "xgb_searcher.fit(X_train, y_train)"
   ]
  },
  {
   "cell_type": "markdown",
   "metadata": {},
   "source": [
    "**roc_auc**"
   ]
  },
  {
   "cell_type": "code",
   "execution_count": 14,
   "metadata": {
    "scrolled": true
   },
   "outputs": [
    {
     "data": {
      "image/png": "[encoded data removed]",
      "text/plain": [
       "<Figure size 432x288 with 1 Axes>"
      ]
     },
     "metadata": {
      "needs_background": "light"
     },
     "output_type": "display_data"
    }
   ],
   "source": [
    "plt.xscale('log')\n",
    "plot_validation_curves(xgb_params_cv[vectorizer_name + 'min_df'], xgb_searcher.cv_results_)"
   ]
  },
  {
   "cell_type": "markdown",
   "metadata": {},
   "source": [
    "Получается, что TfIdfVectorizer лучше использовать с дефолтными настройками"
   ]
  },
  {
   "cell_type": "markdown",
   "metadata": {},
   "source": [
    "## Отбор признаков"
   ]
  },
  {
   "cell_type": "code",
   "execution_count": 6,
   "metadata": {},
   "outputs": [],
   "source": [
    "xgb_params = {'classifier__n_estimators': 40,\n",
    "             'classifier__max_depth': 7,\n",
    "             'classifier__learning_rate': 0.4}"
   ]
  },
  {
   "cell_type": "code",
   "execution_count": 7,
   "metadata": {},
   "outputs": [],
   "source": [
    "xgb = XGBClassifier(tree_method='gpu_hist', predictor='gpu_predictor', use_label_encoder=False, verbosity=0,\n",
    "                              **xgb_params)"
   ]
  },
  {
   "cell_type": "code",
   "execution_count": 8,
   "metadata": {},
   "outputs": [],
   "source": [
    "fselector = FeaturesSelector()"
   ]
  },
  {
   "cell_type": "code",
   "execution_count": 9,
   "metadata": {
    "scrolled": true
   },
   "outputs": [
    {
     "data": {
      "application/vnd.jupyter.widget-view+json": {
       "model_id": "59225a13cbd5494d813f40330d20d461",
       "version_major": 2,
       "version_minor": 0
      },
      "text/plain": [
       "HBox(children=(HTML(value=''), FloatProgress(value=0.0, max=30.0), HTML(value='')))"
      ]
     },
     "metadata": {},
     "output_type": "display_data"
    },
    {
     "name": "stdout",
     "output_type": "stream",
     "text": [
      "0.0\n",
      "-0.004749192257501589\n",
      "-0.0\n",
      "0.0006005762507289569\n",
      "0.0\n",
      "-0.0018842930625920795\n",
      "-0.0\n",
      "0.0006005762507289569\n",
      "0.001231621125434068\n",
      "0.0\n",
      "0.0013210668494716415\n",
      "-0.014161569423114528\n",
      "0.0008913800288778972\n",
      "-0.030433055135830722\n",
      "0.0008913800288778972\n",
      "0.0\n",
      "-0.0008657655813902876\n",
      "0.0007209157868806049\n",
      "-0.003474023321158315\n",
      "-0.0\n",
      "0.0007209157868806049\n",
      "0.0\n",
      "0.0\n",
      "0.0004985588502834926\n",
      "-0.002263679086335846\n",
      "0.0004985588502834926\n",
      "-0.009452465113354624\n",
      "0.0004985588502834926\n",
      "0.0006330222330460655\n",
      "0.0\n",
      "\n",
      "Wall time: 1h 31min 14s\n"
     ]
    }
   ],
   "source": [
    "%%time\n",
    "fselector.fit_transform(xgb, blocks=None, X=X_train, y=y_train, cv=time_split, n=30, continue_last=False)"
   ]
  },
  {
   "cell_type": "code",
   "execution_count": 12,
   "metadata": {},
   "outputs": [
    {
     "data": {
      "text/html": [
       "<div>\n",
       "<style scoped>\n",
       "    .dataframe tbody tr th:only-of-type {\n",
       "        vertical-align: middle;\n",
       "    }\n",
       "\n",
       "    .dataframe tbody tr th {\n",
       "        vertical-align: top;\n",
       "    }\n",
       "\n",
       "    .dataframe thead th {\n",
       "        text-align: right;\n",
       "    }\n",
       "</style>\n",
       "<table border=\"1\" class=\"dataframe\">\n",
       "  <thead>\n",
       "    <tr style=\"text-align: right;\">\n",
       "      <th></th>\n",
       "      <th>feature</th>\n",
       "      <th>operation</th>\n",
       "      <th>roc_auc</th>\n",
       "    </tr>\n",
       "  </thead>\n",
       "  <tbody>\n",
       "    <tr>\n",
       "      <th>0</th>\n",
       "      <td>start</td>\n",
       "      <td>start</td>\n",
       "      <td>0.888070</td>\n",
       "    </tr>\n",
       "    <tr>\n",
       "      <th>1</th>\n",
       "      <td>is_top_8</td>\n",
       "      <td>delete</td>\n",
       "      <td>0.888070</td>\n",
       "    </tr>\n",
       "    <tr>\n",
       "      <th>2</th>\n",
       "      <td>is_top_26</td>\n",
       "      <td>delete</td>\n",
       "      <td>0.883321</td>\n",
       "    </tr>\n",
       "    <tr>\n",
       "      <th>3</th>\n",
       "      <td>is_top_8</td>\n",
       "      <td>add</td>\n",
       "      <td>0.888070</td>\n",
       "    </tr>\n",
       "    <tr>\n",
       "      <th>4</th>\n",
       "      <td>binned_start_hour_21</td>\n",
       "      <td>delete</td>\n",
       "      <td>0.888671</td>\n",
       "    </tr>\n",
       "    <tr>\n",
       "      <th>5</th>\n",
       "      <td>is_top_13</td>\n",
       "      <td>delete</td>\n",
       "      <td>0.888671</td>\n",
       "    </tr>\n",
       "    <tr>\n",
       "      <th>6</th>\n",
       "      <td>is_top_5</td>\n",
       "      <td>delete</td>\n",
       "      <td>0.886787</td>\n",
       "    </tr>\n",
       "    <tr>\n",
       "      <th>7</th>\n",
       "      <td>is_top_13</td>\n",
       "      <td>add</td>\n",
       "      <td>0.888671</td>\n",
       "    </tr>\n",
       "    <tr>\n",
       "      <th>8</th>\n",
       "      <td>binned_start_hour_21</td>\n",
       "      <td>add</td>\n",
       "      <td>0.888070</td>\n",
       "    </tr>\n",
       "    <tr>\n",
       "      <th>9</th>\n",
       "      <td>day_30</td>\n",
       "      <td>delete</td>\n",
       "      <td>0.889902</td>\n",
       "    </tr>\n",
       "    <tr>\n",
       "      <th>10</th>\n",
       "      <td>unique_site_1</td>\n",
       "      <td>delete</td>\n",
       "      <td>0.889902</td>\n",
       "    </tr>\n",
       "    <tr>\n",
       "      <th>11</th>\n",
       "      <td>binned_start_hour_16</td>\n",
       "      <td>delete</td>\n",
       "      <td>0.891224</td>\n",
       "    </tr>\n",
       "    <tr>\n",
       "      <th>12</th>\n",
       "      <td>day_29</td>\n",
       "      <td>delete</td>\n",
       "      <td>0.877062</td>\n",
       "    </tr>\n",
       "    <tr>\n",
       "      <th>13</th>\n",
       "      <td>unique_site_1</td>\n",
       "      <td>add</td>\n",
       "      <td>0.890332</td>\n",
       "    </tr>\n",
       "    <tr>\n",
       "      <th>14</th>\n",
       "      <td>day_of_week_2</td>\n",
       "      <td>delete</td>\n",
       "      <td>0.860790</td>\n",
       "    </tr>\n",
       "    <tr>\n",
       "      <th>15</th>\n",
       "      <td>unique_site_1</td>\n",
       "      <td>add</td>\n",
       "      <td>0.890332</td>\n",
       "    </tr>\n",
       "    <tr>\n",
       "      <th>16</th>\n",
       "      <td>is_top_12</td>\n",
       "      <td>delete</td>\n",
       "      <td>0.891224</td>\n",
       "    </tr>\n",
       "    <tr>\n",
       "      <th>17</th>\n",
       "      <td>day_27</td>\n",
       "      <td>delete</td>\n",
       "      <td>0.890358</td>\n",
       "    </tr>\n",
       "    <tr>\n",
       "      <th>18</th>\n",
       "      <td>day_30</td>\n",
       "      <td>add</td>\n",
       "      <td>0.890503</td>\n",
       "    </tr>\n",
       "    <tr>\n",
       "      <th>19</th>\n",
       "      <td>binned_start_hour_14</td>\n",
       "      <td>delete</td>\n",
       "      <td>0.887750</td>\n",
       "    </tr>\n",
       "    <tr>\n",
       "      <th>20</th>\n",
       "      <td>is_top_12</td>\n",
       "      <td>add</td>\n",
       "      <td>0.891224</td>\n",
       "    </tr>\n",
       "    <tr>\n",
       "      <th>21</th>\n",
       "      <td>day_30</td>\n",
       "      <td>add</td>\n",
       "      <td>0.890503</td>\n",
       "    </tr>\n",
       "    <tr>\n",
       "      <th>22</th>\n",
       "      <td>is_top_23</td>\n",
       "      <td>delete</td>\n",
       "      <td>0.891224</td>\n",
       "    </tr>\n",
       "    <tr>\n",
       "      <th>23</th>\n",
       "      <td>is_top_27</td>\n",
       "      <td>delete</td>\n",
       "      <td>0.891224</td>\n",
       "    </tr>\n",
       "    <tr>\n",
       "      <th>24</th>\n",
       "      <td>day_26</td>\n",
       "      <td>delete</td>\n",
       "      <td>0.891722</td>\n",
       "    </tr>\n",
       "    <tr>\n",
       "      <th>25</th>\n",
       "      <td>is_top_14</td>\n",
       "      <td>delete</td>\n",
       "      <td>0.889458</td>\n",
       "    </tr>\n",
       "    <tr>\n",
       "      <th>26</th>\n",
       "      <td>day_26</td>\n",
       "      <td>add</td>\n",
       "      <td>0.891224</td>\n",
       "    </tr>\n",
       "    <tr>\n",
       "      <th>27</th>\n",
       "      <td>is_top_21</td>\n",
       "      <td>delete</td>\n",
       "      <td>0.882270</td>\n",
       "    </tr>\n",
       "    <tr>\n",
       "      <th>28</th>\n",
       "      <td>day_26</td>\n",
       "      <td>add</td>\n",
       "      <td>0.891224</td>\n",
       "    </tr>\n",
       "    <tr>\n",
       "      <th>29</th>\n",
       "      <td>is_top_9</td>\n",
       "      <td>delete</td>\n",
       "      <td>0.892355</td>\n",
       "    </tr>\n",
       "    <tr>\n",
       "      <th>30</th>\n",
       "      <td>is_top_12</td>\n",
       "      <td>delete</td>\n",
       "      <td>0.892355</td>\n",
       "    </tr>\n",
       "  </tbody>\n",
       "</table>\n",
       "</div>"
      ],
      "text/plain": [
       "                 feature operation   roc_auc\n",
       "0                  start     start  0.888070\n",
       "1               is_top_8    delete  0.888070\n",
       "2              is_top_26    delete  0.883321\n",
       "3               is_top_8       add  0.888070\n",
       "4   binned_start_hour_21    delete  0.888671\n",
       "5              is_top_13    delete  0.888671\n",
       "6               is_top_5    delete  0.886787\n",
       "7              is_top_13       add  0.888671\n",
       "8   binned_start_hour_21       add  0.888070\n",
       "9                 day_30    delete  0.889902\n",
       "10         unique_site_1    delete  0.889902\n",
       "11  binned_start_hour_16    delete  0.891224\n",
       "12                day_29    delete  0.877062\n",
       "13         unique_site_1       add  0.890332\n",
       "14         day_of_week_2    delete  0.860790\n",
       "15         unique_site_1       add  0.890332\n",
       "16             is_top_12    delete  0.891224\n",
       "17                day_27    delete  0.890358\n",
       "18                day_30       add  0.890503\n",
       "19  binned_start_hour_14    delete  0.887750\n",
       "20             is_top_12       add  0.891224\n",
       "21                day_30       add  0.890503\n",
       "22             is_top_23    delete  0.891224\n",
       "23             is_top_27    delete  0.891224\n",
       "24                day_26    delete  0.891722\n",
       "25             is_top_14    delete  0.889458\n",
       "26                day_26       add  0.891224\n",
       "27             is_top_21    delete  0.882270\n",
       "28                day_26       add  0.891224\n",
       "29              is_top_9    delete  0.892355\n",
       "30             is_top_12    delete  0.892355"
      ]
     },
     "execution_count": 12,
     "metadata": {},
     "output_type": "execute_result"
    }
   ],
   "source": [
    "fselector.report"
   ]
  },
  {
   "cell_type": "code",
   "execution_count": 11,
   "metadata": {},
   "outputs": [
    {
     "data": {
      "text/plain": [
       "array(['unique_site_1', 'binned_start_hour_16', 'binned_start_hour_21',\n",
       "       'day_26', 'day_30', 'is_top_9', 'is_top_12', 'is_top_23',\n",
       "       'is_top_27'], dtype='<U20')"
      ]
     },
     "execution_count": 11,
     "metadata": {},
     "output_type": "execute_result"
    }
   ],
   "source": [
    "fselector.del_labels"
   ]
  },
  {
   "cell_type": "code",
   "execution_count": 15,
   "metadata": {},
   "outputs": [],
   "source": [
    "with open('dlabels_1.pkl', 'wb') as del_labels_pkl:\n",
    "        pickle.dump(fselector.del_labels, del_labels_pkl, protocol=2)"
   ]
  },
  {
   "cell_type": "code",
   "execution_count": 16,
   "metadata": {},
   "outputs": [],
   "source": [
    "with open('dlabels_1.pkl', 'rb') as del_labels_pkl:\n",
    "        dlabels_1 = pickle.load(del_labels_pkl)"
   ]
  },
  {
   "cell_type": "code",
   "execution_count": 17,
   "metadata": {},
   "outputs": [
    {
     "data": {
      "text/plain": [
       "array(['unique_site_1', 'binned_start_hour_16', 'binned_start_hour_21',\n",
       "       'day_26', 'day_30', 'is_top_9', 'is_top_12', 'is_top_23',\n",
       "       'is_top_27'], dtype='<U20')"
      ]
     },
     "execution_count": 17,
     "metadata": {},
     "output_type": "execute_result"
    }
   ],
   "source": [
    "dlabels_1"
   ]
  },
  {
   "cell_type": "code",
   "execution_count": null,
   "metadata": {},
   "outputs": [],
   "source": []
  },
  {
   "cell_type": "code",
   "execution_count": null,
   "metadata": {},
   "outputs": [],
   "source": []
  },
  {
   "cell_type": "code",
   "execution_count": null,
   "metadata": {},
   "outputs": [],
   "source": []
  },
  {
   "cell_type": "code",
   "execution_count": null,
   "metadata": {},
   "outputs": [],
   "source": []
  },
  {
   "cell_type": "code",
   "execution_count": 18,
   "metadata": {},
   "outputs": [
    {
     "data": {
      "text/plain": [
       "Pipeline(steps=[('feature_processing',\n",
       "                 FeatureUnion(transformer_list=[('bag_of_sites',\n",
       "                                                 Pipeline(steps=[('selecting',\n",
       "                                                                  FunctionTransformer(func=<function create_pipeline.<locals>.<lambda> at 0x0000022237469550>)),\n",
       "                                                                 ('vectorizer',\n",
       "                                                                  TfidfVectorizer()),\n",
       "                                                                 ('feats_counter',\n",
       "                                                                  None)])),\n",
       "                                                ('binary_feats',\n",
       "                                                 FunctionTransformer(func=<function create_pipeline.<locals>.<lambda> at 0...\n",
       "                               interaction_constraints='',\n",
       "                               learning_rate=0.300000012, max_delta_step=0,\n",
       "                               max_depth=6, min_child_weight=1, missing=nan,\n",
       "                               monotone_constraints='()', n_estimators=100,\n",
       "                               n_jobs=6, num_parallel_tree=1,\n",
       "                               predictor='gpu_predictor', random_state=0,\n",
       "                               reg_alpha=0, reg_lambda=1, scale_pos_weight=1,\n",
       "                               subsample=1, tree_method='gpu_hist',\n",
       "                               use_label_encoder=False, validate_parameters=1, ...))])"
      ]
     },
     "execution_count": 18,
     "metadata": {},
     "output_type": "execute_result"
    }
   ],
   "source": [
    "fselector.best_model.fit(train_data, y_catch_me)"
   ]
  },
  {
   "cell_type": "code",
   "execution_count": 14,
   "metadata": {},
   "outputs": [],
   "source": [
    "preds_1 = fselector.best_model.predict_proba(test_data)"
   ]
  },
  {
   "cell_type": "code",
   "execution_count": 19,
   "metadata": {},
   "outputs": [],
   "source": [
    "preds_2 = fselector.best_model.predict_proba(test_data)"
   ]
  },
  {
   "cell_type": "code",
   "execution_count": 24,
   "metadata": {},
   "outputs": [
    {
     "data": {
      "text/plain": [
       "True"
      ]
     },
     "execution_count": 24,
     "metadata": {},
     "output_type": "execute_result"
    }
   ],
   "source": [
    "(preds_1[:, 1] - preds_2[:, 1]==0).all()"
   ]
  },
  {
   "cell_type": "code",
   "execution_count": null,
   "metadata": {},
   "outputs": [],
   "source": []
  },
  {
   "cell_type": "code",
   "execution_count": null,
   "metadata": {},
   "outputs": [],
   "source": []
  },
  {
   "cell_type": "code",
   "execution_count": 34,
   "metadata": {},
   "outputs": [
    {
     "data": {
      "text/plain": [
       "array([[0.9911105 , 0.00888947],\n",
       "       [0.9933298 , 0.00667015],\n",
       "       [0.9933298 , 0.00667015],\n",
       "       ...,\n",
       "       [0.99265224, 0.00734775],\n",
       "       [0.99737823, 0.0026218 ],\n",
       "       [0.9962476 , 0.00375239]], dtype=float32)"
      ]
     },
     "execution_count": 34,
     "metadata": {},
     "output_type": "execute_result"
    }
   ],
   "source": [
    "preds"
   ]
  },
  {
   "cell_type": "code",
   "execution_count": 35,
   "metadata": {},
   "outputs": [],
   "source": [
    "write_to_submission_file(preds[:, 1], os.path.join('kaggle_answers', 'xgb_fselector_2.csv'))"
   ]
  },
  {
   "cell_type": "code",
   "execution_count": null,
   "metadata": {},
   "outputs": [],
   "source": []
  },
  {
   "cell_type": "code",
   "execution_count": 4,
   "metadata": {},
   "outputs": [],
   "source": [
    "f1 = pd.read_csv(os.path.join('kaggle_answers', 'xgb_fselector_2021_08_05_15_42(1).csv'), index_col=0)\n",
    "f2 = pd.read_csv(os.path.join('kaggle_answers', 'xgb_fselector_2021_08_09_11_29(2).csv'), index_col=0)"
   ]
  },
  {
   "cell_type": "code",
   "execution_count": 19,
   "metadata": {},
   "outputs": [
    {
     "data": {
      "text/plain": [
       "True"
      ]
     },
     "execution_count": 19,
     "metadata": {},
     "output_type": "execute_result"
    }
   ],
   "source": [
    "(f1.values==f2.values).ravel().all()"
   ]
  },
  {
   "cell_type": "code",
   "execution_count": 6,
   "metadata": {},
   "outputs": [
    {
     "data": {
      "text/html": [
       "<div>\n",
       "<style scoped>\n",
       "    .dataframe tbody tr th:only-of-type {\n",
       "        vertical-align: middle;\n",
       "    }\n",
       "\n",
       "    .dataframe tbody tr th {\n",
       "        vertical-align: top;\n",
       "    }\n",
       "\n",
       "    .dataframe thead th {\n",
       "        text-align: right;\n",
       "    }\n",
       "</style>\n",
       "<table border=\"1\" class=\"dataframe\">\n",
       "  <thead>\n",
       "    <tr style=\"text-align: right;\">\n",
       "      <th></th>\n",
       "      <th>target</th>\n",
       "    </tr>\n",
       "    <tr>\n",
       "      <th>session_id</th>\n",
       "      <th></th>\n",
       "    </tr>\n",
       "  </thead>\n",
       "  <tbody>\n",
       "    <tr>\n",
       "      <th>1</th>\n",
       "      <td>0.008889</td>\n",
       "    </tr>\n",
       "    <tr>\n",
       "      <th>2</th>\n",
       "      <td>0.006670</td>\n",
       "    </tr>\n",
       "    <tr>\n",
       "      <th>3</th>\n",
       "      <td>0.006670</td>\n",
       "    </tr>\n",
       "    <tr>\n",
       "      <th>4</th>\n",
       "      <td>0.001081</td>\n",
       "    </tr>\n",
       "    <tr>\n",
       "      <th>5</th>\n",
       "      <td>0.000955</td>\n",
       "    </tr>\n",
       "    <tr>\n",
       "      <th>...</th>\n",
       "      <td>...</td>\n",
       "    </tr>\n",
       "    <tr>\n",
       "      <th>82793</th>\n",
       "      <td>0.001498</td>\n",
       "    </tr>\n",
       "    <tr>\n",
       "      <th>82794</th>\n",
       "      <td>0.003304</td>\n",
       "    </tr>\n",
       "    <tr>\n",
       "      <th>82795</th>\n",
       "      <td>0.007348</td>\n",
       "    </tr>\n",
       "    <tr>\n",
       "      <th>82796</th>\n",
       "      <td>0.002622</td>\n",
       "    </tr>\n",
       "    <tr>\n",
       "      <th>82797</th>\n",
       "      <td>0.003752</td>\n",
       "    </tr>\n",
       "  </tbody>\n",
       "</table>\n",
       "<p>82797 rows × 1 columns</p>\n",
       "</div>"
      ],
      "text/plain": [
       "              target\n",
       "session_id          \n",
       "1           0.008889\n",
       "2           0.006670\n",
       "3           0.006670\n",
       "4           0.001081\n",
       "5           0.000955\n",
       "...              ...\n",
       "82793       0.001498\n",
       "82794       0.003304\n",
       "82795       0.007348\n",
       "82796       0.002622\n",
       "82797       0.003752\n",
       "\n",
       "[82797 rows x 1 columns]"
      ]
     },
     "execution_count": 6,
     "metadata": {},
     "output_type": "execute_result"
    }
   ],
   "source": [
    "f2"
   ]
  },
  {
   "cell_type": "markdown",
   "metadata": {},
   "source": [
    "## XGBoost+time_split"
   ]
  },
  {
   "cell_type": "code",
   "execution_count": 72,
   "metadata": {
    "collapsed": true,
    "jupyter": {
     "outputs_hidden": true
    },
    "tags": []
   },
   "outputs": [
    {
     "data": {
      "text/plain": [
       "Pipeline(steps=[('feature_processing',\n",
       "                 FeatureUnion(transformer_list=[('binary_variables',\n",
       "                                                 FunctionTransformer(func=<function <lambda> at 0x0000024531A0CDC0>)),\n",
       "                                                ('categorical_variables',\n",
       "                                                 Pipeline(steps=[('selecting',\n",
       "                                                                  FunctionTransformer(func=<function <lambda> at 0x0000024531A0CB80>)),\n",
       "                                                                 ('hot_encoding',\n",
       "                                                                  OneHotEncoder(handle_unknown='ignore')),\n",
       "                                                                 ('dim_reducing',\n",
       "                                                                  Tru...\n",
       "                               interaction_constraints='', learning_rate=0.4,\n",
       "                               max_delta_step=0, max_depth=7,\n",
       "                               min_child_weight=1, missing=nan,\n",
       "                               monotone_constraints='()', n_estimators=30,\n",
       "                               n_jobs=6, num_parallel_tree=1,\n",
       "                               predictor='gpu_predictor', random_state=0,\n",
       "                               reg_alpha=0, reg_lambda=1, scale_pos_weight=1,\n",
       "                               subsample=1, tree_method='gpu_hist',\n",
       "                               use_label_encoder=False, validate_parameters=1,\n",
       "                               verbosity=0))])"
      ]
     },
     "execution_count": 72,
     "metadata": {},
     "output_type": "execute_result"
    }
   ],
   "source": [
    "xgb_params = {'classifier__n_estimators': 30,\n",
    "             'classifier__max_depth': 7,\n",
    "             'classifier__learning_rate': 0.4,\n",
    "             'feature_processing__categorical_variables__dim_reducing__n_components': 10}\n",
    "pipeline.set_params(**xgb_params)"
   ]
  },
  {
   "cell_type": "code",
   "execution_count": 10,
   "metadata": {
    "tags": []
   },
   "outputs": [],
   "source": [
    "xgb_params_cv = {'classifier__n_estimators': np.arange(10, 101, 10)}"
   ]
  },
  {
   "cell_type": "code",
   "execution_count": 69,
   "metadata": {
    "collapsed": true,
    "jupyter": {
     "outputs_hidden": true
    },
    "tags": []
   },
   "outputs": [
    {
     "name": "stdout",
     "output_type": "stream",
     "text": [
      "Wall time: 6min 16s\n"
     ]
    },
    {
     "data": {
      "text/plain": [
       "GridSearchCV(cv=TimeSeriesSplit(max_train_size=None, n_splits=3),\n",
       "             estimator=Pipeline(steps=[('feature_processing',\n",
       "                                        FeatureUnion(transformer_list=[('binary_variables',\n",
       "                                                                        FunctionTransformer(func=<function <lambda> at 0x0000024532D033A0>)),\n",
       "                                                                       ('categorical_variables',\n",
       "                                                                        Pipeline(steps=[('selecting',\n",
       "                                                                                         FunctionTransformer(func=<function <lambda> at 0x0000024532D035E0>)),\n",
       "                                                                                        (...\n",
       "                                                      scale_pos_weight=1,\n",
       "                                                      subsample=1,\n",
       "                                                      tree_method='gpu_hist',\n",
       "                                                      use_label_encoder=False,\n",
       "                                                      validate_parameters=1,\n",
       "                                                      verbosity=0))]),\n",
       "             n_jobs=-2,\n",
       "             param_grid={'classifier__alpha': array([1.00000000e-03, 4.64158883e-03, 2.15443469e-02, 1.00000000e-01,\n",
       "       4.64158883e-01, 2.15443469e+00, 1.00000000e+01, 4.64158883e+01,\n",
       "       2.15443469e+02, 1.00000000e+03])},\n",
       "             return_train_score=True, scoring='roc_auc')"
      ]
     },
     "execution_count": 69,
     "metadata": {},
     "output_type": "execute_result"
    }
   ],
   "source": [
    "%%time\n",
    "xgb_searcher = GridSearchCV(pipeline, xgb_params_cv, scoring='roc_auc', cv=time_split, n_jobs=-2, \n",
    "                              return_train_score=True)\n",
    "xgb_searcher.fit(X_train, y_train)"
   ]
  },
  {
   "cell_type": "code",
   "execution_count": 21,
   "metadata": {},
   "outputs": [
    {
     "data": {
      "image/png": "[encoded data removed]",
      "text/plain": [
       "<Figure size 432x288 with 1 Axes>"
      ]
     },
     "metadata": {
      "needs_background": "light"
     },
     "output_type": "display_data"
    }
   ],
   "source": [
    "plot_validation_curves(xgb_params_cv['classifier__n_estimators'], xgb_searcher.cv_results_)"
   ]
  },
  {
   "cell_type": "code",
   "execution_count": 30,
   "metadata": {},
   "outputs": [],
   "source": [
    "xgb_params_cv = {'feature_processing__categorical_variables__dim_reducing__n_components': np.arange(5, 51, 5)}"
   ]
  },
  {
   "cell_type": "code",
   "execution_count": 32,
   "metadata": {},
   "outputs": [
    {
     "data": {
      "image/png": "[encoded data removed]",
      "text/plain": [
       "<Figure size 432x288 with 1 Axes>"
      ]
     },
     "metadata": {
      "needs_background": "light"
     },
     "output_type": "display_data"
    }
   ],
   "source": [
    "plot_validation_curves(xgb_params_cv['feature_processing__categorical_variables__dim_reducing__n_components'], \n",
    "                       xgb_searcher.cv_results_)"
   ]
  },
  {
   "cell_type": "code",
   "execution_count": 36,
   "metadata": {},
   "outputs": [],
   "source": [
    "xgb_params_cv = {'feature_processing__is_top_site__dim_reducing__n_components': np.arange(1, 20, 2)}"
   ]
  },
  {
   "cell_type": "code",
   "execution_count": 38,
   "metadata": {},
   "outputs": [
    {
     "data": {
      "image/png": "[encoded data removed]",
      "text/plain": [
       "<Figure size 432x288 with 1 Axes>"
      ]
     },
     "metadata": {
      "needs_background": "light"
     },
     "output_type": "display_data"
    }
   ],
   "source": [
    "# with cat_features=20\n",
    "plot_validation_curves(xgb_params_cv['feature_processing__is_top_site__dim_reducing__n_components'], \n",
    "                       xgb_searcher.cv_results_)"
   ]
  },
  {
   "cell_type": "code",
   "execution_count": 41,
   "metadata": {},
   "outputs": [
    {
     "data": {
      "image/png": "[encoded data removed]",
      "text/plain": [
       "<Figure size 432x288 with 1 Axes>"
      ]
     },
     "metadata": {
      "needs_background": "light"
     },
     "output_type": "display_data"
    }
   ],
   "source": [
    "# with cat_features=10\n",
    "plot_validation_curves(xgb_params_cv['feature_processing__is_top_site__dim_reducing__n_components'], \n",
    "                       xgb_searcher.cv_results_)"
   ]
  },
  {
   "cell_type": "markdown",
   "metadata": {},
   "source": [
    "Признаки is_top_site не дают прироста score, поэтому их не будем использовать"
   ]
  },
  {
   "cell_type": "code",
   "execution_count": 45,
   "metadata": {},
   "outputs": [
    {
     "data": {
      "text/html": [
       "<div>\n",
       "<style scoped>\n",
       "    .dataframe tbody tr th:only-of-type {\n",
       "        vertical-align: middle;\n",
       "    }\n",
       "\n",
       "    .dataframe tbody tr th {\n",
       "        vertical-align: top;\n",
       "    }\n",
       "\n",
       "    .dataframe thead th {\n",
       "        text-align: right;\n",
       "    }\n",
       "</style>\n",
       "<table border=\"1\" class=\"dataframe\">\n",
       "  <thead>\n",
       "    <tr style=\"text-align: right;\">\n",
       "      <th></th>\n",
       "      <th>cv_accuracy</th>\n",
       "      <th>holdout_accu</th>\n",
       "      <th>f1</th>\n",
       "      <th>roc_auc</th>\n",
       "      <th>precision</th>\n",
       "      <th>recall</th>\n",
       "    </tr>\n",
       "  </thead>\n",
       "  <tbody>\n",
       "    <tr>\n",
       "      <th>pipe_xgb_without_is_top_site</th>\n",
       "      <td>0.98</td>\n",
       "      <td>0.991</td>\n",
       "      <td>0.541</td>\n",
       "      <td>0.947</td>\n",
       "      <td>0.807</td>\n",
       "      <td>0.523</td>\n",
       "    </tr>\n",
       "  </tbody>\n",
       "</table>\n",
       "</div>"
      ],
      "text/plain": [
       "                              cv_accuracy  holdout_accu     f1  roc_auc  \\\n",
       "pipe_xgb_without_is_top_site         0.98         0.991  0.541    0.947   \n",
       "\n",
       "                              precision  recall  \n",
       "pipe_xgb_without_is_top_site      0.807   0.523  "
      ]
     },
     "execution_count": 45,
     "metadata": {},
     "output_type": "execute_result"
    }
   ],
   "source": [
    "pipeline.fit(X_train, y_train)\n",
    "get_scores_point(pipeline, 'pipe_xgb_without_is_top_site', *data_params)"
   ]
  },
  {
   "cell_type": "code",
   "execution_count": 55,
   "metadata": {},
   "outputs": [],
   "source": [
    "xgb_params_cv = {'classifier__learning_rate': np.linspace(0.1, 2, 10)}"
   ]
  },
  {
   "cell_type": "code",
   "execution_count": 54,
   "metadata": {
    "collapsed": true,
    "jupyter": {
     "outputs_hidden": true
    },
    "tags": []
   },
   "outputs": [
    {
     "data": {
      "image/png": "[encoded data removed]",
      "text/plain": [
       "<Figure size 432x288 with 1 Axes>"
      ]
     },
     "metadata": {
      "needs_background": "light"
     },
     "output_type": "display_data"
    }
   ],
   "source": [
    "plt.xscale('log')\n",
    "plot_validation_curves(xgb_params_cv['classifier__learning_rate'], xgb_searcher.cv_results_)"
   ]
  },
  {
   "cell_type": "code",
   "execution_count": 57,
   "metadata": {},
   "outputs": [
    {
     "data": {
      "image/png": "[encoded data removed]",
      "text/plain": [
       "<Figure size 432x288 with 1 Axes>"
      ]
     },
     "metadata": {
      "needs_background": "light"
     },
     "output_type": "display_data"
    }
   ],
   "source": [
    "plot_validation_curves(xgb_params_cv['classifier__learning_rate'], xgb_searcher.cv_results_)"
   ]
  },
  {
   "cell_type": "code",
   "execution_count": 59,
   "metadata": {},
   "outputs": [],
   "source": [
    "xgb_params_cv = {'classifier__max_depth': np.arange(3, 12, 2)}"
   ]
  },
  {
   "cell_type": "code",
   "execution_count": 61,
   "metadata": {},
   "outputs": [
    {
     "data": {
      "image/png": "[encoded data removed]",
      "text/plain": [
       "<Figure size 432x288 with 1 Axes>"
      ]
     },
     "metadata": {
      "needs_background": "light"
     },
     "output_type": "display_data"
    }
   ],
   "source": [
    "plot_validation_curves(xgb_params_cv['classifier__max_depth'], xgb_searcher.cv_results_)"
   ]
  },
  {
   "cell_type": "code",
   "execution_count": 65,
   "metadata": {},
   "outputs": [],
   "source": [
    "xgb_params_cv = {'classifier__lambda': np.linspace(2, 11, 10)}"
   ]
  },
  {
   "cell_type": "code",
   "execution_count": 64,
   "metadata": {},
   "outputs": [
    {
     "data": {
      "image/png": "[encoded data removed]",
      "text/plain": [
       "<Figure size 432x288 with 1 Axes>"
      ]
     },
     "metadata": {
      "needs_background": "light"
     },
     "output_type": "display_data"
    }
   ],
   "source": [
    "plt.xscale('log')\n",
    "plot_validation_curves(xgb_params_cv['classifier__lambda'], xgb_searcher.cv_results_)"
   ]
  },
  {
   "cell_type": "code",
   "execution_count": 68,
   "metadata": {},
   "outputs": [],
   "source": [
    "xgb_params_cv = {'classifier__alpha': np.logspace(-3, 3, 10)}"
   ]
  },
  {
   "cell_type": "code",
   "execution_count": 70,
   "metadata": {},
   "outputs": [
    {
     "data": {
      "image/png": "[encoded data removed]",
      "text/plain": [
       "<Figure size 432x288 with 1 Axes>"
      ]
     },
     "metadata": {
      "needs_background": "light"
     },
     "output_type": "display_data"
    }
   ],
   "source": [
    "plt.xscale('log')\n",
    "plot_validation_curves(xgb_params_cv['classifier__alpha'], xgb_searcher.cv_results_)"
   ]
  },
  {
   "cell_type": "code",
   "execution_count": 73,
   "metadata": {},
   "outputs": [
    {
     "data": {
      "text/html": [
       "<div>\n",
       "<style scoped>\n",
       "    .dataframe tbody tr th:only-of-type {\n",
       "        vertical-align: middle;\n",
       "    }\n",
       "\n",
       "    .dataframe tbody tr th {\n",
       "        vertical-align: top;\n",
       "    }\n",
       "\n",
       "    .dataframe thead th {\n",
       "        text-align: right;\n",
       "    }\n",
       "</style>\n",
       "<table border=\"1\" class=\"dataframe\">\n",
       "  <thead>\n",
       "    <tr style=\"text-align: right;\">\n",
       "      <th></th>\n",
       "      <th>cv_accuracy</th>\n",
       "      <th>holdout_accu</th>\n",
       "      <th>f1</th>\n",
       "      <th>roc_auc</th>\n",
       "      <th>precision</th>\n",
       "      <th>recall</th>\n",
       "    </tr>\n",
       "  </thead>\n",
       "  <tbody>\n",
       "    <tr>\n",
       "      <th>pipe_xgb_tuned</th>\n",
       "      <td>0.977</td>\n",
       "      <td>0.991</td>\n",
       "      <td>0.552</td>\n",
       "      <td>0.948</td>\n",
       "      <td>0.862</td>\n",
       "      <td>0.529</td>\n",
       "    </tr>\n",
       "  </tbody>\n",
       "</table>\n",
       "</div>"
      ],
      "text/plain": [
       "                cv_accuracy  holdout_accu     f1  roc_auc  precision  recall\n",
       "pipe_xgb_tuned        0.977         0.991  0.552    0.948      0.862   0.529"
      ]
     },
     "execution_count": 73,
     "metadata": {},
     "output_type": "execute_result"
    }
   ],
   "source": [
    "pipeline.fit(X_train, y_train)\n",
    "get_scores_point(pipeline, 'pipe_xgb_tuned', *data_params)"
   ]
  },
  {
   "cell_type": "markdown",
   "metadata": {},
   "source": [
    "Проверим модель на Kaggle"
   ]
  },
  {
   "cell_type": "code",
   "execution_count": 74,
   "metadata": {},
   "outputs": [],
   "source": [
    "pipeline.fit(train_data, y_catch_me)\n",
    "write_to_submission_file(pipeline.predict_proba(test_data)[:, 1], 'xgb_pipe_tuned_time_split.csv')"
   ]
  },
  {
   "cell_type": "code",
   "execution_count": null,
   "metadata": {},
   "outputs": [],
   "source": []
  }
 ],
 "metadata": {
  "kernelspec": {
   "display_name": "Python 3",
   "language": "python",
   "name": "python3"
  },
  "language_info": {
   "codemirror_mode": {
    "name": "ipython",
    "version": 3
   },
   "file_extension": ".py",
   "mimetype": "text/x-python",
   "name": "python",
   "nbconvert_exporter": "python",
   "pygments_lexer": "ipython3",
   "version": "3.8.5"
  },
  "toc-autonumbering": true,
  "toc-showcode": false,
  "toc-showmarkdowntxt": false
 },
 "nbformat": 4,
 "nbformat_minor": 4
}
