{
 "cells": [
  {
   "cell_type": "code",
   "execution_count": 1,
   "metadata": {},
   "outputs": [],
   "source": [
    "import warnings\n",
    "warnings.filterwarnings('ignore')\n",
    "from glob import glob\n",
    "import os\n",
    "import pickle\n",
    "from tqdm.notebook import tqdm\n",
    "import pandas as pd\n",
    "import numpy as np\n",
    "import math\n",
    "import re\n",
    "from collections import Counter\n",
    "from scipy.sparse import csr_matrix\n",
    "import itertools"
   ]
  },
  {
   "cell_type": "code",
   "execution_count": 2,
   "metadata": {},
   "outputs": [],
   "source": [
    "PATH_TO_DATA = '..\\\\capstone_user_identification'"
   ]
  },
  {
   "cell_type": "code",
   "execution_count": 9,
   "metadata": {},
   "outputs": [],
   "source": [
    "PATH_TO_EXPS = 'user_identification_exps'"
   ]
  },
  {
   "cell_type": "code",
   "execution_count": 5,
   "metadata": {},
   "outputs": [],
   "source": [
    "def load_dict(path_to_dict):\n",
    "    \"\"\"Функция, загружающая словарь частот из файла\"\"\"\n",
    "    with open(path_to_dict, 'rb') as site_freq_pkl:\n",
    "        site_freq = pickle.load(site_freq_pkl)\n",
    "    return site_freq"
   ]
  },
  {
   "cell_type": "markdown",
   "metadata": {},
   "source": [
    "Словарь сайтов формата:  \n",
    "  \n",
    "{имя сайта : (id сайта, частота встречаемости сайта по всем пользователям)}"
   ]
  },
  {
   "cell_type": "code",
   "execution_count": 8,
   "metadata": {
    "scrolled": true
   },
   "outputs": [
    {
     "data": {
      "text/plain": [
       "{'google.com': (1, 9),\n",
       " 'oracle.com': (2, 8),\n",
       " 'vk.com': (3, 3),\n",
       " 'meduza.io': (4, 3),\n",
       " 'mail.google.com': (5, 2),\n",
       " 'football.kulichki.ru': (6, 2),\n",
       " 'geo.mozilla.org': (7, 1),\n",
       " 'accounts.google.com': (8, 1),\n",
       " 'apis.google.com': (9, 1),\n",
       " 'plus.google.com': (10, 1),\n",
       " 'yandex.ru': (11, 1)}"
      ]
     },
     "execution_count": 8,
     "metadata": {},
     "output_type": "execute_result"
    }
   ],
   "source": [
    "site_freq = load_dict(os.path.join(PATH_TO_DATA, 'site_freq_3users.pkl'))\n",
    "site_freq"
   ]
  },
  {
   "cell_type": "code",
   "execution_count": 14,
   "metadata": {},
   "outputs": [],
   "source": [
    "def create_sites_dict(path_to_csv_files):\n",
    "    \"\"\"Функция, которая читает все файлы в директории и составляет словарь частот для сайтов\"\"\"\n",
    "    \n",
    "    # Функция, создающая уникальный словарь из frame\n",
    "    def dict_by_user(frame):\n",
    "        nonlocal dict_size\n",
    "        fr_dict = dict(Counter(frame))\n",
    "        for key in fr_dict:\n",
    "            dict_size += 1\n",
    "            fr_dict[key] = (dict_size, fr_dict[key])\n",
    "        return fr_dict\n",
    "    \n",
    "    # Функция, объединяющая словари, собранные из разных файлов: dict1, dict2 вида {key: (id, freq)}\n",
    "    def dict_concat(dict1, dict2):\n",
    "        for key in dict2:\n",
    "            if key in dict1:\n",
    "                dict1[key] = (dict1[key][0], dict1[key][1] + dict2[key][1])\n",
    "            else:\n",
    "                dict1[key] = dict2[key]\n",
    "        return dict1\n",
    "    \n",
    "    paths_to_csv = glob(os.path.join(path_to_csv_files, 'user*.csv'))\n",
    "    fr_dict = {}\n",
    "    dict_size = 0\n",
    "    for path in paths_to_csv:\n",
    "        user_sites = pd.read_csv(path).site\n",
    "        fr_dict = dict_concat(fr_dict, dict_by_user(user_sites))\n",
    "    \n",
    "    fr_dict_new = {}\n",
    "    for i, el in enumerate(sorted(fr_dict.items(), key=lambda x: x[1][1], reverse=True)):\n",
    "        fr_dict_new[el[0]] = (i+1, el[1][1])\n",
    "    \n",
    "    return fr_dict_new"
   ]
  },
  {
   "cell_type": "code",
   "execution_count": 3,
   "metadata": {},
   "outputs": [],
   "source": [
    "def prepare_train_set(path_to_csv_files, path_to_dict, session_length=10, window_size=10, time_limit=5*60):\n",
    "    \"\"\"Функция, разбивающая историю посещений сайтов на сессии длинной session_length, со сдвигом window_size, и с ограничением\n",
    "    по времни time_limit.\n",
    "        path_to_csv_files - путь к директории с файлами вида user\\d{4}.csv\n",
    "        path_to_dict - путь к файлу со словарем частот\"\"\"\n",
    "    \n",
    "    paths_to_csv = glob(os.path.join(path_to_csv_files, 'user*.csv'))\n",
    "    # загрузка словаря\n",
    "    with open(path_to_dict, 'rb') as site_freq_pkl:\n",
    "        site_freq = pickle.load(site_freq_pkl)\n",
    "    \n",
    "    def make_sess_idxs(end_id, idx_shift):\n",
    "        temp_idxs = []\n",
    "        row = [0]\n",
    "        sess_number = 0\n",
    "        base = np.array(range(session_length)) + idx_shift\n",
    "        while True:\n",
    "            row = base + window_size*sess_number\n",
    "            sess_number += 1\n",
    "            temp_idxs.append(row)\n",
    "            if row[0]+window_size>=end_id: break\n",
    "        temp_idxs = np.array(temp_idxs)\n",
    "        temp_idxs[temp_idxs>end_id] = end_id\n",
    "        return temp_idxs\n",
    "   \n",
    "    files_sess_data = []\n",
    "    for path in tqdm(paths_to_csv):\n",
    "        # считываем файл и меняем тип времени\n",
    "        user_data = pd.read_csv(path).astype({'timestamp': 'datetime64'})\n",
    "        # применяем словарь к именам сайтов\n",
    "        user_data.site = user_data.site.map(lambda key: site_freq[key][0])\n",
    "        # вычисляем разность времени заходов на сайты\n",
    "        user_data[['time_diff']] = (user_data.timestamp - user_data.timestamp.shift(1)).apply(lambda x: x.total_seconds())\n",
    "        user_time = user_data.time_diff\n",
    "        user_time.index -= 1\n",
    "        user_data.time_diff = user_time\n",
    "        user_data = user_data.fillna(0).astype({'site': 'int', 'time_diff': 'int'})\n",
    "        user_data.loc[user_data.shape[0]] = [0, 0, 0]\n",
    "        # вычисляем массив индексов для сортировки на сессии со скользящим окном\n",
    "        cut_idx = 0\n",
    "        shift_size = 0\n",
    "        data_idxs = np.zeros((1, session_length))\n",
    "        i = 0\n",
    "        while True:\n",
    "            temp_idxs = make_sess_idxs(user_data.shape[0]-1, cut_idx + shift_size)\n",
    "            if temp_idxs.shape[0]>0:\n",
    "                data_idxs = np.vstack((data_idxs, temp_idxs)).astype(int)\n",
    "                if data_idxs[0].sum()==0:\n",
    "                    data_idxs = data_idxs[1:]\n",
    "            diff_times = user_data.time_diff.values[data_idxs]\n",
    "            check_limit = np.where(diff_times.sum(axis=1) > time_limit)[0]\n",
    "            if i+1 > check_limit.shape[0]: break\n",
    "            time_sum = 0\n",
    "            for j, time in enumerate(diff_times[check_limit[i]]):\n",
    "                time_sum += time\n",
    "                if time_sum > time_limit: break\n",
    "            cut_idx = check_limit[i]*session_length + j + 1\n",
    "            shift_size = (session_length - cut_idx%session_length)%session_length\n",
    "            cut_idx = data_idxs.ravel()[cut_idx]\n",
    "            empty_rows = pd.DataFrame(0, index=range(shift_size), columns=user_data.columns)\n",
    "            user_data = pd.concat((user_data.iloc[:cut_idx], empty_rows, user_data.iloc[cut_idx:])).reset_index(drop=True)\n",
    "            data_idxs = data_idxs[:check_limit[i]+1]\n",
    "            i += 1\n",
    "    \n",
    "        # вычисление часа захода на сайт\n",
    "        user_time = user_data.timestamp\n",
    "        user_time[user_time==0] = np.nan\n",
    "        user_time = pd.to_datetime(user_time)\n",
    "        start_hour = user_time.apply(lambda x: x.hour)\n",
    "        start_hour = start_hour[data_idxs[:, 0]].values[:, np.newaxis]\n",
    "        # вычисление дня недели захода на сайт\n",
    "        day_of_week = user_time.apply(lambda x: x.weekday())\n",
    "        day_of_week = day_of_week[data_idxs[:, 0]].values[:, np.newaxis]\n",
    "        # вычисление года захода на сайт\n",
    "        year = user_time.apply(lambda x: x.year)\n",
    "        year = year[data_idxs[:, 0]].values[:, np.newaxis]\n",
    "        # вычисление месяца захода на сайт\n",
    "        month = user_time.apply(lambda x: x.month)\n",
    "        month = month[data_idxs[:, 0]].values[:, np.newaxis]\n",
    "        # вычисление дня месяца захода на сайт\n",
    "        day = user_time.apply(lambda x: x.day)\n",
    "        day = day[data_idxs[:, 0]].values[:, np.newaxis]\n",
    "        # вычисление времени суток захода на сайт\n",
    "        time_of_day = user_time.apply(lambda x: x.hour)\n",
    "        time_of_day[time_of_day<12] = 0\n",
    "        time_of_day[time_of_day.between(12, 16)] = 1\n",
    "        time_of_day[time_of_day>16] = 2\n",
    "        time_of_day = time_of_day[data_idxs[:, 0]].values[:, np.newaxis]\n",
    "        \n",
    "        sess_data = user_data.site.values[data_idxs]\n",
    "        diff_times = user_data.time_diff.values[data_idxs]\n",
    "        \n",
    "        # заполнение столбца user_id\n",
    "        us_id = int(re.search('user\\d{4}', path)[0][-4:])\n",
    "        user_id = pd.DataFrame({'user_id': [us_id]*(sess_data.shape[0])})\n",
    "        file_sess_data = pd.DataFrame(np.hstack((sess_data, diff_times, start_hour, day_of_week, year, month, day,\n",
    "                                                 time_of_day, user_id)))\n",
    "        file_sess_data.columns = ['site'+str(i) for i in range(1, session_length+1)] + \\\n",
    "                                    ['diff_time'+str(i)for i in range(1, session_length+1)] + \\\n",
    "                                    ['start_hour', 'day_of_week', 'year', 'month', 'day', 'time_of_day'] + ['user_id']\n",
    "        files_sess_data.append(file_sess_data)\n",
    "    # объединение сессий со всех файлов в одну таблицу\n",
    "    file_sess_data = pd.concat(files_sess_data, ignore_index=True)\n",
    "    file_sess_data.index.name = 'session_id'\n",
    "    file_sess_data.index += 1\n",
    "    \n",
    "    return file_sess_data.astype(int)"
   ]
  },
  {
   "cell_type": "markdown",
   "metadata": {},
   "source": [
    "### Создание датафреймов из исходных данных  с swt = (15, 5, 30)"
   ]
  },
  {
   "cell_type": "code",
   "execution_count": 4,
   "metadata": {},
   "outputs": [
    {
     "data": {
      "application/vnd.jupyter.widget-view+json": {
       "model_id": "79e8f56d9c2e475895cc4069c9cd5bc0",
       "version_major": 2,
       "version_minor": 0
      },
      "text/plain": [
       "HBox(children=(HTML(value=''), FloatProgress(value=0.0, max=3.0), HTML(value='')))"
      ]
     },
     "metadata": {},
     "output_type": "display_data"
    },
    {
     "name": "stdout",
     "output_type": "stream",
     "text": [
      "\n"
     ]
    }
   ],
   "source": [
    "train_data_3users = prepare_train_set(os.path.join(PATH_TO_DATA, '3users'), \n",
    "                                      os.path.join(PATH_TO_DATA, 'site_freq_3users.pkl'),\n",
    "                                     session_length=15, window_size=5, time_limit=30*60)"
   ]
  },
  {
   "cell_type": "code",
   "execution_count": 5,
   "metadata": {},
   "outputs": [
    {
     "data": {
      "text/html": [
       "<div>\n",
       "<style scoped>\n",
       "    .dataframe tbody tr th:only-of-type {\n",
       "        vertical-align: middle;\n",
       "    }\n",
       "\n",
       "    .dataframe tbody tr th {\n",
       "        vertical-align: top;\n",
       "    }\n",
       "\n",
       "    .dataframe thead th {\n",
       "        text-align: right;\n",
       "    }\n",
       "</style>\n",
       "<table border=\"1\" class=\"dataframe\">\n",
       "  <thead>\n",
       "    <tr style=\"text-align: right;\">\n",
       "      <th></th>\n",
       "      <th>site1</th>\n",
       "      <th>site2</th>\n",
       "      <th>site3</th>\n",
       "      <th>site4</th>\n",
       "      <th>site5</th>\n",
       "      <th>site6</th>\n",
       "      <th>site7</th>\n",
       "      <th>site8</th>\n",
       "      <th>site9</th>\n",
       "      <th>site10</th>\n",
       "      <th>site11</th>\n",
       "      <th>site12</th>\n",
       "      <th>site13</th>\n",
       "      <th>site14</th>\n",
       "      <th>site15</th>\n",
       "    </tr>\n",
       "    <tr>\n",
       "      <th>session_id</th>\n",
       "      <th></th>\n",
       "      <th></th>\n",
       "      <th></th>\n",
       "      <th></th>\n",
       "      <th></th>\n",
       "      <th></th>\n",
       "      <th></th>\n",
       "      <th></th>\n",
       "      <th></th>\n",
       "      <th></th>\n",
       "      <th></th>\n",
       "      <th></th>\n",
       "      <th></th>\n",
       "      <th></th>\n",
       "      <th></th>\n",
       "    </tr>\n",
       "  </thead>\n",
       "  <tbody>\n",
       "    <tr>\n",
       "      <th>1</th>\n",
       "      <td>3</td>\n",
       "      <td>2</td>\n",
       "      <td>2</td>\n",
       "      <td>0</td>\n",
       "      <td>0</td>\n",
       "      <td>0</td>\n",
       "      <td>0</td>\n",
       "      <td>0</td>\n",
       "      <td>0</td>\n",
       "      <td>0</td>\n",
       "      <td>0</td>\n",
       "      <td>0</td>\n",
       "      <td>0</td>\n",
       "      <td>0</td>\n",
       "      <td>0</td>\n",
       "    </tr>\n",
       "    <tr>\n",
       "      <th>2</th>\n",
       "      <td>7</td>\n",
       "      <td>2</td>\n",
       "      <td>1</td>\n",
       "      <td>8</td>\n",
       "      <td>5</td>\n",
       "      <td>9</td>\n",
       "      <td>10</td>\n",
       "      <td>0</td>\n",
       "      <td>0</td>\n",
       "      <td>0</td>\n",
       "      <td>0</td>\n",
       "      <td>0</td>\n",
       "      <td>0</td>\n",
       "      <td>0</td>\n",
       "      <td>0</td>\n",
       "    </tr>\n",
       "    <tr>\n",
       "      <th>3</th>\n",
       "      <td>3</td>\n",
       "      <td>1</td>\n",
       "      <td>1</td>\n",
       "      <td>1</td>\n",
       "      <td>0</td>\n",
       "      <td>0</td>\n",
       "      <td>0</td>\n",
       "      <td>0</td>\n",
       "      <td>0</td>\n",
       "      <td>0</td>\n",
       "      <td>0</td>\n",
       "      <td>0</td>\n",
       "      <td>0</td>\n",
       "      <td>0</td>\n",
       "      <td>0</td>\n",
       "    </tr>\n",
       "    <tr>\n",
       "      <th>4</th>\n",
       "      <td>3</td>\n",
       "      <td>2</td>\n",
       "      <td>6</td>\n",
       "      <td>0</td>\n",
       "      <td>0</td>\n",
       "      <td>0</td>\n",
       "      <td>0</td>\n",
       "      <td>0</td>\n",
       "      <td>0</td>\n",
       "      <td>0</td>\n",
       "      <td>0</td>\n",
       "      <td>0</td>\n",
       "      <td>0</td>\n",
       "      <td>0</td>\n",
       "      <td>0</td>\n",
       "    </tr>\n",
       "    <tr>\n",
       "      <th>5</th>\n",
       "      <td>6</td>\n",
       "      <td>2</td>\n",
       "      <td>0</td>\n",
       "      <td>0</td>\n",
       "      <td>0</td>\n",
       "      <td>0</td>\n",
       "      <td>0</td>\n",
       "      <td>0</td>\n",
       "      <td>0</td>\n",
       "      <td>0</td>\n",
       "      <td>0</td>\n",
       "      <td>0</td>\n",
       "      <td>0</td>\n",
       "      <td>0</td>\n",
       "      <td>0</td>\n",
       "    </tr>\n",
       "  </tbody>\n",
       "</table>\n",
       "</div>"
      ],
      "text/plain": [
       "            site1  site2  site3  site4  site5  site6  site7  site8  site9  \\\n",
       "session_id                                                                  \n",
       "1               3      2      2      0      0      0      0      0      0   \n",
       "2               7      2      1      8      5      9     10      0      0   \n",
       "3               3      1      1      1      0      0      0      0      0   \n",
       "4               3      2      6      0      0      0      0      0      0   \n",
       "5               6      2      0      0      0      0      0      0      0   \n",
       "\n",
       "            site10  site11  site12  site13  site14  site15  \n",
       "session_id                                                  \n",
       "1                0       0       0       0       0       0  \n",
       "2                0       0       0       0       0       0  \n",
       "3                0       0       0       0       0       0  \n",
       "4                0       0       0       0       0       0  \n",
       "5                0       0       0       0       0       0  "
      ]
     },
     "execution_count": 5,
     "metadata": {},
     "output_type": "execute_result"
    }
   ],
   "source": [
    "train_data_3users.iloc[:, :15].head()"
   ]
  },
  {
   "cell_type": "code",
   "execution_count": 6,
   "metadata": {},
   "outputs": [
    {
     "data": {
      "text/html": [
       "<div>\n",
       "<style scoped>\n",
       "    .dataframe tbody tr th:only-of-type {\n",
       "        vertical-align: middle;\n",
       "    }\n",
       "\n",
       "    .dataframe tbody tr th {\n",
       "        vertical-align: top;\n",
       "    }\n",
       "\n",
       "    .dataframe thead th {\n",
       "        text-align: right;\n",
       "    }\n",
       "</style>\n",
       "<table border=\"1\" class=\"dataframe\">\n",
       "  <thead>\n",
       "    <tr style=\"text-align: right;\">\n",
       "      <th></th>\n",
       "      <th>diff_time1</th>\n",
       "      <th>diff_time2</th>\n",
       "      <th>diff_time3</th>\n",
       "      <th>diff_time4</th>\n",
       "      <th>diff_time5</th>\n",
       "      <th>diff_time6</th>\n",
       "      <th>diff_time7</th>\n",
       "      <th>diff_time8</th>\n",
       "      <th>diff_time9</th>\n",
       "      <th>diff_time10</th>\n",
       "      <th>diff_time11</th>\n",
       "      <th>diff_time12</th>\n",
       "      <th>diff_time13</th>\n",
       "      <th>diff_time14</th>\n",
       "      <th>diff_time15</th>\n",
       "    </tr>\n",
       "    <tr>\n",
       "      <th>session_id</th>\n",
       "      <th></th>\n",
       "      <th></th>\n",
       "      <th></th>\n",
       "      <th></th>\n",
       "      <th></th>\n",
       "      <th></th>\n",
       "      <th></th>\n",
       "      <th></th>\n",
       "      <th></th>\n",
       "      <th></th>\n",
       "      <th></th>\n",
       "      <th></th>\n",
       "      <th></th>\n",
       "      <th></th>\n",
       "      <th></th>\n",
       "    </tr>\n",
       "  </thead>\n",
       "  <tbody>\n",
       "    <tr>\n",
       "      <th>1</th>\n",
       "      <td>287</td>\n",
       "      <td>1184</td>\n",
       "      <td>6278</td>\n",
       "      <td>0</td>\n",
       "      <td>0</td>\n",
       "      <td>0</td>\n",
       "      <td>0</td>\n",
       "      <td>0</td>\n",
       "      <td>0</td>\n",
       "      <td>0</td>\n",
       "      <td>0</td>\n",
       "      <td>0</td>\n",
       "      <td>0</td>\n",
       "      <td>0</td>\n",
       "      <td>0</td>\n",
       "    </tr>\n",
       "    <tr>\n",
       "      <th>2</th>\n",
       "      <td>186</td>\n",
       "      <td>2</td>\n",
       "      <td>1</td>\n",
       "      <td>2</td>\n",
       "      <td>3</td>\n",
       "      <td>55</td>\n",
       "      <td>3540</td>\n",
       "      <td>0</td>\n",
       "      <td>0</td>\n",
       "      <td>0</td>\n",
       "      <td>0</td>\n",
       "      <td>0</td>\n",
       "      <td>0</td>\n",
       "      <td>0</td>\n",
       "      <td>0</td>\n",
       "    </tr>\n",
       "    <tr>\n",
       "      <th>3</th>\n",
       "      <td>2</td>\n",
       "      <td>3</td>\n",
       "      <td>55</td>\n",
       "      <td>0</td>\n",
       "      <td>0</td>\n",
       "      <td>0</td>\n",
       "      <td>0</td>\n",
       "      <td>0</td>\n",
       "      <td>0</td>\n",
       "      <td>0</td>\n",
       "      <td>0</td>\n",
       "      <td>0</td>\n",
       "      <td>0</td>\n",
       "      <td>0</td>\n",
       "      <td>0</td>\n",
       "    </tr>\n",
       "    <tr>\n",
       "      <th>4</th>\n",
       "      <td>287</td>\n",
       "      <td>1184</td>\n",
       "      <td>6278</td>\n",
       "      <td>0</td>\n",
       "      <td>0</td>\n",
       "      <td>0</td>\n",
       "      <td>0</td>\n",
       "      <td>0</td>\n",
       "      <td>0</td>\n",
       "      <td>0</td>\n",
       "      <td>0</td>\n",
       "      <td>0</td>\n",
       "      <td>0</td>\n",
       "      <td>0</td>\n",
       "      <td>0</td>\n",
       "    </tr>\n",
       "    <tr>\n",
       "      <th>5</th>\n",
       "      <td>186</td>\n",
       "      <td>0</td>\n",
       "      <td>0</td>\n",
       "      <td>0</td>\n",
       "      <td>0</td>\n",
       "      <td>0</td>\n",
       "      <td>0</td>\n",
       "      <td>0</td>\n",
       "      <td>0</td>\n",
       "      <td>0</td>\n",
       "      <td>0</td>\n",
       "      <td>0</td>\n",
       "      <td>0</td>\n",
       "      <td>0</td>\n",
       "      <td>0</td>\n",
       "    </tr>\n",
       "  </tbody>\n",
       "</table>\n",
       "</div>"
      ],
      "text/plain": [
       "            diff_time1  diff_time2  diff_time3  diff_time4  diff_time5  \\\n",
       "session_id                                                               \n",
       "1                  287        1184        6278           0           0   \n",
       "2                  186           2           1           2           3   \n",
       "3                    2           3          55           0           0   \n",
       "4                  287        1184        6278           0           0   \n",
       "5                  186           0           0           0           0   \n",
       "\n",
       "            diff_time6  diff_time7  diff_time8  diff_time9  diff_time10  \\\n",
       "session_id                                                                \n",
       "1                    0           0           0           0            0   \n",
       "2                   55        3540           0           0            0   \n",
       "3                    0           0           0           0            0   \n",
       "4                    0           0           0           0            0   \n",
       "5                    0           0           0           0            0   \n",
       "\n",
       "            diff_time11  diff_time12  diff_time13  diff_time14  diff_time15  \n",
       "session_id                                                                   \n",
       "1                     0            0            0            0            0  \n",
       "2                     0            0            0            0            0  \n",
       "3                     0            0            0            0            0  \n",
       "4                     0            0            0            0            0  \n",
       "5                     0            0            0            0            0  "
      ]
     },
     "execution_count": 6,
     "metadata": {},
     "output_type": "execute_result"
    }
   ],
   "source": [
    "train_data_3users.iloc[:, 15:30].head()"
   ]
  },
  {
   "cell_type": "code",
   "execution_count": 7,
   "metadata": {},
   "outputs": [
    {
     "data": {
      "text/html": [
       "<div>\n",
       "<style scoped>\n",
       "    .dataframe tbody tr th:only-of-type {\n",
       "        vertical-align: middle;\n",
       "    }\n",
       "\n",
       "    .dataframe tbody tr th {\n",
       "        vertical-align: top;\n",
       "    }\n",
       "\n",
       "    .dataframe thead th {\n",
       "        text-align: right;\n",
       "    }\n",
       "</style>\n",
       "<table border=\"1\" class=\"dataframe\">\n",
       "  <thead>\n",
       "    <tr style=\"text-align: right;\">\n",
       "      <th></th>\n",
       "      <th>start_hour</th>\n",
       "      <th>day_of_week</th>\n",
       "      <th>year</th>\n",
       "      <th>month</th>\n",
       "      <th>day</th>\n",
       "      <th>time_of_day</th>\n",
       "      <th>user_id</th>\n",
       "    </tr>\n",
       "    <tr>\n",
       "      <th>session_id</th>\n",
       "      <th></th>\n",
       "      <th></th>\n",
       "      <th></th>\n",
       "      <th></th>\n",
       "      <th></th>\n",
       "      <th></th>\n",
       "      <th></th>\n",
       "    </tr>\n",
       "  </thead>\n",
       "  <tbody>\n",
       "    <tr>\n",
       "      <th>1</th>\n",
       "      <td>9</td>\n",
       "      <td>4</td>\n",
       "      <td>2013</td>\n",
       "      <td>11</td>\n",
       "      <td>15</td>\n",
       "      <td>0</td>\n",
       "      <td>1</td>\n",
       "    </tr>\n",
       "    <tr>\n",
       "      <th>2</th>\n",
       "      <td>11</td>\n",
       "      <td>4</td>\n",
       "      <td>2013</td>\n",
       "      <td>11</td>\n",
       "      <td>15</td>\n",
       "      <td>0</td>\n",
       "      <td>1</td>\n",
       "    </tr>\n",
       "    <tr>\n",
       "      <th>3</th>\n",
       "      <td>12</td>\n",
       "      <td>4</td>\n",
       "      <td>2013</td>\n",
       "      <td>11</td>\n",
       "      <td>15</td>\n",
       "      <td>1</td>\n",
       "      <td>1</td>\n",
       "    </tr>\n",
       "    <tr>\n",
       "      <th>4</th>\n",
       "      <td>9</td>\n",
       "      <td>4</td>\n",
       "      <td>2013</td>\n",
       "      <td>11</td>\n",
       "      <td>15</td>\n",
       "      <td>0</td>\n",
       "      <td>2</td>\n",
       "    </tr>\n",
       "    <tr>\n",
       "      <th>5</th>\n",
       "      <td>11</td>\n",
       "      <td>4</td>\n",
       "      <td>2013</td>\n",
       "      <td>11</td>\n",
       "      <td>15</td>\n",
       "      <td>0</td>\n",
       "      <td>2</td>\n",
       "    </tr>\n",
       "  </tbody>\n",
       "</table>\n",
       "</div>"
      ],
      "text/plain": [
       "            start_hour  day_of_week  year  month  day  time_of_day  user_id\n",
       "session_id                                                                 \n",
       "1                    9            4  2013     11   15            0        1\n",
       "2                   11            4  2013     11   15            0        1\n",
       "3                   12            4  2013     11   15            1        1\n",
       "4                    9            4  2013     11   15            0        2\n",
       "5                   11            4  2013     11   15            0        2"
      ]
     },
     "execution_count": 7,
     "metadata": {},
     "output_type": "execute_result"
    }
   ],
   "source": [
    "train_data_3users.iloc[:, 30:37].head()"
   ]
  },
  {
   "cell_type": "code",
   "execution_count": 8,
   "metadata": {},
   "outputs": [
    {
     "data": {
      "application/vnd.jupyter.widget-view+json": {
       "model_id": "3b5e9d70d18c417c829358ed615a1cd2",
       "version_major": 2,
       "version_minor": 0
      },
      "text/plain": [
       "HBox(children=(HTML(value=''), FloatProgress(value=0.0, max=10.0), HTML(value='')))"
      ]
     },
     "metadata": {},
     "output_type": "display_data"
    },
    {
     "name": "stdout",
     "output_type": "stream",
     "text": [
      "\n",
      "Wall time: 12.1 s\n"
     ]
    }
   ],
   "source": [
    "%%time\n",
    "train_data_10users = prepare_train_set(os.path.join(PATH_TO_DATA, '10users'), \n",
    "                                       os.path.join(PATH_TO_DATA, 'site_freq_10users.pkl'),\n",
    "                                     session_length=15, window_size=5, time_limit=30*60)"
   ]
  },
  {
   "cell_type": "code",
   "execution_count": 9,
   "metadata": {},
   "outputs": [
    {
     "data": {
      "text/html": [
       "<div>\n",
       "<style scoped>\n",
       "    .dataframe tbody tr th:only-of-type {\n",
       "        vertical-align: middle;\n",
       "    }\n",
       "\n",
       "    .dataframe tbody tr th {\n",
       "        vertical-align: top;\n",
       "    }\n",
       "\n",
       "    .dataframe thead th {\n",
       "        text-align: right;\n",
       "    }\n",
       "</style>\n",
       "<table border=\"1\" class=\"dataframe\">\n",
       "  <thead>\n",
       "    <tr style=\"text-align: right;\">\n",
       "      <th></th>\n",
       "      <th>site1</th>\n",
       "      <th>site2</th>\n",
       "      <th>site3</th>\n",
       "      <th>site4</th>\n",
       "      <th>site5</th>\n",
       "      <th>site6</th>\n",
       "      <th>site7</th>\n",
       "      <th>site8</th>\n",
       "      <th>site9</th>\n",
       "      <th>site10</th>\n",
       "      <th>site11</th>\n",
       "      <th>site12</th>\n",
       "      <th>site13</th>\n",
       "      <th>site14</th>\n",
       "      <th>site15</th>\n",
       "    </tr>\n",
       "    <tr>\n",
       "      <th>session_id</th>\n",
       "      <th></th>\n",
       "      <th></th>\n",
       "      <th></th>\n",
       "      <th></th>\n",
       "      <th></th>\n",
       "      <th></th>\n",
       "      <th></th>\n",
       "      <th></th>\n",
       "      <th></th>\n",
       "      <th></th>\n",
       "      <th></th>\n",
       "      <th></th>\n",
       "      <th></th>\n",
       "      <th></th>\n",
       "      <th></th>\n",
       "    </tr>\n",
       "  </thead>\n",
       "  <tbody>\n",
       "    <tr>\n",
       "      <th>1</th>\n",
       "      <td>192</td>\n",
       "      <td>574</td>\n",
       "      <td>133</td>\n",
       "      <td>3</td>\n",
       "      <td>133</td>\n",
       "      <td>133</td>\n",
       "      <td>3</td>\n",
       "      <td>133</td>\n",
       "      <td>203</td>\n",
       "      <td>133</td>\n",
       "      <td>415</td>\n",
       "      <td>193</td>\n",
       "      <td>674</td>\n",
       "      <td>254</td>\n",
       "      <td>133</td>\n",
       "    </tr>\n",
       "    <tr>\n",
       "      <th>2</th>\n",
       "      <td>133</td>\n",
       "      <td>3</td>\n",
       "      <td>133</td>\n",
       "      <td>203</td>\n",
       "      <td>133</td>\n",
       "      <td>415</td>\n",
       "      <td>193</td>\n",
       "      <td>674</td>\n",
       "      <td>254</td>\n",
       "      <td>133</td>\n",
       "      <td>31</td>\n",
       "      <td>393</td>\n",
       "      <td>3305</td>\n",
       "      <td>217</td>\n",
       "      <td>55</td>\n",
       "    </tr>\n",
       "    <tr>\n",
       "      <th>3</th>\n",
       "      <td>415</td>\n",
       "      <td>193</td>\n",
       "      <td>674</td>\n",
       "      <td>254</td>\n",
       "      <td>133</td>\n",
       "      <td>31</td>\n",
       "      <td>393</td>\n",
       "      <td>3305</td>\n",
       "      <td>217</td>\n",
       "      <td>55</td>\n",
       "      <td>55</td>\n",
       "      <td>3</td>\n",
       "      <td>55</td>\n",
       "      <td>55</td>\n",
       "      <td>5</td>\n",
       "    </tr>\n",
       "    <tr>\n",
       "      <th>4</th>\n",
       "      <td>31</td>\n",
       "      <td>393</td>\n",
       "      <td>3305</td>\n",
       "      <td>217</td>\n",
       "      <td>55</td>\n",
       "      <td>55</td>\n",
       "      <td>3</td>\n",
       "      <td>55</td>\n",
       "      <td>55</td>\n",
       "      <td>5</td>\n",
       "      <td>293</td>\n",
       "      <td>415</td>\n",
       "      <td>333</td>\n",
       "      <td>897</td>\n",
       "      <td>55</td>\n",
       "    </tr>\n",
       "    <tr>\n",
       "      <th>5</th>\n",
       "      <td>55</td>\n",
       "      <td>3</td>\n",
       "      <td>55</td>\n",
       "      <td>55</td>\n",
       "      <td>5</td>\n",
       "      <td>293</td>\n",
       "      <td>415</td>\n",
       "      <td>333</td>\n",
       "      <td>897</td>\n",
       "      <td>55</td>\n",
       "      <td>473</td>\n",
       "      <td>3306</td>\n",
       "      <td>473</td>\n",
       "      <td>55</td>\n",
       "      <td>55</td>\n",
       "    </tr>\n",
       "  </tbody>\n",
       "</table>\n",
       "</div>"
      ],
      "text/plain": [
       "            site1  site2  site3  site4  site5  site6  site7  site8  site9  \\\n",
       "session_id                                                                  \n",
       "1             192    574    133      3    133    133      3    133    203   \n",
       "2             133      3    133    203    133    415    193    674    254   \n",
       "3             415    193    674    254    133     31    393   3305    217   \n",
       "4              31    393   3305    217     55     55      3     55     55   \n",
       "5              55      3     55     55      5    293    415    333    897   \n",
       "\n",
       "            site10  site11  site12  site13  site14  site15  \n",
       "session_id                                                  \n",
       "1              133     415     193     674     254     133  \n",
       "2              133      31     393    3305     217      55  \n",
       "3               55      55       3      55      55       5  \n",
       "4                5     293     415     333     897      55  \n",
       "5               55     473    3306     473      55      55  "
      ]
     },
     "execution_count": 9,
     "metadata": {},
     "output_type": "execute_result"
    }
   ],
   "source": [
    "train_data_10users.iloc[:, :15].head()"
   ]
  },
  {
   "cell_type": "code",
   "execution_count": 9,
   "metadata": {},
   "outputs": [
    {
     "data": {
      "application/vnd.jupyter.widget-view+json": {
       "model_id": "5229e4a1dad148d1883b328340354879",
       "version_major": 2,
       "version_minor": 0
      },
      "text/plain": [
       "HBox(children=(HTML(value=''), FloatProgress(value=0.0, max=150.0), HTML(value='')))"
      ]
     },
     "metadata": {},
     "output_type": "display_data"
    },
    {
     "name": "stdout",
     "output_type": "stream",
     "text": [
      "\n",
      "Wall time: 1min 32s\n"
     ]
    }
   ],
   "source": [
    "%%time\n",
    "train_data_150users = prepare_train_set(join(PATH_TO_DATA, '150users'), join(PATH_TO_DATA, 'site_freq_150users.pkl'),\n",
    "                                     session_length=15, window_size=5, time_limit=30*60)"
   ]
  },
  {
   "cell_type": "code",
   "execution_count": 20,
   "metadata": {
    "collapsed": true
   },
   "outputs": [
    {
     "ename": "NameError",
     "evalue": "name 'train_data_150users' is not defined",
     "output_type": "error",
     "traceback": [
      "\u001b[1;31m---------------------------------------------------------------------------\u001b[0m",
      "\u001b[1;31mNameError\u001b[0m                                 Traceback (most recent call last)",
      "\u001b[1;32m<ipython-input-20-5c95a01ba350>\u001b[0m in \u001b[0;36m<module>\u001b[1;34m\u001b[0m\n\u001b[1;32m----> 1\u001b[1;33m \u001b[0mtrain_data_150users\u001b[0m\u001b[1;33m.\u001b[0m\u001b[0mhead\u001b[0m\u001b[1;33m(\u001b[0m\u001b[1;33m)\u001b[0m\u001b[1;33m\u001b[0m\u001b[1;33m\u001b[0m\u001b[0m\n\u001b[0m",
      "\u001b[1;31mNameError\u001b[0m: name 'train_data_150users' is not defined"
     ]
    }
   ],
   "source": [
    "train_data_150users.head()"
   ]
  },
  {
   "cell_type": "code",
   "execution_count": 11,
   "metadata": {
    "collapsed": true
   },
   "outputs": [
    {
     "data": {
      "application/vnd.jupyter.widget-view+json": {
       "model_id": "361019b7cde74724a3436ff28865a554",
       "version_major": 2,
       "version_minor": 0
      },
      "text/plain": [
       "HBox(children=(HTML(value=''), FloatProgress(value=0.0, max=3370.0), HTML(value='')))"
      ]
     },
     "metadata": {},
     "output_type": "display_data"
    },
    {
     "name": "stdout",
     "output_type": "stream",
     "text": [
      "\n"
     ]
    },
    {
     "ename": "ValueError",
     "evalue": "Cannot convert non-finite values (NA or inf) to integer",
     "output_type": "error",
     "traceback": [
      "\u001b[1;31m---------------------------------------------------------------------------\u001b[0m",
      "\u001b[1;31mValueError\u001b[0m                                Traceback (most recent call last)",
      "\u001b[1;32m<timed exec>\u001b[0m in \u001b[0;36m<module>\u001b[1;34m\u001b[0m\n",
      "\u001b[1;32m<ipython-input-3-5c6880b28306>\u001b[0m in \u001b[0;36mprepare_train_set\u001b[1;34m(path_to_csv_files, path_to_dict, session_length, window_size, time_limit)\u001b[0m\n\u001b[0;32m    101\u001b[0m     \u001b[0mfile_sess_data\u001b[0m\u001b[1;33m.\u001b[0m\u001b[0mindex\u001b[0m \u001b[1;33m+=\u001b[0m \u001b[1;36m1\u001b[0m\u001b[1;33m\u001b[0m\u001b[1;33m\u001b[0m\u001b[0m\n\u001b[0;32m    102\u001b[0m \u001b[1;33m\u001b[0m\u001b[0m\n\u001b[1;32m--> 103\u001b[1;33m     \u001b[1;32mreturn\u001b[0m \u001b[0mfile_sess_data\u001b[0m\u001b[1;33m.\u001b[0m\u001b[0mastype\u001b[0m\u001b[1;33m(\u001b[0m\u001b[0mint\u001b[0m\u001b[1;33m)\u001b[0m\u001b[1;33m\u001b[0m\u001b[1;33m\u001b[0m\u001b[0m\n\u001b[0m",
      "\u001b[1;32mc:\\programdata\\anaconda3\\lib\\site-packages\\pandas\\core\\generic.py\u001b[0m in \u001b[0;36mastype\u001b[1;34m(self, dtype, copy, errors)\u001b[0m\n\u001b[0;32m   5544\u001b[0m         \u001b[1;32melse\u001b[0m\u001b[1;33m:\u001b[0m\u001b[1;33m\u001b[0m\u001b[1;33m\u001b[0m\u001b[0m\n\u001b[0;32m   5545\u001b[0m             \u001b[1;31m# else, only a single dtype is given\u001b[0m\u001b[1;33m\u001b[0m\u001b[1;33m\u001b[0m\u001b[1;33m\u001b[0m\u001b[0m\n\u001b[1;32m-> 5546\u001b[1;33m             \u001b[0mnew_data\u001b[0m \u001b[1;33m=\u001b[0m \u001b[0mself\u001b[0m\u001b[1;33m.\u001b[0m\u001b[0m_mgr\u001b[0m\u001b[1;33m.\u001b[0m\u001b[0mastype\u001b[0m\u001b[1;33m(\u001b[0m\u001b[0mdtype\u001b[0m\u001b[1;33m=\u001b[0m\u001b[0mdtype\u001b[0m\u001b[1;33m,\u001b[0m \u001b[0mcopy\u001b[0m\u001b[1;33m=\u001b[0m\u001b[0mcopy\u001b[0m\u001b[1;33m,\u001b[0m \u001b[0merrors\u001b[0m\u001b[1;33m=\u001b[0m\u001b[0merrors\u001b[0m\u001b[1;33m,\u001b[0m\u001b[1;33m)\u001b[0m\u001b[1;33m\u001b[0m\u001b[1;33m\u001b[0m\u001b[0m\n\u001b[0m\u001b[0;32m   5547\u001b[0m             \u001b[1;32mreturn\u001b[0m \u001b[0mself\u001b[0m\u001b[1;33m.\u001b[0m\u001b[0m_constructor\u001b[0m\u001b[1;33m(\u001b[0m\u001b[0mnew_data\u001b[0m\u001b[1;33m)\u001b[0m\u001b[1;33m.\u001b[0m\u001b[0m__finalize__\u001b[0m\u001b[1;33m(\u001b[0m\u001b[0mself\u001b[0m\u001b[1;33m,\u001b[0m \u001b[0mmethod\u001b[0m\u001b[1;33m=\u001b[0m\u001b[1;34m\"astype\"\u001b[0m\u001b[1;33m)\u001b[0m\u001b[1;33m\u001b[0m\u001b[1;33m\u001b[0m\u001b[0m\n\u001b[0;32m   5548\u001b[0m \u001b[1;33m\u001b[0m\u001b[0m\n",
      "\u001b[1;32mc:\\programdata\\anaconda3\\lib\\site-packages\\pandas\\core\\internals\\managers.py\u001b[0m in \u001b[0;36mastype\u001b[1;34m(self, dtype, copy, errors)\u001b[0m\n\u001b[0;32m    593\u001b[0m         \u001b[0mself\u001b[0m\u001b[1;33m,\u001b[0m \u001b[0mdtype\u001b[0m\u001b[1;33m,\u001b[0m \u001b[0mcopy\u001b[0m\u001b[1;33m:\u001b[0m \u001b[0mbool\u001b[0m \u001b[1;33m=\u001b[0m \u001b[1;32mFalse\u001b[0m\u001b[1;33m,\u001b[0m \u001b[0merrors\u001b[0m\u001b[1;33m:\u001b[0m \u001b[0mstr\u001b[0m \u001b[1;33m=\u001b[0m \u001b[1;34m\"raise\"\u001b[0m\u001b[1;33m\u001b[0m\u001b[1;33m\u001b[0m\u001b[0m\n\u001b[0;32m    594\u001b[0m     ) -> \"BlockManager\":\n\u001b[1;32m--> 595\u001b[1;33m         \u001b[1;32mreturn\u001b[0m \u001b[0mself\u001b[0m\u001b[1;33m.\u001b[0m\u001b[0mapply\u001b[0m\u001b[1;33m(\u001b[0m\u001b[1;34m\"astype\"\u001b[0m\u001b[1;33m,\u001b[0m \u001b[0mdtype\u001b[0m\u001b[1;33m=\u001b[0m\u001b[0mdtype\u001b[0m\u001b[1;33m,\u001b[0m \u001b[0mcopy\u001b[0m\u001b[1;33m=\u001b[0m\u001b[0mcopy\u001b[0m\u001b[1;33m,\u001b[0m \u001b[0merrors\u001b[0m\u001b[1;33m=\u001b[0m\u001b[0merrors\u001b[0m\u001b[1;33m)\u001b[0m\u001b[1;33m\u001b[0m\u001b[1;33m\u001b[0m\u001b[0m\n\u001b[0m\u001b[0;32m    596\u001b[0m \u001b[1;33m\u001b[0m\u001b[0m\n\u001b[0;32m    597\u001b[0m     def convert(\n",
      "\u001b[1;32mc:\\programdata\\anaconda3\\lib\\site-packages\\pandas\\core\\internals\\managers.py\u001b[0m in \u001b[0;36mapply\u001b[1;34m(self, f, align_keys, **kwargs)\u001b[0m\n\u001b[0;32m    404\u001b[0m                 \u001b[0mapplied\u001b[0m \u001b[1;33m=\u001b[0m \u001b[0mb\u001b[0m\u001b[1;33m.\u001b[0m\u001b[0mapply\u001b[0m\u001b[1;33m(\u001b[0m\u001b[0mf\u001b[0m\u001b[1;33m,\u001b[0m \u001b[1;33m**\u001b[0m\u001b[0mkwargs\u001b[0m\u001b[1;33m)\u001b[0m\u001b[1;33m\u001b[0m\u001b[1;33m\u001b[0m\u001b[0m\n\u001b[0;32m    405\u001b[0m             \u001b[1;32melse\u001b[0m\u001b[1;33m:\u001b[0m\u001b[1;33m\u001b[0m\u001b[1;33m\u001b[0m\u001b[0m\n\u001b[1;32m--> 406\u001b[1;33m                 \u001b[0mapplied\u001b[0m \u001b[1;33m=\u001b[0m \u001b[0mgetattr\u001b[0m\u001b[1;33m(\u001b[0m\u001b[0mb\u001b[0m\u001b[1;33m,\u001b[0m \u001b[0mf\u001b[0m\u001b[1;33m)\u001b[0m\u001b[1;33m(\u001b[0m\u001b[1;33m**\u001b[0m\u001b[0mkwargs\u001b[0m\u001b[1;33m)\u001b[0m\u001b[1;33m\u001b[0m\u001b[1;33m\u001b[0m\u001b[0m\n\u001b[0m\u001b[0;32m    407\u001b[0m             \u001b[0mresult_blocks\u001b[0m \u001b[1;33m=\u001b[0m \u001b[0m_extend_blocks\u001b[0m\u001b[1;33m(\u001b[0m\u001b[0mapplied\u001b[0m\u001b[1;33m,\u001b[0m \u001b[0mresult_blocks\u001b[0m\u001b[1;33m)\u001b[0m\u001b[1;33m\u001b[0m\u001b[1;33m\u001b[0m\u001b[0m\n\u001b[0;32m    408\u001b[0m \u001b[1;33m\u001b[0m\u001b[0m\n",
      "\u001b[1;32mc:\\programdata\\anaconda3\\lib\\site-packages\\pandas\\core\\internals\\blocks.py\u001b[0m in \u001b[0;36mastype\u001b[1;34m(self, dtype, copy, errors)\u001b[0m\n\u001b[0;32m    593\u001b[0m             \u001b[0mvals1d\u001b[0m \u001b[1;33m=\u001b[0m \u001b[0mvalues\u001b[0m\u001b[1;33m.\u001b[0m\u001b[0mravel\u001b[0m\u001b[1;33m(\u001b[0m\u001b[1;33m)\u001b[0m\u001b[1;33m\u001b[0m\u001b[1;33m\u001b[0m\u001b[0m\n\u001b[0;32m    594\u001b[0m             \u001b[1;32mtry\u001b[0m\u001b[1;33m:\u001b[0m\u001b[1;33m\u001b[0m\u001b[1;33m\u001b[0m\u001b[0m\n\u001b[1;32m--> 595\u001b[1;33m                 \u001b[0mvalues\u001b[0m \u001b[1;33m=\u001b[0m \u001b[0mastype_nansafe\u001b[0m\u001b[1;33m(\u001b[0m\u001b[0mvals1d\u001b[0m\u001b[1;33m,\u001b[0m \u001b[0mdtype\u001b[0m\u001b[1;33m,\u001b[0m \u001b[0mcopy\u001b[0m\u001b[1;33m=\u001b[0m\u001b[1;32mTrue\u001b[0m\u001b[1;33m)\u001b[0m\u001b[1;33m\u001b[0m\u001b[1;33m\u001b[0m\u001b[0m\n\u001b[0m\u001b[0;32m    596\u001b[0m             \u001b[1;32mexcept\u001b[0m \u001b[1;33m(\u001b[0m\u001b[0mValueError\u001b[0m\u001b[1;33m,\u001b[0m \u001b[0mTypeError\u001b[0m\u001b[1;33m)\u001b[0m\u001b[1;33m:\u001b[0m\u001b[1;33m\u001b[0m\u001b[1;33m\u001b[0m\u001b[0m\n\u001b[0;32m    597\u001b[0m                 \u001b[1;31m# e.g. astype_nansafe can fail on object-dtype of strings\u001b[0m\u001b[1;33m\u001b[0m\u001b[1;33m\u001b[0m\u001b[1;33m\u001b[0m\u001b[0m\n",
      "\u001b[1;32mc:\\programdata\\anaconda3\\lib\\site-packages\\pandas\\core\\dtypes\\cast.py\u001b[0m in \u001b[0;36mastype_nansafe\u001b[1;34m(arr, dtype, copy, skipna)\u001b[0m\n\u001b[0;32m    964\u001b[0m \u001b[1;33m\u001b[0m\u001b[0m\n\u001b[0;32m    965\u001b[0m         \u001b[1;32mif\u001b[0m \u001b[1;32mnot\u001b[0m \u001b[0mnp\u001b[0m\u001b[1;33m.\u001b[0m\u001b[0misfinite\u001b[0m\u001b[1;33m(\u001b[0m\u001b[0marr\u001b[0m\u001b[1;33m)\u001b[0m\u001b[1;33m.\u001b[0m\u001b[0mall\u001b[0m\u001b[1;33m(\u001b[0m\u001b[1;33m)\u001b[0m\u001b[1;33m:\u001b[0m\u001b[1;33m\u001b[0m\u001b[1;33m\u001b[0m\u001b[0m\n\u001b[1;32m--> 966\u001b[1;33m             \u001b[1;32mraise\u001b[0m \u001b[0mValueError\u001b[0m\u001b[1;33m(\u001b[0m\u001b[1;34m\"Cannot convert non-finite values (NA or inf) to integer\"\u001b[0m\u001b[1;33m)\u001b[0m\u001b[1;33m\u001b[0m\u001b[1;33m\u001b[0m\u001b[0m\n\u001b[0m\u001b[0;32m    967\u001b[0m \u001b[1;33m\u001b[0m\u001b[0m\n\u001b[0;32m    968\u001b[0m     \u001b[1;32melif\u001b[0m \u001b[0mis_object_dtype\u001b[0m\u001b[1;33m(\u001b[0m\u001b[0marr\u001b[0m\u001b[1;33m)\u001b[0m\u001b[1;33m:\u001b[0m\u001b[1;33m\u001b[0m\u001b[1;33m\u001b[0m\u001b[0m\n",
      "\u001b[1;31mValueError\u001b[0m: Cannot convert non-finite values (NA or inf) to integer"
     ]
    }
   ],
   "source": [
    "%%time\n",
    "train_data_all_users = prepare_train_set(join(PATH_TO_DATA, 'all_users'), join(PATH_TO_DATA, 'site_freq_all_users.pkl'),\n",
    "                                     session_length=15, window_size=5, time_limit=30*60)"
   ]
  },
  {
   "cell_type": "code",
   "execution_count": 12,
   "metadata": {
    "collapsed": true
   },
   "outputs": [
    {
     "ename": "NameError",
     "evalue": "name 'train_data_all_users' is not defined",
     "output_type": "error",
     "traceback": [
      "\u001b[1;31m---------------------------------------------------------------------------\u001b[0m",
      "\u001b[1;31mNameError\u001b[0m                                 Traceback (most recent call last)",
      "\u001b[1;32m<ipython-input-12-a5e637580972>\u001b[0m in \u001b[0;36m<module>\u001b[1;34m\u001b[0m\n\u001b[1;32m----> 1\u001b[1;33m \u001b[0mtrain_data_all_users\u001b[0m\u001b[1;33m.\u001b[0m\u001b[0misna\u001b[0m\u001b[1;33m(\u001b[0m\u001b[1;33m)\u001b[0m\u001b[1;33m.\u001b[0m\u001b[0many\u001b[0m\u001b[1;33m(\u001b[0m\u001b[1;33m)\u001b[0m\u001b[1;33m.\u001b[0m\u001b[0many\u001b[0m\u001b[1;33m(\u001b[0m\u001b[1;33m)\u001b[0m\u001b[1;33m\u001b[0m\u001b[1;33m\u001b[0m\u001b[0m\n\u001b[0m",
      "\u001b[1;31mNameError\u001b[0m: name 'train_data_all_users' is not defined"
     ]
    }
   ],
   "source": [
    "train_data_all_users.isna().any().any()"
   ]
  },
  {
   "cell_type": "code",
   "execution_count": 16,
   "metadata": {
    "collapsed": true
   },
   "outputs": [
    {
     "data": {
      "text/html": [
       "<div>\n",
       "<style scoped>\n",
       "    .dataframe tbody tr th:only-of-type {\n",
       "        vertical-align: middle;\n",
       "    }\n",
       "\n",
       "    .dataframe tbody tr th {\n",
       "        vertical-align: top;\n",
       "    }\n",
       "\n",
       "    .dataframe thead th {\n",
       "        text-align: right;\n",
       "    }\n",
       "</style>\n",
       "<table border=\"1\" class=\"dataframe\">\n",
       "  <thead>\n",
       "    <tr style=\"text-align: right;\">\n",
       "      <th></th>\n",
       "      <th>site1</th>\n",
       "      <th>site2</th>\n",
       "      <th>site3</th>\n",
       "      <th>site4</th>\n",
       "      <th>site5</th>\n",
       "      <th>site6</th>\n",
       "      <th>site7</th>\n",
       "      <th>site8</th>\n",
       "      <th>site9</th>\n",
       "      <th>site10</th>\n",
       "      <th>...</th>\n",
       "      <th>diff_time7</th>\n",
       "      <th>diff_time8</th>\n",
       "      <th>diff_time9</th>\n",
       "      <th>diff_time10</th>\n",
       "      <th>diff_time11</th>\n",
       "      <th>diff_time12</th>\n",
       "      <th>diff_time13</th>\n",
       "      <th>diff_time14</th>\n",
       "      <th>diff_time15</th>\n",
       "      <th>user_id</th>\n",
       "    </tr>\n",
       "    <tr>\n",
       "      <th>session_id</th>\n",
       "      <th></th>\n",
       "      <th></th>\n",
       "      <th></th>\n",
       "      <th></th>\n",
       "      <th></th>\n",
       "      <th></th>\n",
       "      <th></th>\n",
       "      <th></th>\n",
       "      <th></th>\n",
       "      <th></th>\n",
       "      <th></th>\n",
       "      <th></th>\n",
       "      <th></th>\n",
       "      <th></th>\n",
       "      <th></th>\n",
       "      <th></th>\n",
       "      <th></th>\n",
       "      <th></th>\n",
       "      <th></th>\n",
       "      <th></th>\n",
       "      <th></th>\n",
       "    </tr>\n",
       "  </thead>\n",
       "  <tbody>\n",
       "    <tr>\n",
       "      <th>1</th>\n",
       "      <td>1</td>\n",
       "      <td>4</td>\n",
       "      <td>2</td>\n",
       "      <td>2</td>\n",
       "      <td>4</td>\n",
       "      <td>1</td>\n",
       "      <td>38</td>\n",
       "      <td>59</td>\n",
       "      <td>73</td>\n",
       "      <td>73</td>\n",
       "      <td>...</td>\n",
       "      <td>0</td>\n",
       "      <td>46</td>\n",
       "      <td>330</td>\n",
       "      <td>3675</td>\n",
       "      <td>0</td>\n",
       "      <td>0</td>\n",
       "      <td>0</td>\n",
       "      <td>0</td>\n",
       "      <td>0</td>\n",
       "      <td>1</td>\n",
       "    </tr>\n",
       "    <tr>\n",
       "      <th>2</th>\n",
       "      <td>1</td>\n",
       "      <td>2</td>\n",
       "      <td>1</td>\n",
       "      <td>2</td>\n",
       "      <td>0</td>\n",
       "      <td>0</td>\n",
       "      <td>0</td>\n",
       "      <td>0</td>\n",
       "      <td>0</td>\n",
       "      <td>0</td>\n",
       "      <td>...</td>\n",
       "      <td>0</td>\n",
       "      <td>0</td>\n",
       "      <td>0</td>\n",
       "      <td>0</td>\n",
       "      <td>0</td>\n",
       "      <td>0</td>\n",
       "      <td>0</td>\n",
       "      <td>0</td>\n",
       "      <td>0</td>\n",
       "      <td>1</td>\n",
       "    </tr>\n",
       "    <tr>\n",
       "      <th>3</th>\n",
       "      <td>70</td>\n",
       "      <td>1</td>\n",
       "      <td>40</td>\n",
       "      <td>35</td>\n",
       "      <td>70</td>\n",
       "      <td>35</td>\n",
       "      <td>70</td>\n",
       "      <td>40</td>\n",
       "      <td>35</td>\n",
       "      <td>70</td>\n",
       "      <td>...</td>\n",
       "      <td>0</td>\n",
       "      <td>0</td>\n",
       "      <td>1</td>\n",
       "      <td>0</td>\n",
       "      <td>0</td>\n",
       "      <td>0</td>\n",
       "      <td>1</td>\n",
       "      <td>1</td>\n",
       "      <td>0</td>\n",
       "      <td>1</td>\n",
       "    </tr>\n",
       "    <tr>\n",
       "      <th>4</th>\n",
       "      <td>35</td>\n",
       "      <td>70</td>\n",
       "      <td>40</td>\n",
       "      <td>35</td>\n",
       "      <td>70</td>\n",
       "      <td>35</td>\n",
       "      <td>67</td>\n",
       "      <td>65</td>\n",
       "      <td>67</td>\n",
       "      <td>65</td>\n",
       "      <td>...</td>\n",
       "      <td>0</td>\n",
       "      <td>1</td>\n",
       "      <td>1</td>\n",
       "      <td>0</td>\n",
       "      <td>0</td>\n",
       "      <td>0</td>\n",
       "      <td>0</td>\n",
       "      <td>1</td>\n",
       "      <td>0</td>\n",
       "      <td>1</td>\n",
       "    </tr>\n",
       "    <tr>\n",
       "      <th>5</th>\n",
       "      <td>35</td>\n",
       "      <td>67</td>\n",
       "      <td>65</td>\n",
       "      <td>67</td>\n",
       "      <td>65</td>\n",
       "      <td>40</td>\n",
       "      <td>70</td>\n",
       "      <td>35</td>\n",
       "      <td>67</td>\n",
       "      <td>40</td>\n",
       "      <td>...</td>\n",
       "      <td>0</td>\n",
       "      <td>0</td>\n",
       "      <td>1</td>\n",
       "      <td>0</td>\n",
       "      <td>0</td>\n",
       "      <td>0</td>\n",
       "      <td>0</td>\n",
       "      <td>1</td>\n",
       "      <td>0</td>\n",
       "      <td>1</td>\n",
       "    </tr>\n",
       "    <tr>\n",
       "      <th>6</th>\n",
       "      <td>40</td>\n",
       "      <td>70</td>\n",
       "      <td>35</td>\n",
       "      <td>67</td>\n",
       "      <td>40</td>\n",
       "      <td>35</td>\n",
       "      <td>65</td>\n",
       "      <td>67</td>\n",
       "      <td>70</td>\n",
       "      <td>35</td>\n",
       "      <td>...</td>\n",
       "      <td>0</td>\n",
       "      <td>0</td>\n",
       "      <td>1</td>\n",
       "      <td>0</td>\n",
       "      <td>0</td>\n",
       "      <td>0</td>\n",
       "      <td>1</td>\n",
       "      <td>4</td>\n",
       "      <td>0</td>\n",
       "      <td>1</td>\n",
       "    </tr>\n",
       "    <tr>\n",
       "      <th>7</th>\n",
       "      <td>35</td>\n",
       "      <td>65</td>\n",
       "      <td>67</td>\n",
       "      <td>70</td>\n",
       "      <td>35</td>\n",
       "      <td>40</td>\n",
       "      <td>65</td>\n",
       "      <td>67</td>\n",
       "      <td>67</td>\n",
       "      <td>67</td>\n",
       "      <td>...</td>\n",
       "      <td>0</td>\n",
       "      <td>1</td>\n",
       "      <td>4</td>\n",
       "      <td>0</td>\n",
       "      <td>0</td>\n",
       "      <td>134</td>\n",
       "      <td>0</td>\n",
       "      <td>0</td>\n",
       "      <td>0</td>\n",
       "      <td>1</td>\n",
       "    </tr>\n",
       "    <tr>\n",
       "      <th>8</th>\n",
       "      <td>40</td>\n",
       "      <td>65</td>\n",
       "      <td>67</td>\n",
       "      <td>67</td>\n",
       "      <td>67</td>\n",
       "      <td>65</td>\n",
       "      <td>40</td>\n",
       "      <td>35</td>\n",
       "      <td>67</td>\n",
       "      <td>70</td>\n",
       "      <td>...</td>\n",
       "      <td>134</td>\n",
       "      <td>0</td>\n",
       "      <td>0</td>\n",
       "      <td>0</td>\n",
       "      <td>0</td>\n",
       "      <td>235</td>\n",
       "      <td>0</td>\n",
       "      <td>0</td>\n",
       "      <td>0</td>\n",
       "      <td>1</td>\n",
       "    </tr>\n",
       "    <tr>\n",
       "      <th>9</th>\n",
       "      <td>65</td>\n",
       "      <td>40</td>\n",
       "      <td>35</td>\n",
       "      <td>67</td>\n",
       "      <td>70</td>\n",
       "      <td>65</td>\n",
       "      <td>40</td>\n",
       "      <td>65</td>\n",
       "      <td>70</td>\n",
       "      <td>67</td>\n",
       "      <td>...</td>\n",
       "      <td>235</td>\n",
       "      <td>0</td>\n",
       "      <td>0</td>\n",
       "      <td>0</td>\n",
       "      <td>0</td>\n",
       "      <td>1</td>\n",
       "      <td>1</td>\n",
       "      <td>0</td>\n",
       "      <td>0</td>\n",
       "      <td>1</td>\n",
       "    </tr>\n",
       "    <tr>\n",
       "      <th>10</th>\n",
       "      <td>65</td>\n",
       "      <td>40</td>\n",
       "      <td>65</td>\n",
       "      <td>70</td>\n",
       "      <td>67</td>\n",
       "      <td>35</td>\n",
       "      <td>40</td>\n",
       "      <td>67</td>\n",
       "      <td>65</td>\n",
       "      <td>67</td>\n",
       "      <td>...</td>\n",
       "      <td>1</td>\n",
       "      <td>1</td>\n",
       "      <td>0</td>\n",
       "      <td>0</td>\n",
       "      <td>0</td>\n",
       "      <td>0</td>\n",
       "      <td>1</td>\n",
       "      <td>1</td>\n",
       "      <td>0</td>\n",
       "      <td>1</td>\n",
       "    </tr>\n",
       "    <tr>\n",
       "      <th>11</th>\n",
       "      <td>35</td>\n",
       "      <td>40</td>\n",
       "      <td>67</td>\n",
       "      <td>65</td>\n",
       "      <td>67</td>\n",
       "      <td>70</td>\n",
       "      <td>40</td>\n",
       "      <td>35</td>\n",
       "      <td>65</td>\n",
       "      <td>67</td>\n",
       "      <td>...</td>\n",
       "      <td>0</td>\n",
       "      <td>1</td>\n",
       "      <td>1</td>\n",
       "      <td>0</td>\n",
       "      <td>0</td>\n",
       "      <td>1</td>\n",
       "      <td>0</td>\n",
       "      <td>0</td>\n",
       "      <td>0</td>\n",
       "      <td>1</td>\n",
       "    </tr>\n",
       "    <tr>\n",
       "      <th>12</th>\n",
       "      <td>70</td>\n",
       "      <td>40</td>\n",
       "      <td>35</td>\n",
       "      <td>65</td>\n",
       "      <td>67</td>\n",
       "      <td>65</td>\n",
       "      <td>70</td>\n",
       "      <td>35</td>\n",
       "      <td>40</td>\n",
       "      <td>67</td>\n",
       "      <td>...</td>\n",
       "      <td>1</td>\n",
       "      <td>0</td>\n",
       "      <td>0</td>\n",
       "      <td>0</td>\n",
       "      <td>8</td>\n",
       "      <td>0</td>\n",
       "      <td>0</td>\n",
       "      <td>0</td>\n",
       "      <td>0</td>\n",
       "      <td>1</td>\n",
       "    </tr>\n",
       "    <tr>\n",
       "      <th>13</th>\n",
       "      <td>65</td>\n",
       "      <td>70</td>\n",
       "      <td>35</td>\n",
       "      <td>40</td>\n",
       "      <td>67</td>\n",
       "      <td>65</td>\n",
       "      <td>67</td>\n",
       "      <td>70</td>\n",
       "      <td>65</td>\n",
       "      <td>35</td>\n",
       "      <td>...</td>\n",
       "      <td>0</td>\n",
       "      <td>0</td>\n",
       "      <td>0</td>\n",
       "      <td>0</td>\n",
       "      <td>1</td>\n",
       "      <td>0</td>\n",
       "      <td>0</td>\n",
       "      <td>1</td>\n",
       "      <td>0</td>\n",
       "      <td>1</td>\n",
       "    </tr>\n",
       "    <tr>\n",
       "      <th>14</th>\n",
       "      <td>65</td>\n",
       "      <td>67</td>\n",
       "      <td>70</td>\n",
       "      <td>65</td>\n",
       "      <td>35</td>\n",
       "      <td>40</td>\n",
       "      <td>65</td>\n",
       "      <td>40</td>\n",
       "      <td>67</td>\n",
       "      <td>67</td>\n",
       "      <td>...</td>\n",
       "      <td>0</td>\n",
       "      <td>0</td>\n",
       "      <td>1</td>\n",
       "      <td>0</td>\n",
       "      <td>0</td>\n",
       "      <td>0</td>\n",
       "      <td>0</td>\n",
       "      <td>1</td>\n",
       "      <td>5</td>\n",
       "      <td>1</td>\n",
       "    </tr>\n",
       "    <tr>\n",
       "      <th>15</th>\n",
       "      <td>40</td>\n",
       "      <td>65</td>\n",
       "      <td>40</td>\n",
       "      <td>67</td>\n",
       "      <td>67</td>\n",
       "      <td>70</td>\n",
       "      <td>65</td>\n",
       "      <td>40</td>\n",
       "      <td>35</td>\n",
       "      <td>67</td>\n",
       "      <td>...</td>\n",
       "      <td>0</td>\n",
       "      <td>0</td>\n",
       "      <td>1</td>\n",
       "      <td>5</td>\n",
       "      <td>0</td>\n",
       "      <td>0</td>\n",
       "      <td>0</td>\n",
       "      <td>0</td>\n",
       "      <td>1</td>\n",
       "      <td>1</td>\n",
       "    </tr>\n",
       "  </tbody>\n",
       "</table>\n",
       "<p>15 rows × 31 columns</p>\n",
       "</div>"
      ],
      "text/plain": [
       "            site1  site2  site3  site4  site5  site6  site7  site8  site9  \\\n",
       "session_id                                                                  \n",
       "1               1      4      2      2      4      1     38     59     73   \n",
       "2               1      2      1      2      0      0      0      0      0   \n",
       "3              70      1     40     35     70     35     70     40     35   \n",
       "4              35     70     40     35     70     35     67     65     67   \n",
       "5              35     67     65     67     65     40     70     35     67   \n",
       "6              40     70     35     67     40     35     65     67     70   \n",
       "7              35     65     67     70     35     40     65     67     67   \n",
       "8              40     65     67     67     67     65     40     35     67   \n",
       "9              65     40     35     67     70     65     40     65     70   \n",
       "10             65     40     65     70     67     35     40     67     65   \n",
       "11             35     40     67     65     67     70     40     35     65   \n",
       "12             70     40     35     65     67     65     70     35     40   \n",
       "13             65     70     35     40     67     65     67     70     65   \n",
       "14             65     67     70     65     35     40     65     40     67   \n",
       "15             40     65     40     67     67     70     65     40     35   \n",
       "\n",
       "            site10  ...  diff_time7  diff_time8  diff_time9  diff_time10  \\\n",
       "session_id          ...                                                    \n",
       "1               73  ...           0          46         330         3675   \n",
       "2                0  ...           0           0           0            0   \n",
       "3               70  ...           0           0           1            0   \n",
       "4               65  ...           0           1           1            0   \n",
       "5               40  ...           0           0           1            0   \n",
       "6               35  ...           0           0           1            0   \n",
       "7               67  ...           0           1           4            0   \n",
       "8               70  ...         134           0           0            0   \n",
       "9               67  ...         235           0           0            0   \n",
       "10              67  ...           1           1           0            0   \n",
       "11              67  ...           0           1           1            0   \n",
       "12              67  ...           1           0           0            0   \n",
       "13              35  ...           0           0           0            0   \n",
       "14              67  ...           0           0           1            0   \n",
       "15              67  ...           0           0           1            5   \n",
       "\n",
       "            diff_time11  diff_time12  diff_time13  diff_time14  diff_time15  \\\n",
       "session_id                                                                    \n",
       "1                     0            0            0            0            0   \n",
       "2                     0            0            0            0            0   \n",
       "3                     0            0            1            1            0   \n",
       "4                     0            0            0            1            0   \n",
       "5                     0            0            0            1            0   \n",
       "6                     0            0            1            4            0   \n",
       "7                     0          134            0            0            0   \n",
       "8                     0          235            0            0            0   \n",
       "9                     0            1            1            0            0   \n",
       "10                    0            0            1            1            0   \n",
       "11                    0            1            0            0            0   \n",
       "12                    8            0            0            0            0   \n",
       "13                    1            0            0            1            0   \n",
       "14                    0            0            0            1            5   \n",
       "15                    0            0            0            0            1   \n",
       "\n",
       "            user_id  \n",
       "session_id           \n",
       "1                 1  \n",
       "2                 1  \n",
       "3                 1  \n",
       "4                 1  \n",
       "5                 1  \n",
       "6                 1  \n",
       "7                 1  \n",
       "8                 1  \n",
       "9                 1  \n",
       "10                1  \n",
       "11                1  \n",
       "12                1  \n",
       "13                1  \n",
       "14                1  \n",
       "15                1  \n",
       "\n",
       "[15 rows x 31 columns]"
      ]
     },
     "execution_count": 16,
     "metadata": {},
     "output_type": "execute_result"
    }
   ],
   "source": [
    "train_data_all_users.head(15)"
   ]
  },
  {
   "cell_type": "code",
   "execution_count": 15,
   "metadata": {},
   "outputs": [],
   "source": [
    "PATH_TO_EXPS = 'user_identification_exps'"
   ]
  },
  {
   "cell_type": "code",
   "execution_count": 16,
   "metadata": {},
   "outputs": [],
   "source": [
    "train_data_3users.to_csv(join(PATH_TO_EXPS, \n",
    "                                       'train_data_3users.csv'), \n",
    "                        index_label='session_id', float_format='%d')\n",
    "train_data_10users.to_csv(join(PATH_TO_EXPS, \n",
    "                                        'train_data_10users.csv'), \n",
    "                         index_label='session_id', float_format='%d')\n",
    "train_data_150users.to_csv(join(PATH_TO_EXPS, \n",
    "                                       'train_data_150users.csv'), \n",
    "                        index_label='session_id', float_format='%d')"
   ]
  },
  {
   "cell_type": "code",
   "execution_count": 14,
   "metadata": {
    "collapsed": true
   },
   "outputs": [
    {
     "ename": "NameError",
     "evalue": "name 'train_data_all_users' is not defined",
     "output_type": "error",
     "traceback": [
      "\u001b[1;31m---------------------------------------------------------------------------\u001b[0m",
      "\u001b[1;31mNameError\u001b[0m                                 Traceback (most recent call last)",
      "\u001b[1;32m<ipython-input-14-ce4ae3dce01a>\u001b[0m in \u001b[0;36m<module>\u001b[1;34m\u001b[0m\n\u001b[1;32m----> 1\u001b[1;33m train_data_all_users.to_csv(join(PATH_TO_EXPS, \n\u001b[0m\u001b[0;32m      2\u001b[0m                                         'train_data_all_users.csv'), \n\u001b[0;32m      3\u001b[0m                          index_label='session_id', float_format='%d')\n",
      "\u001b[1;31mNameError\u001b[0m: name 'train_data_all_users' is not defined"
     ]
    }
   ],
   "source": [
    "train_data_all_users.to_csv(join(PATH_TO_EXPS, \n",
    "                                        'train_data_all_users.csv'), \n",
    "                         index_label='session_id', float_format='%d')"
   ]
  },
  {
   "cell_type": "markdown",
   "metadata": {},
   "source": [
    "#### Создание разреженнной матрицы \"мешка слов\""
   ]
  },
  {
   "cell_type": "code",
   "execution_count": 10,
   "metadata": {},
   "outputs": [],
   "source": [
    "def prepare_csr(X):\n",
    "    \"\"\"Функция, создающая csr-матрицу из матрицы вхождений сайтов в сессию\"\"\"\n",
    "    data = np.ones(X.size, dtype=int)\n",
    "    indices = X.reshape(-1)\n",
    "    indptr = np.arange(X.shape[0] + 1) * X.shape[1]\n",
    "    return csr_matrix((data, indices, indptr), dtype=int)[:, 1:]"
   ]
  },
  {
   "cell_type": "code",
   "execution_count": 11,
   "metadata": {},
   "outputs": [
    {
     "data": {
      "text/plain": [
       "<8x11 sparse matrix of type '<class 'numpy.intc'>'\n",
       "\twith 32 stored elements in Compressed Sparse Row format>"
      ]
     },
     "execution_count": 11,
     "metadata": {},
     "output_type": "execute_result"
    }
   ],
   "source": [
    "X_sparse_3users = prepare_csr(train_data_3users.iloc[:, :15].values)\n",
    "X_sparse_3users"
   ]
  },
  {
   "cell_type": "code",
   "execution_count": 12,
   "metadata": {},
   "outputs": [
    {
     "data": {
      "text/plain": [
       "matrix([[0, 2, 1, 0, 0, 0, 0, 0, 0, 0, 0],\n",
       "        [1, 1, 0, 0, 1, 0, 1, 1, 1, 1, 0],\n",
       "        [3, 0, 1, 0, 0, 0, 0, 0, 0, 0, 0],\n",
       "        [0, 1, 1, 0, 0, 1, 0, 0, 0, 0, 0],\n",
       "        [0, 1, 0, 0, 0, 1, 0, 0, 0, 0, 0],\n",
       "        [1, 1, 0, 1, 0, 0, 0, 0, 0, 0, 0],\n",
       "        [3, 1, 0, 1, 1, 0, 0, 0, 0, 0, 1],\n",
       "        [1, 1, 0, 1, 0, 0, 0, 0, 0, 0, 0]], dtype=int32)"
      ]
     },
     "execution_count": 12,
     "metadata": {},
     "output_type": "execute_result"
    }
   ],
   "source": [
    "X_sparse_3users.todense()"
   ]
  },
  {
   "cell_type": "markdown",
   "metadata": {},
   "source": [
    "### Подготовка датасетов с разными параметрами swt"
   ]
  },
  {
   "cell_type": "code",
   "execution_count": 16,
   "metadata": {
    "collapsed": true
   },
   "outputs": [
    {
     "data": {
      "application/vnd.jupyter.widget-view+json": {
       "model_id": "d1212b0bf8234eb1be6c06c53b16ff5b",
       "version_major": 2,
       "version_minor": 0
      },
      "text/plain": [
       "HBox(children=(HTML(value=''), FloatProgress(value=0.0, max=60.0), HTML(value='')))"
      ]
     },
     "metadata": {},
     "output_type": "display_data"
    },
    {
     "data": {
      "application/vnd.jupyter.widget-view+json": {
       "model_id": "4422c49829fa4547a80c2cb11bd13870",
       "version_major": 2,
       "version_minor": 0
      },
      "text/plain": [
       "HBox(children=(HTML(value=''), FloatProgress(value=0.0, max=10.0), HTML(value='')))"
      ]
     },
     "metadata": {},
     "output_type": "display_data"
    },
    {
     "name": "stdout",
     "output_type": "stream",
     "text": [
      "\n"
     ]
    },
    {
     "data": {
      "application/vnd.jupyter.widget-view+json": {
       "model_id": "a7faa3005fb44b43bd6ff1448ba2b05f",
       "version_major": 2,
       "version_minor": 0
      },
      "text/plain": [
       "HBox(children=(HTML(value=''), FloatProgress(value=0.0, max=10.0), HTML(value='')))"
      ]
     },
     "metadata": {},
     "output_type": "display_data"
    },
    {
     "name": "stdout",
     "output_type": "stream",
     "text": [
      "\n"
     ]
    },
    {
     "data": {
      "application/vnd.jupyter.widget-view+json": {
       "model_id": "143205fddf014c35bb43576f1e747eae",
       "version_major": 2,
       "version_minor": 0
      },
      "text/plain": [
       "HBox(children=(HTML(value=''), FloatProgress(value=0.0, max=10.0), HTML(value='')))"
      ]
     },
     "metadata": {},
     "output_type": "display_data"
    },
    {
     "name": "stdout",
     "output_type": "stream",
     "text": [
      "\n"
     ]
    },
    {
     "data": {
      "application/vnd.jupyter.widget-view+json": {
       "model_id": "bbaf4557b0fe4390b739a53c112af72e",
       "version_major": 2,
       "version_minor": 0
      },
      "text/plain": [
       "HBox(children=(HTML(value=''), FloatProgress(value=0.0, max=10.0), HTML(value='')))"
      ]
     },
     "metadata": {},
     "output_type": "display_data"
    },
    {
     "name": "stdout",
     "output_type": "stream",
     "text": [
      "\n"
     ]
    },
    {
     "data": {
      "application/vnd.jupyter.widget-view+json": {
       "model_id": "18dfe5c4a89647b598ba46d8fd5b5ca9",
       "version_major": 2,
       "version_minor": 0
      },
      "text/plain": [
       "HBox(children=(HTML(value=''), FloatProgress(value=0.0, max=10.0), HTML(value='')))"
      ]
     },
     "metadata": {},
     "output_type": "display_data"
    },
    {
     "name": "stdout",
     "output_type": "stream",
     "text": [
      "\n"
     ]
    },
    {
     "data": {
      "application/vnd.jupyter.widget-view+json": {
       "model_id": "ae62d91a6a7c43d682894189bc0a1ed8",
       "version_major": 2,
       "version_minor": 0
      },
      "text/plain": [
       "HBox(children=(HTML(value=''), FloatProgress(value=0.0, max=10.0), HTML(value='')))"
      ]
     },
     "metadata": {},
     "output_type": "display_data"
    },
    {
     "name": "stdout",
     "output_type": "stream",
     "text": [
      "\n"
     ]
    },
    {
     "data": {
      "application/vnd.jupyter.widget-view+json": {
       "model_id": "87d2177474fa4fa8ad59486c444ebeb1",
       "version_major": 2,
       "version_minor": 0
      },
      "text/plain": [
       "HBox(children=(HTML(value=''), FloatProgress(value=0.0, max=10.0), HTML(value='')))"
      ]
     },
     "metadata": {},
     "output_type": "display_data"
    },
    {
     "name": "stdout",
     "output_type": "stream",
     "text": [
      "\n"
     ]
    },
    {
     "data": {
      "application/vnd.jupyter.widget-view+json": {
       "model_id": "00d91ab6535e4eefb51ae9211188a57e",
       "version_major": 2,
       "version_minor": 0
      },
      "text/plain": [
       "HBox(children=(HTML(value=''), FloatProgress(value=0.0, max=10.0), HTML(value='')))"
      ]
     },
     "metadata": {},
     "output_type": "display_data"
    },
    {
     "name": "stdout",
     "output_type": "stream",
     "text": [
      "\n"
     ]
    },
    {
     "data": {
      "application/vnd.jupyter.widget-view+json": {
       "model_id": "fa67266c0333413d9991fbde592f0671",
       "version_major": 2,
       "version_minor": 0
      },
      "text/plain": [
       "HBox(children=(HTML(value=''), FloatProgress(value=0.0, max=10.0), HTML(value='')))"
      ]
     },
     "metadata": {},
     "output_type": "display_data"
    },
    {
     "name": "stdout",
     "output_type": "stream",
     "text": [
      "\n"
     ]
    },
    {
     "data": {
      "application/vnd.jupyter.widget-view+json": {
       "model_id": "02fc0c6d177f4edaa030d1f97c2099af",
       "version_major": 2,
       "version_minor": 0
      },
      "text/plain": [
       "HBox(children=(HTML(value=''), FloatProgress(value=0.0, max=10.0), HTML(value='')))"
      ]
     },
     "metadata": {},
     "output_type": "display_data"
    },
    {
     "name": "stdout",
     "output_type": "stream",
     "text": [
      "\n"
     ]
    },
    {
     "data": {
      "application/vnd.jupyter.widget-view+json": {
       "model_id": "bada9c9734dc4d3cafa247399e536c8d",
       "version_major": 2,
       "version_minor": 0
      },
      "text/plain": [
       "HBox(children=(HTML(value=''), FloatProgress(value=0.0, max=10.0), HTML(value='')))"
      ]
     },
     "metadata": {},
     "output_type": "display_data"
    },
    {
     "name": "stdout",
     "output_type": "stream",
     "text": [
      "\n"
     ]
    },
    {
     "data": {
      "application/vnd.jupyter.widget-view+json": {
       "model_id": "47417f9420d146e4b3549b9908169053",
       "version_major": 2,
       "version_minor": 0
      },
      "text/plain": [
       "HBox(children=(HTML(value=''), FloatProgress(value=0.0, max=10.0), HTML(value='')))"
      ]
     },
     "metadata": {},
     "output_type": "display_data"
    },
    {
     "name": "stdout",
     "output_type": "stream",
     "text": [
      "\n"
     ]
    },
    {
     "data": {
      "application/vnd.jupyter.widget-view+json": {
       "model_id": "3cf6bb282126481c849f557a759e99c8",
       "version_major": 2,
       "version_minor": 0
      },
      "text/plain": [
       "HBox(children=(HTML(value=''), FloatProgress(value=0.0, max=10.0), HTML(value='')))"
      ]
     },
     "metadata": {},
     "output_type": "display_data"
    },
    {
     "name": "stdout",
     "output_type": "stream",
     "text": [
      "\n"
     ]
    },
    {
     "data": {
      "application/vnd.jupyter.widget-view+json": {
       "model_id": "0dd90c334f144981a3c86d683d01037d",
       "version_major": 2,
       "version_minor": 0
      },
      "text/plain": [
       "HBox(children=(HTML(value=''), FloatProgress(value=0.0, max=10.0), HTML(value='')))"
      ]
     },
     "metadata": {},
     "output_type": "display_data"
    },
    {
     "name": "stdout",
     "output_type": "stream",
     "text": [
      "\n"
     ]
    },
    {
     "data": {
      "application/vnd.jupyter.widget-view+json": {
       "model_id": "0234ecb478614596b97e50ad33a657bd",
       "version_major": 2,
       "version_minor": 0
      },
      "text/plain": [
       "HBox(children=(HTML(value=''), FloatProgress(value=0.0, max=10.0), HTML(value='')))"
      ]
     },
     "metadata": {},
     "output_type": "display_data"
    },
    {
     "name": "stdout",
     "output_type": "stream",
     "text": [
      "\n"
     ]
    },
    {
     "data": {
      "application/vnd.jupyter.widget-view+json": {
       "model_id": "42a3585499b24595a82228cd71ad5568",
       "version_major": 2,
       "version_minor": 0
      },
      "text/plain": [
       "HBox(children=(HTML(value=''), FloatProgress(value=0.0, max=10.0), HTML(value='')))"
      ]
     },
     "metadata": {},
     "output_type": "display_data"
    },
    {
     "name": "stdout",
     "output_type": "stream",
     "text": [
      "\n"
     ]
    },
    {
     "data": {
      "application/vnd.jupyter.widget-view+json": {
       "model_id": "eedeeb2954c74a6ead4cfd7c3969f405",
       "version_major": 2,
       "version_minor": 0
      },
      "text/plain": [
       "HBox(children=(HTML(value=''), FloatProgress(value=0.0, max=10.0), HTML(value='')))"
      ]
     },
     "metadata": {},
     "output_type": "display_data"
    },
    {
     "name": "stdout",
     "output_type": "stream",
     "text": [
      "\n"
     ]
    },
    {
     "data": {
      "application/vnd.jupyter.widget-view+json": {
       "model_id": "d45ea542c150464d9eb102c43a81fc20",
       "version_major": 2,
       "version_minor": 0
      },
      "text/plain": [
       "HBox(children=(HTML(value=''), FloatProgress(value=0.0, max=10.0), HTML(value='')))"
      ]
     },
     "metadata": {},
     "output_type": "display_data"
    },
    {
     "name": "stdout",
     "output_type": "stream",
     "text": [
      "\n"
     ]
    },
    {
     "data": {
      "application/vnd.jupyter.widget-view+json": {
       "model_id": "69acf7889a1d4672881c7ddba93a1d85",
       "version_major": 2,
       "version_minor": 0
      },
      "text/plain": [
       "HBox(children=(HTML(value=''), FloatProgress(value=0.0, max=10.0), HTML(value='')))"
      ]
     },
     "metadata": {},
     "output_type": "display_data"
    },
    {
     "name": "stdout",
     "output_type": "stream",
     "text": [
      "\n"
     ]
    },
    {
     "data": {
      "application/vnd.jupyter.widget-view+json": {
       "model_id": "8eea26bb8dbc4796aaf2a42837f99eb9",
       "version_major": 2,
       "version_minor": 0
      },
      "text/plain": [
       "HBox(children=(HTML(value=''), FloatProgress(value=0.0, max=10.0), HTML(value='')))"
      ]
     },
     "metadata": {},
     "output_type": "display_data"
    },
    {
     "name": "stdout",
     "output_type": "stream",
     "text": [
      "\n"
     ]
    },
    {
     "data": {
      "application/vnd.jupyter.widget-view+json": {
       "model_id": "785b00aa21784589b2f15d556a116842",
       "version_major": 2,
       "version_minor": 0
      },
      "text/plain": [
       "HBox(children=(HTML(value=''), FloatProgress(value=0.0, max=10.0), HTML(value='')))"
      ]
     },
     "metadata": {},
     "output_type": "display_data"
    },
    {
     "name": "stdout",
     "output_type": "stream",
     "text": [
      "\n"
     ]
    },
    {
     "data": {
      "application/vnd.jupyter.widget-view+json": {
       "model_id": "8d2a124d1af546dc8b474580c53267a0",
       "version_major": 2,
       "version_minor": 0
      },
      "text/plain": [
       "HBox(children=(HTML(value=''), FloatProgress(value=0.0, max=10.0), HTML(value='')))"
      ]
     },
     "metadata": {},
     "output_type": "display_data"
    },
    {
     "name": "stdout",
     "output_type": "stream",
     "text": [
      "\n"
     ]
    },
    {
     "data": {
      "application/vnd.jupyter.widget-view+json": {
       "model_id": "a510cc5a4d9f40dc89ed2c19ca84e677",
       "version_major": 2,
       "version_minor": 0
      },
      "text/plain": [
       "HBox(children=(HTML(value=''), FloatProgress(value=0.0, max=10.0), HTML(value='')))"
      ]
     },
     "metadata": {},
     "output_type": "display_data"
    },
    {
     "name": "stdout",
     "output_type": "stream",
     "text": [
      "\n"
     ]
    },
    {
     "data": {
      "application/vnd.jupyter.widget-view+json": {
       "model_id": "06bcc1838e3b4cb6846ffbe7d910e709",
       "version_major": 2,
       "version_minor": 0
      },
      "text/plain": [
       "HBox(children=(HTML(value=''), FloatProgress(value=0.0, max=10.0), HTML(value='')))"
      ]
     },
     "metadata": {},
     "output_type": "display_data"
    },
    {
     "name": "stdout",
     "output_type": "stream",
     "text": [
      "\n"
     ]
    },
    {
     "data": {
      "application/vnd.jupyter.widget-view+json": {
       "model_id": "d77b4d2bec1d449fac4f97c5e181ae1b",
       "version_major": 2,
       "version_minor": 0
      },
      "text/plain": [
       "HBox(children=(HTML(value=''), FloatProgress(value=0.0, max=10.0), HTML(value='')))"
      ]
     },
     "metadata": {},
     "output_type": "display_data"
    },
    {
     "name": "stdout",
     "output_type": "stream",
     "text": [
      "\n"
     ]
    },
    {
     "data": {
      "application/vnd.jupyter.widget-view+json": {
       "model_id": "496d07f3d05d4d4e9fc722a1f9a3dfef",
       "version_major": 2,
       "version_minor": 0
      },
      "text/plain": [
       "HBox(children=(HTML(value=''), FloatProgress(value=0.0, max=10.0), HTML(value='')))"
      ]
     },
     "metadata": {},
     "output_type": "display_data"
    },
    {
     "name": "stdout",
     "output_type": "stream",
     "text": [
      "\n"
     ]
    },
    {
     "data": {
      "application/vnd.jupyter.widget-view+json": {
       "model_id": "4a2a2c57a2a4483b86ffbae73c605636",
       "version_major": 2,
       "version_minor": 0
      },
      "text/plain": [
       "HBox(children=(HTML(value=''), FloatProgress(value=0.0, max=10.0), HTML(value='')))"
      ]
     },
     "metadata": {},
     "output_type": "display_data"
    },
    {
     "name": "stdout",
     "output_type": "stream",
     "text": [
      "\n"
     ]
    },
    {
     "data": {
      "application/vnd.jupyter.widget-view+json": {
       "model_id": "4d97bfa6bd774b6f87cca975c9359317",
       "version_major": 2,
       "version_minor": 0
      },
      "text/plain": [
       "HBox(children=(HTML(value=''), FloatProgress(value=0.0, max=10.0), HTML(value='')))"
      ]
     },
     "metadata": {},
     "output_type": "display_data"
    },
    {
     "name": "stdout",
     "output_type": "stream",
     "text": [
      "\n"
     ]
    },
    {
     "data": {
      "application/vnd.jupyter.widget-view+json": {
       "model_id": "d0b70a03a0a74b12b553da1f45066022",
       "version_major": 2,
       "version_minor": 0
      },
      "text/plain": [
       "HBox(children=(HTML(value=''), FloatProgress(value=0.0, max=10.0), HTML(value='')))"
      ]
     },
     "metadata": {},
     "output_type": "display_data"
    },
    {
     "name": "stdout",
     "output_type": "stream",
     "text": [
      "\n"
     ]
    },
    {
     "data": {
      "application/vnd.jupyter.widget-view+json": {
       "model_id": "2d1998f41c764ec49ebb7f1e153c33a9",
       "version_major": 2,
       "version_minor": 0
      },
      "text/plain": [
       "HBox(children=(HTML(value=''), FloatProgress(value=0.0, max=10.0), HTML(value='')))"
      ]
     },
     "metadata": {},
     "output_type": "display_data"
    },
    {
     "name": "stdout",
     "output_type": "stream",
     "text": [
      "\n"
     ]
    },
    {
     "data": {
      "application/vnd.jupyter.widget-view+json": {
       "model_id": "2ec96a0399514d6da467781cf2a05f7b",
       "version_major": 2,
       "version_minor": 0
      },
      "text/plain": [
       "HBox(children=(HTML(value=''), FloatProgress(value=0.0, max=10.0), HTML(value='')))"
      ]
     },
     "metadata": {},
     "output_type": "display_data"
    },
    {
     "name": "stdout",
     "output_type": "stream",
     "text": [
      "\n"
     ]
    },
    {
     "data": {
      "application/vnd.jupyter.widget-view+json": {
       "model_id": "9bfa4a3fe296492bb9685af16cd61196",
       "version_major": 2,
       "version_minor": 0
      },
      "text/plain": [
       "HBox(children=(HTML(value=''), FloatProgress(value=0.0, max=10.0), HTML(value='')))"
      ]
     },
     "metadata": {},
     "output_type": "display_data"
    },
    {
     "name": "stdout",
     "output_type": "stream",
     "text": [
      "\n"
     ]
    },
    {
     "data": {
      "application/vnd.jupyter.widget-view+json": {
       "model_id": "c4a143312d8049bc948a583c2049f629",
       "version_major": 2,
       "version_minor": 0
      },
      "text/plain": [
       "HBox(children=(HTML(value=''), FloatProgress(value=0.0, max=10.0), HTML(value='')))"
      ]
     },
     "metadata": {},
     "output_type": "display_data"
    },
    {
     "name": "stdout",
     "output_type": "stream",
     "text": [
      "\n"
     ]
    },
    {
     "data": {
      "application/vnd.jupyter.widget-view+json": {
       "model_id": "3d9030ed426a424783564d36ac3cec8c",
       "version_major": 2,
       "version_minor": 0
      },
      "text/plain": [
       "HBox(children=(HTML(value=''), FloatProgress(value=0.0, max=10.0), HTML(value='')))"
      ]
     },
     "metadata": {},
     "output_type": "display_data"
    },
    {
     "name": "stdout",
     "output_type": "stream",
     "text": [
      "\n"
     ]
    },
    {
     "data": {
      "application/vnd.jupyter.widget-view+json": {
       "model_id": "5e6df64e80d949d3875134f5a61b75c2",
       "version_major": 2,
       "version_minor": 0
      },
      "text/plain": [
       "HBox(children=(HTML(value=''), FloatProgress(value=0.0, max=10.0), HTML(value='')))"
      ]
     },
     "metadata": {},
     "output_type": "display_data"
    },
    {
     "name": "stdout",
     "output_type": "stream",
     "text": [
      "\n"
     ]
    },
    {
     "data": {
      "application/vnd.jupyter.widget-view+json": {
       "model_id": "fab6f167e59d469ead8b7f1185e6dff4",
       "version_major": 2,
       "version_minor": 0
      },
      "text/plain": [
       "HBox(children=(HTML(value=''), FloatProgress(value=0.0, max=10.0), HTML(value='')))"
      ]
     },
     "metadata": {},
     "output_type": "display_data"
    },
    {
     "name": "stdout",
     "output_type": "stream",
     "text": [
      "\n"
     ]
    },
    {
     "data": {
      "application/vnd.jupyter.widget-view+json": {
       "model_id": "5fea09fcd6294d61b34d6454017964ec",
       "version_major": 2,
       "version_minor": 0
      },
      "text/plain": [
       "HBox(children=(HTML(value=''), FloatProgress(value=0.0, max=10.0), HTML(value='')))"
      ]
     },
     "metadata": {},
     "output_type": "display_data"
    },
    {
     "name": "stdout",
     "output_type": "stream",
     "text": [
      "\n"
     ]
    },
    {
     "data": {
      "application/vnd.jupyter.widget-view+json": {
       "model_id": "e7aad9233ac149f99006ca29fe13b599",
       "version_major": 2,
       "version_minor": 0
      },
      "text/plain": [
       "HBox(children=(HTML(value=''), FloatProgress(value=0.0, max=10.0), HTML(value='')))"
      ]
     },
     "metadata": {},
     "output_type": "display_data"
    },
    {
     "name": "stdout",
     "output_type": "stream",
     "text": [
      "\n"
     ]
    },
    {
     "data": {
      "application/vnd.jupyter.widget-view+json": {
       "model_id": "6fc1ab7ea9e64757a58d98e76f493e18",
       "version_major": 2,
       "version_minor": 0
      },
      "text/plain": [
       "HBox(children=(HTML(value=''), FloatProgress(value=0.0, max=10.0), HTML(value='')))"
      ]
     },
     "metadata": {},
     "output_type": "display_data"
    },
    {
     "name": "stdout",
     "output_type": "stream",
     "text": [
      "\n"
     ]
    },
    {
     "data": {
      "application/vnd.jupyter.widget-view+json": {
       "model_id": "fbf2bcb51ec14fda86b3c8f5fd11367c",
       "version_major": 2,
       "version_minor": 0
      },
      "text/plain": [
       "HBox(children=(HTML(value=''), FloatProgress(value=0.0, max=10.0), HTML(value='')))"
      ]
     },
     "metadata": {},
     "output_type": "display_data"
    },
    {
     "name": "stdout",
     "output_type": "stream",
     "text": [
      "\n"
     ]
    },
    {
     "data": {
      "application/vnd.jupyter.widget-view+json": {
       "model_id": "ba1d0a96fb814873851dfbdfc923594c",
       "version_major": 2,
       "version_minor": 0
      },
      "text/plain": [
       "HBox(children=(HTML(value=''), FloatProgress(value=0.0, max=10.0), HTML(value='')))"
      ]
     },
     "metadata": {},
     "output_type": "display_data"
    },
    {
     "name": "stdout",
     "output_type": "stream",
     "text": [
      "\n"
     ]
    },
    {
     "data": {
      "application/vnd.jupyter.widget-view+json": {
       "model_id": "5f1f4d5019714414a6d6e9c4d51abb11",
       "version_major": 2,
       "version_minor": 0
      },
      "text/plain": [
       "HBox(children=(HTML(value=''), FloatProgress(value=0.0, max=10.0), HTML(value='')))"
      ]
     },
     "metadata": {},
     "output_type": "display_data"
    },
    {
     "name": "stdout",
     "output_type": "stream",
     "text": [
      "\n"
     ]
    },
    {
     "data": {
      "application/vnd.jupyter.widget-view+json": {
       "model_id": "5ccbd8b9e6b942f8a83bd4e35a47c2fb",
       "version_major": 2,
       "version_minor": 0
      },
      "text/plain": [
       "HBox(children=(HTML(value=''), FloatProgress(value=0.0, max=10.0), HTML(value='')))"
      ]
     },
     "metadata": {},
     "output_type": "display_data"
    },
    {
     "name": "stdout",
     "output_type": "stream",
     "text": [
      "\n"
     ]
    },
    {
     "data": {
      "application/vnd.jupyter.widget-view+json": {
       "model_id": "49d9b10a13c2418eb4ac432df0433466",
       "version_major": 2,
       "version_minor": 0
      },
      "text/plain": [
       "HBox(children=(HTML(value=''), FloatProgress(value=0.0, max=10.0), HTML(value='')))"
      ]
     },
     "metadata": {},
     "output_type": "display_data"
    },
    {
     "name": "stdout",
     "output_type": "stream",
     "text": [
      "\n"
     ]
    },
    {
     "data": {
      "application/vnd.jupyter.widget-view+json": {
       "model_id": "cfb2b1ec2198434c84def25da704f68f",
       "version_major": 2,
       "version_minor": 0
      },
      "text/plain": [
       "HBox(children=(HTML(value=''), FloatProgress(value=0.0, max=10.0), HTML(value='')))"
      ]
     },
     "metadata": {},
     "output_type": "display_data"
    },
    {
     "name": "stdout",
     "output_type": "stream",
     "text": [
      "\n",
      "\n",
      "Wall time: 9min 28s\n"
     ]
    }
   ],
   "source": [
    "%%time\n",
    "data_lengths = []\n",
    "\n",
    "for window_size, session_length, time_limit in tqdm(list(itertools.product([10, 7, 5], [15, 10, 7, 5], [5, 10, 15, 20, 30]))):\n",
    "    if window_size <= session_length:\n",
    "        train_data = prepare_train_set(os.path.join(PATH_TO_DATA, '10users'), \n",
    "                                       os.path.join(PATH_TO_DATA, 'site_freq_10users.pkl'),\n",
    "                                     session_length, window_size, time_limit*60)\n",
    "        X_sparse = prepare_csr(train_data.iloc[:, :session_length].values)\n",
    "        y = train_data.user_id.values\n",
    "        data_lengths.append(X_sparse.shape[0])\n",
    "        with open(os.path.join(os.path.join(PATH_TO_EXPS, 'swt_tuning'), \n",
    "                                  'X_sparse_10users_s'+str(session_length)+'_w'+str(window_size)+'_t'+str(time_limit)+'.pkl'),\n",
    "                     'wb') as X_pkl:\n",
    "            pickle.dump(X_sparse, X_pkl, protocol=2)\n",
    "        with open(os.path.join(os.path.join(PATH_TO_EXPS, 'swt_tuning'), \n",
    "                     'y_10users_s'+str(session_length)+'_w'+str(window_size)+'_t'+str(time_limit)+'.pkl'), 'wb') as y_pkl:\n",
    "            pickle.dump(y, y_pkl, protocol=2)"
   ]
  },
  {
   "cell_type": "markdown",
   "metadata": {},
   "source": [
    "### Подготовка датасетов на 10 и 150 пользователей с параметрами аналогичными данным из соревнования Catch Me"
   ]
  },
  {
   "cell_type": "code",
   "execution_count": 5,
   "metadata": {},
   "outputs": [
    {
     "data": {
      "application/vnd.jupyter.widget-view+json": {
       "model_id": "55d8f3273a4e466c9a1af933bce8f83a",
       "version_major": 2,
       "version_minor": 0
      },
      "text/plain": [
       "HBox(children=(HTML(value=''), FloatProgress(value=0.0, max=10.0), HTML(value='')))"
      ]
     },
     "metadata": {},
     "output_type": "display_data"
    },
    {
     "name": "stdout",
     "output_type": "stream",
     "text": [
      "\n"
     ]
    },
    {
     "data": {
      "application/vnd.jupyter.widget-view+json": {
       "model_id": "582d8f79109d4ff1beace03746dc72a0",
       "version_major": 2,
       "version_minor": 0
      },
      "text/plain": [
       "HBox(children=(HTML(value=''), FloatProgress(value=0.0, max=150.0), HTML(value='')))"
      ]
     },
     "metadata": {},
     "output_type": "display_data"
    },
    {
     "name": "stdout",
     "output_type": "stream",
     "text": [
      "\n",
      "Wall time: 1min 18s\n"
     ]
    }
   ],
   "source": [
    "%%time\n",
    "train_data_10users = prepare_train_set(os.path.join(PATH_TO_DATA, '10users'), \n",
    "                                       os.path.join(PATH_TO_DATA, 'site_freq_10users.pkl'),\n",
    "                                     session_length=10, window_size=10, time_limit=30*60)\n",
    "train_data_150users = prepare_train_set(os.path.join(PATH_TO_DATA, '150users'), \n",
    "                                        os.path.join(PATH_TO_DATA, 'site_freq_150users.pkl'),\n",
    "                                     session_length=10, window_size=10, time_limit=30*60)"
   ]
  },
  {
   "cell_type": "code",
   "execution_count": 6,
   "metadata": {},
   "outputs": [
    {
     "data": {
      "text/html": [
       "<div>\n",
       "<style scoped>\n",
       "    .dataframe tbody tr th:only-of-type {\n",
       "        vertical-align: middle;\n",
       "    }\n",
       "\n",
       "    .dataframe tbody tr th {\n",
       "        vertical-align: top;\n",
       "    }\n",
       "\n",
       "    .dataframe thead th {\n",
       "        text-align: right;\n",
       "    }\n",
       "</style>\n",
       "<table border=\"1\" class=\"dataframe\">\n",
       "  <thead>\n",
       "    <tr style=\"text-align: right;\">\n",
       "      <th></th>\n",
       "      <th>site1</th>\n",
       "      <th>site2</th>\n",
       "      <th>site3</th>\n",
       "      <th>site4</th>\n",
       "      <th>site5</th>\n",
       "      <th>site6</th>\n",
       "      <th>site7</th>\n",
       "      <th>site8</th>\n",
       "      <th>site9</th>\n",
       "      <th>site10</th>\n",
       "      <th>...</th>\n",
       "      <th>diff_time8</th>\n",
       "      <th>diff_time9</th>\n",
       "      <th>diff_time10</th>\n",
       "      <th>start_hour</th>\n",
       "      <th>day_of_week</th>\n",
       "      <th>year</th>\n",
       "      <th>month</th>\n",
       "      <th>day</th>\n",
       "      <th>time_of_day</th>\n",
       "      <th>user_id</th>\n",
       "    </tr>\n",
       "    <tr>\n",
       "      <th>session_id</th>\n",
       "      <th></th>\n",
       "      <th></th>\n",
       "      <th></th>\n",
       "      <th></th>\n",
       "      <th></th>\n",
       "      <th></th>\n",
       "      <th></th>\n",
       "      <th></th>\n",
       "      <th></th>\n",
       "      <th></th>\n",
       "      <th></th>\n",
       "      <th></th>\n",
       "      <th></th>\n",
       "      <th></th>\n",
       "      <th></th>\n",
       "      <th></th>\n",
       "      <th></th>\n",
       "      <th></th>\n",
       "      <th></th>\n",
       "      <th></th>\n",
       "      <th></th>\n",
       "    </tr>\n",
       "  </thead>\n",
       "  <tbody>\n",
       "    <tr>\n",
       "      <th>1</th>\n",
       "      <td>192</td>\n",
       "      <td>574</td>\n",
       "      <td>133</td>\n",
       "      <td>3</td>\n",
       "      <td>133</td>\n",
       "      <td>133</td>\n",
       "      <td>3</td>\n",
       "      <td>133</td>\n",
       "      <td>203</td>\n",
       "      <td>133</td>\n",
       "      <td>...</td>\n",
       "      <td>1</td>\n",
       "      <td>0</td>\n",
       "      <td>0</td>\n",
       "      <td>8</td>\n",
       "      <td>4</td>\n",
       "      <td>2013</td>\n",
       "      <td>11</td>\n",
       "      <td>15</td>\n",
       "      <td>0</td>\n",
       "      <td>31</td>\n",
       "    </tr>\n",
       "    <tr>\n",
       "      <th>2</th>\n",
       "      <td>415</td>\n",
       "      <td>193</td>\n",
       "      <td>674</td>\n",
       "      <td>254</td>\n",
       "      <td>133</td>\n",
       "      <td>31</td>\n",
       "      <td>393</td>\n",
       "      <td>3305</td>\n",
       "      <td>217</td>\n",
       "      <td>55</td>\n",
       "      <td>...</td>\n",
       "      <td>3</td>\n",
       "      <td>8</td>\n",
       "      <td>1</td>\n",
       "      <td>8</td>\n",
       "      <td>4</td>\n",
       "      <td>2013</td>\n",
       "      <td>11</td>\n",
       "      <td>15</td>\n",
       "      <td>0</td>\n",
       "      <td>31</td>\n",
       "    </tr>\n",
       "    <tr>\n",
       "      <th>3</th>\n",
       "      <td>55</td>\n",
       "      <td>3</td>\n",
       "      <td>55</td>\n",
       "      <td>55</td>\n",
       "      <td>5</td>\n",
       "      <td>293</td>\n",
       "      <td>415</td>\n",
       "      <td>333</td>\n",
       "      <td>897</td>\n",
       "      <td>55</td>\n",
       "      <td>...</td>\n",
       "      <td>0</td>\n",
       "      <td>0</td>\n",
       "      <td>0</td>\n",
       "      <td>8</td>\n",
       "      <td>4</td>\n",
       "      <td>2013</td>\n",
       "      <td>11</td>\n",
       "      <td>15</td>\n",
       "      <td>0</td>\n",
       "      <td>31</td>\n",
       "    </tr>\n",
       "    <tr>\n",
       "      <th>4</th>\n",
       "      <td>473</td>\n",
       "      <td>3306</td>\n",
       "      <td>473</td>\n",
       "      <td>55</td>\n",
       "      <td>55</td>\n",
       "      <td>55</td>\n",
       "      <td>55</td>\n",
       "      <td>937</td>\n",
       "      <td>199</td>\n",
       "      <td>123</td>\n",
       "      <td>...</td>\n",
       "      <td>0</td>\n",
       "      <td>0</td>\n",
       "      <td>0</td>\n",
       "      <td>8</td>\n",
       "      <td>4</td>\n",
       "      <td>2013</td>\n",
       "      <td>11</td>\n",
       "      <td>15</td>\n",
       "      <td>0</td>\n",
       "      <td>31</td>\n",
       "    </tr>\n",
       "    <tr>\n",
       "      <th>5</th>\n",
       "      <td>342</td>\n",
       "      <td>55</td>\n",
       "      <td>5</td>\n",
       "      <td>3307</td>\n",
       "      <td>258</td>\n",
       "      <td>211</td>\n",
       "      <td>3308</td>\n",
       "      <td>2086</td>\n",
       "      <td>675</td>\n",
       "      <td>2086</td>\n",
       "      <td>...</td>\n",
       "      <td>1</td>\n",
       "      <td>0</td>\n",
       "      <td>1</td>\n",
       "      <td>8</td>\n",
       "      <td>4</td>\n",
       "      <td>2013</td>\n",
       "      <td>11</td>\n",
       "      <td>15</td>\n",
       "      <td>0</td>\n",
       "      <td>31</td>\n",
       "    </tr>\n",
       "  </tbody>\n",
       "</table>\n",
       "<p>5 rows × 27 columns</p>\n",
       "</div>"
      ],
      "text/plain": [
       "            site1  site2  site3  site4  site5  site6  site7  site8  site9  \\\n",
       "session_id                                                                  \n",
       "1             192    574    133      3    133    133      3    133    203   \n",
       "2             415    193    674    254    133     31    393   3305    217   \n",
       "3              55      3     55     55      5    293    415    333    897   \n",
       "4             473   3306    473     55     55     55     55    937    199   \n",
       "5             342     55      5   3307    258    211   3308   2086    675   \n",
       "\n",
       "            site10  ...  diff_time8  diff_time9  diff_time10  start_hour  \\\n",
       "session_id          ...                                                    \n",
       "1              133  ...           1           0            0           8   \n",
       "2               55  ...           3           8            1           8   \n",
       "3               55  ...           0           0            0           8   \n",
       "4              123  ...           0           0            0           8   \n",
       "5             2086  ...           1           0            1           8   \n",
       "\n",
       "            day_of_week  year  month  day  time_of_day  user_id  \n",
       "session_id                                                       \n",
       "1                     4  2013     11   15            0       31  \n",
       "2                     4  2013     11   15            0       31  \n",
       "3                     4  2013     11   15            0       31  \n",
       "4                     4  2013     11   15            0       31  \n",
       "5                     4  2013     11   15            0       31  \n",
       "\n",
       "[5 rows x 27 columns]"
      ]
     },
     "execution_count": 6,
     "metadata": {},
     "output_type": "execute_result"
    }
   ],
   "source": [
    "train_data_10users.head()"
   ]
  },
  {
   "cell_type": "code",
   "execution_count": 10,
   "metadata": {},
   "outputs": [],
   "source": [
    "train_data_10users.to_csv(os.path.join(PATH_TO_EXPS, \n",
    "                                        'train_data_10users_for_catch_me.csv'), \n",
    "                         index_label='session_id', float_format='%d')\n",
    "train_data_150users.to_csv(os.path.join(PATH_TO_EXPS, \n",
    "                                       'train_data_150users_for_catch_me.csv'), \n",
    "                        index_label='session_id', float_format='%d')"
   ]
  },
  {
   "cell_type": "markdown",
   "metadata": {},
   "source": [
    "## Подготовка данных для kaggle Catch me"
   ]
  },
  {
   "cell_type": "code",
   "execution_count": 5,
   "metadata": {},
   "outputs": [],
   "source": [
    "PATH_TO_DATA = '..\\\\capstone_user_identification'"
   ]
  },
  {
   "cell_type": "code",
   "execution_count": 6,
   "metadata": {},
   "outputs": [],
   "source": [
    "train_df = pd.read_csv(os.path.join(PATH_TO_DATA, 'train_sessions.csv'),\n",
    "                       index_col='session_id')\n",
    "test_df = pd.read_csv(os.path.join(PATH_TO_DATA, 'test_sessions.csv'),\n",
    "                      index_col='session_id')"
   ]
  },
  {
   "cell_type": "code",
   "execution_count": 15,
   "metadata": {},
   "outputs": [
    {
     "data": {
      "text/html": [
       "<div>\n",
       "<style scoped>\n",
       "    .dataframe tbody tr th:only-of-type {\n",
       "        vertical-align: middle;\n",
       "    }\n",
       "\n",
       "    .dataframe tbody tr th {\n",
       "        vertical-align: top;\n",
       "    }\n",
       "\n",
       "    .dataframe thead th {\n",
       "        text-align: right;\n",
       "    }\n",
       "</style>\n",
       "<table border=\"1\" class=\"dataframe\">\n",
       "  <thead>\n",
       "    <tr style=\"text-align: right;\">\n",
       "      <th></th>\n",
       "      <th>site1</th>\n",
       "      <th>time1</th>\n",
       "      <th>site2</th>\n",
       "      <th>time2</th>\n",
       "      <th>site3</th>\n",
       "      <th>time3</th>\n",
       "      <th>site4</th>\n",
       "      <th>time4</th>\n",
       "      <th>site5</th>\n",
       "      <th>time5</th>\n",
       "      <th>...</th>\n",
       "      <th>time6</th>\n",
       "      <th>site7</th>\n",
       "      <th>time7</th>\n",
       "      <th>site8</th>\n",
       "      <th>time8</th>\n",
       "      <th>site9</th>\n",
       "      <th>time9</th>\n",
       "      <th>site10</th>\n",
       "      <th>time10</th>\n",
       "      <th>target</th>\n",
       "    </tr>\n",
       "    <tr>\n",
       "      <th>session_id</th>\n",
       "      <th></th>\n",
       "      <th></th>\n",
       "      <th></th>\n",
       "      <th></th>\n",
       "      <th></th>\n",
       "      <th></th>\n",
       "      <th></th>\n",
       "      <th></th>\n",
       "      <th></th>\n",
       "      <th></th>\n",
       "      <th></th>\n",
       "      <th></th>\n",
       "      <th></th>\n",
       "      <th></th>\n",
       "      <th></th>\n",
       "      <th></th>\n",
       "      <th></th>\n",
       "      <th></th>\n",
       "      <th></th>\n",
       "      <th></th>\n",
       "      <th></th>\n",
       "    </tr>\n",
       "  </thead>\n",
       "  <tbody>\n",
       "    <tr>\n",
       "      <th>1</th>\n",
       "      <td>718</td>\n",
       "      <td>2014-02-20 10:02:45</td>\n",
       "      <td>NaN</td>\n",
       "      <td>NaN</td>\n",
       "      <td>NaN</td>\n",
       "      <td>NaN</td>\n",
       "      <td>NaN</td>\n",
       "      <td>NaN</td>\n",
       "      <td>NaN</td>\n",
       "      <td>NaN</td>\n",
       "      <td>...</td>\n",
       "      <td>NaN</td>\n",
       "      <td>NaN</td>\n",
       "      <td>NaN</td>\n",
       "      <td>NaN</td>\n",
       "      <td>NaN</td>\n",
       "      <td>NaN</td>\n",
       "      <td>NaN</td>\n",
       "      <td>NaN</td>\n",
       "      <td>NaN</td>\n",
       "      <td>0</td>\n",
       "    </tr>\n",
       "    <tr>\n",
       "      <th>2</th>\n",
       "      <td>890</td>\n",
       "      <td>2014-02-22 11:19:50</td>\n",
       "      <td>941.0</td>\n",
       "      <td>2014-02-22 11:19:50</td>\n",
       "      <td>3847.0</td>\n",
       "      <td>2014-02-22 11:19:51</td>\n",
       "      <td>941.0</td>\n",
       "      <td>2014-02-22 11:19:51</td>\n",
       "      <td>942.0</td>\n",
       "      <td>2014-02-22 11:19:51</td>\n",
       "      <td>...</td>\n",
       "      <td>2014-02-22 11:19:51</td>\n",
       "      <td>3847.0</td>\n",
       "      <td>2014-02-22 11:19:52</td>\n",
       "      <td>3846.0</td>\n",
       "      <td>2014-02-22 11:19:52</td>\n",
       "      <td>1516.0</td>\n",
       "      <td>2014-02-22 11:20:15</td>\n",
       "      <td>1518.0</td>\n",
       "      <td>2014-02-22 11:20:16</td>\n",
       "      <td>0</td>\n",
       "    </tr>\n",
       "    <tr>\n",
       "      <th>3</th>\n",
       "      <td>14769</td>\n",
       "      <td>2013-12-16 16:40:17</td>\n",
       "      <td>39.0</td>\n",
       "      <td>2013-12-16 16:40:18</td>\n",
       "      <td>14768.0</td>\n",
       "      <td>2013-12-16 16:40:19</td>\n",
       "      <td>14769.0</td>\n",
       "      <td>2013-12-16 16:40:19</td>\n",
       "      <td>37.0</td>\n",
       "      <td>2013-12-16 16:40:19</td>\n",
       "      <td>...</td>\n",
       "      <td>2013-12-16 16:40:19</td>\n",
       "      <td>14768.0</td>\n",
       "      <td>2013-12-16 16:40:20</td>\n",
       "      <td>14768.0</td>\n",
       "      <td>2013-12-16 16:40:21</td>\n",
       "      <td>14768.0</td>\n",
       "      <td>2013-12-16 16:40:22</td>\n",
       "      <td>14768.0</td>\n",
       "      <td>2013-12-16 16:40:24</td>\n",
       "      <td>0</td>\n",
       "    </tr>\n",
       "    <tr>\n",
       "      <th>4</th>\n",
       "      <td>782</td>\n",
       "      <td>2014-03-28 10:52:12</td>\n",
       "      <td>782.0</td>\n",
       "      <td>2014-03-28 10:52:42</td>\n",
       "      <td>782.0</td>\n",
       "      <td>2014-03-28 10:53:12</td>\n",
       "      <td>782.0</td>\n",
       "      <td>2014-03-28 10:53:42</td>\n",
       "      <td>782.0</td>\n",
       "      <td>2014-03-28 10:54:12</td>\n",
       "      <td>...</td>\n",
       "      <td>2014-03-28 10:54:42</td>\n",
       "      <td>782.0</td>\n",
       "      <td>2014-03-28 10:55:12</td>\n",
       "      <td>782.0</td>\n",
       "      <td>2014-03-28 10:55:42</td>\n",
       "      <td>782.0</td>\n",
       "      <td>2014-03-28 10:56:12</td>\n",
       "      <td>782.0</td>\n",
       "      <td>2014-03-28 10:56:42</td>\n",
       "      <td>0</td>\n",
       "    </tr>\n",
       "    <tr>\n",
       "      <th>5</th>\n",
       "      <td>22</td>\n",
       "      <td>2014-02-28 10:53:05</td>\n",
       "      <td>177.0</td>\n",
       "      <td>2014-02-28 10:55:22</td>\n",
       "      <td>175.0</td>\n",
       "      <td>2014-02-28 10:55:22</td>\n",
       "      <td>178.0</td>\n",
       "      <td>2014-02-28 10:55:23</td>\n",
       "      <td>177.0</td>\n",
       "      <td>2014-02-28 10:55:23</td>\n",
       "      <td>...</td>\n",
       "      <td>2014-02-28 10:55:59</td>\n",
       "      <td>175.0</td>\n",
       "      <td>2014-02-28 10:55:59</td>\n",
       "      <td>177.0</td>\n",
       "      <td>2014-02-28 10:55:59</td>\n",
       "      <td>177.0</td>\n",
       "      <td>2014-02-28 10:57:06</td>\n",
       "      <td>178.0</td>\n",
       "      <td>2014-02-28 10:57:11</td>\n",
       "      <td>0</td>\n",
       "    </tr>\n",
       "  </tbody>\n",
       "</table>\n",
       "<p>5 rows × 21 columns</p>\n",
       "</div>"
      ],
      "text/plain": [
       "            site1                time1  site2                time2    site3  \\\n",
       "session_id                                                                    \n",
       "1             718  2014-02-20 10:02:45    NaN                  NaN      NaN   \n",
       "2             890  2014-02-22 11:19:50  941.0  2014-02-22 11:19:50   3847.0   \n",
       "3           14769  2013-12-16 16:40:17   39.0  2013-12-16 16:40:18  14768.0   \n",
       "4             782  2014-03-28 10:52:12  782.0  2014-03-28 10:52:42    782.0   \n",
       "5              22  2014-02-28 10:53:05  177.0  2014-02-28 10:55:22    175.0   \n",
       "\n",
       "                          time3    site4                time4  site5  \\\n",
       "session_id                                                             \n",
       "1                           NaN      NaN                  NaN    NaN   \n",
       "2           2014-02-22 11:19:51    941.0  2014-02-22 11:19:51  942.0   \n",
       "3           2013-12-16 16:40:19  14769.0  2013-12-16 16:40:19   37.0   \n",
       "4           2014-03-28 10:53:12    782.0  2014-03-28 10:53:42  782.0   \n",
       "5           2014-02-28 10:55:22    178.0  2014-02-28 10:55:23  177.0   \n",
       "\n",
       "                          time5  ...                time6    site7  \\\n",
       "session_id                       ...                                 \n",
       "1                           NaN  ...                  NaN      NaN   \n",
       "2           2014-02-22 11:19:51  ...  2014-02-22 11:19:51   3847.0   \n",
       "3           2013-12-16 16:40:19  ...  2013-12-16 16:40:19  14768.0   \n",
       "4           2014-03-28 10:54:12  ...  2014-03-28 10:54:42    782.0   \n",
       "5           2014-02-28 10:55:23  ...  2014-02-28 10:55:59    175.0   \n",
       "\n",
       "                          time7    site8                time8    site9  \\\n",
       "session_id                                                               \n",
       "1                           NaN      NaN                  NaN      NaN   \n",
       "2           2014-02-22 11:19:52   3846.0  2014-02-22 11:19:52   1516.0   \n",
       "3           2013-12-16 16:40:20  14768.0  2013-12-16 16:40:21  14768.0   \n",
       "4           2014-03-28 10:55:12    782.0  2014-03-28 10:55:42    782.0   \n",
       "5           2014-02-28 10:55:59    177.0  2014-02-28 10:55:59    177.0   \n",
       "\n",
       "                          time9   site10               time10 target  \n",
       "session_id                                                            \n",
       "1                           NaN      NaN                  NaN      0  \n",
       "2           2014-02-22 11:20:15   1518.0  2014-02-22 11:20:16      0  \n",
       "3           2013-12-16 16:40:22  14768.0  2013-12-16 16:40:24      0  \n",
       "4           2014-03-28 10:56:12    782.0  2014-03-28 10:56:42      0  \n",
       "5           2014-02-28 10:57:06    178.0  2014-02-28 10:57:11      0  \n",
       "\n",
       "[5 rows x 21 columns]"
      ]
     },
     "execution_count": 15,
     "metadata": {},
     "output_type": "execute_result"
    }
   ],
   "source": [
    "train_df.head()"
   ]
  },
  {
   "cell_type": "code",
   "execution_count": 38,
   "metadata": {},
   "outputs": [
    {
     "data": {
      "text/html": [
       "<div>\n",
       "<style scoped>\n",
       "    .dataframe tbody tr th:only-of-type {\n",
       "        vertical-align: middle;\n",
       "    }\n",
       "\n",
       "    .dataframe tbody tr th {\n",
       "        vertical-align: top;\n",
       "    }\n",
       "\n",
       "    .dataframe thead th {\n",
       "        text-align: right;\n",
       "    }\n",
       "</style>\n",
       "<table border=\"1\" class=\"dataframe\">\n",
       "  <thead>\n",
       "    <tr style=\"text-align: right;\">\n",
       "      <th></th>\n",
       "      <th>time1</th>\n",
       "      <th>time2</th>\n",
       "      <th>time3</th>\n",
       "      <th>time4</th>\n",
       "      <th>time5</th>\n",
       "      <th>time6</th>\n",
       "      <th>time7</th>\n",
       "      <th>time8</th>\n",
       "      <th>time9</th>\n",
       "      <th>time10</th>\n",
       "    </tr>\n",
       "    <tr>\n",
       "      <th>session_id</th>\n",
       "      <th></th>\n",
       "      <th></th>\n",
       "      <th></th>\n",
       "      <th></th>\n",
       "      <th></th>\n",
       "      <th></th>\n",
       "      <th></th>\n",
       "      <th></th>\n",
       "      <th></th>\n",
       "      <th></th>\n",
       "    </tr>\n",
       "  </thead>\n",
       "  <tbody>\n",
       "    <tr>\n",
       "      <th>1</th>\n",
       "      <td>2014-02-20 10:02:45</td>\n",
       "      <td>NaT</td>\n",
       "      <td>NaT</td>\n",
       "      <td>NaT</td>\n",
       "      <td>NaT</td>\n",
       "      <td>NaT</td>\n",
       "      <td>NaT</td>\n",
       "      <td>NaT</td>\n",
       "      <td>NaT</td>\n",
       "      <td>NaT</td>\n",
       "    </tr>\n",
       "    <tr>\n",
       "      <th>2</th>\n",
       "      <td>2014-02-22 11:19:50</td>\n",
       "      <td>2014-02-22 11:19:50</td>\n",
       "      <td>2014-02-22 11:19:51</td>\n",
       "      <td>2014-02-22 11:19:51</td>\n",
       "      <td>2014-02-22 11:19:51</td>\n",
       "      <td>2014-02-22 11:19:51</td>\n",
       "      <td>2014-02-22 11:19:52</td>\n",
       "      <td>2014-02-22 11:19:52</td>\n",
       "      <td>2014-02-22 11:20:15</td>\n",
       "      <td>2014-02-22 11:20:16</td>\n",
       "    </tr>\n",
       "    <tr>\n",
       "      <th>3</th>\n",
       "      <td>2013-12-16 16:40:17</td>\n",
       "      <td>2013-12-16 16:40:18</td>\n",
       "      <td>2013-12-16 16:40:19</td>\n",
       "      <td>2013-12-16 16:40:19</td>\n",
       "      <td>2013-12-16 16:40:19</td>\n",
       "      <td>2013-12-16 16:40:19</td>\n",
       "      <td>2013-12-16 16:40:20</td>\n",
       "      <td>2013-12-16 16:40:21</td>\n",
       "      <td>2013-12-16 16:40:22</td>\n",
       "      <td>2013-12-16 16:40:24</td>\n",
       "    </tr>\n",
       "    <tr>\n",
       "      <th>4</th>\n",
       "      <td>2014-03-28 10:52:12</td>\n",
       "      <td>2014-03-28 10:52:42</td>\n",
       "      <td>2014-03-28 10:53:12</td>\n",
       "      <td>2014-03-28 10:53:42</td>\n",
       "      <td>2014-03-28 10:54:12</td>\n",
       "      <td>2014-03-28 10:54:42</td>\n",
       "      <td>2014-03-28 10:55:12</td>\n",
       "      <td>2014-03-28 10:55:42</td>\n",
       "      <td>2014-03-28 10:56:12</td>\n",
       "      <td>2014-03-28 10:56:42</td>\n",
       "    </tr>\n",
       "    <tr>\n",
       "      <th>5</th>\n",
       "      <td>2014-02-28 10:53:05</td>\n",
       "      <td>2014-02-28 10:55:22</td>\n",
       "      <td>2014-02-28 10:55:22</td>\n",
       "      <td>2014-02-28 10:55:23</td>\n",
       "      <td>2014-02-28 10:55:23</td>\n",
       "      <td>2014-02-28 10:55:59</td>\n",
       "      <td>2014-02-28 10:55:59</td>\n",
       "      <td>2014-02-28 10:55:59</td>\n",
       "      <td>2014-02-28 10:57:06</td>\n",
       "      <td>2014-02-28 10:57:11</td>\n",
       "    </tr>\n",
       "    <tr>\n",
       "      <th>...</th>\n",
       "      <td>...</td>\n",
       "      <td>...</td>\n",
       "      <td>...</td>\n",
       "      <td>...</td>\n",
       "      <td>...</td>\n",
       "      <td>...</td>\n",
       "      <td>...</td>\n",
       "      <td>...</td>\n",
       "      <td>...</td>\n",
       "      <td>...</td>\n",
       "    </tr>\n",
       "    <tr>\n",
       "      <th>253557</th>\n",
       "      <td>2013-11-25 10:26:54</td>\n",
       "      <td>2013-11-25 10:26:58</td>\n",
       "      <td>2013-11-25 10:27:03</td>\n",
       "      <td>2013-11-25 10:27:04</td>\n",
       "      <td>2013-11-25 10:27:13</td>\n",
       "      <td>2013-11-25 10:27:16</td>\n",
       "      <td>2013-11-25 10:27:28</td>\n",
       "      <td>2013-11-25 10:27:40</td>\n",
       "      <td>2013-11-25 10:27:52</td>\n",
       "      <td>2013-11-25 10:27:53</td>\n",
       "    </tr>\n",
       "    <tr>\n",
       "      <th>253558</th>\n",
       "      <td>2013-03-12 16:01:15</td>\n",
       "      <td>2013-03-12 16:01:16</td>\n",
       "      <td>2013-03-12 16:01:16</td>\n",
       "      <td>2013-03-12 16:01:17</td>\n",
       "      <td>2013-03-12 16:01:17</td>\n",
       "      <td>2013-03-12 16:01:17</td>\n",
       "      <td>2013-03-12 16:01:18</td>\n",
       "      <td>2013-03-12 16:01:18</td>\n",
       "      <td>2013-03-12 16:01:18</td>\n",
       "      <td>2013-03-12 16:01:18</td>\n",
       "    </tr>\n",
       "    <tr>\n",
       "      <th>253559</th>\n",
       "      <td>2013-09-12 14:05:03</td>\n",
       "      <td>2013-09-12 14:05:10</td>\n",
       "      <td>2013-09-12 14:05:10</td>\n",
       "      <td>2013-09-12 14:06:29</td>\n",
       "      <td>2013-09-12 14:06:30</td>\n",
       "      <td>NaT</td>\n",
       "      <td>NaT</td>\n",
       "      <td>NaT</td>\n",
       "      <td>NaT</td>\n",
       "      <td>NaT</td>\n",
       "    </tr>\n",
       "    <tr>\n",
       "      <th>253560</th>\n",
       "      <td>2013-12-19 15:20:22</td>\n",
       "      <td>2013-12-19 15:20:22</td>\n",
       "      <td>2013-12-19 15:20:22</td>\n",
       "      <td>2013-12-19 15:20:22</td>\n",
       "      <td>2013-12-19 15:20:22</td>\n",
       "      <td>2013-12-19 15:20:23</td>\n",
       "      <td>2013-12-19 15:20:23</td>\n",
       "      <td>2013-12-19 15:20:23</td>\n",
       "      <td>2013-12-19 15:20:24</td>\n",
       "      <td>2013-12-19 15:20:24</td>\n",
       "    </tr>\n",
       "    <tr>\n",
       "      <th>253561</th>\n",
       "      <td>2014-04-25 09:56:52</td>\n",
       "      <td>2014-04-25 09:56:53</td>\n",
       "      <td>2014-04-25 09:56:53</td>\n",
       "      <td>2014-04-25 09:56:54</td>\n",
       "      <td>2014-04-25 09:56:54</td>\n",
       "      <td>2014-04-25 09:56:54</td>\n",
       "      <td>2014-04-25 09:56:54</td>\n",
       "      <td>2014-04-25 09:56:55</td>\n",
       "      <td>2014-04-25 09:56:55</td>\n",
       "      <td>2014-04-25 09:56:55</td>\n",
       "    </tr>\n",
       "  </tbody>\n",
       "</table>\n",
       "<p>253561 rows × 10 columns</p>\n",
       "</div>"
      ],
      "text/plain": [
       "                         time1               time2               time3  \\\n",
       "session_id                                                               \n",
       "1          2014-02-20 10:02:45                 NaT                 NaT   \n",
       "2          2014-02-22 11:19:50 2014-02-22 11:19:50 2014-02-22 11:19:51   \n",
       "3          2013-12-16 16:40:17 2013-12-16 16:40:18 2013-12-16 16:40:19   \n",
       "4          2014-03-28 10:52:12 2014-03-28 10:52:42 2014-03-28 10:53:12   \n",
       "5          2014-02-28 10:53:05 2014-02-28 10:55:22 2014-02-28 10:55:22   \n",
       "...                        ...                 ...                 ...   \n",
       "253557     2013-11-25 10:26:54 2013-11-25 10:26:58 2013-11-25 10:27:03   \n",
       "253558     2013-03-12 16:01:15 2013-03-12 16:01:16 2013-03-12 16:01:16   \n",
       "253559     2013-09-12 14:05:03 2013-09-12 14:05:10 2013-09-12 14:05:10   \n",
       "253560     2013-12-19 15:20:22 2013-12-19 15:20:22 2013-12-19 15:20:22   \n",
       "253561     2014-04-25 09:56:52 2014-04-25 09:56:53 2014-04-25 09:56:53   \n",
       "\n",
       "                         time4               time5               time6  \\\n",
       "session_id                                                               \n",
       "1                          NaT                 NaT                 NaT   \n",
       "2          2014-02-22 11:19:51 2014-02-22 11:19:51 2014-02-22 11:19:51   \n",
       "3          2013-12-16 16:40:19 2013-12-16 16:40:19 2013-12-16 16:40:19   \n",
       "4          2014-03-28 10:53:42 2014-03-28 10:54:12 2014-03-28 10:54:42   \n",
       "5          2014-02-28 10:55:23 2014-02-28 10:55:23 2014-02-28 10:55:59   \n",
       "...                        ...                 ...                 ...   \n",
       "253557     2013-11-25 10:27:04 2013-11-25 10:27:13 2013-11-25 10:27:16   \n",
       "253558     2013-03-12 16:01:17 2013-03-12 16:01:17 2013-03-12 16:01:17   \n",
       "253559     2013-09-12 14:06:29 2013-09-12 14:06:30                 NaT   \n",
       "253560     2013-12-19 15:20:22 2013-12-19 15:20:22 2013-12-19 15:20:23   \n",
       "253561     2014-04-25 09:56:54 2014-04-25 09:56:54 2014-04-25 09:56:54   \n",
       "\n",
       "                         time7               time8               time9  \\\n",
       "session_id                                                               \n",
       "1                          NaT                 NaT                 NaT   \n",
       "2          2014-02-22 11:19:52 2014-02-22 11:19:52 2014-02-22 11:20:15   \n",
       "3          2013-12-16 16:40:20 2013-12-16 16:40:21 2013-12-16 16:40:22   \n",
       "4          2014-03-28 10:55:12 2014-03-28 10:55:42 2014-03-28 10:56:12   \n",
       "5          2014-02-28 10:55:59 2014-02-28 10:55:59 2014-02-28 10:57:06   \n",
       "...                        ...                 ...                 ...   \n",
       "253557     2013-11-25 10:27:28 2013-11-25 10:27:40 2013-11-25 10:27:52   \n",
       "253558     2013-03-12 16:01:18 2013-03-12 16:01:18 2013-03-12 16:01:18   \n",
       "253559                     NaT                 NaT                 NaT   \n",
       "253560     2013-12-19 15:20:23 2013-12-19 15:20:23 2013-12-19 15:20:24   \n",
       "253561     2014-04-25 09:56:54 2014-04-25 09:56:55 2014-04-25 09:56:55   \n",
       "\n",
       "                        time10  \n",
       "session_id                      \n",
       "1                          NaT  \n",
       "2          2014-02-22 11:20:16  \n",
       "3          2013-12-16 16:40:24  \n",
       "4          2014-03-28 10:56:42  \n",
       "5          2014-02-28 10:57:11  \n",
       "...                        ...  \n",
       "253557     2013-11-25 10:27:53  \n",
       "253558     2013-03-12 16:01:18  \n",
       "253559                     NaT  \n",
       "253560     2013-12-19 15:20:24  \n",
       "253561     2014-04-25 09:56:55  \n",
       "\n",
       "[253561 rows x 10 columns]"
      ]
     },
     "execution_count": 38,
     "metadata": {},
     "output_type": "execute_result"
    }
   ],
   "source": [
    "timestamp = train_df[['time'+str(i) for i in range(1, 11)]].apply(pd.to_datetime)\n",
    "timestamp"
   ]
  },
  {
   "cell_type": "code",
   "execution_count": 41,
   "metadata": {},
   "outputs": [
    {
     "data": {
      "text/plain": [
       "0     NaN\n",
       "1     NaN\n",
       "2     NaN\n",
       "3     NaN\n",
       "4     NaN\n",
       "5     NaN\n",
       "6     NaN\n",
       "7     NaN\n",
       "8     NaN\n",
       "9     NaN\n",
       "10    NaN\n",
       "11    0.0\n",
       "12    1.0\n",
       "13    0.0\n",
       "14    0.0\n",
       "dtype: float64"
      ]
     },
     "execution_count": 41,
     "metadata": {},
     "output_type": "execute_result"
    }
   ],
   "source": [
    "diff_times = pd.Series(timestamp.values.ravel())\n",
    "diff_times = (diff_times - diff_times.shift(1)).apply(lambda x: x.total_seconds())\n",
    "diff_times[:15]"
   ]
  },
  {
   "cell_type": "code",
   "execution_count": 42,
   "metadata": {},
   "outputs": [
    {
     "data": {
      "text/plain": [
       "(2535610,)"
      ]
     },
     "execution_count": 42,
     "metadata": {},
     "output_type": "execute_result"
    }
   ],
   "source": [
    "diff_times.shape"
   ]
  },
  {
   "cell_type": "code",
   "execution_count": 43,
   "metadata": {},
   "outputs": [],
   "source": [
    "diff_times.index -= 1"
   ]
  },
  {
   "cell_type": "code",
   "execution_count": 45,
   "metadata": {},
   "outputs": [],
   "source": [
    "diff_times = diff_times.drop([-1])"
   ]
  },
  {
   "cell_type": "code",
   "execution_count": 50,
   "metadata": {},
   "outputs": [],
   "source": [
    "diff_times = diff_times.append(pd.Series(0), ignore_index=True)"
   ]
  },
  {
   "cell_type": "code",
   "execution_count": 55,
   "metadata": {},
   "outputs": [
    {
     "data": {
      "text/plain": [
       "253561.0"
      ]
     },
     "execution_count": 55,
     "metadata": {},
     "output_type": "execute_result"
    }
   ],
   "source": [
    "diff_times.shape[0]/10"
   ]
  },
  {
   "cell_type": "code",
   "execution_count": 56,
   "metadata": {},
   "outputs": [],
   "source": [
    "diff_times = diff_times.values.reshape((int(diff_times.shape[0]/10), 10))"
   ]
  },
  {
   "cell_type": "code",
   "execution_count": 58,
   "metadata": {},
   "outputs": [
    {
     "data": {
      "text/plain": [
       "(253561, 10)"
      ]
     },
     "execution_count": 58,
     "metadata": {},
     "output_type": "execute_result"
    }
   ],
   "source": [
    "diff_times.shape"
   ]
  },
  {
   "cell_type": "code",
   "execution_count": 30,
   "metadata": {},
   "outputs": [],
   "source": [
    "def prepare_train_set_from_ready(df):\n",
    "    sess_data = df[['site'+str(i) for i in range(1, 11)]]\n",
    "    \n",
    "    timestamp = df[['time'+str(i) for i in range(1, 11)]].apply(pd.to_datetime)\n",
    "    \n",
    "    diff_times = pd.Series(timestamp.values.ravel())\n",
    "    diff_times = (diff_times - diff_times.shift(1)).apply(lambda x: x.total_seconds())\n",
    "    diff_times.index -= 1\n",
    "    diff_times = diff_times.drop([-1])\n",
    "    diff_times = diff_times.append(pd.Series(0), ignore_index=True)\n",
    "    diff_times = diff_times.values.reshape((int(diff_times.shape[0]/10), 10))[:, :-1]\n",
    "    \n",
    "    user_time = timestamp.iloc[:, 0]\n",
    "    # вычисление часа захода на сайт\n",
    "    start_hour = user_time.apply(lambda x: x.hour).values[:, np.newaxis]\n",
    "    # вычисление дня недели захода на сайт\n",
    "    day_of_week = user_time.apply(lambda x: x.weekday()).values[:, np.newaxis]\n",
    "    # вычисление года захода на сайт\n",
    "    year = user_time.apply(lambda x: x.year).values[:, np.newaxis]\n",
    "    # вычисление месяца захода на сайт\n",
    "    month = user_time.apply(lambda x: x.month).values[:, np.newaxis]\n",
    "    # вычисление дня месяца захода на сайт\n",
    "    day = user_time.apply(lambda x: x.day).values[:, np.newaxis]\n",
    "    # вычисление времени суток захода на сайт\n",
    "    time_of_day = user_time.apply(lambda x: x.hour)\n",
    "    time_of_day[time_of_day<12] = 0\n",
    "    time_of_day[time_of_day.between(12, 16)] = 1\n",
    "    time_of_day[time_of_day>16] = 2\n",
    "    time_of_day = time_of_day.values[:, np.newaxis]\n",
    "    \n",
    "    file_sess_data = pd.DataFrame(np.hstack((sess_data.values, diff_times, start_hour, day_of_week, year, month, day,\n",
    "                                                 time_of_day)))\n",
    "    file_sess_data.columns = ['site'+str(i) for i in range(1, 11)] + \\\n",
    "                                    ['diff_time'+str(i)for i in range(1, 10)] + \\\n",
    "                                    ['start_hour', 'day_of_week', 'year', 'month', 'day', 'time_of_day']\n",
    "    \n",
    "    return file_sess_data.fillna(0).astype(int)"
   ]
  },
  {
   "cell_type": "code",
   "execution_count": 27,
   "metadata": {},
   "outputs": [],
   "source": [
    "train_catch_me = prepare_train_set_from_ready(train_df)"
   ]
  },
  {
   "cell_type": "code",
   "execution_count": 28,
   "metadata": {},
   "outputs": [
    {
     "data": {
      "text/html": [
       "<div>\n",
       "<style scoped>\n",
       "    .dataframe tbody tr th:only-of-type {\n",
       "        vertical-align: middle;\n",
       "    }\n",
       "\n",
       "    .dataframe tbody tr th {\n",
       "        vertical-align: top;\n",
       "    }\n",
       "\n",
       "    .dataframe thead th {\n",
       "        text-align: right;\n",
       "    }\n",
       "</style>\n",
       "<table border=\"1\" class=\"dataframe\">\n",
       "  <thead>\n",
       "    <tr style=\"text-align: right;\">\n",
       "      <th></th>\n",
       "      <th>site1</th>\n",
       "      <th>site2</th>\n",
       "      <th>site3</th>\n",
       "      <th>site4</th>\n",
       "      <th>site5</th>\n",
       "      <th>site6</th>\n",
       "      <th>site7</th>\n",
       "      <th>site8</th>\n",
       "      <th>site9</th>\n",
       "      <th>site10</th>\n",
       "      <th>...</th>\n",
       "      <th>diff_time6</th>\n",
       "      <th>diff_time7</th>\n",
       "      <th>diff_time8</th>\n",
       "      <th>diff_time9</th>\n",
       "      <th>start_hour</th>\n",
       "      <th>day_of_week</th>\n",
       "      <th>year</th>\n",
       "      <th>month</th>\n",
       "      <th>day</th>\n",
       "      <th>time_of_day</th>\n",
       "    </tr>\n",
       "  </thead>\n",
       "  <tbody>\n",
       "    <tr>\n",
       "      <th>0</th>\n",
       "      <td>718</td>\n",
       "      <td>0</td>\n",
       "      <td>0</td>\n",
       "      <td>0</td>\n",
       "      <td>0</td>\n",
       "      <td>0</td>\n",
       "      <td>0</td>\n",
       "      <td>0</td>\n",
       "      <td>0</td>\n",
       "      <td>0</td>\n",
       "      <td>...</td>\n",
       "      <td>0</td>\n",
       "      <td>0</td>\n",
       "      <td>0</td>\n",
       "      <td>0</td>\n",
       "      <td>10</td>\n",
       "      <td>3</td>\n",
       "      <td>2014</td>\n",
       "      <td>2</td>\n",
       "      <td>20</td>\n",
       "      <td>0</td>\n",
       "    </tr>\n",
       "    <tr>\n",
       "      <th>1</th>\n",
       "      <td>890</td>\n",
       "      <td>941</td>\n",
       "      <td>3847</td>\n",
       "      <td>941</td>\n",
       "      <td>942</td>\n",
       "      <td>3846</td>\n",
       "      <td>3847</td>\n",
       "      <td>3846</td>\n",
       "      <td>1516</td>\n",
       "      <td>1518</td>\n",
       "      <td>...</td>\n",
       "      <td>1</td>\n",
       "      <td>0</td>\n",
       "      <td>23</td>\n",
       "      <td>1</td>\n",
       "      <td>11</td>\n",
       "      <td>5</td>\n",
       "      <td>2014</td>\n",
       "      <td>2</td>\n",
       "      <td>22</td>\n",
       "      <td>0</td>\n",
       "    </tr>\n",
       "    <tr>\n",
       "      <th>2</th>\n",
       "      <td>14769</td>\n",
       "      <td>39</td>\n",
       "      <td>14768</td>\n",
       "      <td>14769</td>\n",
       "      <td>37</td>\n",
       "      <td>39</td>\n",
       "      <td>14768</td>\n",
       "      <td>14768</td>\n",
       "      <td>14768</td>\n",
       "      <td>14768</td>\n",
       "      <td>...</td>\n",
       "      <td>1</td>\n",
       "      <td>1</td>\n",
       "      <td>1</td>\n",
       "      <td>2</td>\n",
       "      <td>16</td>\n",
       "      <td>0</td>\n",
       "      <td>2013</td>\n",
       "      <td>12</td>\n",
       "      <td>16</td>\n",
       "      <td>1</td>\n",
       "    </tr>\n",
       "    <tr>\n",
       "      <th>3</th>\n",
       "      <td>782</td>\n",
       "      <td>782</td>\n",
       "      <td>782</td>\n",
       "      <td>782</td>\n",
       "      <td>782</td>\n",
       "      <td>782</td>\n",
       "      <td>782</td>\n",
       "      <td>782</td>\n",
       "      <td>782</td>\n",
       "      <td>782</td>\n",
       "      <td>...</td>\n",
       "      <td>30</td>\n",
       "      <td>30</td>\n",
       "      <td>30</td>\n",
       "      <td>30</td>\n",
       "      <td>10</td>\n",
       "      <td>4</td>\n",
       "      <td>2014</td>\n",
       "      <td>3</td>\n",
       "      <td>28</td>\n",
       "      <td>0</td>\n",
       "    </tr>\n",
       "    <tr>\n",
       "      <th>4</th>\n",
       "      <td>22</td>\n",
       "      <td>177</td>\n",
       "      <td>175</td>\n",
       "      <td>178</td>\n",
       "      <td>177</td>\n",
       "      <td>178</td>\n",
       "      <td>175</td>\n",
       "      <td>177</td>\n",
       "      <td>177</td>\n",
       "      <td>178</td>\n",
       "      <td>...</td>\n",
       "      <td>0</td>\n",
       "      <td>0</td>\n",
       "      <td>67</td>\n",
       "      <td>5</td>\n",
       "      <td>10</td>\n",
       "      <td>4</td>\n",
       "      <td>2014</td>\n",
       "      <td>2</td>\n",
       "      <td>28</td>\n",
       "      <td>0</td>\n",
       "    </tr>\n",
       "  </tbody>\n",
       "</table>\n",
       "<p>5 rows × 25 columns</p>\n",
       "</div>"
      ],
      "text/plain": [
       "   site1  site2  site3  site4  site5  site6  site7  site8  site9  site10  ...  \\\n",
       "0    718      0      0      0      0      0      0      0      0       0  ...   \n",
       "1    890    941   3847    941    942   3846   3847   3846   1516    1518  ...   \n",
       "2  14769     39  14768  14769     37     39  14768  14768  14768   14768  ...   \n",
       "3    782    782    782    782    782    782    782    782    782     782  ...   \n",
       "4     22    177    175    178    177    178    175    177    177     178  ...   \n",
       "\n",
       "   diff_time6  diff_time7  diff_time8  diff_time9  start_hour  day_of_week  \\\n",
       "0           0           0           0           0          10            3   \n",
       "1           1           0          23           1          11            5   \n",
       "2           1           1           1           2          16            0   \n",
       "3          30          30          30          30          10            4   \n",
       "4           0           0          67           5          10            4   \n",
       "\n",
       "   year  month  day  time_of_day  \n",
       "0  2014      2   20            0  \n",
       "1  2014      2   22            0  \n",
       "2  2013     12   16            1  \n",
       "3  2014      3   28            0  \n",
       "4  2014      2   28            0  \n",
       "\n",
       "[5 rows x 25 columns]"
      ]
     },
     "execution_count": 28,
     "metadata": {},
     "output_type": "execute_result"
    }
   ],
   "source": [
    "train_catch_me.head()"
   ]
  },
  {
   "cell_type": "code",
   "execution_count": 31,
   "metadata": {},
   "outputs": [],
   "source": [
    "test_catch_me = prepare_train_set_from_ready(test_df)"
   ]
  },
  {
   "cell_type": "code",
   "execution_count": 32,
   "metadata": {},
   "outputs": [
    {
     "data": {
      "text/html": [
       "<div>\n",
       "<style scoped>\n",
       "    .dataframe tbody tr th:only-of-type {\n",
       "        vertical-align: middle;\n",
       "    }\n",
       "\n",
       "    .dataframe tbody tr th {\n",
       "        vertical-align: top;\n",
       "    }\n",
       "\n",
       "    .dataframe thead th {\n",
       "        text-align: right;\n",
       "    }\n",
       "</style>\n",
       "<table border=\"1\" class=\"dataframe\">\n",
       "  <thead>\n",
       "    <tr style=\"text-align: right;\">\n",
       "      <th></th>\n",
       "      <th>site1</th>\n",
       "      <th>site2</th>\n",
       "      <th>site3</th>\n",
       "      <th>site4</th>\n",
       "      <th>site5</th>\n",
       "      <th>site6</th>\n",
       "      <th>site7</th>\n",
       "      <th>site8</th>\n",
       "      <th>site9</th>\n",
       "      <th>site10</th>\n",
       "      <th>...</th>\n",
       "      <th>diff_time6</th>\n",
       "      <th>diff_time7</th>\n",
       "      <th>diff_time8</th>\n",
       "      <th>diff_time9</th>\n",
       "      <th>start_hour</th>\n",
       "      <th>day_of_week</th>\n",
       "      <th>year</th>\n",
       "      <th>month</th>\n",
       "      <th>day</th>\n",
       "      <th>time_of_day</th>\n",
       "    </tr>\n",
       "  </thead>\n",
       "  <tbody>\n",
       "    <tr>\n",
       "      <th>0</th>\n",
       "      <td>29</td>\n",
       "      <td>35</td>\n",
       "      <td>22</td>\n",
       "      <td>321</td>\n",
       "      <td>23</td>\n",
       "      <td>2211</td>\n",
       "      <td>6730</td>\n",
       "      <td>21</td>\n",
       "      <td>44582</td>\n",
       "      <td>15336</td>\n",
       "      <td>...</td>\n",
       "      <td>0</td>\n",
       "      <td>0</td>\n",
       "      <td>6</td>\n",
       "      <td>0</td>\n",
       "      <td>11</td>\n",
       "      <td>5</td>\n",
       "      <td>2014</td>\n",
       "      <td>10</td>\n",
       "      <td>4</td>\n",
       "      <td>0</td>\n",
       "    </tr>\n",
       "    <tr>\n",
       "      <th>1</th>\n",
       "      <td>782</td>\n",
       "      <td>782</td>\n",
       "      <td>782</td>\n",
       "      <td>782</td>\n",
       "      <td>782</td>\n",
       "      <td>782</td>\n",
       "      <td>782</td>\n",
       "      <td>782</td>\n",
       "      <td>782</td>\n",
       "      <td>782</td>\n",
       "      <td>...</td>\n",
       "      <td>13</td>\n",
       "      <td>6</td>\n",
       "      <td>1</td>\n",
       "      <td>23</td>\n",
       "      <td>11</td>\n",
       "      <td>3</td>\n",
       "      <td>2014</td>\n",
       "      <td>7</td>\n",
       "      <td>3</td>\n",
       "      <td>0</td>\n",
       "    </tr>\n",
       "    <tr>\n",
       "      <th>2</th>\n",
       "      <td>55</td>\n",
       "      <td>55</td>\n",
       "      <td>55</td>\n",
       "      <td>55</td>\n",
       "      <td>55</td>\n",
       "      <td>55</td>\n",
       "      <td>55</td>\n",
       "      <td>55</td>\n",
       "      <td>1445</td>\n",
       "      <td>1445</td>\n",
       "      <td>...</td>\n",
       "      <td>1</td>\n",
       "      <td>1</td>\n",
       "      <td>14</td>\n",
       "      <td>3</td>\n",
       "      <td>15</td>\n",
       "      <td>4</td>\n",
       "      <td>2014</td>\n",
       "      <td>12</td>\n",
       "      <td>5</td>\n",
       "      <td>1</td>\n",
       "    </tr>\n",
       "    <tr>\n",
       "      <th>3</th>\n",
       "      <td>1023</td>\n",
       "      <td>1022</td>\n",
       "      <td>50</td>\n",
       "      <td>222</td>\n",
       "      <td>202</td>\n",
       "      <td>3374</td>\n",
       "      <td>50</td>\n",
       "      <td>48</td>\n",
       "      <td>48</td>\n",
       "      <td>3374</td>\n",
       "      <td>...</td>\n",
       "      <td>0</td>\n",
       "      <td>0</td>\n",
       "      <td>1</td>\n",
       "      <td>0</td>\n",
       "      <td>10</td>\n",
       "      <td>1</td>\n",
       "      <td>2014</td>\n",
       "      <td>11</td>\n",
       "      <td>4</td>\n",
       "      <td>0</td>\n",
       "    </tr>\n",
       "    <tr>\n",
       "      <th>4</th>\n",
       "      <td>301</td>\n",
       "      <td>301</td>\n",
       "      <td>301</td>\n",
       "      <td>66</td>\n",
       "      <td>67</td>\n",
       "      <td>69</td>\n",
       "      <td>70</td>\n",
       "      <td>68</td>\n",
       "      <td>71</td>\n",
       "      <td>167</td>\n",
       "      <td>...</td>\n",
       "      <td>0</td>\n",
       "      <td>0</td>\n",
       "      <td>0</td>\n",
       "      <td>4</td>\n",
       "      <td>15</td>\n",
       "      <td>4</td>\n",
       "      <td>2014</td>\n",
       "      <td>5</td>\n",
       "      <td>16</td>\n",
       "      <td>1</td>\n",
       "    </tr>\n",
       "  </tbody>\n",
       "</table>\n",
       "<p>5 rows × 25 columns</p>\n",
       "</div>"
      ],
      "text/plain": [
       "   site1  site2  site3  site4  site5  site6  site7  site8  site9  site10  ...  \\\n",
       "0     29     35     22    321     23   2211   6730     21  44582   15336  ...   \n",
       "1    782    782    782    782    782    782    782    782    782     782  ...   \n",
       "2     55     55     55     55     55     55     55     55   1445    1445  ...   \n",
       "3   1023   1022     50    222    202   3374     50     48     48    3374  ...   \n",
       "4    301    301    301     66     67     69     70     68     71     167  ...   \n",
       "\n",
       "   diff_time6  diff_time7  diff_time8  diff_time9  start_hour  day_of_week  \\\n",
       "0           0           0           6           0          11            5   \n",
       "1          13           6           1          23          11            3   \n",
       "2           1           1          14           3          15            4   \n",
       "3           0           0           1           0          10            1   \n",
       "4           0           0           0           4          15            4   \n",
       "\n",
       "   year  month  day  time_of_day  \n",
       "0  2014     10    4            0  \n",
       "1  2014      7    3            0  \n",
       "2  2014     12    5            1  \n",
       "3  2014     11    4            0  \n",
       "4  2014      5   16            1  \n",
       "\n",
       "[5 rows x 25 columns]"
      ]
     },
     "execution_count": 32,
     "metadata": {},
     "output_type": "execute_result"
    }
   ],
   "source": [
    "test_catch_me.head()"
   ]
  },
  {
   "cell_type": "code",
   "execution_count": 34,
   "metadata": {},
   "outputs": [],
   "source": [
    "train_catch_me.to_csv(os.path.join(PATH_TO_DATA, \n",
    "                                       'train_catch_me.csv'), \n",
    "                        index_label='session_id', float_format='%d')\n",
    "test_catch_me.to_csv(os.path.join(PATH_TO_DATA, \n",
    "                                        'test_catch_me.csv'), \n",
    "                         index_label='session_id', float_format='%d')"
   ]
  },
  {
   "cell_type": "code",
   "execution_count": 4,
   "metadata": {},
   "outputs": [],
   "source": [
    "PATH_TO_ALICE = 'kaggle_catch_me_train\\\\Alice_log'"
   ]
  },
  {
   "cell_type": "code",
   "execution_count": 5,
   "metadata": {},
   "outputs": [],
   "source": [
    "PATH_TO_OTHERS = 'kaggle_catch_me_train\\\\other_user_logs'"
   ]
  },
  {
   "cell_type": "code",
   "execution_count": 9,
   "metadata": {},
   "outputs": [],
   "source": [
    "PATH_TO_DATA = 'kaggle_catch_me_train'"
   ]
  },
  {
   "cell_type": "code",
   "execution_count": 7,
   "metadata": {},
   "outputs": [],
   "source": [
    "site_freq_catch_me = create_sites_dict('kaggle_catch_me_train\\\\for_dict')"
   ]
  },
  {
   "cell_type": "code",
   "execution_count": 8,
   "metadata": {
    "collapsed": true
   },
   "outputs": [
    {
     "data": {
      "text/plain": [
       "{'www.google.fr': (1, 123776),\n",
       " 'www.google.com': (2, 87619),\n",
       " 'annotathon.org': (3, 77055),\n",
       " 'apis.google.com': (4, 58258),\n",
       " 'www.facebook.com': (5, 54094),\n",
       " 'www.bing.com': (6, 46405),\n",
       " 'blast.ncbi.nlm.nih.gov': (7, 43841),\n",
       " 'www.ncbi.nlm.nih.gov': (8, 38194),\n",
       " 'clients1.google.com': (9, 36085),\n",
       " 'mail.google.com': (10, 35178),\n",
       " 's.youtube.com': (11, 31391),\n",
       " 'plus.google.com': (12, 30616),\n",
       " 'safebrowsing-cache.google.com': (13, 27812),\n",
       " 'accounts.google.com': (14, 25275),\n",
       " 'twitter.com': (15, 23726),\n",
       " 'platform.twitter.com': (16, 23495),\n",
       " 'www.phylogeny.fr': (17, 23026),\n",
       " 's-static.ak.facebook.com': (18, 22470),\n",
       " 'www.youtube.com': (19, 20922),\n",
       " 'static.ak.facebook.com': (20, 19683),\n",
       " 'login.live.com': (21, 18130),\n",
       " 'i1.ytimg.com': (22, 17270),\n",
       " 'docs.google.com': (23, 16890),\n",
       " 'translate.google.fr': (24, 15920),\n",
       " 'drive.google.com': (25, 15879),\n",
       " 'clients1.google.fr': (26, 14211),\n",
       " 'safebrowsing.clients.google.com': (27, 13539),\n",
       " 'api.bing.com': (28, 13534),\n",
       " 'ajax.googleapis.com': (29, 13240),\n",
       " 'mts0.google.com': (30, 11984),\n",
       " 'bits.wikimedia.org': (31, 11812),\n",
       " 'fr.wikipedia.org': (32, 10927),\n",
       " 'mts1.google.com': (33, 10535),\n",
       " 'download.jboss.org': (34, 10284),\n",
       " 's.ytimg.com': (35, 10105),\n",
       " 'api.twitter.com': (36, 9367),\n",
       " 'h.live.com': (37, 9225),\n",
       " 'clients6.google.com': (38, 9168),\n",
       " 'connect.facebook.net': (39, 9109),\n",
       " 'ts1.mm.bing.net': (40, 8911),\n",
       " 'fr.openclassrooms.com': (41, 8852),\n",
       " 'fr-mg42.mail.yahoo.com': (42, 8794),\n",
       " 'r1---sn-gxo5uxg-jqbe.googlevideo.com': (43, 8682),\n",
       " 'r2---sn-gxo5uxg-jqbe.googlevideo.com': (44, 8184),\n",
       " 'accounts.youtube.com': (45, 8177),\n",
       " 'ocsp.digicert.com': (46, 8155),\n",
       " 'clients2.google.com': (47, 8151),\n",
       " 'meta.wikimedia.org': (48, 8091),\n",
       " 'r4---sn-gxo5uxg-jqbe.googlevideo.com': (49, 8066),\n",
       " 'ieonline.microsoft.com': (50, 8024),\n",
       " 'accounts.google.fr': (51, 7784),\n",
       " 'khms1.google.fr': (52, 7574),\n",
       " 'khms0.google.fr': (53, 7505),\n",
       " 'www.ebi.ac.uk': (54, 7118),\n",
       " 'maps.googleapis.com': (55, 6892),\n",
       " 'gtglobal-ocsp.geotrust.com': (56, 6818),\n",
       " 'live.lemde.fr': (57, 6281),\n",
       " 'maps.google.fr': (58, 6247),\n",
       " 'translate.google.com': (59, 6153),\n",
       " 'javadl-esd-secure.oracle.com': (60, 5969),\n",
       " 'r3---sn-gxo5uxg-jqbe.googlevideo.com': (61, 5857),\n",
       " 'chatenabled.mail.google.com': (62, 5756),\n",
       " 'gtssl-ocsp.geotrust.com': (63, 5745),\n",
       " 'ocsp.verisign.com': (64, 5686),\n",
       " 'go.microsoft.com': (65, 5578),\n",
       " 'syndication.twitter.com': (66, 5350),\n",
       " 'armmf.adobe.com': (67, 5023),\n",
       " 'ocsp.thawte.com': (68, 4934),\n",
       " 'www.linkedin.com': (69, 4912),\n",
       " 'apr.lijit.com': (70, 4902),\n",
       " 'talkgadget.google.com': (71, 4850),\n",
       " 'static.ccm2.net': (72, 4849),\n",
       " 'pixel.alephd.com': (73, 4660),\n",
       " 'office.microsoft.com': (74, 4647),\n",
       " 'windowslive.tt.omtrdc.net': (75, 4498),\n",
       " 'gg.google.com': (76, 4453),\n",
       " 'ts2.mm.bing.net': (77, 4424),\n",
       " 'ts3.mm.bing.net': (78, 4395),\n",
       " 'ts4.mm.bing.net': (79, 4392),\n",
       " 'docs.codehaus.org': (80, 4354),\n",
       " 'www.dailymotion.com': (81, 4229),\n",
       " 'docs.oracle.com': (82, 4218),\n",
       " 'login.yahoo.com': (83, 4151),\n",
       " 'ocsp.usertrust.com': (84, 4076),\n",
       " '0.drive.google.com': (85, 4011),\n",
       " 'webmail.laposte.net': (86, 3994),\n",
       " 'ba.commentcamarche.net': (87, 3914),\n",
       " 'deliv.leboncoin.fr': (88, 3781),\n",
       " 'static.pubmed.gov': (89, 3776),\n",
       " 'ssl.bing.com': (90, 3764),\n",
       " 'ocsp.tcs.terena.org': (91, 3696),\n",
       " 'ent.univ-bpclermont.fr': (92, 3656),\n",
       " 'player.vimeo.com': (93, 3575),\n",
       " 'www.arb-silva.de': (94, 3472),\n",
       " 'go.trouter.io': (95, 3428),\n",
       " 'secure.shared.live.com': (96, 3339),\n",
       " 'fr.yahoo.com': (97, 3337),\n",
       " 'pbs.twimg.com': (98, 3159),\n",
       " 'people.directory.live.com': (99, 3136),\n",
       " 'hal9000.redintelligence.net': (100, 3128),\n",
       " 'disqus.com': (101, 3120),\n",
       " 'www.univ-bpclermont.fr': (102, 3104),\n",
       " 'res1.windows.microsoft.com': (103, 3063),\n",
       " 'js.microsoft.com': (104, 3056),\n",
       " 'www.googleapis.com': (105, 3052),\n",
       " 'fpdownload2.macromedia.com': (106, 3005),\n",
       " 'www.developpez.net': (107, 2939),\n",
       " 'yt3.ggpht.com': (108, 2933),\n",
       " 'www.commentcamarche.net': (109, 2913),\n",
       " 'login.wikimedia.org': (110, 2841),\n",
       " 'mediahb.com': (111, 2802),\n",
       " 'its.tradelab.fr': (112, 2761),\n",
       " 'download.oracle.com': (113, 2755),\n",
       " 'rtbp-pixel.us.metanetwork.net': (114, 2754),\n",
       " 'windows.microsoft.com': (115, 2706),\n",
       " 'evsecure-ocsp.verisign.com': (116, 2699),\n",
       " '0.docs.google.com': (117, 2620),\n",
       " 'plus.googleapis.com': (118, 2592),\n",
       " 'cms.abmr.net': (119, 2570),\n",
       " 'doug1izaerwt3.cloudfront.net': (120, 2565),\n",
       " 'res2.windows.microsoft.com': (121, 2537),\n",
       " 'www.leboncoin.fr': (122, 2478),\n",
       " 'dnn506yrbagrg.cloudfront.net': (123, 2425),\n",
       " 'mts2.google.com': (124, 2339),\n",
       " 'www.lequipe.fr': (125, 2274),\n",
       " 'i1.ztat.net': (126, 2266),\n",
       " 'www.oracle.com': (127, 2248),\n",
       " 'www.audienceinsights.net': (128, 2244),\n",
       " 'mts3.google.com': (129, 2239),\n",
       " 'stackoverflow.com': (130, 2232),\n",
       " 'um.simpli.fi': (131, 2216),\n",
       " 'banniere.reussissonsensemble.fr': (132, 2215),\n",
       " 'code.jquery.com': (133, 2193),\n",
       " 'static.ccmbg.com': (134, 2164),\n",
       " 'www.gravatar.com': (135, 2144),\n",
       " 'halc.iadvize.com': (136, 2119),\n",
       " 'sb-ssl.google.com': (137, 2072),\n",
       " 'storage.live.com': (138, 2004),\n",
       " 'platform.linkedin.com': (139, 2001),\n",
       " 'maps.google.com': (140, 1973),\n",
       " 'g.msn.com': (141, 1972),\n",
       " 'cbk0.googleapis.com': (142, 1964),\n",
       " 'choices.truste.com': (143, 1938),\n",
       " 'static.leboncoin.fr': (144, 1917),\n",
       " 'khms0.google.com': (145, 1891),\n",
       " 'static.s-sfr.fr': (146, 1874),\n",
       " 'live.francetv.fr': (147, 1862),\n",
       " 'ent-shasta-rrs.symantec.com': (148, 1833),\n",
       " 'www.sfr.fr': (149, 1832),\n",
       " 'www.squid-cache.org': (150, 1829),\n",
       " 'www.reverso.net': (151, 1827),\n",
       " '0.gravatar.com': (152, 1811),\n",
       " 'mail.live.com': (153, 1808),\n",
       " 'office14client.microsoft.com': (154, 1805),\n",
       " 'khms1.google.com': (155, 1777),\n",
       " 'b.mail.google.com': (156, 1774),\n",
       " 'webcam.oceanis.fr': (157, 1749),\n",
       " 'ocsp.godaddy.com': (158, 1742),\n",
       " 'p.sfx.ms': (159, 1725),\n",
       " 'img.babylon.com': (160, 1697),\n",
       " 'api.adyoulike.com': (161, 1693),\n",
       " 'claroline.univ-bpclermont.fr': (162, 1677),\n",
       " 'mt1.googleapis.com': (163, 1675),\n",
       " 'mt0.googleapis.com': (164, 1660),\n",
       " 's1.lemde.fr': (165, 1659),\n",
       " 'www.sochi2014.com': (166, 1655),\n",
       " 'cache.20minutes.fr': (167, 1653),\n",
       " '1.gravatar.com': (168, 1652),\n",
       " 'sci.sciences.univ-bpclermont.fr': (169, 1649),\n",
       " 'www.dropbox.com': (170, 1647),\n",
       " 'ucs.query.yahoo.com': (171, 1642),\n",
       " 'rp.gwallet.com': (172, 1628),\n",
       " 'id.google.fr': (173, 1613),\n",
       " 'fbstatic-a.akamaihd.net': (174, 1603),\n",
       " 'pixel2368.everesttech.net': (175, 1577),\n",
       " 'livepassdl.conviva.com': (176, 1569),\n",
       " 'od2.visiblemeasures.com': (177, 1542),\n",
       " 'www.iegallery.com': (178, 1541),\n",
       " 'www.lefigaro.fr': (179, 1539),\n",
       " 'security.debian.org': (180, 1539),\n",
       " 'js.live.net': (181, 1532),\n",
       " 'ajax.microsoft.com': (182, 1528),\n",
       " 'go.disqus.com': (183, 1517),\n",
       " 'ocsp.comodoca.com': (184, 1509),\n",
       " 'r.ccmbg.com': (185, 1503),\n",
       " 'fr.tennistemple.com': (186, 1501),\n",
       " 's3.amazonaws.com': (187, 1495),\n",
       " 'adventori.com': (188, 1486),\n",
       " 'h2.msn.com': (189, 1483),\n",
       " 'www.developpez.com': (190, 1468),\n",
       " 'www.blogger.com': (191, 1443),\n",
       " 'fr.msn.com': (192, 1442),\n",
       " 'premium.hi-mediaserver.com': (193, 1435),\n",
       " '193.164.197.50': (194, 1433),\n",
       " 'nsclick.baidu.com': (195, 1424),\n",
       " 'match.rtbidder.net': (196, 1418),\n",
       " 'www.linternaute.com': (197, 1403),\n",
       " 'medias.lequipe.fr': (198, 1398),\n",
       " 'cdn2.reverso.net': (199, 1388),\n",
       " '193.164.196.40': (200, 1384),\n",
       " 'graph.facebook.com': (201, 1382),\n",
       " 'dub126.mail.live.com': (202, 1380),\n",
       " '193.164.196.50': (203, 1360),\n",
       " 'i.eurosport.fr': (204, 1357),\n",
       " 'c.woopic.com': (205, 1351),\n",
       " 'ad.publicidees.com': (206, 1344),\n",
       " '193.164.197.30': (207, 1339),\n",
       " '193.164.196.30': (208, 1338),\n",
       " '193.164.197.60': (209, 1329),\n",
       " '193.164.197.40': (210, 1323),\n",
       " '193.164.196.60': (211, 1322),\n",
       " 'vk.com': (212, 1321),\n",
       " 'dub122.mail.live.com': (213, 1321),\n",
       " 'univ-bpclermont.cyberlibris.fr.sicd.clermont-universite.fr': (214, 1281),\n",
       " 'backports.debian.org': (215, 1281),\n",
       " 'ce.lijit.com': (216, 1280),\n",
       " 'en.wikipedia.org': (217, 1270),\n",
       " 'translate.google.cn': (218, 1261),\n",
       " 'prod.registrar.skype.com': (219, 1260),\n",
       " 'assets.pinterest.com': (220, 1257),\n",
       " 'repo.maven.apache.org': (221, 1250),\n",
       " 'widgets.pinterest.com': (222, 1244),\n",
       " 'dub111.mail.live.com': (223, 1237),\n",
       " 'plus.lefigaro.fr': (224, 1224),\n",
       " 'ecx.images-amazon.com': (225, 1218),\n",
       " 'wtpn.twenga.fr': (226, 1217),\n",
       " 'www.youtube-nocookie.com': (227, 1216),\n",
       " '1.docs.google.com': (228, 1215),\n",
       " 'p.typekit.net': (229, 1212),\n",
       " 'ds.dellfix.com': (230, 1210),\n",
       " 'books.google.fr': (231, 1207),\n",
       " 'clients5.google.com': (232, 1207),\n",
       " 'ea.numericable.fr': (233, 1206),\n",
       " 'av.mediapostcommunication.net': (234, 1202),\n",
       " 'www.covoiturage.fr': (235, 1181),\n",
       " 'google.fr': (236, 1161),\n",
       " 'c1.adform.net': (237, 1156),\n",
       " 's0.wp.com': (238, 1155),\n",
       " 'fnac.livechat.iadvize.com': (239, 1151),\n",
       " 'smart.allocine.fr': (240, 1146),\n",
       " 'data.ncaa.com': (241, 1143),\n",
       " 'www.lemonde.fr': (242, 1136),\n",
       " 'careers.stackoverflow.com': (243, 1127),\n",
       " 'sports.sina.com.cn': (244, 1112),\n",
       " 'geo0.ggpht.com': (245, 1099),\n",
       " 'evintl-ocsp.verisign.com': (246, 1097),\n",
       " 'img.youtube.com': (247, 1095),\n",
       " 'pa.elsevier.com': (248, 1092),\n",
       " 'caroline-conduite-formation-clermontferrand.packweb2.com': (249, 1087),\n",
       " 'apnx-match.dotomi.com': (250, 1084),\n",
       " 'images.orangepublicite.fr': (251, 1075),\n",
       " 'o2i.univ-bpclermont.fr': (252, 1066),\n",
       " 'fr-fr.facebook.com': (253, 1065),\n",
       " 'www.pagesjaunes.fr': (254, 1058),\n",
       " 'static.lequipe.fr': (255, 1048),\n",
       " 'ak.cdiscount.com': (256, 1034),\n",
       " 'www.futura-sciences.com': (257, 1033),\n",
       " 'iapref.orange.fr': (258, 1023),\n",
       " 'yui.yahooapis.com': (259, 1019),\n",
       " 'dub130.mail.live.com': (260, 1006),\n",
       " 'i2.ztat.net': (261, 999),\n",
       " 'rubicon-match.dotomi.com': (262, 997),\n",
       " 'translate.googleapis.com': (263, 997),\n",
       " 'messagerie-12.sfr.fr': (264, 995),\n",
       " 'api.skype.com': (265, 992),\n",
       " 'ad.foxitsoftware.com': (266, 984),\n",
       " 'www.wordreference.com': (267, 984),\n",
       " 'dc1w54.wysistat.com': (268, 976),\n",
       " 'www.lamontagne.fr': (269, 972),\n",
       " 'api.fidji.lefigaro.fr': (270, 971),\n",
       " 'pic.dhe.ibm.com': (271, 962),\n",
       " 'www.demotivateur.fr': (272, 956),\n",
       " 'cdn-careers.sstatic.net': (273, 955),\n",
       " 'g.live.com': (274, 952),\n",
       " 'media.melty.fr': (275, 947),\n",
       " 'hm.baidu.com': (276, 947),\n",
       " 'www.baidu.com': (277, 946),\n",
       " 'www.w3schools.com': (278, 944),\n",
       " 'www.leparisien.fr': (279, 942),\n",
       " 's.videostep.com': (280, 936),\n",
       " 'broadcast.piximedia.fr': (281, 933),\n",
       " 'cimg.leguide.com': (282, 933),\n",
       " 'www.laposte.net': (283, 926),\n",
       " 'c.msn.com': (284, 924),\n",
       " 'ws.mediapostcommunication.net': (285, 922),\n",
       " 'probe.cedexis.org': (286, 919),\n",
       " 'cloudfront.cedexis.com': (287, 916),\n",
       " 'cbk1.googleapis.com': (288, 914),\n",
       " 'level3.cedexis.com': (289, 910),\n",
       " 'www.mathworks.fr': (290, 909),\n",
       " 'chateaut.free.fr': (291, 905),\n",
       " 'w.sharethis.com': (292, 900),\n",
       " 'bibliotheque.clermont-universite.fr': (293, 899),\n",
       " 'assets.tumblr.com': (294, 898),\n",
       " 'www-fourier.ujf-grenoble.fr': (295, 892),\n",
       " 'widget.achetezfacile.com': (296, 888),\n",
       " 'www.cdiscount.com': (297, 888),\n",
       " 'www.allocine.fr': (298, 874),\n",
       " 'news.google.fr': (299, 874),\n",
       " 'rs.mediapostcommunication.net': (300, 870),\n",
       " 'mm.eulerian.net': (301, 867),\n",
       " 'messagerie-11.sfr.fr': (302, 866),\n",
       " 'messagerie-13.sfr.fr': (303, 864),\n",
       " 'pr.ybp.yahoo.com': (304, 857),\n",
       " 'videosfr.s3.amazonaws.com': (305, 853),\n",
       " 'beacon.sina.com.cn': (306, 849),\n",
       " 'proxy-bay-people.directory.live.com': (307, 848),\n",
       " 'eulerian.canal-plus.com': (308, 843),\n",
       " 'limelight.cedexis.com': (309, 839),\n",
       " 'www.foxitsoftware.com': (310, 839),\n",
       " 'fdata.over-blog.net': (311, 838),\n",
       " 'mw2.google.com': (312, 837),\n",
       " 'wenku.baidu.com': (313, 837),\n",
       " 'rapidssl-ocsp.geotrust.com': (314, 832),\n",
       " 'dub123.mail.live.com': (315, 832),\n",
       " 'pings.conviva.com': (316, 828),\n",
       " 'iz.orange.fr': (317, 827),\n",
       " 'annotathon.univ-mrs.fr': (318, 821),\n",
       " '1.drive.google.com': (319, 819),\n",
       " 'rbp.mxptint.net': (320, 819),\n",
       " 'www.rcsb.org': (321, 819),\n",
       " 'www.ibm.com': (322, 817),\n",
       " 'www.jobaviz.fr': (323, 808),\n",
       " 'www.amazon.fr': (324, 807),\n",
       " 'dl.javafx.com': (325, 807),\n",
       " 'dub110.mail.live.com': (326, 804),\n",
       " 'webwangwang.taobao.com': (327, 804),\n",
       " 'dl.patchbeam.com': (328, 800),\n",
       " 'candidat.pole-emploi.fr': (329, 795),\n",
       " 'mail.yahoo.com': (330, 795),\n",
       " 'www.melty.fr': (331, 788),\n",
       " 'accn.allocine.net': (332, 788),\n",
       " 'fxfeeds.mozilla.com': (333, 786),\n",
       " 'sync.uuidcshmg.com': (334, 776),\n",
       " 'assets5.lefigaro.fr': (335, 775),\n",
       " 'locdrop.query.yahoo.com': (336, 773),\n",
       " 'fr.news.yahoo.com': (337, 771),\n",
       " 'sourceforge.net': (338, 770),\n",
       " 'www.freepdfconvert.com': (339, 768),\n",
       " 'api.massrelevance.com': (340, 766),\n",
       " 'www.tumblr.com': (341, 762),\n",
       " 'byfiles.storage.msn.com': (342, 758),\n",
       " '2.docs.google.com': (343, 758),\n",
       " '0.talkgadget.google.com': (344, 757),\n",
       " 'dub128.mail.live.com': (345, 749),\n",
       " 'www.ultimedia.com': (346, 746),\n",
       " 'admin.brightcove.com': (347, 743),\n",
       " 'msc2.s-sfr.fr': (348, 743),\n",
       " 'www.01net.com': (349, 738),\n",
       " 'dl-web.dropbox.com': (350, 738),\n",
       " 'www.mangareader.net': (351, 738),\n",
       " 'search.mywebs.pro': (352, 737),\n",
       " 'fastly.bench.cedexis.com': (353, 729),\n",
       " 'www.w3.org': (354, 724),\n",
       " 'pt200204.unica.com': (355, 722),\n",
       " 'www.t2c.fr': (356, 721),\n",
       " 'commons.wikimedia.org': (357, 720),\n",
       " 'javadl-esd.sun.com': (358, 716),\n",
       " 'www.lepoint.fr': (359, 714),\n",
       " 'www.spi0n.com': (360, 710),\n",
       " 'proxy-blu-people.directory.live.com': (361, 707),\n",
       " 'lc.iadvize.com': (362, 706),\n",
       " 'http.tidaltv.com': (363, 701),\n",
       " 'gdata.youtube.com': (364, 697),\n",
       " 'g-ecx.images-amazon.com': (365, 697),\n",
       " 'geo1.ggpht.com': (366, 697),\n",
       " 'dub121.mail.live.com': (367, 695),\n",
       " 'cdlc.iadvize.com': (368, 694),\n",
       " 'www.powerarchiver.com': (369, 691),\n",
       " 'ycpi-mail-rest-core4.msg.yahoo.com': (370, 687),\n",
       " 'www.apache.org': (371, 686),\n",
       " 'www.info-jeunes.net': (372, 685),\n",
       " 'dub114.mail.live.com': (373, 685),\n",
       " 'word-view.officeapps.live.com': (374, 683),\n",
       " 'img1.video.s-msn.com': (375, 681),\n",
       " 'r.ccm2.net': (376, 680),\n",
       " 'eu1.badoo.com': (377, 676),\n",
       " 'c.fr.msn.com': (378, 671),\n",
       " 'wwwimages.adobe.com': (379, 667),\n",
       " 'mg.mail.yahoo.com': (380, 667),\n",
       " 'forums.futura-sciences.com': (381, 666),\n",
       " 'www.cbs.dtu.dk': (382, 664),\n",
       " 's.huffpost.com': (383, 662),\n",
       " 'rbx-cdn-tpn.c4tw.net': (384, 660),\n",
       " 'accounts.google.co.ma': (385, 660),\n",
       " 'i.htfacile.fr': (386, 658),\n",
       " 'hub.video.msn.com': (387, 658),\n",
       " 'mfr.meteofrance.com': (388, 654),\n",
       " 'geo2.ggpht.com': (389, 649),\n",
       " 'x2.vindicosuite.com': (390, 645),\n",
       " 'player.mediabong.com': (391, 642),\n",
       " 'geo3.ggpht.com': (392, 641),\n",
       " 'de.tynt.com': (393, 640),\n",
       " 'fnac.iadvize.com': (394, 639),\n",
       " 'online.sokker.org': (395, 634),\n",
       " 'dub115.mail.live.com': (396, 631),\n",
       " 'sclick.baidu.com': (397, 629),\n",
       " 's2.wp.com': (398, 627),\n",
       " 'layout.eurosport.com': (399, 627),\n",
       " '2.bp.blogspot.com': (400, 624),\n",
       " 'stackauth.com': (401, 621),\n",
       " 'api.flattr.com': (402, 616),\n",
       " 'www.mindat.org': (403, 614),\n",
       " 'wwwd.caf.fr': (404, 613),\n",
       " 'fr.web.img1.acsta.net': (405, 611),\n",
       " 'fr.web.img6.acsta.net': (406, 611),\n",
       " 'fls-eu.amazon.fr': (407, 610),\n",
       " 'www.journaldugeek.com': (408, 609),\n",
       " 'ljdchost.com': (409, 609),\n",
       " 'www.20minutes.fr': (410, 607),\n",
       " 'dictionnaire.reverso.net': (411, 606),\n",
       " 'img1.blogblog.com': (412, 605),\n",
       " 'armdl.adobe.com': (413, 604),\n",
       " 'get.adobe.com': (414, 604),\n",
       " 'smart2.allocine.fr': (415, 600),\n",
       " 'fr.ask.com': (416, 600),\n",
       " 'abs.twimg.com': (417, 598),\n",
       " 'dub129.mail.live.com': (418, 597),\n",
       " 'www.huffingtonpost.fr': (419, 597),\n",
       " 'origin-www.20minutes.fr': (420, 596),\n",
       " 'get.webwangwang.taobao.com': (421, 595),\n",
       " 'i.huffpost.com': (422, 593),\n",
       " 'z-ecx.images-amazon.com': (423, 592),\n",
       " 'www.eurosport.fr': (424, 591),\n",
       " 'cs.specificclick.net': (425, 589),\n",
       " 'id.orange.fr': (426, 589),\n",
       " 'marketplace.eclipse.org': (427, 588),\n",
       " 'www.cbssports.com': (428, 587),\n",
       " 'fr.web.img4.acsta.net': (429, 586),\n",
       " 'www.linguee.fr': (430, 586),\n",
       " 'jeu.carre.rouge.free.fr': (431, 582),\n",
       " 'www.footmercato.net': (432, 580),\n",
       " 'www.woodbrass.com': (433, 574),\n",
       " '1.bp.blogspot.com': (434, 573),\n",
       " 'github.com': (435, 573),\n",
       " 'download.eclipse.org': (436, 572),\n",
       " '4.bp.blogspot.com': (437, 571),\n",
       " 'eu.battle.net': (438, 571),\n",
       " '3.bp.blogspot.com': (439, 567),\n",
       " 'assets4.lefigaro.fr': (440, 564),\n",
       " 'foglio.basilic.io': (441, 563),\n",
       " 'pos.baidu.com': (442, 562),\n",
       " 'apex.oracle.com': (443, 560),\n",
       " 'www.radioscoop.com': (444, 560),\n",
       " 'c2i.univ-bpclermont.fr': (445, 554),\n",
       " 'h.bing.com': (446, 552),\n",
       " 'msc1.s-sfr.fr': (447, 552),\n",
       " 'rm.api.weibo.com': (448, 549),\n",
       " 'eurosportbet.loa24.com': (449, 548),\n",
       " '1-50.completr.appspot.com': (450, 547),\n",
       " 'shell.windows.com': (451, 546),\n",
       " 'www.voyages-sncf.com': (452, 546),\n",
       " 'fbexternal-a.akamaihd.net': (453, 544),\n",
       " 'dub109.mail.live.com': (454, 541),\n",
       " 'www.meteofrance.com': (455, 540),\n",
       " 'skydrive.live.com': (456, 537),\n",
       " 'js.wanadoo.fr': (457, 536),\n",
       " 'cshoppingbox.partner.leguide.com': (458, 532),\n",
       " 'www.francetvinfo.fr': (459, 531),\n",
       " 'a69.g.akamai.net': (460, 529),\n",
       " 'www.adobe.com': (461, 528),\n",
       " 'nexus.ensighten.com': (462, 528),\n",
       " 'wp.mail.qq.com': (463, 525),\n",
       " 'cdnjs.cloudflare.com': (464, 524),\n",
       " 'i10.twenga.com': (465, 523),\n",
       " 'geo.mozilla.org': (466, 520),\n",
       " 'infoterre.brgm.fr': (467, 520),\n",
       " 'static.wanadoo.fr': (468, 517),\n",
       " 'www.malgouyres.org': (469, 517),\n",
       " 'player.ooyala.com': (470, 516),\n",
       " 'www.talend.com': (471, 516),\n",
       " 'ir2-attach.mail.yahoo.com': (472, 513),\n",
       " 'dps.bing.com': (473, 509),\n",
       " 'cm.adgrx.com': (474, 509),\n",
       " 'catalogue.clermont-universite.fr': (475, 509),\n",
       " 'referentiel.nouvelobs.com': (476, 504),\n",
       " 'tracker.cds-tracking.com': (477, 502),\n",
       " 'gmail.com': (478, 501),\n",
       " 'dub116.mail.live.com': (479, 500),\n",
       " 'a.fsdn.com': (480, 498),\n",
       " 'i11.twenga.com': (481, 497),\n",
       " 'feeds.bbci.co.uk': (482, 495),\n",
       " 'bitgravity.cedexis.com': (483, 495),\n",
       " 'www.wat.tv': (484, 494),\n",
       " 'fr.ad4mat.net': (485, 493),\n",
       " 'edt.univ-bpclermont.fr': (486, 492),\n",
       " 'bdimg.share.baidu.com': (487, 490),\n",
       " 'newsrss.bbc.co.uk': (488, 489),\n",
       " 'i.stack.imgur.com': (489, 488),\n",
       " 'style2.ad6.fr': (490, 486),\n",
       " 'wd.sharethis.com': (491, 486),\n",
       " 'ak.c.ooyala.com': (492, 486),\n",
       " 'www.marchesonline.com': (493, 486),\n",
       " 'www.gmail.com': (494, 485),\n",
       " 's.tf1.fr': (495, 484),\n",
       " 'static.videostep.com': (496, 483),\n",
       " 'netdna.cedexis.com': (497, 483),\n",
       " 'lh4.google.com': (498, 483),\n",
       " 'socialprofiles.zenfs.com': (499, 483),\n",
       " 'b12.myspace.com': (500, 482),\n",
       " 'www.mozilla.org': (501, 479),\n",
       " 'www.clubic.com': (502, 479),\n",
       " 'listener.ezakus.net': (503, 477),\n",
       " 'www.hotmail.com': (504, 477),\n",
       " 'picda.ilius.net': (505, 476),\n",
       " 'barreau.matthieu.free.fr': (506, 476),\n",
       " 'lh3.google.com': (507, 475),\n",
       " 'www2.wordreference.com': (508, 475),\n",
       " 'track.zalando.fr': (509, 474),\n",
       " 'metrics.sfr.fr': (510, 470),\n",
       " '93y7z60j4z.b.ad6media.fr': (511, 470),\n",
       " 'ocsp.entrust.net': (512, 469),\n",
       " 'khms2.google.com': (513, 469),\n",
       " 'dub125.mail.live.com': (514, 468),\n",
       " 'khms3.google.com': (515, 468),\n",
       " 'lh6.google.com': (516, 467),\n",
       " 'blufiles.storage.msn.com': (517, 466),\n",
       " 'www.uniprot.org': (518, 463),\n",
       " 'secure.skysa.com': (519, 463),\n",
       " 'secure.footprint.net': (520, 462),\n",
       " 'www.jeuxvideo.com': (521, 461),\n",
       " 'www.imingo.com': (522, 461),\n",
       " 'static.mediabong.com': (523, 460),\n",
       " 'dub119.mail.live.com': (524, 458),\n",
       " 'kh6qrx0f8h.s.ad6media.fr': (525, 457),\n",
       " 'www.journaldugamer.com': (526, 457),\n",
       " 'www.isima.fr': (527, 454),\n",
       " 'www.letudiant.fr': (528, 452),\n",
       " 'rm.piximedia.fr': (529, 449),\n",
       " 'm.bestofmedia.com': (530, 449),\n",
       " 'l.ooyala.com': (531, 447),\n",
       " 'fr.web.img2.acsta.net': (532, 446),\n",
       " 'y.one.impact-ad.jp': (533, 446),\n",
       " 'dl2.traceparts.com': (534, 446),\n",
       " 'loadr.exelator.com': (535, 445),\n",
       " 'fastly.bench.cedexis.com.global.prod.fastly.net': (536, 445),\n",
       " 'adzerk-www.s3.amazonaws.com': (537, 445),\n",
       " 'stats.adobe.com': (538, 444),\n",
       " '1.www.s81c.com': (539, 444),\n",
       " 'layout.eurosport.fr': (540, 441),\n",
       " 'www.cartejeunes-nouveaumonde.fr': (541, 438),\n",
       " '160.92.123.193': (542, 437),\n",
       " 'www.oracleimg.com': (543, 435),\n",
       " 'www.fff.fr': (544, 435),\n",
       " 's3-eu-west-1.amazonaws.com': (545, 434),\n",
       " 'www.japan-shin.com': (546, 433),\n",
       " 'www.sagemath.org': (547, 432),\n",
       " 'bbcphotos.s3.amazonaws.com': (548, 432),\n",
       " 'i4.ytimg.com': (549, 429),\n",
       " 'fr.web.img3.acsta.net': (550, 428),\n",
       " 'danstonchat.com': (551, 428),\n",
       " 'ia.nspmotion.com': (552, 427),\n",
       " 'sax.sina.com.cn': (553, 427),\n",
       " 'www.hotmail.fr': (554, 425),\n",
       " 'passport.baidu.com': (555, 425),\n",
       " 'lh5.google.com': (556, 425),\n",
       " 'a248.e.akamai.net': (557, 424),\n",
       " 'logc258.at.pagesjaunes.fr': (558, 424),\n",
       " 'widgets.wp.com': (559, 422),\n",
       " 'www.dell.com': (560, 422),\n",
       " 's1.wp.com': (561, 421),\n",
       " 'www.tracepartsonline.net': (562, 421),\n",
       " 't12.baidu.com': (563, 421),\n",
       " 'www.widgetserver.com': (564, 421),\n",
       " 'c.baidu.com': (565, 420),\n",
       " 't10.baidu.com': (566, 420),\n",
       " 'fr.web.img5.acsta.net': (567, 419),\n",
       " 'atout.email-match.com': (568, 418),\n",
       " 'i.imgur.com': (569, 418),\n",
       " 'dev.virtualearth.net': (570, 417),\n",
       " 'passets.pinterest.com': (571, 415),\n",
       " 'a.nonstoppartner.net': (572, 414),\n",
       " 'forum.hardware.fr': (573, 414),\n",
       " 'www.journaldunet.com': (574, 414),\n",
       " 'www.talendforge.org': (575, 413),\n",
       " 'www.brillig.com': (576, 413),\n",
       " 'www.smogreport.com': (577, 413),\n",
       " 'dub113.mail.live.com': (578, 412),\n",
       " 'univ-bpclermont.cyberlibris.fr': (579, 411),\n",
       " 'fbcdn-creative-a.akamaihd.net': (580, 410),\n",
       " 'gm1.ggpht.com': (581, 409),\n",
       " 'www.sciencedirect.com': (582, 409),\n",
       " 'image.jeuxvideo.com': (583, 406),\n",
       " 'chinacache.cedexis.com': (584, 403),\n",
       " 'ba.linternaute.com': (585, 403),\n",
       " 'img.t.sinajs.cn': (586, 402),\n",
       " 'logger-02.vty.dailymotion.com': (587, 401),\n",
       " 'www.debian.org': (588, 401),\n",
       " 'dub124.mail.live.com': (589, 401),\n",
       " 'measure.20mn.fr': (590, 397),\n",
       " 'www.microsofttranslator.com': (591, 397),\n",
       " 'd1447tq2m68ekg.cloudfront.net': (592, 395),\n",
       " 'd2fi5gtn497jwe.cloudfront.net': (593, 394),\n",
       " 'img.over-blog.com': (594, 393),\n",
       " 'addons.foxitsoftware.com': (595, 393),\n",
       " 'sigayret.fr': (596, 393),\n",
       " 'accounts.google.dz': (597, 393),\n",
       " '3.docs.google.com': (598, 391),\n",
       " 'd1.sina.com.cn': (599, 391),\n",
       " 'www.effetb.com': (600, 390),\n",
       " 'validator.w3.org': (601, 389),\n",
       " 'mimg.127.net': (602, 389),\n",
       " 'webmail.mail.163.com': (603, 389),\n",
       " 'slot1.images.wikia.nocookie.net': (604, 388),\n",
       " 'rr.office.microsoft.com': (605, 388),\n",
       " 'assets3.lefigaro.fr': (606, 387),\n",
       " 'lpro-tls.craym.eu': (607, 387),\n",
       " 'google.com': (608, 383),\n",
       " 'monsterhunter.wikia.com': (609, 383),\n",
       " 's2.lemde.fr': (610, 382),\n",
       " 'cip.gagnoo.com': (611, 381),\n",
       " 'grooveshark.com': (612, 381),\n",
       " 'feeds.feedburner.com': (613, 380),\n",
       " 'prac.im.pwr.wroc.pl': (614, 380),\n",
       " 't11.baidu.com': (615, 379),\n",
       " 'mts1.googleapis.com': (616, 378),\n",
       " 'static.eplayer.performgroup.com': (617, 377),\n",
       " 'fls-na.amazon.com': (618, 377),\n",
       " 'www.zalando.fr': (619, 376),\n",
       " 'js.sddan.com': (620, 374),\n",
       " 'data.nba.com': (621, 374),\n",
       " 'lh6.ggpht.com': (622, 372),\n",
       " 'www.idealo.fr': (623, 371),\n",
       " 'evt.adrcntr.com': (624, 370),\n",
       " 'c.orange.fr': (625, 370),\n",
       " 'www.aif.ru': (626, 370),\n",
       " 'api.dailymotion.com': (627, 369),\n",
       " 'www.beead.fr': (628, 368),\n",
       " 'c1.microsoft.com': (629, 365),\n",
       " 'mts0.googleapis.com': (630, 364),\n",
       " 'ws-cdi.web-boosting.net': (631, 364),\n",
       " 'www.outlook.com': (632, 363),\n",
       " 'lh5.ggpht.com': (633, 361),\n",
       " 'www.usherbrooke.ca': (634, 361),\n",
       " 'lh3.ggpht.com': (635, 360),\n",
       " 'static.commentcamarche.net': (636, 360),\n",
       " 'eurosport-fr.disqus.com': (637, 360),\n",
       " 'regie2.iquesta.com': (638, 360),\n",
       " 'dub127.mail.live.com': (639, 359),\n",
       " 'lh4.ggpht.com': (640, 358),\n",
       " 'emailretargeting.com': (641, 358),\n",
       " 'api.share.baidu.com': (642, 358),\n",
       " 'entauvergne.fr': (643, 358),\n",
       " 'static.ebz.io': (644, 357),\n",
       " 'cdn4.tennistemple.com': (645, 357),\n",
       " 'cdns.gigya.com': (646, 356),\n",
       " '1.talkgadget.google.com': (647, 356),\n",
       " 'flattr.com': (648, 355),\n",
       " 'lesjoiesducode.fr': (649, 355),\n",
       " 'id.impressiondesk.com': (650, 354),\n",
       " 'cnfg.toolbarservices.com': (651, 354),\n",
       " 'tr1101.myroitracking.com': (652, 354),\n",
       " 'tp2.sinaimg.cn': (653, 353),\n",
       " 'tp4.sinaimg.cn': (654, 353),\n",
       " 'inputtools.google.com': (655, 351),\n",
       " 'www.mikadoracing.com': (656, 351),\n",
       " 'r.orange.fr': (657, 349),\n",
       " 'api.facebook.com': (658, 347),\n",
       " 'www.mathworks.com': (659, 347),\n",
       " 'sites.google.com': (660, 346),\n",
       " 'img.baidu.com': (661, 346),\n",
       " 'dub112.mail.live.com': (662, 346),\n",
       " 'p.tanx.com': (663, 345),\n",
       " 'platform.sina.com.cn': (664, 345),\n",
       " 'www.maplesoft.com': (665, 343),\n",
       " 'tracking.veoxa.com': (666, 343),\n",
       " 'www.tati.fr': (667, 343),\n",
       " 'login.secure.emea.msn.com': (668, 342),\n",
       " 'github.global.ssl.fastly.net': (669, 342),\n",
       " 'asset.email-match.com': (670, 340),\n",
       " 'static.lexpress.fr': (671, 340),\n",
       " 'assets1.lefigaro.fr': (672, 339),\n",
       " 'fr.primary.affinitad.com': (673, 339),\n",
       " 'cb.baidu.com': (674, 339),\n",
       " 'assets-pub.lefigaro.fr': (675, 338),\n",
       " 'forum-images.hardware.fr': (676, 338),\n",
       " 'i.dell.com': (677, 338),\n",
       " 'web-dorado.com': (678, 338),\n",
       " 'www.blogblog.com': (679, 337),\n",
       " 'public.dhe.ibm.com': (680, 337),\n",
       " 'netstorage.lequipe.fr': (681, 337),\n",
       " 'boutique-online.orange.fr': (682, 336),\n",
       " 'www.wolframalpha.com': (683, 335),\n",
       " 'images-na.ssl-images-amazon.com': (684, 334),\n",
       " 'baike.baidu.com': (685, 334),\n",
       " 'pierre.colomb.me': (686, 333),\n",
       " 'static.societegenerale.fr': (687, 333),\n",
       " 'public-api.wordpress.com': (688, 332),\n",
       " 'tc.airfrance.com': (689, 331),\n",
       " 'rss.lemonde.fr': (690, 331),\n",
       " 'compteperso.leboncoin.fr': (691, 330),\n",
       " 'legacy.futura-sciences.com': (692, 330),\n",
       " 'christian.nicollet.free.fr': (693, 330),\n",
       " 'metrics.mathworks.com': (694, 328),\n",
       " 'www.olympic.org': (695, 327),\n",
       " 'metrics.cdiscount.com': (696, 327),\n",
       " 'fr.vente-privee.com': (697, 327),\n",
       " 'blu177.mail.live.com': (698, 326),\n",
       " 's1.s-sfr.fr': (699, 325),\n",
       " 'audience.visiblemeasures.com': (700, 325),\n",
       " 'vap3dfw1.lijit.com': (701, 325),\n",
       " 'rcm-fr.amazon.fr': (702, 324),\n",
       " 'www.iadvize.com': (703, 324),\n",
       " 'vap2iad1.lijit.com': (704, 323),\n",
       " 'hotmail.fr': (705, 322),\n",
       " 'col001.ip-label.net': (706, 322),\n",
       " 'avis.cdiscount.com': (707, 322),\n",
       " '4.docs.google.com': (708, 321),\n",
       " 'www.slate.fr': (709, 321),\n",
       " 'www.weibo.com': (710, 320),\n",
       " 'www.cisco.com': (711, 320),\n",
       " 'spot.static.meetic.com': (712, 319),\n",
       " 'illiweb.com': (713, 319),\n",
       " 'www.google.com.pe': (714, 319),\n",
       " 's.srvntrk.com': (715, 318),\n",
       " 'static.siteduzero.com': (716, 318),\n",
       " 'www.ldlc.com': (717, 318),\n",
       " 'www.vu.edu.au': (718, 318),\n",
       " 'www.microsoft.com': (719, 317),\n",
       " 'admaym.com': (720, 316),\n",
       " 'ent.u-clermont1.fr': (721, 316),\n",
       " 'www.google.dz': (722, 315),\n",
       " 'calotag.com': (723, 314),\n",
       " 'battlelog.battlefield.com': (724, 314),\n",
       " 'kweb.videostep.com': (725, 313),\n",
       " 'sync.rambler.ru': (726, 312),\n",
       " 's.kau.li': (727, 310),\n",
       " 'vap3iad1.lijit.com': (728, 310),\n",
       " 'www.evike.com': (729, 310),\n",
       " 's2.s-sfr.fr': (730, 309),\n",
       " 'www.jmdoudoux.fr': (731, 309),\n",
       " 'mangafox.me': (732, 309),\n",
       " 'i3.sinaimg.cn': (733, 308),\n",
       " 'img2.video.s-msn.com': (734, 307),\n",
       " 'tempsreel.nouvelobs.com': (735, 305),\n",
       " 'tp3.sinaimg.cn': (736, 304),\n",
       " 'www.stid-france.com': (737, 304),\n",
       " 'genes.mit.edu': (738, 303),\n",
       " 'vap2dfw1.lijit.com': (739, 303),\n",
       " 'dub117.mail.live.com': (740, 303),\n",
       " 'www.lesechos.fr': (741, 303),\n",
       " 'rue89.nouvelobs.com': (742, 303),\n",
       " 'www.lmgezond.be': (743, 303),\n",
       " 'edge.sharethis.com': (744, 302),\n",
       " 'u.videostep.com': (745, 301),\n",
       " 'login.skype.com': (746, 301),\n",
       " 'cpro.baidustatic.com': (747, 300),\n",
       " 'xml.betclick.com': (748, 297),\n",
       " 'portableapps.com': (749, 297),\n",
       " 'network.aufeminin.com': (750, 296),\n",
       " 'www.alsacreations.com': (751, 296),\n",
       " 'webmail1c.orange.fr': (752, 296),\n",
       " 'www.mlsante.be': (753, 296),\n",
       " 'khms1.google.com.pe': (754, 296),\n",
       " 'fr.intext.adfever.com': (755, 295),\n",
       " 'www.lfp.fr': (756, 295),\n",
       " 'www-01.ibm.com': (757, 295),\n",
       " 'yt4.ggpht.com': (758, 293),\n",
       " 'vap2iad3.lijit.com': (759, 293),\n",
       " 's.gravatar.com': (760, 292),\n",
       " 'bcs.wenku.bdimg.com': (761, 292),\n",
       " 'www.larousse.fr': (762, 291),\n",
       " 'billetterie.asm-rugby.dspsport.com': (763, 290),\n",
       " 'vp-eu.scene7.com': (764, 290),\n",
       " 'appimg2.qq.com': (765, 290),\n",
       " 'www.mkyong.com': (766, 289),\n",
       " 'tp1.sinaimg.cn': (767, 288),\n",
       " 'm.ad6media.fr': (768, 287),\n",
       " 'i2.sinaimg.cn': (769, 287),\n",
       " 'sa.kewego.com': (770, 286),\n",
       " 'html5shim.googlecode.com': (771, 286),\n",
       " 'www.mangahere.com': (772, 285),\n",
       " 'ocsp2.globalsign.com': (773, 283),\n",
       " 'clients4.google.com': (774, 283),\n",
       " 'www.eclipse.org': (775, 283),\n",
       " 'eagle.email-match.com': (776, 283),\n",
       " 'assets-data.lefigaro.fr': (777, 282),\n",
       " 'i.ytimg.com': (778, 282),\n",
       " 'books.google.com': (779, 281),\n",
       " 'vap1dfw1.lijit.com': (780, 281),\n",
       " 'multi.4smi.ru': (781, 281),\n",
       " 'cpro.baidu.com': (782, 280),\n",
       " 's1.hespress.com': (783, 280),\n",
       " 'api.search.live.com': (784, 280),\n",
       " 'www.reddit.com': (785, 279),\n",
       " 'img2.blogblog.com': (786, 279),\n",
       " 'files-ak.goodgamestudios.com': (787, 279),\n",
       " 'www.indeed.fr': (788, 277),\n",
       " 'fstatic.iadvize.com': (789, 277),\n",
       " 'www.altera.com': (790, 277),\n",
       " 'runonce.msn.com': (791, 277),\n",
       " 'www.delta-search.com': (792, 277),\n",
       " 'baike.bdimg.com': (793, 276),\n",
       " 'www.amazon.com': (794, 276),\n",
       " 'snippets-stats.mozilla.org': (795, 275),\n",
       " 'static.pagesjaunes.fr': (796, 275),\n",
       " 'jobs-stages.letudiant.fr': (797, 275),\n",
       " 'i1.sinaimg.cn': (798, 275),\n",
       " 'vap4iad3.lijit.com': (799, 275),\n",
       " 'medias.schaeffler.de': (800, 275),\n",
       " 'e1-mg5.mail.yahoo.com': (801, 275),\n",
       " 'utils.delta-search.com': (802, 274),\n",
       " 'log.caspion.com': (803, 274),\n",
       " 'static.tieba.baidu.com': (804, 274),\n",
       " 'www.sport.fr': (805, 274),\n",
       " 'ww2.sinaimg.cn': (806, 274),\n",
       " 'getbootstrap.com': (807, 273),\n",
       " 'bbs.qyer.com': (808, 273),\n",
       " 'library.la84.org': (809, 273),\n",
       " 'forums.oracle.com': (810, 272),\n",
       " 'images.aif.ru': (811, 271),\n",
       " 'uwa.netvibes.com': (812, 270),\n",
       " 'khms0.google.com.pe': (813, 270),\n",
       " 'i.creativecommons.org': (814, 269),\n",
       " 's1.bdstatic.com': (815, 269),\n",
       " 'prod4.rest-core.msg.yahoo.com': (816, 269),\n",
       " 'push.webmail.mail.163.com': (817, 268),\n",
       " 'idata.over-blog.com': (818, 266),\n",
       " 'egosecurity.com': (819, 266),\n",
       " 'push.webmail.mail.126.com': (820, 266),\n",
       " 'www.paypalobjects.com': (821, 264),\n",
       " 'coup-cdn1.scholarvox.com': (822, 264),\n",
       " 'www.tonmanga.com': (823, 264),\n",
       " 'consent-st.truste.com': (824, 263),\n",
       " 'ea.virginmobile.fr': (825, 262),\n",
       " '347-iat-677.mktoresp.com': (826, 262),\n",
       " 'i0.sinaimg.cn': (827, 262),\n",
       " 'retargeting.veoxa.com': (828, 261),\n",
       " '143.127.102.40': (829, 261),\n",
       " 'forge.clermont-universite.fr': (830, 261),\n",
       " 'deliv.bayard-pub.com': (831, 260),\n",
       " 'jdn.monster.com': (832, 260),\n",
       " 'ba.journaldunet.com': (833, 260),\n",
       " 'bay178.mail.live.com': (834, 260),\n",
       " 'www.crous-clermont.fr': (835, 259),\n",
       " 'cache.pack.google.com': (836, 258),\n",
       " 'www.foot01.com': (837, 258),\n",
       " 'elsevier.d1.sc.omtrdc.net': (838, 258),\n",
       " 'uaa.springsource.org': (839, 258),\n",
       " 'www.cplusplus.com': (840, 257),\n",
       " 'sports.cbsimg.net': (841, 257),\n",
       " 'sfr.cedexis.com': (842, 256),\n",
       " 'pasillo.renater.fr': (843, 256),\n",
       " 'wa-europe.electrocomponents.com': (844, 255),\n",
       " 'img.clubic.com': (845, 255),\n",
       " 'ww1.sinaimg.cn': (846, 255),\n",
       " 'docs.jboss.org': (847, 255),\n",
       " 'vap1iad1.lijit.com': (848, 255),\n",
       " 'clicks.beap.bc.yahoo.com': (849, 254),\n",
       " 'ww3.sinaimg.cn': (850, 254),\n",
       " 'integrate.factiva.com': (851, 253),\n",
       " 'jigsaw.w3.org': (852, 253),\n",
       " 'logc257.at.pagesjaunes.fr': (853, 253),\n",
       " 'fr.answers.yahoo.com': (854, 252),\n",
       " 'www4-fr.fnac-static.com': (855, 252),\n",
       " 'jserror.newrelic.com': (856, 251),\n",
       " 'www.eficiens-serving2.com': (857, 251),\n",
       " 'www.bpe.europresse.com.sicd.clermont-universite.fr': (858, 251),\n",
       " 'mapsref.brgm.fr': (859, 251),\n",
       " 'i-cms.linternaute.com': (860, 250),\n",
       " 'services.highbeam.com': (861, 250),\n",
       " 'www.miniinthebox.com': (862, 250),\n",
       " 'www.bouyguestelecom.fr': (863, 250),\n",
       " 'news.sina.com.cn': (864, 250),\n",
       " 'l.longtailvideo.com': (865, 249),\n",
       " 'www.tutorialspoint.com': (866, 249),\n",
       " 'stages.univ-bpclermont.fr': (867, 249),\n",
       " 'ubmcmm.baidustatic.com': (868, 249),\n",
       " 'ia.media-imdb.com': (869, 249),\n",
       " 'static.wenku.bdimg.com': (870, 249),\n",
       " 'www.iquesta.com': (871, 249),\n",
       " 'www.sport365.fr': (872, 247),\n",
       " 'eternicode.github.io': (873, 247),\n",
       " 'thenicestplaceontheinter.net': (874, 247),\n",
       " 'fr.wikibooks.org': (875, 245),\n",
       " 'ww4.sinaimg.cn': (876, 245),\n",
       " 'ad.melty.fr': (877, 244),\n",
       " 'maps-api-ssl.google.com': (878, 244),\n",
       " 'aws-ap-southeast-2a.bench.cedexis.com': (879, 244),\n",
       " 'ocsp.gandi.net': (880, 244),\n",
       " 'dev.twitter.com': (881, 243),\n",
       " 'assets2.lefigaro.fr': (882, 242),\n",
       " 'msfs.nspmotion.com': (883, 242),\n",
       " 'radar.cedexis.swiftserve.com': (884, 242),\n",
       " 'www.nba.com': (885, 242),\n",
       " 'spi0nx.disqus.com': (886, 241),\n",
       " 'ac.babsrv.com': (887, 241),\n",
       " 'static.zara.net': (888, 241),\n",
       " 'static.francetv.fr': (889, 240),\n",
       " 'c.live.com': (890, 240),\n",
       " 'media.ldlc.com': (891, 240),\n",
       " 'www.worldlingo.com': (892, 239),\n",
       " 'www.groupon.fr': (893, 238),\n",
       " 'vcm-match.dotomi.com': (894, 238),\n",
       " 'vap3iad3.lijit.com': (895, 238),\n",
       " 'publib.boulder.ibm.com': (896, 236),\n",
       " 'assets6.lefigaro.fr': (897, 235),\n",
       " 'stat.aif.ru': (898, 235),\n",
       " 'user-disp.tidaltv.com': (899, 233),\n",
       " 'r2---sn-gxo5uxg-jqbe.c.pack.google.com': (900, 233),\n",
       " 'www.megavoip.com': (901, 233),\n",
       " 'images.20minutes.fr': (902, 233),\n",
       " 'api.pinterest.com': (903, 232),\n",
       " 'webmail1f.orange.fr': (904, 232),\n",
       " 'auto-ecole-cezeaux-clermont-freand.packweb2.com': (905, 232),\n",
       " 'ec2-us-west-1a.cedexis.com': (906, 231),\n",
       " 'mpp2.vindicosuite.com': (907, 231),\n",
       " 'fr.scribd.com': (908, 231),\n",
       " 'www.google.co.ma': (909, 231),\n",
       " 'elohell.net': (910, 231),\n",
       " 'www.caf.fr': (911, 230),\n",
       " 'vap5iad3.lijit.com': (912, 230),\n",
       " 'www.europe1.fr': (913, 230),\n",
       " 'ec2-ap-northeast-1a.cedexis.com': (914, 229),\n",
       " 'img.6park.com': (915, 229),\n",
       " 'ajax.cloudflare.com': (916, 228),\n",
       " 'a01.adoptima.com': (917, 228),\n",
       " 'static.bshare.cn': (918, 228),\n",
       " 'youwatch.org': (919, 227),\n",
       " 'dlive.pagesjaunes.fr': (920, 227),\n",
       " 'as00.estara.com': (921, 226),\n",
       " 'ecn.dev.virtualearth.net': (922, 226),\n",
       " 'i2.ytimg.com': (923, 225),\n",
       " 'onapp.cedexis.com': (924, 225),\n",
       " 'ec2-us-west-2a.cedexis.com': (925, 225),\n",
       " 'www.nafnaf.com': (926, 225),\n",
       " 'www.miami.edu': (927, 225),\n",
       " 'nba.sports.sina.com.cn': (928, 225),\n",
       " 'ftn.fortuneo.fr': (929, 224),\n",
       " 'widgets.twimg.com': (930, 224),\n",
       " 'msdn.microsoft.com': (931, 224),\n",
       " 'www.covoiturageauvergne.net': (932, 224),\n",
       " 'www.generation-nt.com': (933, 223),\n",
       " 'ls-entrainements.compodata.eu': (934, 223),\n",
       " 'use.typekit.net': (935, 222),\n",
       " 'intensedebate.com': (936, 222),\n",
       " 'www.fnac.com': (937, 222),\n",
       " 'ep01.epimg.net': (938, 222),\n",
       " 'tools.google.com': (939, 221),\n",
       " 'ts2.explicit.bing.net': (940, 221),\n",
       " 'www.rfi.fr': (941, 221),\n",
       " 'biodiver.bio.ub.es': (942, 221),\n",
       " 'wn.pos.baidu.com': (943, 221),\n",
       " 'www.fondasol.fr': (944, 221),\n",
       " 'a01.gestionpub.com': (945, 219),\n",
       " 'u.tt': (946, 219),\n",
       " 'lkimg.zamimg.com': (947, 218),\n",
       " 'www.imdb.com': (948, 218),\n",
       " 'i2.wp.com': (949, 217),\n",
       " 'ts4.explicit.bing.net': (950, 217),\n",
       " 'us.lrd.yahoo.com': (951, 217),\n",
       " 'scholar.google.fr': (952, 217),\n",
       " 'www.pronosoft.com': (953, 217),\n",
       " 'boutique.orange.fr': (954, 217),\n",
       " 'www.divertissonsnous.com': (955, 217),\n",
       " 'cedexis-test01.insnw.net': (956, 216),\n",
       " 'ec2-sa-east-1a.cedexis.com': (957, 216),\n",
       " 'isdspeed.qq.com': (958, 216),\n",
       " 'winter.group.shef.ac.uk': (959, 216),\n",
       " 'static.hypercomments.com': (960, 216),\n",
       " 'montblanc.rambler.ru': (961, 216),\n",
       " 's374.meetrics.net': (962, 215),\n",
       " 'video.msn.com': (963, 215),\n",
       " 'medias.doctissimo.fr': (964, 215),\n",
       " 'www.annuaire.com': (965, 213),\n",
       " 'static.hitek.fr': (966, 213),\n",
       " 'flight.qunar.com': (967, 213),\n",
       " 'lenta.ru': (968, 213),\n",
       " 'ts3.explicit.bing.net': (969, 212),\n",
       " 'www.bfmtv.com': (970, 212),\n",
       " 'ecn.api.tiles.virtualearth.net': (971, 211),\n",
       " 'mapdmz.brgm.fr': (972, 211),\n",
       " 'onlinestores.metaservices.microsoft.com': (973, 210),\n",
       " 'farm4.staticflickr.com': (974, 210),\n",
       " 'www08.clicktale.net': (975, 210),\n",
       " 'cf-mg6.mail.yahoo.com': (976, 210),\n",
       " 'chart.apis.google.com': (977, 209),\n",
       " 'ta.kewego.com': (978, 209),\n",
       " 'www.huffingtonpost.com': (979, 209),\n",
       " 'fr-mg6.mail.yahoo.com': (980, 209),\n",
       " 'storage.googleapis.com': (981, 208),\n",
       " 'www.cnrs.fr': (982, 208),\n",
       " 'zh.wikipedia.org': (983, 208),\n",
       " 'izvestia.ru': (984, 208),\n",
       " 'www.birmingham.ac.uk': (985, 207),\n",
       " 'maps.google.com.pe': (986, 207),\n",
       " 'ts1.explicit.bing.net': (987, 206),\n",
       " 'fr.mail.yahoo.com': (988, 206),\n",
       " 'www.andre.fr': (989, 205),\n",
       " 'www.viedemerde.fr': (990, 204),\n",
       " 'www.darty.com': (991, 204),\n",
       " 'blu179.mail.live.com': (992, 204),\n",
       " 'media.lelombrik.net': (993, 204),\n",
       " 'images.footmercato.net': (994, 203),\n",
       " 'www.showroomprive.com': (995, 203),\n",
       " 'endor.mediabong.com': (996, 202),\n",
       " 'www.insee.fr': (997, 202),\n",
       " 'assets.ebz.io': (998, 202),\n",
       " 'pics.2012.lesechos.com': (999, 202),\n",
       " 'a.ad-sys.com': (1000, 201),\n",
       " ...}"
      ]
     },
     "execution_count": 8,
     "metadata": {},
     "output_type": "execute_result"
    }
   ],
   "source": [
    "site_freq_catch_me"
   ]
  },
  {
   "cell_type": "code",
   "execution_count": 10,
   "metadata": {},
   "outputs": [],
   "source": [
    "with open(join(PATH_TO_DATA, 'site_freq_catch_me.pkl'), 'wb') as site_freq_pkl:\n",
    "            pickle.dump(site_freq_catch_me, site_freq_pkl, protocol=2)"
   ]
  },
  {
   "cell_type": "code",
   "execution_count": null,
   "metadata": {},
   "outputs": [],
   "source": [
    "others_train_data = prepare_train_set()"
   ]
  }
 ],
 "metadata": {
  "kernelspec": {
   "display_name": "Python 3",
   "language": "python",
   "name": "python3"
  },
  "language_info": {
   "codemirror_mode": {
    "name": "ipython",
    "version": 3
   },
   "file_extension": ".py",
   "mimetype": "text/x-python",
   "name": "python",
   "nbconvert_exporter": "python",
   "pygments_lexer": "ipython3",
   "version": "3.8.5"
  }
 },
 "nbformat": 4,
 "nbformat_minor": 4
}
