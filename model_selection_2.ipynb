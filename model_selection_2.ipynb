{
 "cells": [
  {
   "cell_type": "code",
   "execution_count": 1,
   "metadata": {},
   "outputs": [],
   "source": [
    "import pandas as pd\n",
    "import numpy as np\n",
    "import os\n",
    "import matplotlib.pyplot as plt\n",
    "%matplotlib inline\n",
    "from sklearn.pipeline import Pipeline, FeatureUnion\n",
    "from sklearn.preprocessing import FunctionTransformer, StandardScaler, OneHotEncoder, LabelEncoder\n",
    "from sklearn.decomposition import TruncatedSVD\n",
    "from sklearn.compose import ColumnTransformer\n",
    "from sklearn.feature_extraction.text import TfidfVectorizer\n",
    "from sklearn.linear_model import SGDClassifier, LogisticRegression\n",
    "from sklearn.model_selection import train_test_split, GridSearchCV, TimeSeriesSplit\n",
    "import preprocessing as pre\n",
    "from models_analysis import plot_validation_curves, get_scores, get_scores_point\n",
    "from xgboost import XGBClassifier"
   ]
  },
  {
   "cell_type": "code",
   "execution_count": 2,
   "metadata": {},
   "outputs": [],
   "source": [
    "PATH_TO_DATA = 'user_identification_exps'"
   ]
  },
  {
   "cell_type": "code",
   "execution_count": 3,
   "metadata": {},
   "outputs": [],
   "source": [
    "train_10users = pd.read_csv(os.path.join(PATH_TO_DATA, 'train_data_10users_for_catch_me_ready.csv'), \n",
    "                            index_col=0)"
   ]
  },
  {
   "cell_type": "code",
   "execution_count": 4,
   "metadata": {},
   "outputs": [
    {
     "data": {
      "text/html": [
       "<div>\n",
       "<style scoped>\n",
       "    .dataframe tbody tr th:only-of-type {\n",
       "        vertical-align: middle;\n",
       "    }\n",
       "\n",
       "    .dataframe tbody tr th {\n",
       "        vertical-align: top;\n",
       "    }\n",
       "\n",
       "    .dataframe thead th {\n",
       "        text-align: right;\n",
       "    }\n",
       "</style>\n",
       "<table border=\"1\" class=\"dataframe\">\n",
       "  <thead>\n",
       "    <tr style=\"text-align: right;\">\n",
       "      <th></th>\n",
       "      <th>site1</th>\n",
       "      <th>site2</th>\n",
       "      <th>site3</th>\n",
       "      <th>site4</th>\n",
       "      <th>site5</th>\n",
       "      <th>site6</th>\n",
       "      <th>site7</th>\n",
       "      <th>site8</th>\n",
       "      <th>site9</th>\n",
       "      <th>site10</th>\n",
       "      <th>...</th>\n",
       "      <th>is_top26</th>\n",
       "      <th>is_top27</th>\n",
       "      <th>is_top28</th>\n",
       "      <th>is_top29</th>\n",
       "      <th>is_top30</th>\n",
       "      <th>facebook_freq</th>\n",
       "      <th>binned_start_hour</th>\n",
       "      <th>unique_site_1</th>\n",
       "      <th>unique_site_2</th>\n",
       "      <th>facebook_flag</th>\n",
       "    </tr>\n",
       "    <tr>\n",
       "      <th>session_id</th>\n",
       "      <th></th>\n",
       "      <th></th>\n",
       "      <th></th>\n",
       "      <th></th>\n",
       "      <th></th>\n",
       "      <th></th>\n",
       "      <th></th>\n",
       "      <th></th>\n",
       "      <th></th>\n",
       "      <th></th>\n",
       "      <th></th>\n",
       "      <th></th>\n",
       "      <th></th>\n",
       "      <th></th>\n",
       "      <th></th>\n",
       "      <th></th>\n",
       "      <th></th>\n",
       "      <th></th>\n",
       "      <th></th>\n",
       "      <th></th>\n",
       "      <th></th>\n",
       "    </tr>\n",
       "  </thead>\n",
       "  <tbody>\n",
       "    <tr>\n",
       "      <th>1</th>\n",
       "      <td>192</td>\n",
       "      <td>574</td>\n",
       "      <td>133</td>\n",
       "      <td>3</td>\n",
       "      <td>133</td>\n",
       "      <td>133</td>\n",
       "      <td>3</td>\n",
       "      <td>133</td>\n",
       "      <td>203</td>\n",
       "      <td>133</td>\n",
       "      <td>...</td>\n",
       "      <td>False</td>\n",
       "      <td>False</td>\n",
       "      <td>False</td>\n",
       "      <td>False</td>\n",
       "      <td>False</td>\n",
       "      <td>0</td>\n",
       "      <td>(6.984, 9.286]</td>\n",
       "      <td>0</td>\n",
       "      <td>0</td>\n",
       "      <td>1</td>\n",
       "    </tr>\n",
       "    <tr>\n",
       "      <th>2</th>\n",
       "      <td>415</td>\n",
       "      <td>193</td>\n",
       "      <td>674</td>\n",
       "      <td>254</td>\n",
       "      <td>133</td>\n",
       "      <td>31</td>\n",
       "      <td>393</td>\n",
       "      <td>3305</td>\n",
       "      <td>217</td>\n",
       "      <td>55</td>\n",
       "      <td>...</td>\n",
       "      <td>False</td>\n",
       "      <td>False</td>\n",
       "      <td>False</td>\n",
       "      <td>False</td>\n",
       "      <td>False</td>\n",
       "      <td>0</td>\n",
       "      <td>(6.984, 9.286]</td>\n",
       "      <td>0</td>\n",
       "      <td>0</td>\n",
       "      <td>1</td>\n",
       "    </tr>\n",
       "    <tr>\n",
       "      <th>3</th>\n",
       "      <td>55</td>\n",
       "      <td>3</td>\n",
       "      <td>55</td>\n",
       "      <td>55</td>\n",
       "      <td>5</td>\n",
       "      <td>293</td>\n",
       "      <td>415</td>\n",
       "      <td>333</td>\n",
       "      <td>897</td>\n",
       "      <td>55</td>\n",
       "      <td>...</td>\n",
       "      <td>False</td>\n",
       "      <td>False</td>\n",
       "      <td>False</td>\n",
       "      <td>False</td>\n",
       "      <td>False</td>\n",
       "      <td>1</td>\n",
       "      <td>(6.984, 9.286]</td>\n",
       "      <td>0</td>\n",
       "      <td>0</td>\n",
       "      <td>1</td>\n",
       "    </tr>\n",
       "    <tr>\n",
       "      <th>4</th>\n",
       "      <td>473</td>\n",
       "      <td>3306</td>\n",
       "      <td>473</td>\n",
       "      <td>55</td>\n",
       "      <td>55</td>\n",
       "      <td>55</td>\n",
       "      <td>55</td>\n",
       "      <td>937</td>\n",
       "      <td>199</td>\n",
       "      <td>123</td>\n",
       "      <td>...</td>\n",
       "      <td>False</td>\n",
       "      <td>False</td>\n",
       "      <td>False</td>\n",
       "      <td>False</td>\n",
       "      <td>False</td>\n",
       "      <td>0</td>\n",
       "      <td>(6.984, 9.286]</td>\n",
       "      <td>0</td>\n",
       "      <td>0</td>\n",
       "      <td>1</td>\n",
       "    </tr>\n",
       "    <tr>\n",
       "      <th>5</th>\n",
       "      <td>342</td>\n",
       "      <td>55</td>\n",
       "      <td>5</td>\n",
       "      <td>3307</td>\n",
       "      <td>258</td>\n",
       "      <td>211</td>\n",
       "      <td>3308</td>\n",
       "      <td>2086</td>\n",
       "      <td>675</td>\n",
       "      <td>2086</td>\n",
       "      <td>...</td>\n",
       "      <td>False</td>\n",
       "      <td>False</td>\n",
       "      <td>False</td>\n",
       "      <td>False</td>\n",
       "      <td>False</td>\n",
       "      <td>1</td>\n",
       "      <td>(6.984, 9.286]</td>\n",
       "      <td>0</td>\n",
       "      <td>0</td>\n",
       "      <td>1</td>\n",
       "    </tr>\n",
       "  </tbody>\n",
       "</table>\n",
       "<p>5 rows × 65 columns</p>\n",
       "</div>"
      ],
      "text/plain": [
       "            site1  site2  site3  site4  site5  site6  site7  site8  site9  \\\n",
       "session_id                                                                  \n",
       "1             192    574    133      3    133    133      3    133    203   \n",
       "2             415    193    674    254    133     31    393   3305    217   \n",
       "3              55      3     55     55      5    293    415    333    897   \n",
       "4             473   3306    473     55     55     55     55    937    199   \n",
       "5             342     55      5   3307    258    211   3308   2086    675   \n",
       "\n",
       "            site10  ...  is_top26  is_top27  is_top28  is_top29  is_top30  \\\n",
       "session_id          ...                                                     \n",
       "1              133  ...     False     False     False     False     False   \n",
       "2               55  ...     False     False     False     False     False   \n",
       "3               55  ...     False     False     False     False     False   \n",
       "4              123  ...     False     False     False     False     False   \n",
       "5             2086  ...     False     False     False     False     False   \n",
       "\n",
       "            facebook_freq  binned_start_hour  unique_site_1  unique_site_2  \\\n",
       "session_id                                                                   \n",
       "1                       0     (6.984, 9.286]              0              0   \n",
       "2                       0     (6.984, 9.286]              0              0   \n",
       "3                       1     (6.984, 9.286]              0              0   \n",
       "4                       0     (6.984, 9.286]              0              0   \n",
       "5                       1     (6.984, 9.286]              0              0   \n",
       "\n",
       "            facebook_flag  \n",
       "session_id                 \n",
       "1                       1  \n",
       "2                       1  \n",
       "3                       1  \n",
       "4                       1  \n",
       "5                       1  \n",
       "\n",
       "[5 rows x 65 columns]"
      ]
     },
     "execution_count": 4,
     "metadata": {},
     "output_type": "execute_result"
    }
   ],
   "source": [
    "train_10users.head()"
   ]
  },
  {
   "cell_type": "code",
   "execution_count": 5,
   "metadata": {},
   "outputs": [
    {
     "data": {
      "text/plain": [
       "Index(['site1', 'site2', 'site3', 'site4', 'site5', 'site6', 'site7', 'site8',\n",
       "       'site9', 'site10', 'diff_time1', 'diff_time2', 'diff_time3',\n",
       "       'diff_time4', 'diff_time5', 'diff_time6', 'diff_time7', 'diff_time8',\n",
       "       'diff_time9', 'diff_time10', 'start_hour', 'day_of_week', 'year',\n",
       "       'month', 'day', 'time_of_day', 'user_id', 'session_timespan',\n",
       "       'unique_sites', 'top_sites_time', 'is_top1', 'is_top2', 'is_top3',\n",
       "       'is_top4', 'is_top5', 'is_top6', 'is_top7', 'is_top8', 'is_top9',\n",
       "       'is_top10', 'is_top11', 'is_top12', 'is_top13', 'is_top14', 'is_top15',\n",
       "       'is_top16', 'is_top17', 'is_top18', 'is_top19', 'is_top20', 'is_top21',\n",
       "       'is_top22', 'is_top23', 'is_top24', 'is_top25', 'is_top26', 'is_top27',\n",
       "       'is_top28', 'is_top29', 'is_top30', 'facebook_freq',\n",
       "       'binned_start_hour', 'unique_site_1', 'unique_site_2', 'facebook_flag'],\n",
       "      dtype='object')"
      ]
     },
     "execution_count": 5,
     "metadata": {},
     "output_type": "execute_result"
    }
   ],
   "source": [
    "train_10users.columns"
   ]
  },
  {
   "cell_type": "code",
   "execution_count": 6,
   "metadata": {},
   "outputs": [],
   "source": [
    "bag_of_sites = ['site'+str(i) for i in range(1, 11)]\n",
    "is_top_feats = ['is_top'+str(i) for i in range(1, 31)]\n",
    "categorical_feats = ['binned_start_hour', 'day_of_week', 'day']\n",
    "binary_feats = ['facebook_flag', 'unique_site_1', 'unique_site_2']\n",
    "numerical_feats = ['unique_sites', 'facebook_freq']"
   ]
  },
  {
   "cell_type": "markdown",
   "metadata": {},
   "source": [
    "num_preprocessor = FeatureUnion([\n",
    "    ('woe_encoding', FunctionTransformer(lambda data: pre.woe_encoder(data, 'session_timespan', \n",
    "                                        max_lim=100, fill_method='outlier', for_pipeline=True))),\n",
    "    ('others', FunctionTransformer(lambda data: data.loc[:, numerical_feats]\\\n",
    "                                   .drop('session_timespan',  axis=1)))\n",
    "])"
   ]
  },
  {
   "cell_type": "code",
   "execution_count": 7,
   "metadata": {},
   "outputs": [],
   "source": [
    "model = SGDClassifier(loss='log', n_jobs=-1)"
   ]
  },
  {
   "cell_type": "code",
   "execution_count": 41,
   "metadata": {},
   "outputs": [],
   "source": [
    "pipeline = Pipeline(steps=[\n",
    "    ('feature_processing', FeatureUnion(transformer_list=[\n",
    "        ('binary_variables', FunctionTransformer(lambda data: data.loc[:, binary_feats])),\n",
    "        ('categorical_variables', Pipeline(steps=[\n",
    "            ('selecting', FunctionTransformer(lambda data: data.loc[:, categorical_feats])),\n",
    "            ('hot_encoding', OneHotEncoder(handle_unknown='ignore'))\n",
    "            #('dim_reducing', TruncatedSVD(30))\n",
    "        ])),\n",
    "        ('bag_of_sites', Pipeline(steps=[\n",
    "            ('selecting', FunctionTransformer(lambda data: data.loc[:, bag_of_sites].apply(lambda row: \\\n",
    "                                                            ' '.join([str(x) for x in row]), axis=1))),\n",
    "            ('vectorizer', TfidfVectorizer())\n",
    "        ])),\n",
    "        ('is_top_site', Pipeline(steps=[\n",
    "            ('selecting', FunctionTransformer(lambda data: data.loc[:, is_top_feats]))\n",
    "            #('dim_reducing', TruncatedSVD(20))\n",
    "        ])),\n",
    "        ('numerical_variables', Pipeline(steps=[\n",
    "            ('selecting', FunctionTransformer(lambda data: data.loc[:, numerical_feats])),\n",
    "         #   ('log_preprocessing', num_preprocessor),\n",
    "            ('scaling', StandardScaler())\n",
    "        ]))\n",
    "    ])),\n",
    "    ('classifier', model)\n",
    "])"
   ]
  },
  {
   "cell_type": "code",
   "execution_count": 24,
   "metadata": {},
   "outputs": [],
   "source": [
    "y_10users = train_10users.user_id\n",
    "X_train, X_valid, y_train, y_valid = train_test_split(train_10users, y_10users, \n",
    "                                                      test_size=0.3)\n",
    "data_params = [X_train, X_valid, y_train, y_valid]"
   ]
  },
  {
   "cell_type": "markdown",
   "metadata": {},
   "source": [
    "### LogisticRegression"
   ]
  },
  {
   "cell_type": "code",
   "execution_count": 36,
   "metadata": {},
   "outputs": [],
   "source": [
    "logit_params = {'classifier__alpha': np.logspace(-6, -3, 10)}"
   ]
  },
  {
   "cell_type": "code",
   "execution_count": 42,
   "metadata": {
    "scrolled": true
   },
   "outputs": [
    {
     "name": "stdout",
     "output_type": "stream",
     "text": [
      "Wall time: 6.59 s\n"
     ]
    },
    {
     "data": {
      "text/plain": [
       "GridSearchCV(estimator=Pipeline(steps=[('feature_processing',\n",
       "                                        FeatureUnion(transformer_list=[('binary_variables',\n",
       "                                                                        FunctionTransformer(func=<function <lambda> at 0x00000272D83E9700>)),\n",
       "                                                                       ('categorical_variables',\n",
       "                                                                        Pipeline(steps=[('selecting',\n",
       "                                                                                         FunctionTransformer(func=<function <lambda> at 0x00000272D83E90D0>)),\n",
       "                                                                                        ('hot_encoding',\n",
       "                                                                                         OneHotEncoder(handle_unknown='ignore...\n",
       "                                                                                         FunctionTransformer(func=<function <lambda> at 0x00000272D83E94C0>)),\n",
       "                                                                                        ('scaling',\n",
       "                                                                                         StandardScaler())]))])),\n",
       "                                       ('classifier',\n",
       "                                        SGDClassifier(loss='log', n_jobs=-1))]),\n",
       "             n_jobs=-1,\n",
       "             param_grid={'classifier__alpha': array([1.00000000e-06, 2.15443469e-06, 4.64158883e-06, 1.00000000e-05,\n",
       "       2.15443469e-05, 4.64158883e-05, 1.00000000e-04, 2.15443469e-04,\n",
       "       4.64158883e-04, 1.00000000e-03])},\n",
       "             return_train_score=True, scoring='accuracy')"
      ]
     },
     "execution_count": 42,
     "metadata": {},
     "output_type": "execute_result"
    }
   ],
   "source": [
    "%%time\n",
    "logit_searcher = GridSearchCV(pipeline, logit_params, scoring='accuracy', n_jobs=-1, \n",
    "                              return_train_score=True)\n",
    "logit_searcher.fit(X_train, y_train)"
   ]
  },
  {
   "cell_type": "code",
   "execution_count": 27,
   "metadata": {},
   "outputs": [
    {
     "data": {
      "image/png": "[encoded data removed]",
      "text/plain": [
       "<Figure size 432x288 with 1 Axes>"
      ]
     },
     "metadata": {
      "needs_background": "light"
     },
     "output_type": "display_data"
    }
   ],
   "source": [
    "plt.xscale('log')\n",
    "plot_validation_curves(logit_params['classifier__alpha'], logit_searcher.cv_results_)"
   ]
  },
  {
   "cell_type": "code",
   "execution_count": 43,
   "metadata": {},
   "outputs": [
    {
     "data": {
      "image/png": "[encoded data removed]",
      "text/plain": [
       "<Figure size 432x288 with 1 Axes>"
      ]
     },
     "metadata": {
      "needs_background": "light"
     },
     "output_type": "display_data"
    }
   ],
   "source": [
    "plt.xscale('log')\n",
    "plot_validation_curves(logit_params['classifier__alpha'], logit_searcher.cv_results_)"
   ]
  },
  {
   "cell_type": "code",
   "execution_count": 44,
   "metadata": {},
   "outputs": [],
   "source": [
    "scores_df = get_scores(logit_searcher, 'logit', *data_params, multi=True)"
   ]
  },
  {
   "cell_type": "code",
   "execution_count": 45,
   "metadata": {},
   "outputs": [
    {
     "data": {
      "text/html": [
       "<div>\n",
       "<style scoped>\n",
       "    .dataframe tbody tr th:only-of-type {\n",
       "        vertical-align: middle;\n",
       "    }\n",
       "\n",
       "    .dataframe tbody tr th {\n",
       "        vertical-align: top;\n",
       "    }\n",
       "\n",
       "    .dataframe thead th {\n",
       "        text-align: right;\n",
       "    }\n",
       "</style>\n",
       "<table border=\"1\" class=\"dataframe\">\n",
       "  <thead>\n",
       "    <tr style=\"text-align: right;\">\n",
       "      <th></th>\n",
       "      <th>cv_accuracy</th>\n",
       "      <th>holdout_accu</th>\n",
       "      <th>f1</th>\n",
       "      <th>roc_auc</th>\n",
       "      <th>precision</th>\n",
       "      <th>recall</th>\n",
       "    </tr>\n",
       "  </thead>\n",
       "  <tbody>\n",
       "    <tr>\n",
       "      <th>logit</th>\n",
       "      <td>0.839</td>\n",
       "      <td>0.839</td>\n",
       "      <td>0.81</td>\n",
       "      <td>0.982</td>\n",
       "      <td>0.834</td>\n",
       "      <td>0.796</td>\n",
       "    </tr>\n",
       "  </tbody>\n",
       "</table>\n",
       "</div>"
      ],
      "text/plain": [
       "       cv_accuracy  holdout_accu    f1  roc_auc  precision  recall\n",
       "logit        0.839         0.839  0.81    0.982      0.834   0.796"
      ]
     },
     "execution_count": 45,
     "metadata": {},
     "output_type": "execute_result"
    }
   ],
   "source": [
    "scores_df"
   ]
  },
  {
   "cell_type": "markdown",
   "metadata": {},
   "source": [
    "### SVM"
   ]
  },
  {
   "cell_type": "code",
   "execution_count": 46,
   "metadata": {
    "collapsed": true
   },
   "outputs": [
    {
     "data": {
      "text/plain": [
       "Pipeline(steps=[('feature_processing',\n",
       "                 FeatureUnion(transformer_list=[('binary_variables',\n",
       "                                                 FunctionTransformer(func=<function <lambda> at 0x00000272D83E9700>)),\n",
       "                                                ('categorical_variables',\n",
       "                                                 Pipeline(steps=[('selecting',\n",
       "                                                                  FunctionTransformer(func=<function <lambda> at 0x00000272D83E90D0>)),\n",
       "                                                                 ('hot_encoding',\n",
       "                                                                  OneHotEncoder(handle_unknown='ignore'))])),\n",
       "                                                ('bag_of_sites',...\n",
       "                                                                  FunctionTransformer(func=<function <lambda> at 0x00000272D83E9B80>)),\n",
       "                                                                 ('vectorizer',\n",
       "                                                                  TfidfVectorizer())])),\n",
       "                                                ('is_top_site',\n",
       "                                                 Pipeline(steps=[('selecting',\n",
       "                                                                  FunctionTransformer(func=<function <lambda> at 0x00000272D83E99D0>))])),\n",
       "                                                ('numerical_variables',\n",
       "                                                 Pipeline(steps=[('selecting',\n",
       "                                                                  FunctionTransformer(func=<function <lambda> at 0x00000272D83E94C0>)),\n",
       "                                                                 ('scaling',\n",
       "                                                                  StandardScaler())]))])),\n",
       "                ('classifier', SGDClassifier(n_jobs=-1))])"
      ]
     },
     "execution_count": 46,
     "metadata": {},
     "output_type": "execute_result"
    }
   ],
   "source": [
    "pipeline.set_params(classifier=SGDClassifier(n_jobs=-1))"
   ]
  },
  {
   "cell_type": "code",
   "execution_count": 50,
   "metadata": {},
   "outputs": [],
   "source": [
    "svm_params = {'classifier__alpha': np.logspace(-5, -3, 10)}"
   ]
  },
  {
   "cell_type": "code",
   "execution_count": 51,
   "metadata": {},
   "outputs": [
    {
     "name": "stdout",
     "output_type": "stream",
     "text": [
      "Wall time: 5.02 s\n"
     ]
    },
    {
     "data": {
      "text/plain": [
       "GridSearchCV(estimator=Pipeline(steps=[('feature_processing',\n",
       "                                        FeatureUnion(transformer_list=[('binary_variables',\n",
       "                                                                        FunctionTransformer(func=<function <lambda> at 0x00000272D83E9700>)),\n",
       "                                                                       ('categorical_variables',\n",
       "                                                                        Pipeline(steps=[('selecting',\n",
       "                                                                                         FunctionTransformer(func=<function <lambda> at 0x00000272D83E90D0>)),\n",
       "                                                                                        ('hot_encoding',\n",
       "                                                                                         OneHotEncoder(handle_unknown='ignore...\n",
       "                                                                                         FunctionTransformer(func=<function <lambda> at 0x00000272D83E94C0>)),\n",
       "                                                                                        ('scaling',\n",
       "                                                                                         StandardScaler())]))])),\n",
       "                                       ('classifier',\n",
       "                                        SGDClassifier(n_jobs=-1))]),\n",
       "             n_jobs=-1,\n",
       "             param_grid={'classifier__alpha': array([1.00000000e-05, 1.66810054e-05, 2.78255940e-05, 4.64158883e-05,\n",
       "       7.74263683e-05, 1.29154967e-04, 2.15443469e-04, 3.59381366e-04,\n",
       "       5.99484250e-04, 1.00000000e-03])},\n",
       "             return_train_score=True, scoring='accuracy')"
      ]
     },
     "execution_count": 51,
     "metadata": {},
     "output_type": "execute_result"
    }
   ],
   "source": [
    "%%time\n",
    "svm_searcher = GridSearchCV(pipeline, svm_params, scoring='accuracy', n_jobs=-1, \n",
    "                              return_train_score=True)\n",
    "svm_searcher.fit(X_train, y_train)"
   ]
  },
  {
   "cell_type": "code",
   "execution_count": 49,
   "metadata": {},
   "outputs": [
    {
     "data": {
      "image/png": "[encoded data removed]",
      "text/plain": [
       "<Figure size 432x288 with 1 Axes>"
      ]
     },
     "metadata": {
      "needs_background": "light"
     },
     "output_type": "display_data"
    }
   ],
   "source": [
    "plt.xscale('log')\n",
    "plot_validation_curves(svm_params['classifier__alpha'], svm_searcher.cv_results_)"
   ]
  },
  {
   "cell_type": "code",
   "execution_count": 52,
   "metadata": {},
   "outputs": [
    {
     "data": {
      "image/png": "[encoded data removed]",
      "text/plain": [
       "<Figure size 432x288 with 1 Axes>"
      ]
     },
     "metadata": {
      "needs_background": "light"
     },
     "output_type": "display_data"
    }
   ],
   "source": [
    "plt.xscale('log')\n",
    "plot_validation_curves(svm_params['classifier__alpha'], svm_searcher.cv_results_)"
   ]
  },
  {
   "cell_type": "code",
   "execution_count": 53,
   "metadata": {},
   "outputs": [],
   "source": [
    "scores_df = scores_df.append(get_scores(svm_searcher, 'svm', *data_params, multi=True, proba=False))"
   ]
  },
  {
   "cell_type": "code",
   "execution_count": 54,
   "metadata": {},
   "outputs": [
    {
     "data": {
      "text/html": [
       "<div>\n",
       "<style scoped>\n",
       "    .dataframe tbody tr th:only-of-type {\n",
       "        vertical-align: middle;\n",
       "    }\n",
       "\n",
       "    .dataframe tbody tr th {\n",
       "        vertical-align: top;\n",
       "    }\n",
       "\n",
       "    .dataframe thead th {\n",
       "        text-align: right;\n",
       "    }\n",
       "</style>\n",
       "<table border=\"1\" class=\"dataframe\">\n",
       "  <thead>\n",
       "    <tr style=\"text-align: right;\">\n",
       "      <th></th>\n",
       "      <th>cv_accuracy</th>\n",
       "      <th>holdout_accu</th>\n",
       "      <th>f1</th>\n",
       "      <th>roc_auc</th>\n",
       "      <th>precision</th>\n",
       "      <th>recall</th>\n",
       "    </tr>\n",
       "  </thead>\n",
       "  <tbody>\n",
       "    <tr>\n",
       "      <th>logit</th>\n",
       "      <td>0.839</td>\n",
       "      <td>0.839</td>\n",
       "      <td>0.81</td>\n",
       "      <td>0.982</td>\n",
       "      <td>0.834</td>\n",
       "      <td>0.796</td>\n",
       "    </tr>\n",
       "    <tr>\n",
       "      <th>svm</th>\n",
       "      <td>0.841</td>\n",
       "      <td>0.851</td>\n",
       "      <td>0.82</td>\n",
       "      <td>0.967</td>\n",
       "      <td>0.839</td>\n",
       "      <td>0.809</td>\n",
       "    </tr>\n",
       "  </tbody>\n",
       "</table>\n",
       "</div>"
      ],
      "text/plain": [
       "       cv_accuracy  holdout_accu    f1  roc_auc  precision  recall\n",
       "logit        0.839         0.839  0.81    0.982      0.834   0.796\n",
       "svm          0.841         0.851  0.82    0.967      0.839   0.809"
      ]
     },
     "execution_count": 54,
     "metadata": {},
     "output_type": "execute_result"
    }
   ],
   "source": [
    "scores_df"
   ]
  },
  {
   "cell_type": "markdown",
   "metadata": {},
   "source": [
    "### XGBoost"
   ]
  },
  {
   "cell_type": "code",
   "execution_count": 55,
   "metadata": {
    "collapsed": true
   },
   "outputs": [
    {
     "data": {
      "text/plain": [
       "Pipeline(steps=[('feature_processing',\n",
       "                 FeatureUnion(transformer_list=[('binary_variables',\n",
       "                                                 FunctionTransformer(func=<function <lambda> at 0x00000272D83E9700>)),\n",
       "                                                ('categorical_variables',\n",
       "                                                 Pipeline(steps=[('selecting',\n",
       "                                                                  FunctionTransformer(func=<function <lambda> at 0x00000272D83E90D0>)),\n",
       "                                                                 ('hot_encoding',\n",
       "                                                                  OneHotEncoder(handle_unknown='ignore'))])),\n",
       "                                                ('bag_of_sites',...\n",
       "                               max_delta_step=None, max_depth=None,\n",
       "                               min_child_weight=None, missing=nan,\n",
       "                               monotone_constraints=None, n_estimators=100,\n",
       "                               n_jobs=None, num_parallel_tree=None,\n",
       "                               objective='multi:softmax',\n",
       "                               predictor='gpu_predictor', random_state=None,\n",
       "                               reg_alpha=None, reg_lambda=None,\n",
       "                               scale_pos_weight=None, subsample=None,\n",
       "                               tree_method='gpu_hist', use_label_encoder=False,\n",
       "                               validate_parameters=None, verbosity=0))])"
      ]
     },
     "execution_count": 55,
     "metadata": {},
     "output_type": "execute_result"
    }
   ],
   "source": [
    "pipeline.set_params(classifier=XGBClassifier(objective='multi:softmax', tree_method='gpu_hist', predictor='gpu_predictor',\n",
    "                   use_label_encoder=False, verbosity=0))"
   ]
  },
  {
   "cell_type": "code",
   "execution_count": 56,
   "metadata": {
    "collapsed": true
   },
   "outputs": [
    {
     "data": {
      "text/plain": [
       "Pipeline(steps=[('feature_processing',\n",
       "                 FeatureUnion(transformer_list=[('binary_variables',\n",
       "                                                 FunctionTransformer(func=<function <lambda> at 0x00000272D83E9700>)),\n",
       "                                                ('categorical_variables',\n",
       "                                                 Pipeline(steps=[('selecting',\n",
       "                                                                  FunctionTransformer(func=<function <lambda> at 0x00000272D83E90D0>)),\n",
       "                                                                 ('hot_encoding',\n",
       "                                                                  OneHotEncoder(handle_unknown='ignore'))])),\n",
       "                                                ('bag_of_sites',...\n",
       "                               max_delta_step=None, max_depth=7,\n",
       "                               min_child_weight=None, missing=nan,\n",
       "                               monotone_constraints=None, n_estimators=70,\n",
       "                               n_jobs=None, num_parallel_tree=None,\n",
       "                               objective='multi:softmax',\n",
       "                               predictor='gpu_predictor', random_state=None,\n",
       "                               reg_alpha=None, reg_lambda=None,\n",
       "                               scale_pos_weight=None, subsample=None,\n",
       "                               tree_method='gpu_hist', use_label_encoder=False,\n",
       "                               validate_parameters=None, verbosity=0))])"
      ]
     },
     "execution_count": 56,
     "metadata": {},
     "output_type": "execute_result"
    }
   ],
   "source": [
    "xgb_params = {'classifier__n_estimators': 70,\n",
    "             'classifier__max_depth': 7,\n",
    "             'classifier__learning_rate': 0.4}\n",
    "pipeline.set_params(**xgb_params)"
   ]
  },
  {
   "cell_type": "code",
   "execution_count": 38,
   "metadata": {},
   "outputs": [],
   "source": [
    "xgb_params = {'classifier__n_estimators': np.arange(1, 101, 10),\n",
    "             'classifier__max_depth': [5]}"
   ]
  },
  {
   "cell_type": "code",
   "execution_count": 57,
   "metadata": {},
   "outputs": [],
   "source": [
    "y = pd.concat((y_train, y_valid), axis=0)\n",
    "y_xgb = LabelEncoder().fit_transform(y)\n",
    "y_train_xgb = y_xgb[:y_train.shape[0]]\n",
    "y_valid_xgb = y_xgb[y_train.shape[0]:]"
   ]
  },
  {
   "cell_type": "code",
   "execution_count": 58,
   "metadata": {},
   "outputs": [],
   "source": [
    "data_params_xgb = [X_train, X_valid, y_train_xgb, y_valid_xgb]"
   ]
  },
  {
   "cell_type": "code",
   "execution_count": 40,
   "metadata": {
    "collapsed": true
   },
   "outputs": [
    {
     "name": "stdout",
     "output_type": "stream",
     "text": [
      "Wall time: 15min 9s\n"
     ]
    },
    {
     "data": {
      "text/plain": [
       "GridSearchCV(estimator=Pipeline(steps=[('feature_processing',\n",
       "                                        FeatureUnion(transformer_list=[('binary_variables',\n",
       "                                                                        FunctionTransformer(func=<function <lambda> at 0x0000022BAFF75A60>)),\n",
       "                                                                       ('categorical_variables',\n",
       "                                                                        Pipeline(steps=[('selecting',\n",
       "                                                                                         FunctionTransformer(func=<function <lambda> at 0x0000022BAFF75AF0>)),\n",
       "                                                                                        ('hot_encoding',\n",
       "                                                                                         OneHotEncoder(handle_unknown='ignore...\n",
       "                                                      predictor='gpu_predictor',\n",
       "                                                      random_state=None,\n",
       "                                                      reg_alpha=None,\n",
       "                                                      reg_lambda=None,\n",
       "                                                      scale_pos_weight=None,\n",
       "                                                      subsample=None,\n",
       "                                                      tree_method='gpu_hist',\n",
       "                                                      use_label_encoder=False,\n",
       "                                                      validate_parameters=None,\n",
       "                                                      verbosity=0))]),\n",
       "             n_jobs=-1,\n",
       "             param_grid={'classifier__max_depth': [5],\n",
       "                         'classifier__n_estimators': array([ 1, 11, 21, 31, 41, 51, 61, 71, 81, 91])},\n",
       "             return_train_score=True, scoring='f1_macro')"
      ]
     },
     "execution_count": 40,
     "metadata": {},
     "output_type": "execute_result"
    }
   ],
   "source": [
    "%%time\n",
    "xgb_searcher = GridSearchCV(pipeline, xgb_params, scoring='f1_macro', n_jobs=-1, \n",
    "                              return_train_score=True)\n",
    "xgb_searcher.fit(X_train, y_train_xgb)"
   ]
  },
  {
   "cell_type": "code",
   "execution_count": 41,
   "metadata": {
    "collapsed": true
   },
   "outputs": [
    {
     "data": {
      "image/png": "[encoded data removed]",
      "text/plain": [
       "<Figure size 432x288 with 1 Axes>"
      ]
     },
     "metadata": {
      "needs_background": "light"
     },
     "output_type": "display_data"
    }
   ],
   "source": [
    "plot_validation_curves(xgb_params['classifier__n_estimators'], xgb_searcher.cv_results_)"
   ]
  },
  {
   "cell_type": "code",
   "execution_count": 42,
   "metadata": {},
   "outputs": [],
   "source": [
    "xgb_params = {'classifier__n_estimators': [70],\n",
    "             'classifier__max_depth': np.arange(1, 20, 2)}"
   ]
  },
  {
   "cell_type": "code",
   "execution_count": 43,
   "metadata": {
    "collapsed": true
   },
   "outputs": [
    {
     "name": "stdout",
     "output_type": "stream",
     "text": [
      "Wall time: 1h 7min 57s\n"
     ]
    },
    {
     "data": {
      "text/plain": [
       "GridSearchCV(estimator=Pipeline(steps=[('feature_processing',\n",
       "                                        FeatureUnion(transformer_list=[('binary_variables',\n",
       "                                                                        FunctionTransformer(func=<function <lambda> at 0x0000022BAFF75A60>)),\n",
       "                                                                       ('categorical_variables',\n",
       "                                                                        Pipeline(steps=[('selecting',\n",
       "                                                                                         FunctionTransformer(func=<function <lambda> at 0x0000022BAFF75AF0>)),\n",
       "                                                                                        ('hot_encoding',\n",
       "                                                                                         OneHotEncoder(handle_unknown='ignore...\n",
       "                                                      predictor='gpu_predictor',\n",
       "                                                      random_state=None,\n",
       "                                                      reg_alpha=None,\n",
       "                                                      reg_lambda=None,\n",
       "                                                      scale_pos_weight=None,\n",
       "                                                      subsample=None,\n",
       "                                                      tree_method='gpu_hist',\n",
       "                                                      use_label_encoder=False,\n",
       "                                                      validate_parameters=None,\n",
       "                                                      verbosity=0))]),\n",
       "             n_jobs=-1,\n",
       "             param_grid={'classifier__max_depth': array([ 1,  3,  5,  7,  9, 11, 13, 15, 17, 19]),\n",
       "                         'classifier__n_estimators': [70]},\n",
       "             return_train_score=True, scoring='f1_macro')"
      ]
     },
     "execution_count": 43,
     "metadata": {},
     "output_type": "execute_result"
    }
   ],
   "source": [
    "%%time\n",
    "xgb_searcher = GridSearchCV(pipeline, xgb_params, scoring='f1_macro', n_jobs=-1, \n",
    "                              return_train_score=True)\n",
    "xgb_searcher.fit(X_train, y_train_xgb)"
   ]
  },
  {
   "cell_type": "code",
   "execution_count": 44,
   "metadata": {
    "collapsed": true
   },
   "outputs": [
    {
     "data": {
      "image/png": "[encoded data removed]",
      "text/plain": [
       "<Figure size 432x288 with 1 Axes>"
      ]
     },
     "metadata": {
      "needs_background": "light"
     },
     "output_type": "display_data"
    }
   ],
   "source": [
    "plot_validation_curves(xgb_params['classifier__max_depth'], xgb_searcher.cv_results_)"
   ]
  },
  {
   "cell_type": "code",
   "execution_count": 48,
   "metadata": {},
   "outputs": [],
   "source": [
    "xgb_params = {'classifier__n_estimators': [70],\n",
    "             'classifier__max_depth': [7],\n",
    "             'classifier__learning_rate': np.linspace(0.1, 1., 10)}"
   ]
  },
  {
   "cell_type": "code",
   "execution_count": 49,
   "metadata": {
    "collapsed": true
   },
   "outputs": [
    {
     "name": "stdout",
     "output_type": "stream",
     "text": [
      "Wall time: 39min 39s\n"
     ]
    },
    {
     "data": {
      "text/plain": [
       "GridSearchCV(estimator=Pipeline(steps=[('feature_processing',\n",
       "                                        FeatureUnion(transformer_list=[('binary_variables',\n",
       "                                                                        FunctionTransformer(func=<function <lambda> at 0x0000022BAFF75A60>)),\n",
       "                                                                       ('categorical_variables',\n",
       "                                                                        Pipeline(steps=[('selecting',\n",
       "                                                                                         FunctionTransformer(func=<function <lambda> at 0x0000022BAFF75AF0>)),\n",
       "                                                                                        ('hot_encoding',\n",
       "                                                                                         OneHotEncoder(handle_unknown='ignore...\n",
       "                                                      reg_alpha=None,\n",
       "                                                      reg_lambda=None,\n",
       "                                                      scale_pos_weight=None,\n",
       "                                                      subsample=None,\n",
       "                                                      tree_method='gpu_hist',\n",
       "                                                      use_label_encoder=False,\n",
       "                                                      validate_parameters=None,\n",
       "                                                      verbosity=0))]),\n",
       "             n_jobs=-1,\n",
       "             param_grid={'classifier__learning_rate': array([0.1, 0.2, 0.3, 0.4, 0.5, 0.6, 0.7, 0.8, 0.9, 1. ]),\n",
       "                         'classifier__max_depth': [7],\n",
       "                         'classifier__n_estimators': [70]},\n",
       "             return_train_score=True, scoring='f1_macro')"
      ]
     },
     "execution_count": 49,
     "metadata": {},
     "output_type": "execute_result"
    }
   ],
   "source": [
    "%%time\n",
    "xgb_searcher = GridSearchCV(pipeline, xgb_params, scoring='f1_macro', n_jobs=-1, \n",
    "                              return_train_score=True)\n",
    "xgb_searcher.fit(X_train, y_train_xgb)"
   ]
  },
  {
   "cell_type": "code",
   "execution_count": 51,
   "metadata": {
    "collapsed": true
   },
   "outputs": [
    {
     "data": {
      "image/png": "[encoded data removed]",
      "text/plain": [
       "<Figure size 432x288 with 1 Axes>"
      ]
     },
     "metadata": {
      "needs_background": "light"
     },
     "output_type": "display_data"
    }
   ],
   "source": [
    "plot_validation_curves(xgb_params['classifier__learning_rate'], xgb_searcher.cv_results_)"
   ]
  },
  {
   "cell_type": "code",
   "execution_count": 52,
   "metadata": {},
   "outputs": [],
   "source": [
    "xgb_params = {'classifier__n_estimators': [30],\n",
    "             'classifier__max_depth': [7],\n",
    "             'classifier__learning_rate': np.linspace(0.1, 1., 10)}"
   ]
  },
  {
   "cell_type": "code",
   "execution_count": 53,
   "metadata": {
    "collapsed": true
   },
   "outputs": [
    {
     "name": "stdout",
     "output_type": "stream",
     "text": [
      "Wall time: 20min 52s\n"
     ]
    },
    {
     "data": {
      "text/plain": [
       "GridSearchCV(estimator=Pipeline(steps=[('feature_processing',\n",
       "                                        FeatureUnion(transformer_list=[('binary_variables',\n",
       "                                                                        FunctionTransformer(func=<function <lambda> at 0x0000022BAFF75A60>)),\n",
       "                                                                       ('categorical_variables',\n",
       "                                                                        Pipeline(steps=[('selecting',\n",
       "                                                                                         FunctionTransformer(func=<function <lambda> at 0x0000022BAFF75AF0>)),\n",
       "                                                                                        ('hot_encoding',\n",
       "                                                                                         OneHotEncoder(handle_unknown='ignore...\n",
       "                                                      reg_alpha=None,\n",
       "                                                      reg_lambda=None,\n",
       "                                                      scale_pos_weight=None,\n",
       "                                                      subsample=None,\n",
       "                                                      tree_method='gpu_hist',\n",
       "                                                      use_label_encoder=False,\n",
       "                                                      validate_parameters=None,\n",
       "                                                      verbosity=0))]),\n",
       "             n_jobs=-1,\n",
       "             param_grid={'classifier__learning_rate': array([0.1, 0.2, 0.3, 0.4, 0.5, 0.6, 0.7, 0.8, 0.9, 1. ]),\n",
       "                         'classifier__max_depth': [7],\n",
       "                         'classifier__n_estimators': [30]},\n",
       "             return_train_score=True, scoring='f1_macro')"
      ]
     },
     "execution_count": 53,
     "metadata": {},
     "output_type": "execute_result"
    }
   ],
   "source": [
    "%%time\n",
    "xgb_searcher = GridSearchCV(pipeline, xgb_params, scoring='f1_macro', n_jobs=-1, \n",
    "                              return_train_score=True)\n",
    "xgb_searcher.fit(X_train, y_train_xgb)"
   ]
  },
  {
   "cell_type": "code",
   "execution_count": 54,
   "metadata": {
    "collapsed": true
   },
   "outputs": [
    {
     "data": {
      "image/png": "[encoded data removed]",
      "text/plain": [
       "<Figure size 432x288 with 1 Axes>"
      ]
     },
     "metadata": {
      "needs_background": "light"
     },
     "output_type": "display_data"
    }
   ],
   "source": [
    "plot_validation_curves(xgb_params['classifier__learning_rate'], xgb_searcher.cv_results_)"
   ]
  },
  {
   "cell_type": "code",
   "execution_count": 58,
   "metadata": {},
   "outputs": [],
   "source": [
    "xgb_params = {'classifier__n_estimators': np.arange(1, 101, 10),\n",
    "             'classifier__max_depth': [7],\n",
    "             'classifier__learning_rate': [0.7]}"
   ]
  },
  {
   "cell_type": "code",
   "execution_count": 59,
   "metadata": {
    "collapsed": true
   },
   "outputs": [
    {
     "name": "stdout",
     "output_type": "stream",
     "text": [
      "Wall time: 25min 33s\n"
     ]
    },
    {
     "data": {
      "text/plain": [
       "GridSearchCV(estimator=Pipeline(steps=[('feature_processing',\n",
       "                                        FeatureUnion(transformer_list=[('binary_variables',\n",
       "                                                                        FunctionTransformer(func=<function <lambda> at 0x0000022BAFF75A60>)),\n",
       "                                                                       ('categorical_variables',\n",
       "                                                                        Pipeline(steps=[('selecting',\n",
       "                                                                                         FunctionTransformer(func=<function <lambda> at 0x0000022BAFF75AF0>)),\n",
       "                                                                                        ('hot_encoding',\n",
       "                                                                                         OneHotEncoder(handle_unknown='ignore...\n",
       "                                                      random_state=None,\n",
       "                                                      reg_alpha=None,\n",
       "                                                      reg_lambda=None,\n",
       "                                                      scale_pos_weight=None,\n",
       "                                                      subsample=None,\n",
       "                                                      tree_method='gpu_hist',\n",
       "                                                      use_label_encoder=False,\n",
       "                                                      validate_parameters=None,\n",
       "                                                      verbosity=0))]),\n",
       "             n_jobs=-1,\n",
       "             param_grid={'classifier__learning_rate': [0.7],\n",
       "                         'classifier__max_depth': [7],\n",
       "                         'classifier__n_estimators': array([ 1, 11, 21, 31, 41, 51, 61, 71, 81, 91])},\n",
       "             return_train_score=True, scoring='f1_macro')"
      ]
     },
     "execution_count": 59,
     "metadata": {},
     "output_type": "execute_result"
    }
   ],
   "source": [
    "%%time\n",
    "xgb_searcher = GridSearchCV(pipeline, xgb_params, scoring='f1_macro', n_jobs=-1, \n",
    "                              return_train_score=True)\n",
    "xgb_searcher.fit(X_train, y_train_xgb)"
   ]
  },
  {
   "cell_type": "code",
   "execution_count": 60,
   "metadata": {
    "collapsed": true
   },
   "outputs": [
    {
     "data": {
      "image/png": "[encoded data removed]",
      "text/plain": [
       "<Figure size 432x288 with 1 Axes>"
      ]
     },
     "metadata": {
      "needs_background": "light"
     },
     "output_type": "display_data"
    }
   ],
   "source": [
    "plot_validation_curves(xgb_params['classifier__n_estimators'], xgb_searcher.cv_results_)"
   ]
  },
  {
   "cell_type": "code",
   "execution_count": 65,
   "metadata": {},
   "outputs": [],
   "source": [
    "xgb_params = {'classifier__n_estimators': [70],\n",
    "             'classifier__max_depth': [7],\n",
    "             'classifier__learning_rate': [0.4],\n",
    "             'classifier__reg_lambda': np.logspace(-4, 4, 10)}"
   ]
  },
  {
   "cell_type": "code",
   "execution_count": 66,
   "metadata": {
    "collapsed": true
   },
   "outputs": [
    {
     "ename": "KeyboardInterrupt",
     "evalue": "",
     "output_type": "error",
     "traceback": [
      "\u001b[1;31m---------------------------------------------------------------------------\u001b[0m",
      "\u001b[1;31mKeyboardInterrupt\u001b[0m                         Traceback (most recent call last)",
      "\u001b[1;32m<timed exec>\u001b[0m in \u001b[0;36m<module>\u001b[1;34m\u001b[0m\n",
      "\u001b[1;32mc:\\programdata\\anaconda3\\lib\\site-packages\\sklearn\\utils\\validation.py\u001b[0m in \u001b[0;36minner_f\u001b[1;34m(*args, **kwargs)\u001b[0m\n\u001b[0;32m     70\u001b[0m                           FutureWarning)\n\u001b[0;32m     71\u001b[0m         \u001b[0mkwargs\u001b[0m\u001b[1;33m.\u001b[0m\u001b[0mupdate\u001b[0m\u001b[1;33m(\u001b[0m\u001b[1;33m{\u001b[0m\u001b[0mk\u001b[0m\u001b[1;33m:\u001b[0m \u001b[0marg\u001b[0m \u001b[1;32mfor\u001b[0m \u001b[0mk\u001b[0m\u001b[1;33m,\u001b[0m \u001b[0marg\u001b[0m \u001b[1;32min\u001b[0m \u001b[0mzip\u001b[0m\u001b[1;33m(\u001b[0m\u001b[0msig\u001b[0m\u001b[1;33m.\u001b[0m\u001b[0mparameters\u001b[0m\u001b[1;33m,\u001b[0m \u001b[0margs\u001b[0m\u001b[1;33m)\u001b[0m\u001b[1;33m}\u001b[0m\u001b[1;33m)\u001b[0m\u001b[1;33m\u001b[0m\u001b[1;33m\u001b[0m\u001b[0m\n\u001b[1;32m---> 72\u001b[1;33m         \u001b[1;32mreturn\u001b[0m \u001b[0mf\u001b[0m\u001b[1;33m(\u001b[0m\u001b[1;33m**\u001b[0m\u001b[0mkwargs\u001b[0m\u001b[1;33m)\u001b[0m\u001b[1;33m\u001b[0m\u001b[1;33m\u001b[0m\u001b[0m\n\u001b[0m\u001b[0;32m     73\u001b[0m     \u001b[1;32mreturn\u001b[0m \u001b[0minner_f\u001b[0m\u001b[1;33m\u001b[0m\u001b[1;33m\u001b[0m\u001b[0m\n\u001b[0;32m     74\u001b[0m \u001b[1;33m\u001b[0m\u001b[0m\n",
      "\u001b[1;32mc:\\programdata\\anaconda3\\lib\\site-packages\\sklearn\\model_selection\\_search.py\u001b[0m in \u001b[0;36mfit\u001b[1;34m(self, X, y, groups, **fit_params)\u001b[0m\n\u001b[0;32m    734\u001b[0m                 \u001b[1;32mreturn\u001b[0m \u001b[0mresults\u001b[0m\u001b[1;33m\u001b[0m\u001b[1;33m\u001b[0m\u001b[0m\n\u001b[0;32m    735\u001b[0m \u001b[1;33m\u001b[0m\u001b[0m\n\u001b[1;32m--> 736\u001b[1;33m             \u001b[0mself\u001b[0m\u001b[1;33m.\u001b[0m\u001b[0m_run_search\u001b[0m\u001b[1;33m(\u001b[0m\u001b[0mevaluate_candidates\u001b[0m\u001b[1;33m)\u001b[0m\u001b[1;33m\u001b[0m\u001b[1;33m\u001b[0m\u001b[0m\n\u001b[0m\u001b[0;32m    737\u001b[0m \u001b[1;33m\u001b[0m\u001b[0m\n\u001b[0;32m    738\u001b[0m         \u001b[1;31m# For multi-metric evaluation, store the best_index_, best_params_ and\u001b[0m\u001b[1;33m\u001b[0m\u001b[1;33m\u001b[0m\u001b[1;33m\u001b[0m\u001b[0m\n",
      "\u001b[1;32mc:\\programdata\\anaconda3\\lib\\site-packages\\sklearn\\model_selection\\_search.py\u001b[0m in \u001b[0;36m_run_search\u001b[1;34m(self, evaluate_candidates)\u001b[0m\n\u001b[0;32m   1186\u001b[0m     \u001b[1;32mdef\u001b[0m \u001b[0m_run_search\u001b[0m\u001b[1;33m(\u001b[0m\u001b[0mself\u001b[0m\u001b[1;33m,\u001b[0m \u001b[0mevaluate_candidates\u001b[0m\u001b[1;33m)\u001b[0m\u001b[1;33m:\u001b[0m\u001b[1;33m\u001b[0m\u001b[1;33m\u001b[0m\u001b[0m\n\u001b[0;32m   1187\u001b[0m         \u001b[1;34m\"\"\"Search all candidates in param_grid\"\"\"\u001b[0m\u001b[1;33m\u001b[0m\u001b[1;33m\u001b[0m\u001b[0m\n\u001b[1;32m-> 1188\u001b[1;33m         \u001b[0mevaluate_candidates\u001b[0m\u001b[1;33m(\u001b[0m\u001b[0mParameterGrid\u001b[0m\u001b[1;33m(\u001b[0m\u001b[0mself\u001b[0m\u001b[1;33m.\u001b[0m\u001b[0mparam_grid\u001b[0m\u001b[1;33m)\u001b[0m\u001b[1;33m)\u001b[0m\u001b[1;33m\u001b[0m\u001b[1;33m\u001b[0m\u001b[0m\n\u001b[0m\u001b[0;32m   1189\u001b[0m \u001b[1;33m\u001b[0m\u001b[0m\n\u001b[0;32m   1190\u001b[0m \u001b[1;33m\u001b[0m\u001b[0m\n",
      "\u001b[1;32mc:\\programdata\\anaconda3\\lib\\site-packages\\sklearn\\model_selection\\_search.py\u001b[0m in \u001b[0;36mevaluate_candidates\u001b[1;34m(candidate_params)\u001b[0m\n\u001b[0;32m    706\u001b[0m                               n_splits, n_candidates, n_candidates * n_splits))\n\u001b[0;32m    707\u001b[0m \u001b[1;33m\u001b[0m\u001b[0m\n\u001b[1;32m--> 708\u001b[1;33m                 out = parallel(delayed(_fit_and_score)(clone(base_estimator),\n\u001b[0m\u001b[0;32m    709\u001b[0m                                                        \u001b[0mX\u001b[0m\u001b[1;33m,\u001b[0m \u001b[0my\u001b[0m\u001b[1;33m,\u001b[0m\u001b[1;33m\u001b[0m\u001b[1;33m\u001b[0m\u001b[0m\n\u001b[0;32m    710\u001b[0m                                                        \u001b[0mtrain\u001b[0m\u001b[1;33m=\u001b[0m\u001b[0mtrain\u001b[0m\u001b[1;33m,\u001b[0m \u001b[0mtest\u001b[0m\u001b[1;33m=\u001b[0m\u001b[0mtest\u001b[0m\u001b[1;33m,\u001b[0m\u001b[1;33m\u001b[0m\u001b[1;33m\u001b[0m\u001b[0m\n",
      "\u001b[1;32mc:\\programdata\\anaconda3\\lib\\site-packages\\joblib\\parallel.py\u001b[0m in \u001b[0;36m__call__\u001b[1;34m(self, iterable)\u001b[0m\n\u001b[0;32m   1059\u001b[0m \u001b[1;33m\u001b[0m\u001b[0m\n\u001b[0;32m   1060\u001b[0m             \u001b[1;32mwith\u001b[0m \u001b[0mself\u001b[0m\u001b[1;33m.\u001b[0m\u001b[0m_backend\u001b[0m\u001b[1;33m.\u001b[0m\u001b[0mretrieval_context\u001b[0m\u001b[1;33m(\u001b[0m\u001b[1;33m)\u001b[0m\u001b[1;33m:\u001b[0m\u001b[1;33m\u001b[0m\u001b[1;33m\u001b[0m\u001b[0m\n\u001b[1;32m-> 1061\u001b[1;33m                 \u001b[0mself\u001b[0m\u001b[1;33m.\u001b[0m\u001b[0mretrieve\u001b[0m\u001b[1;33m(\u001b[0m\u001b[1;33m)\u001b[0m\u001b[1;33m\u001b[0m\u001b[1;33m\u001b[0m\u001b[0m\n\u001b[0m\u001b[0;32m   1062\u001b[0m             \u001b[1;31m# Make sure that we get a last message telling us we are done\u001b[0m\u001b[1;33m\u001b[0m\u001b[1;33m\u001b[0m\u001b[1;33m\u001b[0m\u001b[0m\n\u001b[0;32m   1063\u001b[0m             \u001b[0melapsed_time\u001b[0m \u001b[1;33m=\u001b[0m \u001b[0mtime\u001b[0m\u001b[1;33m.\u001b[0m\u001b[0mtime\u001b[0m\u001b[1;33m(\u001b[0m\u001b[1;33m)\u001b[0m \u001b[1;33m-\u001b[0m \u001b[0mself\u001b[0m\u001b[1;33m.\u001b[0m\u001b[0m_start_time\u001b[0m\u001b[1;33m\u001b[0m\u001b[1;33m\u001b[0m\u001b[0m\n",
      "\u001b[1;32mc:\\programdata\\anaconda3\\lib\\site-packages\\joblib\\parallel.py\u001b[0m in \u001b[0;36mretrieve\u001b[1;34m(self)\u001b[0m\n\u001b[0;32m    938\u001b[0m             \u001b[1;32mtry\u001b[0m\u001b[1;33m:\u001b[0m\u001b[1;33m\u001b[0m\u001b[1;33m\u001b[0m\u001b[0m\n\u001b[0;32m    939\u001b[0m                 \u001b[1;32mif\u001b[0m \u001b[0mgetattr\u001b[0m\u001b[1;33m(\u001b[0m\u001b[0mself\u001b[0m\u001b[1;33m.\u001b[0m\u001b[0m_backend\u001b[0m\u001b[1;33m,\u001b[0m \u001b[1;34m'supports_timeout'\u001b[0m\u001b[1;33m,\u001b[0m \u001b[1;32mFalse\u001b[0m\u001b[1;33m)\u001b[0m\u001b[1;33m:\u001b[0m\u001b[1;33m\u001b[0m\u001b[1;33m\u001b[0m\u001b[0m\n\u001b[1;32m--> 940\u001b[1;33m                     \u001b[0mself\u001b[0m\u001b[1;33m.\u001b[0m\u001b[0m_output\u001b[0m\u001b[1;33m.\u001b[0m\u001b[0mextend\u001b[0m\u001b[1;33m(\u001b[0m\u001b[0mjob\u001b[0m\u001b[1;33m.\u001b[0m\u001b[0mget\u001b[0m\u001b[1;33m(\u001b[0m\u001b[0mtimeout\u001b[0m\u001b[1;33m=\u001b[0m\u001b[0mself\u001b[0m\u001b[1;33m.\u001b[0m\u001b[0mtimeout\u001b[0m\u001b[1;33m)\u001b[0m\u001b[1;33m)\u001b[0m\u001b[1;33m\u001b[0m\u001b[1;33m\u001b[0m\u001b[0m\n\u001b[0m\u001b[0;32m    941\u001b[0m                 \u001b[1;32melse\u001b[0m\u001b[1;33m:\u001b[0m\u001b[1;33m\u001b[0m\u001b[1;33m\u001b[0m\u001b[0m\n\u001b[0;32m    942\u001b[0m                     \u001b[0mself\u001b[0m\u001b[1;33m.\u001b[0m\u001b[0m_output\u001b[0m\u001b[1;33m.\u001b[0m\u001b[0mextend\u001b[0m\u001b[1;33m(\u001b[0m\u001b[0mjob\u001b[0m\u001b[1;33m.\u001b[0m\u001b[0mget\u001b[0m\u001b[1;33m(\u001b[0m\u001b[1;33m)\u001b[0m\u001b[1;33m)\u001b[0m\u001b[1;33m\u001b[0m\u001b[1;33m\u001b[0m\u001b[0m\n",
      "\u001b[1;32mc:\\programdata\\anaconda3\\lib\\site-packages\\joblib\\_parallel_backends.py\u001b[0m in \u001b[0;36mwrap_future_result\u001b[1;34m(future, timeout)\u001b[0m\n\u001b[0;32m    540\u001b[0m         AsyncResults.get from multiprocessing.\"\"\"\n\u001b[0;32m    541\u001b[0m         \u001b[1;32mtry\u001b[0m\u001b[1;33m:\u001b[0m\u001b[1;33m\u001b[0m\u001b[1;33m\u001b[0m\u001b[0m\n\u001b[1;32m--> 542\u001b[1;33m             \u001b[1;32mreturn\u001b[0m \u001b[0mfuture\u001b[0m\u001b[1;33m.\u001b[0m\u001b[0mresult\u001b[0m\u001b[1;33m(\u001b[0m\u001b[0mtimeout\u001b[0m\u001b[1;33m=\u001b[0m\u001b[0mtimeout\u001b[0m\u001b[1;33m)\u001b[0m\u001b[1;33m\u001b[0m\u001b[1;33m\u001b[0m\u001b[0m\n\u001b[0m\u001b[0;32m    543\u001b[0m         \u001b[1;32mexcept\u001b[0m \u001b[0mCfTimeoutError\u001b[0m \u001b[1;32mas\u001b[0m \u001b[0me\u001b[0m\u001b[1;33m:\u001b[0m\u001b[1;33m\u001b[0m\u001b[1;33m\u001b[0m\u001b[0m\n\u001b[0;32m    544\u001b[0m             \u001b[1;32mraise\u001b[0m \u001b[0mTimeoutError\u001b[0m \u001b[1;32mfrom\u001b[0m \u001b[0me\u001b[0m\u001b[1;33m\u001b[0m\u001b[1;33m\u001b[0m\u001b[0m\n",
      "\u001b[1;32mC:\\ProgramData\\Anaconda3\\lib\\concurrent\\futures\\_base.py\u001b[0m in \u001b[0;36mresult\u001b[1;34m(self, timeout)\u001b[0m\n\u001b[0;32m    432\u001b[0m                 \u001b[1;32mreturn\u001b[0m \u001b[0mself\u001b[0m\u001b[1;33m.\u001b[0m\u001b[0m__get_result\u001b[0m\u001b[1;33m(\u001b[0m\u001b[1;33m)\u001b[0m\u001b[1;33m\u001b[0m\u001b[1;33m\u001b[0m\u001b[0m\n\u001b[0;32m    433\u001b[0m \u001b[1;33m\u001b[0m\u001b[0m\n\u001b[1;32m--> 434\u001b[1;33m             \u001b[0mself\u001b[0m\u001b[1;33m.\u001b[0m\u001b[0m_condition\u001b[0m\u001b[1;33m.\u001b[0m\u001b[0mwait\u001b[0m\u001b[1;33m(\u001b[0m\u001b[0mtimeout\u001b[0m\u001b[1;33m)\u001b[0m\u001b[1;33m\u001b[0m\u001b[1;33m\u001b[0m\u001b[0m\n\u001b[0m\u001b[0;32m    435\u001b[0m \u001b[1;33m\u001b[0m\u001b[0m\n\u001b[0;32m    436\u001b[0m             \u001b[1;32mif\u001b[0m \u001b[0mself\u001b[0m\u001b[1;33m.\u001b[0m\u001b[0m_state\u001b[0m \u001b[1;32min\u001b[0m \u001b[1;33m[\u001b[0m\u001b[0mCANCELLED\u001b[0m\u001b[1;33m,\u001b[0m \u001b[0mCANCELLED_AND_NOTIFIED\u001b[0m\u001b[1;33m]\u001b[0m\u001b[1;33m:\u001b[0m\u001b[1;33m\u001b[0m\u001b[1;33m\u001b[0m\u001b[0m\n",
      "\u001b[1;32mC:\\ProgramData\\Anaconda3\\lib\\threading.py\u001b[0m in \u001b[0;36mwait\u001b[1;34m(self, timeout)\u001b[0m\n\u001b[0;32m    300\u001b[0m         \u001b[1;32mtry\u001b[0m\u001b[1;33m:\u001b[0m    \u001b[1;31m# restore state no matter what (e.g., KeyboardInterrupt)\u001b[0m\u001b[1;33m\u001b[0m\u001b[1;33m\u001b[0m\u001b[0m\n\u001b[0;32m    301\u001b[0m             \u001b[1;32mif\u001b[0m \u001b[0mtimeout\u001b[0m \u001b[1;32mis\u001b[0m \u001b[1;32mNone\u001b[0m\u001b[1;33m:\u001b[0m\u001b[1;33m\u001b[0m\u001b[1;33m\u001b[0m\u001b[0m\n\u001b[1;32m--> 302\u001b[1;33m                 \u001b[0mwaiter\u001b[0m\u001b[1;33m.\u001b[0m\u001b[0macquire\u001b[0m\u001b[1;33m(\u001b[0m\u001b[1;33m)\u001b[0m\u001b[1;33m\u001b[0m\u001b[1;33m\u001b[0m\u001b[0m\n\u001b[0m\u001b[0;32m    303\u001b[0m                 \u001b[0mgotit\u001b[0m \u001b[1;33m=\u001b[0m \u001b[1;32mTrue\u001b[0m\u001b[1;33m\u001b[0m\u001b[1;33m\u001b[0m\u001b[0m\n\u001b[0;32m    304\u001b[0m             \u001b[1;32melse\u001b[0m\u001b[1;33m:\u001b[0m\u001b[1;33m\u001b[0m\u001b[1;33m\u001b[0m\u001b[0m\n",
      "\u001b[1;31mKeyboardInterrupt\u001b[0m: "
     ]
    }
   ],
   "source": [
    "%%time\n",
    "xgb_searcher = GridSearchCV(pipeline, xgb_params, scoring='f1_macro', n_jobs=-1, \n",
    "                              return_train_score=True)\n",
    "xgb_searcher.fit(X_train, y_train_xgb)"
   ]
  },
  {
   "cell_type": "code",
   "execution_count": 64,
   "metadata": {
    "collapsed": true
   },
   "outputs": [
    {
     "data": {
      "image/png": "[encoded data removed]",
      "text/plain": [
       "<Figure size 432x288 with 1 Axes>"
      ]
     },
     "metadata": {
      "needs_background": "light"
     },
     "output_type": "display_data"
    }
   ],
   "source": [
    "plt.xscale('log')\n",
    "plot_validation_curves(xgb_params['classifier__reg_lambda'], xgb_searcher.cv_results_)"
   ]
  },
  {
   "cell_type": "code",
   "execution_count": 15,
   "metadata": {},
   "outputs": [],
   "source": [
    "xgb_params = {'classifier__n_estimators': [70],\n",
    "             'classifier__max_depth': [7],\n",
    "             'classifier__learning_rate': [0.4],\n",
    "             'classifier__reg_alpha': np.logspace(-1, 2, 10)}"
   ]
  },
  {
   "cell_type": "code",
   "execution_count": 16,
   "metadata": {
    "collapsed": true
   },
   "outputs": [
    {
     "name": "stdout",
     "output_type": "stream",
     "text": [
      "Wall time: 33min 34s\n"
     ]
    },
    {
     "data": {
      "text/plain": [
       "GridSearchCV(estimator=Pipeline(steps=[('feature_processing',\n",
       "                                        FeatureUnion(transformer_list=[('binary_variables',\n",
       "                                                                        FunctionTransformer(func=<function <lambda> at 0x0000023A4ECB65E0>)),\n",
       "                                                                       ('categorical_variables',\n",
       "                                                                        Pipeline(steps=[('selecting',\n",
       "                                                                                         FunctionTransformer(func=<function <lambda> at 0x0000023A4ECB6670>)),\n",
       "                                                                                        ('hot_encoding',\n",
       "                                                                                         OneHotEncoder(handle_unknown='ignore...\n",
       "                                                      tree_method='gpu_hist',\n",
       "                                                      use_label_encoder=False,\n",
       "                                                      validate_parameters=None,\n",
       "                                                      verbosity=0))]),\n",
       "             n_jobs=-1,\n",
       "             param_grid={'classifier__learning_rate': [0.4],\n",
       "                         'classifier__max_depth': [7],\n",
       "                         'classifier__n_estimators': [70],\n",
       "                         'classifier__reg_alpha': array([  0.1       ,   0.21544347,   0.46415888,   1.        ,\n",
       "         2.15443469,   4.64158883,  10.        ,  21.5443469 ,\n",
       "        46.41588834, 100.        ])},\n",
       "             return_train_score=True, scoring='f1_macro')"
      ]
     },
     "execution_count": 16,
     "metadata": {},
     "output_type": "execute_result"
    }
   ],
   "source": [
    "%%time\n",
    "xgb_searcher = GridSearchCV(pipeline, xgb_params, scoring='f1_macro', n_jobs=-1, \n",
    "                              return_train_score=True)\n",
    "xgb_searcher.fit(X_train, y_train_xgb)"
   ]
  },
  {
   "cell_type": "code",
   "execution_count": 70,
   "metadata": {
    "collapsed": true
   },
   "outputs": [
    {
     "data": {
      "image/png": "[encoded data removed]",
      "text/plain": [
       "<Figure size 432x288 with 1 Axes>"
      ]
     },
     "metadata": {
      "needs_background": "light"
     },
     "output_type": "display_data"
    }
   ],
   "source": [
    "plt.xscale('log')\n",
    "plot_validation_curves(xgb_params['classifier__reg_alpha'], xgb_searcher.cv_results_)"
   ]
  },
  {
   "cell_type": "code",
   "execution_count": 17,
   "metadata": {
    "collapsed": true
   },
   "outputs": [
    {
     "data": {
      "image/png": "[encoded data removed]",
      "text/plain": [
       "<Figure size 432x288 with 1 Axes>"
      ]
     },
     "metadata": {
      "needs_background": "light"
     },
     "output_type": "display_data"
    }
   ],
   "source": [
    "plt.xscale('log')\n",
    "plot_validation_curves(xgb_params['classifier__reg_alpha'], xgb_searcher.cv_results_)"
   ]
  },
  {
   "cell_type": "code",
   "execution_count": 29,
   "metadata": {},
   "outputs": [],
   "source": [
    "xgb_params = {'classifier__n_estimators': 70,\n",
    "             'classifier__max_depth': 7,\n",
    "             'classifier__learning_rate': 0.4}"
   ]
  },
  {
   "cell_type": "code",
   "execution_count": 30,
   "metadata": {
    "collapsed": true
   },
   "outputs": [
    {
     "data": {
      "text/plain": [
       "Pipeline(steps=[('feature_processing',\n",
       "                 FeatureUnion(transformer_list=[('binary_variables',\n",
       "                                                 FunctionTransformer(func=<function <lambda> at 0x0000023A4ECB65E0>)),\n",
       "                                                ('categorical_variables',\n",
       "                                                 Pipeline(steps=[('selecting',\n",
       "                                                                  FunctionTransformer(func=<function <lambda> at 0x0000023A4ECB6670>)),\n",
       "                                                                 ('hot_encoding',\n",
       "                                                                  OneHotEncoder(handle_unknown='ignore')),\n",
       "                                                                 ('dim_reducing',\n",
       "                                                                  Tru...\n",
       "                               max_delta_step=None, max_depth=7,\n",
       "                               min_child_weight=None, missing=nan,\n",
       "                               monotone_constraints=None, n_estimators=70,\n",
       "                               n_jobs=None, num_parallel_tree=None,\n",
       "                               objective='multi:softmax',\n",
       "                               predictor='gpu_predictor', random_state=None,\n",
       "                               reg_alpha=None, reg_lambda=None,\n",
       "                               scale_pos_weight=None, subsample=None,\n",
       "                               tree_method='gpu_hist', use_label_encoder=False,\n",
       "                               validate_parameters=None, verbosity=0))])"
      ]
     },
     "execution_count": 30,
     "metadata": {},
     "output_type": "execute_result"
    }
   ],
   "source": [
    "pipeline.set_params(**xgb_params)"
   ]
  },
  {
   "cell_type": "code",
   "execution_count": 32,
   "metadata": {
    "collapsed": true
   },
   "outputs": [
    {
     "data": {
      "text/plain": [
       "Pipeline(steps=[('feature_processing',\n",
       "                 FeatureUnion(transformer_list=[('binary_variables',\n",
       "                                                 FunctionTransformer(func=<function <lambda> at 0x0000023A4ECB65E0>)),\n",
       "                                                ('categorical_variables',\n",
       "                                                 Pipeline(steps=[('selecting',\n",
       "                                                                  FunctionTransformer(func=<function <lambda> at 0x0000023A4ECB6670>)),\n",
       "                                                                 ('hot_encoding',\n",
       "                                                                  OneHotEncoder(handle_unknown='ignore')),\n",
       "                                                                 ('dim_reducing',\n",
       "                                                                  Tru...\n",
       "                               interaction_constraints='', learning_rate=0.4,\n",
       "                               max_delta_step=0, max_depth=7,\n",
       "                               min_child_weight=1, missing=nan,\n",
       "                               monotone_constraints='()', n_estimators=70,\n",
       "                               n_jobs=6, num_parallel_tree=1,\n",
       "                               objective='multi:softprob',\n",
       "                               predictor='gpu_predictor', random_state=0,\n",
       "                               reg_alpha=0, reg_lambda=1, scale_pos_weight=None,\n",
       "                               subsample=1, tree_method='gpu_hist',\n",
       "                               use_label_encoder=False, validate_parameters=1,\n",
       "                               verbosity=0))])"
      ]
     },
     "execution_count": 32,
     "metadata": {},
     "output_type": "execute_result"
    }
   ],
   "source": [
    "pipeline.fit(X_train, y_train_xgb)"
   ]
  },
  {
   "cell_type": "code",
   "execution_count": 33,
   "metadata": {},
   "outputs": [],
   "source": [
    "scores_df2 = get_scores_point(pipeline, 'no_l1', *data_params_xgb, multi=True)"
   ]
  },
  {
   "cell_type": "code",
   "execution_count": 34,
   "metadata": {},
   "outputs": [
    {
     "data": {
      "text/html": [
       "<div>\n",
       "<style scoped>\n",
       "    .dataframe tbody tr th:only-of-type {\n",
       "        vertical-align: middle;\n",
       "    }\n",
       "\n",
       "    .dataframe tbody tr th {\n",
       "        vertical-align: top;\n",
       "    }\n",
       "\n",
       "    .dataframe thead th {\n",
       "        text-align: right;\n",
       "    }\n",
       "</style>\n",
       "<table border=\"1\" class=\"dataframe\">\n",
       "  <thead>\n",
       "    <tr style=\"text-align: right;\">\n",
       "      <th></th>\n",
       "      <th>cv_accuracy</th>\n",
       "      <th>holdout_accu</th>\n",
       "      <th>f1</th>\n",
       "      <th>roc_auc</th>\n",
       "      <th>precision</th>\n",
       "      <th>recall</th>\n",
       "    </tr>\n",
       "  </thead>\n",
       "  <tbody>\n",
       "    <tr>\n",
       "      <th>no_l1</th>\n",
       "      <td>0.898</td>\n",
       "      <td>0.904</td>\n",
       "      <td>0.887</td>\n",
       "      <td>0.994</td>\n",
       "      <td>0.889</td>\n",
       "      <td>0.885</td>\n",
       "    </tr>\n",
       "  </tbody>\n",
       "</table>\n",
       "</div>"
      ],
      "text/plain": [
       "       cv_accuracy  holdout_accu     f1  roc_auc  precision  recall\n",
       "no_l1        0.898         0.904  0.887    0.994      0.889   0.885"
      ]
     },
     "execution_count": 34,
     "metadata": {},
     "output_type": "execute_result"
    }
   ],
   "source": [
    "scores_df2"
   ]
  },
  {
   "cell_type": "code",
   "execution_count": 35,
   "metadata": {
    "collapsed": true
   },
   "outputs": [
    {
     "data": {
      "text/plain": [
       "Pipeline(steps=[('feature_processing',\n",
       "                 FeatureUnion(transformer_list=[('binary_variables',\n",
       "                                                 FunctionTransformer(func=<function <lambda> at 0x0000023A4ECB65E0>)),\n",
       "                                                ('categorical_variables',\n",
       "                                                 Pipeline(steps=[('selecting',\n",
       "                                                                  FunctionTransformer(func=<function <lambda> at 0x0000023A4ECB6670>)),\n",
       "                                                                 ('hot_encoding',\n",
       "                                                                  OneHotEncoder(handle_unknown='ignore')),\n",
       "                                                                 ('dim_reducing',\n",
       "                                                                  Tru...\n",
       "                               interaction_constraints='', learning_rate=0.4,\n",
       "                               max_delta_step=0, max_depth=7,\n",
       "                               min_child_weight=1, missing=nan,\n",
       "                               monotone_constraints='()', n_estimators=70,\n",
       "                               n_jobs=6, num_parallel_tree=1,\n",
       "                               objective='multi:softprob',\n",
       "                               predictor='gpu_predictor', random_state=0,\n",
       "                               reg_alpha=1, reg_lambda=1, scale_pos_weight=None,\n",
       "                               subsample=1, tree_method='gpu_hist',\n",
       "                               use_label_encoder=False, validate_parameters=1,\n",
       "                               verbosity=0))])"
      ]
     },
     "execution_count": 35,
     "metadata": {},
     "output_type": "execute_result"
    }
   ],
   "source": [
    "pipeline.set_params(classifier__reg_alpha=1)"
   ]
  },
  {
   "cell_type": "code",
   "execution_count": 36,
   "metadata": {
    "collapsed": true
   },
   "outputs": [
    {
     "data": {
      "text/plain": [
       "Pipeline(steps=[('feature_processing',\n",
       "                 FeatureUnion(transformer_list=[('binary_variables',\n",
       "                                                 FunctionTransformer(func=<function <lambda> at 0x0000023A4ECB65E0>)),\n",
       "                                                ('categorical_variables',\n",
       "                                                 Pipeline(steps=[('selecting',\n",
       "                                                                  FunctionTransformer(func=<function <lambda> at 0x0000023A4ECB6670>)),\n",
       "                                                                 ('hot_encoding',\n",
       "                                                                  OneHotEncoder(handle_unknown='ignore')),\n",
       "                                                                 ('dim_reducing',\n",
       "                                                                  Tru...\n",
       "                               interaction_constraints='', learning_rate=0.4,\n",
       "                               max_delta_step=0, max_depth=7,\n",
       "                               min_child_weight=1, missing=nan,\n",
       "                               monotone_constraints='()', n_estimators=70,\n",
       "                               n_jobs=6, num_parallel_tree=1,\n",
       "                               objective='multi:softprob',\n",
       "                               predictor='gpu_predictor', random_state=0,\n",
       "                               reg_alpha=1, reg_lambda=1, scale_pos_weight=None,\n",
       "                               subsample=1, tree_method='gpu_hist',\n",
       "                               use_label_encoder=False, validate_parameters=1,\n",
       "                               verbosity=0))])"
      ]
     },
     "execution_count": 36,
     "metadata": {},
     "output_type": "execute_result"
    }
   ],
   "source": [
    "pipeline.fit(X_train, y_train_xgb)"
   ]
  },
  {
   "cell_type": "code",
   "execution_count": 37,
   "metadata": {},
   "outputs": [],
   "source": [
    "scores_df2 = scores_df2.append(get_scores_point(pipeline, 'with_l1', *data_params_xgb, multi=True))"
   ]
  },
  {
   "cell_type": "code",
   "execution_count": 45,
   "metadata": {},
   "outputs": [
    {
     "data": {
      "text/html": [
       "<div>\n",
       "<style scoped>\n",
       "    .dataframe tbody tr th:only-of-type {\n",
       "        vertical-align: middle;\n",
       "    }\n",
       "\n",
       "    .dataframe tbody tr th {\n",
       "        vertical-align: top;\n",
       "    }\n",
       "\n",
       "    .dataframe thead th {\n",
       "        text-align: right;\n",
       "    }\n",
       "</style>\n",
       "<table border=\"1\" class=\"dataframe\">\n",
       "  <thead>\n",
       "    <tr style=\"text-align: right;\">\n",
       "      <th></th>\n",
       "      <th>cv_accuracy</th>\n",
       "      <th>holdout_accu</th>\n",
       "      <th>f1</th>\n",
       "      <th>roc_auc</th>\n",
       "      <th>precision</th>\n",
       "      <th>recall</th>\n",
       "    </tr>\n",
       "  </thead>\n",
       "  <tbody>\n",
       "    <tr>\n",
       "      <th>no_l1</th>\n",
       "      <td>0.898</td>\n",
       "      <td>0.904</td>\n",
       "      <td>0.887</td>\n",
       "      <td>0.994</td>\n",
       "      <td>0.889</td>\n",
       "      <td>0.885</td>\n",
       "    </tr>\n",
       "    <tr>\n",
       "      <th>with_l1</th>\n",
       "      <td>0.888</td>\n",
       "      <td>0.901</td>\n",
       "      <td>0.884</td>\n",
       "      <td>0.994</td>\n",
       "      <td>0.888</td>\n",
       "      <td>0.880</td>\n",
       "    </tr>\n",
       "  </tbody>\n",
       "</table>\n",
       "</div>"
      ],
      "text/plain": [
       "         cv_accuracy  holdout_accu     f1  roc_auc  precision  recall\n",
       "no_l1          0.898         0.904  0.887    0.994      0.889   0.885\n",
       "with_l1        0.888         0.901  0.884    0.994      0.888   0.880"
      ]
     },
     "execution_count": 45,
     "metadata": {},
     "output_type": "execute_result"
    }
   ],
   "source": [
    "scores_df2"
   ]
  },
  {
   "cell_type": "code",
   "execution_count": 21,
   "metadata": {},
   "outputs": [],
   "source": [
    "xgb_params = {'classifier__n_estimators': [70],\n",
    "             'classifier__max_depth': [7],\n",
    "             'classifier__learning_rate': [0.4],\n",
    "             'classifier__subsample': np.arange(0.5, 1.01, 0.1)}"
   ]
  },
  {
   "cell_type": "code",
   "execution_count": 22,
   "metadata": {
    "collapsed": true
   },
   "outputs": [
    {
     "name": "stdout",
     "output_type": "stream",
     "text": [
      "Wall time: 27min 55s\n"
     ]
    },
    {
     "data": {
      "text/plain": [
       "GridSearchCV(estimator=Pipeline(steps=[('feature_processing',\n",
       "                                        FeatureUnion(transformer_list=[('binary_variables',\n",
       "                                                                        FunctionTransformer(func=<function <lambda> at 0x000002D57B71EAF0>)),\n",
       "                                                                       ('categorical_variables',\n",
       "                                                                        Pipeline(steps=[('selecting',\n",
       "                                                                                         FunctionTransformer(func=<function <lambda> at 0x000002D5014144C0>)),\n",
       "                                                                                        ('hot_encoding',\n",
       "                                                                                         OneHotEncoder(handle_unknown='ignore...\n",
       "                                                      reg_lambda=None,\n",
       "                                                      scale_pos_weight=None,\n",
       "                                                      subsample=None,\n",
       "                                                      tree_method='gpu_hist',\n",
       "                                                      use_label_encoder=False,\n",
       "                                                      validate_parameters=None,\n",
       "                                                      verbosity=0))]),\n",
       "             n_jobs=-1,\n",
       "             param_grid={'classifier__learning_rate': [0.4],\n",
       "                         'classifier__max_depth': [7],\n",
       "                         'classifier__n_estimators': [70],\n",
       "                         'classifier__subsample': array([0.5, 0.6, 0.7, 0.8, 0.9, 1. ])},\n",
       "             return_train_score=True, scoring='f1_macro')"
      ]
     },
     "execution_count": 22,
     "metadata": {},
     "output_type": "execute_result"
    }
   ],
   "source": [
    "%%time\n",
    "xgb_searcher = GridSearchCV(pipeline, xgb_params, scoring='f1_macro', n_jobs=-1, \n",
    "                              return_train_score=True)\n",
    "xgb_searcher.fit(X_train, y_train_xgb)"
   ]
  },
  {
   "cell_type": "code",
   "execution_count": 20,
   "metadata": {
    "collapsed": true
   },
   "outputs": [
    {
     "data": {
      "image/png": "[encoded data removed]",
      "text/plain": [
       "<Figure size 432x288 with 1 Axes>"
      ]
     },
     "metadata": {
      "needs_background": "light"
     },
     "output_type": "display_data"
    }
   ],
   "source": [
    "plot_validation_curves(xgb_params['classifier__subsample'], xgb_searcher.cv_results_)"
   ]
  },
  {
   "cell_type": "code",
   "execution_count": 23,
   "metadata": {
    "collapsed": true
   },
   "outputs": [
    {
     "data": {
      "image/png": "[encoded data removed]",
      "text/plain": [
       "<Figure size 432x288 with 1 Axes>"
      ]
     },
     "metadata": {
      "needs_background": "light"
     },
     "output_type": "display_data"
    }
   ],
   "source": [
    "plot_validation_curves(xgb_params['classifier__subsample'], xgb_searcher.cv_results_)"
   ]
  },
  {
   "cell_type": "code",
   "execution_count": 24,
   "metadata": {},
   "outputs": [],
   "source": [
    "xgb_params = {'classifier__n_estimators': [70],\n",
    "             'classifier__max_depth': [7],\n",
    "             'classifier__learning_rate': [0.4],\n",
    "             'classifier__subsample': [0.8],\n",
    "             'classifier__colsample_bytree': np.arange(0.3, 1.01, 0.1)}"
   ]
  },
  {
   "cell_type": "code",
   "execution_count": 25,
   "metadata": {
    "collapsed": true
   },
   "outputs": [
    {
     "name": "stdout",
     "output_type": "stream",
     "text": [
      "Wall time: 24min 24s\n"
     ]
    },
    {
     "data": {
      "text/plain": [
       "GridSearchCV(estimator=Pipeline(steps=[('feature_processing',\n",
       "                                        FeatureUnion(transformer_list=[('binary_variables',\n",
       "                                                                        FunctionTransformer(func=<function <lambda> at 0x000002D57B71EAF0>)),\n",
       "                                                                       ('categorical_variables',\n",
       "                                                                        Pipeline(steps=[('selecting',\n",
       "                                                                                         FunctionTransformer(func=<function <lambda> at 0x000002D5014144C0>)),\n",
       "                                                                                        ('hot_encoding',\n",
       "                                                                                         OneHotEncoder(handle_unknown='ignore...\n",
       "                                                      subsample=None,\n",
       "                                                      tree_method='gpu_hist',\n",
       "                                                      use_label_encoder=False,\n",
       "                                                      validate_parameters=None,\n",
       "                                                      verbosity=0))]),\n",
       "             n_jobs=-1,\n",
       "             param_grid={'classifier__colsample_bytree': array([0.3, 0.4, 0.5, 0.6, 0.7, 0.8, 0.9, 1. ]),\n",
       "                         'classifier__learning_rate': [0.4],\n",
       "                         'classifier__max_depth': [7],\n",
       "                         'classifier__n_estimators': [70],\n",
       "                         'classifier__subsample': [0.8]},\n",
       "             return_train_score=True, scoring='f1_macro')"
      ]
     },
     "execution_count": 25,
     "metadata": {},
     "output_type": "execute_result"
    }
   ],
   "source": [
    "%%time\n",
    "xgb_searcher = GridSearchCV(pipeline, xgb_params, scoring='f1_macro', n_jobs=-1, \n",
    "                              return_train_score=True)\n",
    "xgb_searcher.fit(X_train, y_train_xgb)"
   ]
  },
  {
   "cell_type": "code",
   "execution_count": 26,
   "metadata": {
    "collapsed": true
   },
   "outputs": [
    {
     "data": {
      "image/png": "[encoded data removed]",
      "text/plain": [
       "<Figure size 432x288 with 1 Axes>"
      ]
     },
     "metadata": {
      "needs_background": "light"
     },
     "output_type": "display_data"
    }
   ],
   "source": [
    "plot_validation_curves(xgb_params['classifier__colsample_bytree'], xgb_searcher.cv_results_)"
   ]
  },
  {
   "cell_type": "code",
   "execution_count": 31,
   "metadata": {},
   "outputs": [],
   "source": [
    "pipe_params = {'feature_processing__categorical_variables__dim_reducing__n_components': np.arange(5, 46, 5)}"
   ]
  },
  {
   "cell_type": "code",
   "execution_count": 32,
   "metadata": {
    "collapsed": true
   },
   "outputs": [
    {
     "name": "stdout",
     "output_type": "stream",
     "text": [
      "Wall time: 29min 29s\n"
     ]
    },
    {
     "data": {
      "text/plain": [
       "GridSearchCV(estimator=Pipeline(steps=[('feature_processing',\n",
       "                                        FeatureUnion(transformer_list=[('binary_variables',\n",
       "                                                                        FunctionTransformer(func=<function <lambda> at 0x000002D57B71EAF0>)),\n",
       "                                                                       ('categorical_variables',\n",
       "                                                                        Pipeline(steps=[('selecting',\n",
       "                                                                                         FunctionTransformer(func=<function <lambda> at 0x000002D5014144C0>)),\n",
       "                                                                                        ('hot_encoding',\n",
       "                                                                                         OneHotEncoder(handle_unknown='ignore...\n",
       "                                                      predictor='gpu_predictor',\n",
       "                                                      random_state=None,\n",
       "                                                      reg_alpha=None,\n",
       "                                                      reg_lambda=None,\n",
       "                                                      scale_pos_weight=None,\n",
       "                                                      subsample=None,\n",
       "                                                      tree_method='gpu_hist',\n",
       "                                                      use_label_encoder=False,\n",
       "                                                      validate_parameters=None,\n",
       "                                                      verbosity=0))]),\n",
       "             n_jobs=-1,\n",
       "             param_grid={'feature_processing__categorical_variables__dim_reducing__n_components': array([ 5, 10, 15, 20, 25, 30, 35, 40, 45])},\n",
       "             return_train_score=True, scoring='f1_macro')"
      ]
     },
     "execution_count": 32,
     "metadata": {},
     "output_type": "execute_result"
    }
   ],
   "source": [
    "%%time\n",
    "xgb_searcher = GridSearchCV(pipeline, pipe_params, scoring='f1_macro', n_jobs=-1, \n",
    "                              return_train_score=True)\n",
    "xgb_searcher.fit(X_train, y_train_xgb)"
   ]
  },
  {
   "cell_type": "code",
   "execution_count": 34,
   "metadata": {
    "collapsed": true
   },
   "outputs": [
    {
     "data": {
      "image/png": "[encoded data removed]",
      "text/plain": [
       "<Figure size 432x288 with 1 Axes>"
      ]
     },
     "metadata": {
      "needs_background": "light"
     },
     "output_type": "display_data"
    }
   ],
   "source": [
    "plot_validation_curves(pipe_params['feature_processing__categorical_variables__dim_reducing__n_components'],\n",
    "                       xgb_searcher.cv_results_)"
   ]
  },
  {
   "cell_type": "code",
   "execution_count": 41,
   "metadata": {},
   "outputs": [],
   "source": [
    "pipe_params = {'feature_processing__is_top_site__dim_reducing__n_components': np.arange(3, 31, 3)}"
   ]
  },
  {
   "cell_type": "code",
   "execution_count": 42,
   "metadata": {
    "collapsed": true
   },
   "outputs": [
    {
     "name": "stdout",
     "output_type": "stream",
     "text": [
      "Wall time: 37min 30s\n"
     ]
    },
    {
     "data": {
      "text/plain": [
       "GridSearchCV(estimator=Pipeline(steps=[('feature_processing',\n",
       "                                        FeatureUnion(transformer_list=[('binary_variables',\n",
       "                                                                        FunctionTransformer(func=<function <lambda> at 0x000002D57B71EAF0>)),\n",
       "                                                                       ('categorical_variables',\n",
       "                                                                        Pipeline(steps=[('selecting',\n",
       "                                                                                         FunctionTransformer(func=<function <lambda> at 0x000002D5014144C0>)),\n",
       "                                                                                        ('hot_encoding',\n",
       "                                                                                         OneHotEncoder(handle_unknown='ignore...\n",
       "                                                      predictor='gpu_predictor',\n",
       "                                                      random_state=None,\n",
       "                                                      reg_alpha=None,\n",
       "                                                      reg_lambda=None,\n",
       "                                                      scale_pos_weight=None,\n",
       "                                                      subsample=None,\n",
       "                                                      tree_method='gpu_hist',\n",
       "                                                      use_label_encoder=False,\n",
       "                                                      validate_parameters=None,\n",
       "                                                      verbosity=0))]),\n",
       "             n_jobs=-1,\n",
       "             param_grid={'feature_processing__is_top_site__dim_reducing__n_components': array([ 3,  6,  9, 12, 15, 18, 21, 24, 27, 30])},\n",
       "             return_train_score=True, scoring='f1_macro')"
      ]
     },
     "execution_count": 42,
     "metadata": {},
     "output_type": "execute_result"
    }
   ],
   "source": [
    "%%time\n",
    "xgb_searcher = GridSearchCV(pipeline, pipe_params, scoring='f1_macro', n_jobs=-1, \n",
    "                              return_train_score=True)\n",
    "xgb_searcher.fit(X_train, y_train_xgb)"
   ]
  },
  {
   "cell_type": "code",
   "execution_count": 43,
   "metadata": {
    "collapsed": true
   },
   "outputs": [
    {
     "data": {
      "image/png": "[encoded data removed]",
      "text/plain": [
       "<Figure size 432x288 with 1 Axes>"
      ]
     },
     "metadata": {
      "needs_background": "light"
     },
     "output_type": "display_data"
    }
   ],
   "source": [
    "plot_validation_curves(pipe_params['feature_processing__is_top_site__dim_reducing__n_components'],\n",
    "                       xgb_searcher.cv_results_)"
   ]
  },
  {
   "cell_type": "code",
   "execution_count": 59,
   "metadata": {
    "collapsed": true
   },
   "outputs": [
    {
     "name": "stdout",
     "output_type": "stream",
     "text": [
      "Wall time: 44.5 s\n"
     ]
    },
    {
     "data": {
      "text/plain": [
       "Pipeline(steps=[('feature_processing',\n",
       "                 FeatureUnion(transformer_list=[('binary_variables',\n",
       "                                                 FunctionTransformer(func=<function <lambda> at 0x00000272D83E9700>)),\n",
       "                                                ('categorical_variables',\n",
       "                                                 Pipeline(steps=[('selecting',\n",
       "                                                                  FunctionTransformer(func=<function <lambda> at 0x00000272D83E90D0>)),\n",
       "                                                                 ('hot_encoding',\n",
       "                                                                  OneHotEncoder(handle_unknown='ignore'))])),\n",
       "                                                ('bag_of_sites',...\n",
       "                               interaction_constraints='', learning_rate=0.4,\n",
       "                               max_delta_step=0, max_depth=7,\n",
       "                               min_child_weight=1, missing=nan,\n",
       "                               monotone_constraints='()', n_estimators=70,\n",
       "                               n_jobs=6, num_parallel_tree=1,\n",
       "                               objective='multi:softprob',\n",
       "                               predictor='gpu_predictor', random_state=0,\n",
       "                               reg_alpha=0, reg_lambda=1, scale_pos_weight=None,\n",
       "                               subsample=1, tree_method='gpu_hist',\n",
       "                               use_label_encoder=False, validate_parameters=1,\n",
       "                               verbosity=0))])"
      ]
     },
     "execution_count": 59,
     "metadata": {},
     "output_type": "execute_result"
    }
   ],
   "source": [
    "%%time\n",
    "pipeline.fit(X_train, y_train_xgb)"
   ]
  },
  {
   "cell_type": "code",
   "execution_count": 60,
   "metadata": {},
   "outputs": [],
   "source": [
    "scores_df = scores_df.append(get_scores_point(pipeline, 'xgboost', *data_params_xgb, multi=True))"
   ]
  },
  {
   "cell_type": "code",
   "execution_count": 61,
   "metadata": {},
   "outputs": [
    {
     "data": {
      "text/html": [
       "<div>\n",
       "<style scoped>\n",
       "    .dataframe tbody tr th:only-of-type {\n",
       "        vertical-align: middle;\n",
       "    }\n",
       "\n",
       "    .dataframe tbody tr th {\n",
       "        vertical-align: top;\n",
       "    }\n",
       "\n",
       "    .dataframe thead th {\n",
       "        text-align: right;\n",
       "    }\n",
       "</style>\n",
       "<table border=\"1\" class=\"dataframe\">\n",
       "  <thead>\n",
       "    <tr style=\"text-align: right;\">\n",
       "      <th></th>\n",
       "      <th>cv_accuracy</th>\n",
       "      <th>holdout_accu</th>\n",
       "      <th>f1</th>\n",
       "      <th>roc_auc</th>\n",
       "      <th>precision</th>\n",
       "      <th>recall</th>\n",
       "    </tr>\n",
       "  </thead>\n",
       "  <tbody>\n",
       "    <tr>\n",
       "      <th>logit</th>\n",
       "      <td>0.839</td>\n",
       "      <td>0.839</td>\n",
       "      <td>0.81</td>\n",
       "      <td>0.982</td>\n",
       "      <td>0.834</td>\n",
       "      <td>0.796</td>\n",
       "    </tr>\n",
       "    <tr>\n",
       "      <th>svm</th>\n",
       "      <td>0.841</td>\n",
       "      <td>0.851</td>\n",
       "      <td>0.82</td>\n",
       "      <td>0.967</td>\n",
       "      <td>0.839</td>\n",
       "      <td>0.809</td>\n",
       "    </tr>\n",
       "    <tr>\n",
       "      <th>xgboost</th>\n",
       "      <td>0.879</td>\n",
       "      <td>0.894</td>\n",
       "      <td>0.88</td>\n",
       "      <td>0.992</td>\n",
       "      <td>0.887</td>\n",
       "      <td>0.874</td>\n",
       "    </tr>\n",
       "  </tbody>\n",
       "</table>\n",
       "</div>"
      ],
      "text/plain": [
       "         cv_accuracy  holdout_accu    f1  roc_auc  precision  recall\n",
       "logit          0.839         0.839  0.81    0.982      0.834   0.796\n",
       "svm            0.841         0.851  0.82    0.967      0.839   0.809\n",
       "xgboost        0.879         0.894  0.88    0.992      0.887   0.874"
      ]
     },
     "execution_count": 61,
     "metadata": {},
     "output_type": "execute_result"
    }
   ],
   "source": [
    "scores_df"
   ]
  },
  {
   "cell_type": "markdown",
   "metadata": {},
   "source": [
    "## Отбор признаков"
   ]
  },
  {
   "cell_type": "markdown",
   "metadata": {},
   "source": [
    "Посмотрим, как добавление категорий признаков влияет на score."
   ]
  },
  {
   "cell_type": "code",
   "execution_count": null,
   "metadata": {},
   "outputs": [],
   "source": []
  },
  {
   "cell_type": "code",
   "execution_count": null,
   "metadata": {},
   "outputs": [],
   "source": []
  },
  {
   "cell_type": "code",
   "execution_count": null,
   "metadata": {},
   "outputs": [],
   "source": []
  },
  {
   "cell_type": "code",
   "execution_count": null,
   "metadata": {},
   "outputs": [],
   "source": []
  },
  {
   "cell_type": "code",
   "execution_count": null,
   "metadata": {},
   "outputs": [],
   "source": []
  },
  {
   "cell_type": "code",
   "execution_count": null,
   "metadata": {},
   "outputs": [],
   "source": []
  },
  {
   "cell_type": "code",
   "execution_count": 71,
   "metadata": {},
   "outputs": [],
   "source": [
    "scores_df = scores_df.append(get_scores(xgb_searcher, 'xgb', *data_params_xgb, multi=True))"
   ]
  },
  {
   "cell_type": "code",
   "execution_count": 72,
   "metadata": {},
   "outputs": [
    {
     "data": {
      "text/html": [
       "<div>\n",
       "<style scoped>\n",
       "    .dataframe tbody tr th:only-of-type {\n",
       "        vertical-align: middle;\n",
       "    }\n",
       "\n",
       "    .dataframe tbody tr th {\n",
       "        vertical-align: top;\n",
       "    }\n",
       "\n",
       "    .dataframe thead th {\n",
       "        text-align: right;\n",
       "    }\n",
       "</style>\n",
       "<table border=\"1\" class=\"dataframe\">\n",
       "  <thead>\n",
       "    <tr style=\"text-align: right;\">\n",
       "      <th></th>\n",
       "      <th>cv_accuracy</th>\n",
       "      <th>holdout_accu</th>\n",
       "      <th>f1</th>\n",
       "      <th>roc_auc</th>\n",
       "      <th>precision</th>\n",
       "      <th>recall</th>\n",
       "    </tr>\n",
       "  </thead>\n",
       "  <tbody>\n",
       "    <tr>\n",
       "      <th>logit</th>\n",
       "      <td>0.909</td>\n",
       "      <td>0.922</td>\n",
       "      <td>0.910</td>\n",
       "      <td>0.994</td>\n",
       "      <td>0.916</td>\n",
       "      <td>0.904</td>\n",
       "    </tr>\n",
       "    <tr>\n",
       "      <th>svm</th>\n",
       "      <td>0.907</td>\n",
       "      <td>0.915</td>\n",
       "      <td>0.898</td>\n",
       "      <td>0.980</td>\n",
       "      <td>0.906</td>\n",
       "      <td>0.893</td>\n",
       "    </tr>\n",
       "    <tr>\n",
       "      <th>xgb</th>\n",
       "      <td>1.000</td>\n",
       "      <td>1.000</td>\n",
       "      <td>1.000</td>\n",
       "      <td>1.000</td>\n",
       "      <td>1.000</td>\n",
       "      <td>1.000</td>\n",
       "    </tr>\n",
       "  </tbody>\n",
       "</table>\n",
       "</div>"
      ],
      "text/plain": [
       "       cv_accuracy  holdout_accu     f1  roc_auc  precision  recall\n",
       "logit        0.909         0.922  0.910    0.994      0.916   0.904\n",
       "svm          0.907         0.915  0.898    0.980      0.906   0.893\n",
       "xgb          1.000         1.000  1.000    1.000      1.000   1.000"
      ]
     },
     "execution_count": 72,
     "metadata": {},
     "output_type": "execute_result"
    }
   ],
   "source": [
    "scores_df"
   ]
  },
  {
   "cell_type": "code",
   "execution_count": 83,
   "metadata": {},
   "outputs": [],
   "source": [
    "scores_df.to_csv('scores_df_2.csv')"
   ]
  },
  {
   "cell_type": "markdown",
   "metadata": {},
   "source": [
    "### 150 Users"
   ]
  },
  {
   "cell_type": "code",
   "execution_count": 74,
   "metadata": {},
   "outputs": [],
   "source": [
    "train_150users = pd.read_csv(os.path.join(PATH_TO_DATA, 'train_data_150users_for_catch_me_ready.csv'), \n",
    "                            index_col=0)"
   ]
  },
  {
   "cell_type": "code",
   "execution_count": 75,
   "metadata": {},
   "outputs": [
    {
     "data": {
      "text/html": [
       "<div>\n",
       "<style scoped>\n",
       "    .dataframe tbody tr th:only-of-type {\n",
       "        vertical-align: middle;\n",
       "    }\n",
       "\n",
       "    .dataframe tbody tr th {\n",
       "        vertical-align: top;\n",
       "    }\n",
       "\n",
       "    .dataframe thead th {\n",
       "        text-align: right;\n",
       "    }\n",
       "</style>\n",
       "<table border=\"1\" class=\"dataframe\">\n",
       "  <thead>\n",
       "    <tr style=\"text-align: right;\">\n",
       "      <th></th>\n",
       "      <th>site1</th>\n",
       "      <th>site2</th>\n",
       "      <th>site3</th>\n",
       "      <th>site4</th>\n",
       "      <th>site5</th>\n",
       "      <th>site6</th>\n",
       "      <th>site7</th>\n",
       "      <th>site8</th>\n",
       "      <th>site9</th>\n",
       "      <th>site10</th>\n",
       "      <th>...</th>\n",
       "      <th>is_top26</th>\n",
       "      <th>is_top27</th>\n",
       "      <th>is_top28</th>\n",
       "      <th>is_top29</th>\n",
       "      <th>is_top30</th>\n",
       "      <th>facebook_freq</th>\n",
       "      <th>binned_start_hour</th>\n",
       "      <th>unique_site_1</th>\n",
       "      <th>unique_site_2</th>\n",
       "      <th>facebook_flag</th>\n",
       "    </tr>\n",
       "    <tr>\n",
       "      <th>session_id</th>\n",
       "      <th></th>\n",
       "      <th></th>\n",
       "      <th></th>\n",
       "      <th></th>\n",
       "      <th></th>\n",
       "      <th></th>\n",
       "      <th></th>\n",
       "      <th></th>\n",
       "      <th></th>\n",
       "      <th></th>\n",
       "      <th></th>\n",
       "      <th></th>\n",
       "      <th></th>\n",
       "      <th></th>\n",
       "      <th></th>\n",
       "      <th></th>\n",
       "      <th></th>\n",
       "      <th></th>\n",
       "      <th></th>\n",
       "      <th></th>\n",
       "      <th></th>\n",
       "    </tr>\n",
       "  </thead>\n",
       "  <tbody>\n",
       "    <tr>\n",
       "      <th>1</th>\n",
       "      <td>1</td>\n",
       "      <td>1</td>\n",
       "      <td>4</td>\n",
       "      <td>2</td>\n",
       "      <td>1</td>\n",
       "      <td>4</td>\n",
       "      <td>1</td>\n",
       "      <td>2</td>\n",
       "      <td>1290</td>\n",
       "      <td>321</td>\n",
       "      <td>...</td>\n",
       "      <td>False</td>\n",
       "      <td>False</td>\n",
       "      <td>False</td>\n",
       "      <td>False</td>\n",
       "      <td>False</td>\n",
       "      <td>0</td>\n",
       "      <td>(6.984, 9.286]</td>\n",
       "      <td>0</td>\n",
       "      <td>0</td>\n",
       "      <td>1</td>\n",
       "    </tr>\n",
       "    <tr>\n",
       "      <th>2</th>\n",
       "      <td>2</td>\n",
       "      <td>23</td>\n",
       "      <td>1505</td>\n",
       "      <td>1290</td>\n",
       "      <td>321</td>\n",
       "      <td>321</td>\n",
       "      <td>113</td>\n",
       "      <td>73</td>\n",
       "      <td>49</td>\n",
       "      <td>49</td>\n",
       "      <td>...</td>\n",
       "      <td>False</td>\n",
       "      <td>False</td>\n",
       "      <td>False</td>\n",
       "      <td>False</td>\n",
       "      <td>False</td>\n",
       "      <td>0</td>\n",
       "      <td>(6.984, 9.286]</td>\n",
       "      <td>0</td>\n",
       "      <td>0</td>\n",
       "      <td>1</td>\n",
       "    </tr>\n",
       "    <tr>\n",
       "      <th>3</th>\n",
       "      <td>321</td>\n",
       "      <td>205</td>\n",
       "      <td>1</td>\n",
       "      <td>1</td>\n",
       "      <td>1</td>\n",
       "      <td>1</td>\n",
       "      <td>73</td>\n",
       "      <td>0</td>\n",
       "      <td>0</td>\n",
       "      <td>0</td>\n",
       "      <td>...</td>\n",
       "      <td>False</td>\n",
       "      <td>False</td>\n",
       "      <td>False</td>\n",
       "      <td>False</td>\n",
       "      <td>False</td>\n",
       "      <td>0</td>\n",
       "      <td>(6.984, 9.286]</td>\n",
       "      <td>0</td>\n",
       "      <td>0</td>\n",
       "      <td>1</td>\n",
       "    </tr>\n",
       "    <tr>\n",
       "      <th>4</th>\n",
       "      <td>321</td>\n",
       "      <td>2</td>\n",
       "      <td>1</td>\n",
       "      <td>1</td>\n",
       "      <td>1</td>\n",
       "      <td>6998</td>\n",
       "      <td>6998</td>\n",
       "      <td>5491</td>\n",
       "      <td>6998</td>\n",
       "      <td>6998</td>\n",
       "      <td>...</td>\n",
       "      <td>False</td>\n",
       "      <td>False</td>\n",
       "      <td>False</td>\n",
       "      <td>False</td>\n",
       "      <td>False</td>\n",
       "      <td>0</td>\n",
       "      <td>(6.984, 9.286]</td>\n",
       "      <td>0</td>\n",
       "      <td>0</td>\n",
       "      <td>1</td>\n",
       "    </tr>\n",
       "    <tr>\n",
       "      <th>5</th>\n",
       "      <td>1</td>\n",
       "      <td>35</td>\n",
       "      <td>1</td>\n",
       "      <td>1</td>\n",
       "      <td>1</td>\n",
       "      <td>76</td>\n",
       "      <td>1</td>\n",
       "      <td>58</td>\n",
       "      <td>50</td>\n",
       "      <td>58</td>\n",
       "      <td>...</td>\n",
       "      <td>False</td>\n",
       "      <td>False</td>\n",
       "      <td>False</td>\n",
       "      <td>False</td>\n",
       "      <td>False</td>\n",
       "      <td>0</td>\n",
       "      <td>(6.984, 9.286]</td>\n",
       "      <td>0</td>\n",
       "      <td>0</td>\n",
       "      <td>1</td>\n",
       "    </tr>\n",
       "  </tbody>\n",
       "</table>\n",
       "<p>5 rows × 65 columns</p>\n",
       "</div>"
      ],
      "text/plain": [
       "            site1  site2  site3  site4  site5  site6  site7  site8  site9  \\\n",
       "session_id                                                                  \n",
       "1               1      1      4      2      1      4      1      2   1290   \n",
       "2               2     23   1505   1290    321    321    113     73     49   \n",
       "3             321    205      1      1      1      1     73      0      0   \n",
       "4             321      2      1      1      1   6998   6998   5491   6998   \n",
       "5               1     35      1      1      1     76      1     58     50   \n",
       "\n",
       "            site10  ...  is_top26  is_top27  is_top28  is_top29  is_top30  \\\n",
       "session_id          ...                                                     \n",
       "1              321  ...     False     False     False     False     False   \n",
       "2               49  ...     False     False     False     False     False   \n",
       "3                0  ...     False     False     False     False     False   \n",
       "4             6998  ...     False     False     False     False     False   \n",
       "5               58  ...     False     False     False     False     False   \n",
       "\n",
       "            facebook_freq  binned_start_hour  unique_site_1  unique_site_2  \\\n",
       "session_id                                                                   \n",
       "1                       0     (6.984, 9.286]              0              0   \n",
       "2                       0     (6.984, 9.286]              0              0   \n",
       "3                       0     (6.984, 9.286]              0              0   \n",
       "4                       0     (6.984, 9.286]              0              0   \n",
       "5                       0     (6.984, 9.286]              0              0   \n",
       "\n",
       "            facebook_flag  \n",
       "session_id                 \n",
       "1                       1  \n",
       "2                       1  \n",
       "3                       1  \n",
       "4                       1  \n",
       "5                       1  \n",
       "\n",
       "[5 rows x 65 columns]"
      ]
     },
     "execution_count": 75,
     "metadata": {},
     "output_type": "execute_result"
    }
   ],
   "source": [
    "train_150users.head()"
   ]
  },
  {
   "cell_type": "code",
   "execution_count": 76,
   "metadata": {},
   "outputs": [],
   "source": [
    "y_150users = train_150users.user_id\n",
    "X_train, X_valid, y_train, y_valid = train_test_split(train_150users, y_150users, \n",
    "                                                      test_size=0.3, stratify=y_150users)\n",
    "data_params = [X_train, X_valid, y_train, y_valid]"
   ]
  },
  {
   "cell_type": "code",
   "execution_count": 77,
   "metadata": {},
   "outputs": [],
   "source": [
    "y = pd.concat((y_train, y_valid), axis=0)\n",
    "y_xgb = LabelEncoder().fit_transform(y)\n",
    "y_train_xgb = y_xgb[:y_train.shape[0]]\n",
    "y_valid_xgb = y_xgb[y_train.shape[0]:]"
   ]
  },
  {
   "cell_type": "code",
   "execution_count": 78,
   "metadata": {},
   "outputs": [],
   "source": [
    "data_params_xgb = [X_train, X_valid, y_train_xgb, y_valid_xgb]"
   ]
  },
  {
   "cell_type": "code",
   "execution_count": null,
   "metadata": {},
   "outputs": [],
   "source": [
    "xgb_params = {'classifier__n_estimators': np.arange(1, 22, 2),\n",
    "             'classifier__max_depth': [5]}"
   ]
  },
  {
   "cell_type": "code",
   "execution_count": 79,
   "metadata": {
    "collapsed": true
   },
   "outputs": [
    {
     "name": "stdout",
     "output_type": "stream",
     "text": [
      "Wall time: 3h 26min 34s\n"
     ]
    },
    {
     "data": {
      "text/plain": [
       "GridSearchCV(estimator=Pipeline(steps=[('feature_processing',\n",
       "                                        FeatureUnion(transformer_list=[('binary_variables',\n",
       "                                                                        FunctionTransformer(func=<function <lambda> at 0x0000015FD00BB280>)),\n",
       "                                                                       ('categorical_variables',\n",
       "                                                                        Pipeline(steps=[('selecting',\n",
       "                                                                                         FunctionTransformer(func=<function <lambda> at 0x0000015FD00BB310>)),\n",
       "                                                                                        ('hot_encoding',\n",
       "                                                                                         OneHotEncoder(handle_unknown='ignore...\n",
       "                                                      predictor='gpu_predictor',\n",
       "                                                      random_state=None,\n",
       "                                                      reg_alpha=None,\n",
       "                                                      reg_lambda=None,\n",
       "                                                      scale_pos_weight=None,\n",
       "                                                      subsample=None,\n",
       "                                                      tree_method='gpu_hist',\n",
       "                                                      use_label_encoder=False,\n",
       "                                                      validate_parameters=None,\n",
       "                                                      verbosity=0))]),\n",
       "             n_jobs=-1,\n",
       "             param_grid={'classifier__max_depth': [5],\n",
       "                         'classifier__n_estimators': array([ 1, 11, 21, 31, 41, 51, 61, 71, 81, 91])},\n",
       "             return_train_score=True, scoring='f1_macro')"
      ]
     },
     "execution_count": 79,
     "metadata": {},
     "output_type": "execute_result"
    }
   ],
   "source": [
    "%%time\n",
    "xgb_searcher = GridSearchCV(pipeline, xgb_params, scoring='f1_macro', n_jobs=-1, \n",
    "                              return_train_score=True)\n",
    "xgb_searcher.fit(X_train, y_train_xgb)"
   ]
  },
  {
   "cell_type": "code",
   "execution_count": 80,
   "metadata": {
    "collapsed": true
   },
   "outputs": [
    {
     "data": {
      "image/png": "[encoded data removed]",
      "text/plain": [
       "<Figure size 432x288 with 1 Axes>"
      ]
     },
     "metadata": {
      "needs_background": "light"
     },
     "output_type": "display_data"
    }
   ],
   "source": [
    "plot_validation_curves(xgb_params['classifier__n_estimators'], xgb_searcher.cv_results_)"
   ]
  },
  {
   "cell_type": "code",
   "execution_count": 81,
   "metadata": {},
   "outputs": [],
   "source": [
    "scores_df = scores_df.append(get_scores(xgb_searcher, 'xgb_150', *data_params_xgb, multi=True))"
   ]
  },
  {
   "cell_type": "code",
   "execution_count": 82,
   "metadata": {},
   "outputs": [
    {
     "data": {
      "text/html": [
       "<div>\n",
       "<style scoped>\n",
       "    .dataframe tbody tr th:only-of-type {\n",
       "        vertical-align: middle;\n",
       "    }\n",
       "\n",
       "    .dataframe tbody tr th {\n",
       "        vertical-align: top;\n",
       "    }\n",
       "\n",
       "    .dataframe thead th {\n",
       "        text-align: right;\n",
       "    }\n",
       "</style>\n",
       "<table border=\"1\" class=\"dataframe\">\n",
       "  <thead>\n",
       "    <tr style=\"text-align: right;\">\n",
       "      <th></th>\n",
       "      <th>cv_accuracy</th>\n",
       "      <th>holdout_accu</th>\n",
       "      <th>f1</th>\n",
       "      <th>roc_auc</th>\n",
       "      <th>precision</th>\n",
       "      <th>recall</th>\n",
       "    </tr>\n",
       "  </thead>\n",
       "  <tbody>\n",
       "    <tr>\n",
       "      <th>logit</th>\n",
       "      <td>0.909</td>\n",
       "      <td>0.922</td>\n",
       "      <td>0.910</td>\n",
       "      <td>0.994</td>\n",
       "      <td>0.916</td>\n",
       "      <td>0.904</td>\n",
       "    </tr>\n",
       "    <tr>\n",
       "      <th>svm</th>\n",
       "      <td>0.907</td>\n",
       "      <td>0.915</td>\n",
       "      <td>0.898</td>\n",
       "      <td>0.980</td>\n",
       "      <td>0.906</td>\n",
       "      <td>0.893</td>\n",
       "    </tr>\n",
       "    <tr>\n",
       "      <th>xgb</th>\n",
       "      <td>1.000</td>\n",
       "      <td>1.000</td>\n",
       "      <td>1.000</td>\n",
       "      <td>1.000</td>\n",
       "      <td>1.000</td>\n",
       "      <td>1.000</td>\n",
       "    </tr>\n",
       "    <tr>\n",
       "      <th>xgb_150</th>\n",
       "      <td>0.999</td>\n",
       "      <td>0.998</td>\n",
       "      <td>0.998</td>\n",
       "      <td>1.000</td>\n",
       "      <td>0.998</td>\n",
       "      <td>0.998</td>\n",
       "    </tr>\n",
       "  </tbody>\n",
       "</table>\n",
       "</div>"
      ],
      "text/plain": [
       "         cv_accuracy  holdout_accu     f1  roc_auc  precision  recall\n",
       "logit          0.909         0.922  0.910    0.994      0.916   0.904\n",
       "svm            0.907         0.915  0.898    0.980      0.906   0.893\n",
       "xgb            1.000         1.000  1.000    1.000      1.000   1.000\n",
       "xgb_150        0.999         0.998  0.998    1.000      0.998   0.998"
      ]
     },
     "execution_count": 82,
     "metadata": {},
     "output_type": "execute_result"
    }
   ],
   "source": [
    "scores_df"
   ]
  },
  {
   "cell_type": "code",
   "execution_count": 84,
   "metadata": {},
   "outputs": [
    {
     "data": {
      "text/plain": [
       "{'classifier__max_depth': 5, 'classifier__n_estimators': 91}"
      ]
     },
     "execution_count": 84,
     "metadata": {},
     "output_type": "execute_result"
    }
   ],
   "source": [
    "xgb_searcher.best_params_"
   ]
  },
  {
   "cell_type": "code",
   "execution_count": null,
   "metadata": {},
   "outputs": [],
   "source": []
  }
 ],
 "metadata": {
  "kernelspec": {
   "display_name": "Python 3",
   "language": "python",
   "name": "python3"
  },
  "language_info": {
   "codemirror_mode": {
    "name": "ipython",
    "version": 3
   },
   "file_extension": ".py",
   "mimetype": "text/x-python",
   "name": "python",
   "nbconvert_exporter": "python",
   "pygments_lexer": "ipython3",
   "version": "3.8.5"
  }
 },
 "nbformat": 4,
 "nbformat_minor": 4
}
